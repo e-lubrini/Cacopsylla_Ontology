{
 "cells": [
  {
   "cell_type": "code",
   "execution_count": 8,
   "metadata": {},
   "outputs": [],
   "source": [
    "import pandas as pd\n",
    "\n",
    "\n",
    "with open('../../../text-mining-workflow/ancillaries/extended-microorganisms-taxonomy/taxa+id_full.txt') as f:\n",
    "    ncbi = pd.read_csv(f, on_bad_lines='skip', sep='\\t')"
   ]
  },
  {
   "cell_type": "code",
   "execution_count": 9,
   "metadata": {},
   "outputs": [
    {
     "data": {
      "text/html": [
       "<div>\n",
       "<style scoped>\n",
       "    .dataframe tbody tr th:only-of-type {\n",
       "        vertical-align: middle;\n",
       "    }\n",
       "\n",
       "    .dataframe tbody tr th {\n",
       "        vertical-align: top;\n",
       "    }\n",
       "\n",
       "    .dataframe thead th {\n",
       "        text-align: right;\n",
       "    }\n",
       "</style>\n",
       "<table border=\"1\" class=\"dataframe\">\n",
       "  <thead>\n",
       "    <tr style=\"text-align: right;\">\n",
       "      <th></th>\n",
       "      <th>Bacteria</th>\n",
       "      <th>ncbi:2</th>\n",
       "      <th>Bacteria.1</th>\n",
       "      <th>/ncbi:1/ncbi:131567/ncbi:2</th>\n",
       "      <th>NP</th>\n",
       "      <th>superkingdom</th>\n",
       "      <th>Unnamed: 6</th>\n",
       "      <th>Unnamed: 7</th>\n",
       "    </tr>\n",
       "  </thead>\n",
       "  <tbody>\n",
       "    <tr>\n",
       "      <th>0</th>\n",
       "      <td>bacteria</td>\n",
       "      <td>ncbi:2</td>\n",
       "      <td>Bacteria</td>\n",
       "      <td>/ncbi:1/ncbi:131567/ncbi:2</td>\n",
       "      <td>NNS</td>\n",
       "      <td>superkingdom</td>\n",
       "      <td>NaN</td>\n",
       "      <td>NaN</td>\n",
       "    </tr>\n",
       "    <tr>\n",
       "      <th>1</th>\n",
       "      <td>eubacteria</td>\n",
       "      <td>ncbi:2</td>\n",
       "      <td>Bacteria</td>\n",
       "      <td>/ncbi:1/ncbi:131567/ncbi:2</td>\n",
       "      <td>NN</td>\n",
       "      <td>superkingdom</td>\n",
       "      <td>NaN</td>\n",
       "      <td>NaN</td>\n",
       "    </tr>\n",
       "    <tr>\n",
       "      <th>2</th>\n",
       "      <td>Monera</td>\n",
       "      <td>ncbi:2</td>\n",
       "      <td>Bacteria</td>\n",
       "      <td>/ncbi:1/ncbi:131567/ncbi:2</td>\n",
       "      <td>NP</td>\n",
       "      <td>superkingdom</td>\n",
       "      <td>NaN</td>\n",
       "      <td>NaN</td>\n",
       "    </tr>\n",
       "    <tr>\n",
       "      <th>3</th>\n",
       "      <td>Procaryotae</td>\n",
       "      <td>ncbi:2</td>\n",
       "      <td>Bacteria</td>\n",
       "      <td>/ncbi:1/ncbi:131567/ncbi:2</td>\n",
       "      <td>NP</td>\n",
       "      <td>superkingdom</td>\n",
       "      <td>NaN</td>\n",
       "      <td>NaN</td>\n",
       "    </tr>\n",
       "    <tr>\n",
       "      <th>4</th>\n",
       "      <td>Prokaryotae</td>\n",
       "      <td>ncbi:2</td>\n",
       "      <td>Bacteria</td>\n",
       "      <td>/ncbi:1/ncbi:131567/ncbi:2</td>\n",
       "      <td>NP</td>\n",
       "      <td>superkingdom</td>\n",
       "      <td>NaN</td>\n",
       "      <td>NaN</td>\n",
       "    </tr>\n",
       "  </tbody>\n",
       "</table>\n",
       "</div>"
      ],
      "text/plain": [
       "      Bacteria  ncbi:2 Bacteria.1  /ncbi:1/ncbi:131567/ncbi:2   NP  \\\n",
       "0     bacteria  ncbi:2   Bacteria  /ncbi:1/ncbi:131567/ncbi:2  NNS   \n",
       "1   eubacteria  ncbi:2   Bacteria  /ncbi:1/ncbi:131567/ncbi:2   NN   \n",
       "2       Monera  ncbi:2   Bacteria  /ncbi:1/ncbi:131567/ncbi:2   NP   \n",
       "3  Procaryotae  ncbi:2   Bacteria  /ncbi:1/ncbi:131567/ncbi:2   NP   \n",
       "4  Prokaryotae  ncbi:2   Bacteria  /ncbi:1/ncbi:131567/ncbi:2   NP   \n",
       "\n",
       "   superkingdom Unnamed: 6 Unnamed: 7  \n",
       "0  superkingdom        NaN        NaN  \n",
       "1  superkingdom        NaN        NaN  \n",
       "2  superkingdom        NaN        NaN  \n",
       "3  superkingdom        NaN        NaN  \n",
       "4  superkingdom        NaN        NaN  "
      ]
     },
     "execution_count": 9,
     "metadata": {},
     "output_type": "execute_result"
    }
   ],
   "source": [
    "ncbi.head()"
   ]
  },
  {
   "cell_type": "code",
   "execution_count": null,
   "metadata": {},
   "outputs": [],
   "source": []
  }
 ],
 "metadata": {
  "kernelspec": {
   "display_name": "Python 3.10.4 ('ve': venv)",
   "language": "python",
   "name": "python3"
  },
  "language_info": {
   "codemirror_mode": {
    "name": "ipython",
    "version": 3
   },
   "file_extension": ".py",
   "mimetype": "text/x-python",
   "name": "python",
   "nbconvert_exporter": "python",
   "pygments_lexer": "ipython3",
   "version": "3.10.4"
  },
  "orig_nbformat": 4,
  "vscode": {
   "interpreter": {
    "hash": "7ffb7b9d5c9bdc6ab6d999311c0c305e17ed28492a2d06d3bd6339c232391b5e"
   }
  }
 },
 "nbformat": 4,
 "nbformat_minor": 2
}
