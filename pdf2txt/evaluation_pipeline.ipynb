{
  "cells": [
    {
      "cell_type": "markdown",
      "metadata": {
        "id": "Q6_qrxn6Wr97"
      },
      "source": [
        "# Config"
      ]
    },
    {
      "cell_type": "code",
      "execution_count": 18,
      "metadata": {},
      "outputs": [],
      "source": [
        "import os\n",
        "from tools.utils import *"
      ]
    },
    {
      "cell_type": "code",
      "execution_count": 19,
      "metadata": {
        "id": "utrLifOwX781"
      },
      "outputs": [],
      "source": [
        "# import conversion tools\n",
        "from tools.conv_tools import *\n",
        "from tools import conv_tools\n",
        "ctools = get_funs_from_module(conv_tools)\n",
        "#ctools.keys()"
      ]
    },
    {
      "cell_type": "code",
      "execution_count": 20,
      "metadata": {},
      "outputs": [],
      "source": [
        "from tools import eval_tools\n",
        "etools = get_funs_from_module(eval_tools)\n",
        "#etools.keys()"
      ]
    },
    {
      "cell_type": "markdown",
      "metadata": {
        "id": "XfK6MTi_WoHr"
      },
      "source": [
        "# Load and Rearrange Files"
      ]
    },
    {
      "cell_type": "code",
      "execution_count": 21,
      "metadata": {},
      "outputs": [],
      "source": [
        "from tools.utils import *\n",
        "from tqdm.notebook import tqdm"
      ]
    },
    {
      "cell_type": "code",
      "execution_count": 22,
      "metadata": {},
      "outputs": [],
      "source": [
        "data_path = os.path.join('data')\n",
        "\n",
        "input_dir_path = os.path.join(data_path, 'docs_for_eval')\n",
        "\n",
        "selected_conv_tools = ['PyPDF4_ocr',    # names of the tools for conversion\n",
        "                    'extract_text',\n",
        "                    'pdfminer_ocr',\n",
        "                    'pytesseract_ocr',\n",
        "                    'tika_ocr',  \n",
        "                    ]\n",
        "selected_scores = ['spellcheck_score',  # names of the scores for tool evaluation\n",
        "                    ]\n",
        "score_data_dirpath = 'evaluation_results'\n",
        "score_data_filepath = os.path.join(score_data_dirpath,'scores')\n",
        "\n",
        "doc_paths = [os.path.join(input_dir_path, filepath) for filepath in os.listdir(input_dir_path) if os.path.isfile(os.path.join(input_dir_path, filepath))]\n"
      ]
    },
    {
      "cell_type": "code",
      "execution_count": 23,
      "metadata": {},
      "outputs": [],
      "source": [
        "%%capture\n",
        "# if there are any imgs, convert them to pdf\n",
        "not_pdf_filepaths = list_ext(input_dir_path,    # files to be converted to pdf\n",
        "                            exts=['pdf'],\n",
        "                            invert=True)\n",
        "\n",
        "for not_pdf_filepath in not_pdf_filepaths:\n",
        "    ctools['img2pdf']([not_pdf_filepath])\n",
        "\n",
        "pdf_filepaths = list_ext(input_dir_path,        # all pdf files\n",
        "                        exts=['pdf'],\n",
        "                        invert=False)"
      ]
    },
    {
      "cell_type": "code",
      "execution_count": 24,
      "metadata": {},
      "outputs": [],
      "source": [
        "# rearrange folder structure\n",
        "for pdf_filepath in pdf_filepaths:\n",
        "    mv_to_custom_dir(pdf_filepath)\n",
        "for not_pdf_filepath in not_pdf_filepaths:\n",
        "    os.remove(not_pdf_filepath)"
      ]
    },
    {
      "cell_type": "code",
      "execution_count": 25,
      "metadata": {},
      "outputs": [
        {
          "data": {
            "application/vnd.jupyter.widget-view+json": {
              "model_id": "bab9385dd833478b86dbf846e278cc51",
              "version_major": 2,
              "version_minor": 0
            },
            "text/plain": [
              "dir_paths:   0%|          | 0/25 [00:00<?, ?it/s]"
            ]
          },
          "metadata": {},
          "output_type": "display_data"
        }
      ],
      "source": [
        "dir_paths = get_child_dir_paths(input_dir_path)\n",
        "\n",
        "# compile metadata for each file\n",
        "for dir_path in tqdm(dir_paths, desc='dir_paths'):\n",
        "    metadata = get_metadata(dir_path,\n",
        "                            storage_opts={'lang_codes':True, 'emb_txt':True},\n",
        "                            overwrite_opts={'lang_codes':False, 'emb_txt':False},\n",
        "                            )\n",
        "\n",
        "    store_data(storage='meta',\n",
        "                data=metadata,\n",
        "                dir_path=dir_path,\n",
        "                name='metadata',\n",
        "                )"
      ]
    },
    {
      "cell_type": "markdown",
      "metadata": {},
      "source": [
        "# Conversion"
      ]
    },
    {
      "cell_type": "code",
      "execution_count": 26,
      "metadata": {},
      "outputs": [],
      "source": [
        "from tools.conv_tools import *\n",
        "import sys\n",
        "from tqdm.notebook import tqdm"
      ]
    },
    {
      "cell_type": "code",
      "execution_count": 27,
      "metadata": {},
      "outputs": [
        {
          "data": {
            "application/vnd.jupyter.widget-view+json": {
              "model_id": "1d1e1e90b68f4aa3b1ab95752540831c",
              "version_major": 2,
              "version_minor": 0
            },
            "text/plain": [
              "dir_paths:   0%|          | 0/25 [00:00<?, ?it/s]"
            ]
          },
          "metadata": {},
          "output_type": "display_data"
        },
        {
          "name": "stderr",
          "output_type": "stream",
          "text": []
        }
      ],
      "source": [
        "if not sys.warnoptions:\n",
        "    import warnings\n",
        "    warnings.simplefilter(\"ignore\")\n",
        "position=0\n",
        "for dir_path in tqdm(dir_paths, desc='dir_paths: '):\n",
        "    ocr_txt = get_txt(dir_path,\n",
        "                    tool_names=selected_conv_tools,\n",
        "                    tools=ctools,\n",
        "                    storage_opts={'ocr_txt':True, 'ocr_txt_trans':False},\n",
        "                    overwrite_opts={'ocr_txt':False, 'ocr_txt_trans':False},\n",
        "                    )\n",
        "\n",
        "    store_data(storage='dir',\n",
        "                data=ocr_txt,\n",
        "                dir_path=dir_path,\n",
        "                name='ocr_extraction')"
      ]
    },
    {
      "cell_type": "markdown",
      "metadata": {
        "id": "Y8hRDYFoW2Iu"
      },
      "source": [
        "# Evaluation"
      ]
    },
    {
      "cell_type": "code",
      "execution_count": 28,
      "metadata": {},
      "outputs": [],
      "source": [
        "from tools.eval_tools import eval_tools_scores\n",
        "from tqdm.notebook import tqdm"
      ]
    },
    {
      "cell_type": "code",
      "execution_count": 29,
      "metadata": {},
      "outputs": [
        {
          "name": "stdout",
          "output_type": "stream",
          "text": [
            "\u001b[35m\u001b[32mmax_words_per_doc: \u001b[0m100\n",
            "\u001b[35m\u001b[32mscores_by_tool: \u001b[0m{}\n",
            "\u001b[35m\u001b[32mmess: \u001b[0m<class 'dict'>\n"
          ]
        },
        {
          "data": {
            "application/vnd.jupyter.widget-view+json": {
              "model_id": "5f9fd28ac2944d158ab970b35a75c3a6",
              "version_major": 2,
              "version_minor": 0
            },
            "text/plain": [
              "  0%|          | 0/25 [00:00<?, ?it/s]"
            ]
          },
          "metadata": {},
          "output_type": "display_data"
        },
        {
          "name": "stderr",
          "output_type": "stream",
          "text": [
            "doc_wordlist: 100%|██████████| 618/618 [00:54<00:00, 11.31it/s]\n",
            "doc_wordlist: 100%|██████████| 598/598 [01:01<00:00,  9.76it/s]\n",
            "doc_wordlist: 100%|██████████| 598/598 [00:49<00:00, 12.12it/s]\n",
            "doc_wordlist: 100%|██████████| 608/608 [00:53<00:00, 11.43it/s]\n",
            "doc_wordlist: 100%|██████████| 601/601 [00:48<00:00, 12.30it/s]\n"
          ]
        },
        {
          "data": {
            "text/plain": [
              "{'spellcheck_score': {'PyPDF4_ocr': 423,\n",
              "  'extract_text': 414,\n",
              "  'pdfminer_ocr': 421,\n",
              "  'pytesseract_ocr': 420,\n",
              "  'tika_ocr': 418}}"
            ]
          },
          "execution_count": 29,
          "metadata": {},
          "output_type": "execute_result"
        }
      ],
      "source": [
        "scores_results = eval_tools_scores(db_dir_path=input_dir_path,\n",
        "                                conv_tool_names=selected_conv_tools, # tools to be evaluated\n",
        "                                score_names=selected_scores,\n",
        "                                scoring_funs=etools,\n",
        "                                store_path=score_data_dirpath,\n",
        "                                max_words_per_doc=100)\n",
        "scores_results"
      ]
    },
    {
      "cell_type": "markdown",
      "metadata": {},
      "source": [
        "# Visualisation"
      ]
    },
    {
      "cell_type": "code",
      "execution_count": 30,
      "metadata": {},
      "outputs": [],
      "source": [
        "import seaborn as sns\n",
        "import matplotlib.pyplot as plt\n",
        "import numpy as np"
      ]
    },
    {
      "cell_type": "code",
      "execution_count": 31,
      "metadata": {},
      "outputs": [],
      "source": [
        "with open(score_data_filepath+'.json', 'r') as f:\n",
        "    score_results = json.load(f)"
      ]
    },
    {
      "cell_type": "code",
      "execution_count": 32,
      "metadata": {},
      "outputs": [],
      "source": [
        "score_name = selected_scores[0]\n",
        "data = score_results[score_name]"
      ]
    },
    {
      "cell_type": "code",
      "execution_count": 33,
      "metadata": {},
      "outputs": [
        {
          "data": {
            "text/plain": [
              "Text(0, 0.5, 'spellcheck_score')"
            ]
          },
          "execution_count": 33,
          "metadata": {},
          "output_type": "execute_result"
        },
        {
          "data": {
            "image/png": "[encoded data removed]",
            "text/plain": [
              "<Figure size 842.4x595.44 with 1 Axes>"
            ]
          },
          "metadata": {},
          "output_type": "display_data"
        }
      ],
      "source": [
        "sns.set(rc={'figure.figsize':(11.7,8.27)})\n",
        "plt.xticks(rotation=45)\n",
        "p = sns.barplot(x=list(data.keys()), y=list(data.values()))\n",
        "p.set_xlabel('tools', fontsize = 20)\n",
        "p.set_ylabel(score_name, fontsize = 20)"
      ]
    },
    {
      "cell_type": "code",
      "execution_count": 34,
      "metadata": {},
      "outputs": [],
      "source": [
        "p.figure.savefig(score_data_filepath+'.png')"
      ]
    }
  ],
  "metadata": {
    "colab": {
      "collapsed_sections": [],
      "name": "PDF2TXT.ipynb",
      "provenance": []
    },
    "interpreter": {
      "hash": "be35ce57df230de5a5498af3df671fb801b63d962d9a729c159dc44e5f6a9b0e"
    },
    "kernelspec": {
      "display_name": "Python 3.10.4 ('venv': venv)",
      "language": "python",
      "name": "python3"
    },
    "language_info": {
      "codemirror_mode": {
        "name": "ipython",
        "version": 3
      },
      "file_extension": ".py",
      "mimetype": "text/x-python",
      "name": "python",
      "nbconvert_exporter": "python",
      "pygments_lexer": "ipython3",
      "version": "3.10.4"
    }
  },
  "nbformat": 4,
  "nbformat_minor": 0
}
