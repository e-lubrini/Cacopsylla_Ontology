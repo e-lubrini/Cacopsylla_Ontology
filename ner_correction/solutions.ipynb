{
 "cells": [
  {
   "cell_type": "code",
   "execution_count": 2,
   "metadata": {},
   "outputs": [],
   "source": [
    "import pandas as pd\n",
    "import os"
   ]
  },
  {
   "cell_type": "code",
   "execution_count": 3,
   "metadata": {},
   "outputs": [],
   "source": [
    "with open('issues.csv') as f:\n",
    "    data = pd.read_csv(f)"
   ]
  },
  {
   "cell_type": "code",
   "execution_count": 4,
   "metadata": {},
   "outputs": [
    {
     "data": {
      "text/html": [
       "<div>\n",
       "<style scoped>\n",
       "    .dataframe tbody tr th:only-of-type {\n",
       "        vertical-align: middle;\n",
       "    }\n",
       "\n",
       "    .dataframe tbody tr th {\n",
       "        vertical-align: top;\n",
       "    }\n",
       "\n",
       "    .dataframe thead th {\n",
       "        text-align: right;\n",
       "    }\n",
       "</style>\n",
       "<table border=\"1\" class=\"dataframe\">\n",
       "  <thead>\n",
       "    <tr style=\"text-align: right;\">\n",
       "      <th></th>\n",
       "      <th>document_name</th>\n",
       "      <th>pipeline_highlight</th>\n",
       "      <th>correction</th>\n",
       "      <th>quality</th>\n",
       "      <th>supposed_cause</th>\n",
       "      <th>context</th>\n",
       "      <th>correct_label</th>\n",
       "      <th>possible_solution</th>\n",
       "      <th>comments</th>\n",
       "    </tr>\n",
       "  </thead>\n",
       "  <tbody>\n",
       "    <tr>\n",
       "      <th>0</th>\n",
       "      <td>1919_Horwood_blackthorn_Cacopsylla_pruni_UK_tr...</td>\n",
       "      <td>NaN</td>\n",
       "      <td>5 ion</td>\n",
       "      <td>false_negative</td>\n",
       "      <td>text_extraction_issue,unknown_lexeme</td>\n",
       "      <td>Blackberry, Blackthorn, Blackthorn-May, Buckth...</td>\n",
       "      <td>habitat</td>\n",
       "      <td>add_pattern,taxon_autocorrector</td>\n",
       "      <td>NaN</td>\n",
       "    </tr>\n",
       "    <tr>\n",
       "      <th>1</th>\n",
       "      <td>1919_Horwood_blackthorn_Cacopsylla_pruni_UK_tr...</td>\n",
       "      <td>NaN</td>\n",
       "      <td>7: detule</td>\n",
       "      <td>false_negative</td>\n",
       "      <td>text_extraction_issue</td>\n",
       "      <td>Otiorhynchus picipes, Monochetus sulcatus, Mag...</td>\n",
       "      <td>taxon</td>\n",
       "      <td>NaN</td>\n",
       "      <td>NaN</td>\n",
       "    </tr>\n",
       "    <tr>\n",
       "      <th>2</th>\n",
       "      <td>1955_Tamanini_Cacopsylla_pruni_Italie_premièr...</td>\n",
       "      <td>Acer</td>\n",
       "      <td>Acer campestris</td>\n",
       "      <td>too_narrow</td>\n",
       "      <td>unknown_lexeme</td>\n",
       "      <td>Trentino, Garniga, on Acer campestris L., VII-...</td>\n",
       "      <td>taxon</td>\n",
       "      <td>add_lexeme</td>\n",
       "      <td>NaN</td>\n",
       "    </tr>\n",
       "    <tr>\n",
       "      <th>3</th>\n",
       "      <td>1955_Tamanini_Cacopsylla_pruni_Italie_premièr...</td>\n",
       "      <td>Acer</td>\n",
       "      <td>Acer campestris L. VII-1945 5</td>\n",
       "      <td>too_narrow</td>\n",
       "      <td>unknown_lexeme</td>\n",
       "      <td>am. Psyiiiae Haupt. zarni is La, VIL-1945 5 # ...</td>\n",
       "      <td>taxon</td>\n",
       "      <td>add_lexeme</td>\n",
       "      <td>NaN</td>\n",
       "    </tr>\n",
       "    <tr>\n",
       "      <th>4</th>\n",
       "      <td>2020_Gjonov_New_records_of_Hemiptera_from_the_...</td>\n",
       "      <td>NaN</td>\n",
       "      <td>adelgid</td>\n",
       "      <td>false_negative</td>\n",
       "      <td>unknown_lexeme</td>\n",
       "      <td>The Sternorryncha of the Maltese Islands is r...</td>\n",
       "      <td>habitat</td>\n",
       "      <td>add_lexeme</td>\n",
       "      <td>NaN</td>\n",
       "    </tr>\n",
       "  </tbody>\n",
       "</table>\n",
       "</div>"
      ],
      "text/plain": [
       "                                       document_name pipeline_highlight  \\\n",
       "0  1919_Horwood_blackthorn_Cacopsylla_pruni_UK_tr...                NaN   \n",
       "1  1919_Horwood_blackthorn_Cacopsylla_pruni_UK_tr...                NaN   \n",
       "2  1955_Tamanini_Cacopsylla_pruni_Italie_premièr...               Acer   \n",
       "3  1955_Tamanini_Cacopsylla_pruni_Italie_premièr...               Acer   \n",
       "4  2020_Gjonov_New_records_of_Hemiptera_from_the_...                NaN   \n",
       "\n",
       "                      correction         quality  \\\n",
       "0                          5 ion  false_negative   \n",
       "1                      7: detule  false_negative   \n",
       "2               Acer campestris       too_narrow   \n",
       "3  Acer campestris L. VII-1945 5      too_narrow   \n",
       "4                        adelgid  false_negative   \n",
       "\n",
       "                         supposed_cause  \\\n",
       "0  text_extraction_issue,unknown_lexeme   \n",
       "1                 text_extraction_issue   \n",
       "2                        unknown_lexeme   \n",
       "3                        unknown_lexeme   \n",
       "4                        unknown_lexeme   \n",
       "\n",
       "                                             context correct_label  \\\n",
       "0  Blackberry, Blackthorn, Blackthorn-May, Buckth...       habitat   \n",
       "1  Otiorhynchus picipes, Monochetus sulcatus, Mag...         taxon   \n",
       "2  Trentino, Garniga, on Acer campestris L., VII-...         taxon   \n",
       "3  am. Psyiiiae Haupt. zarni is La, VIL-1945 5 # ...         taxon   \n",
       "4   The Sternorryncha of the Maltese Islands is r...       habitat   \n",
       "\n",
       "                 possible_solution comments  \n",
       "0  add_pattern,taxon_autocorrector      NaN  \n",
       "1                              NaN      NaN  \n",
       "2                       add_lexeme      NaN  \n",
       "3                       add_lexeme      NaN  \n",
       "4                       add_lexeme      NaN  "
      ]
     },
     "execution_count": 4,
     "metadata": {},
     "output_type": "execute_result"
    }
   ],
   "source": [
    "data.head()"
   ]
  },
  {
   "cell_type": "code",
   "execution_count": 5,
   "metadata": {},
   "outputs": [],
   "source": [
    "data['possible_solution'] = list(map(lambda x: tuple(str(x).split(',')), data['possible_solution']))"
   ]
  },
  {
   "cell_type": "code",
   "execution_count": 6,
   "metadata": {},
   "outputs": [
    {
     "data": {
      "text/plain": [
       "{('add_lexeme',),\n",
       " ('add_pattern',),\n",
       " ('add_pattern', 'taxon_autocorrector'),\n",
       " ('case_sensitivity', 'common_names_detection'),\n",
       " ('case_sensitivity', 'common_names_detection', 'concept_addition'),\n",
       " ('case_sensitivity', 'concept_addition'),\n",
       " ('common_names_detection',),\n",
       " ('concept_addition', 'desambiguation'),\n",
       " ('discontinued_entity_treatement',),\n",
       " ('encoding_compatibility',),\n",
       " ('foreign_pattern_translation',),\n",
       " ('nan',),\n",
       " ('taxon_autocorrector',)}"
      ]
     },
     "execution_count": 6,
     "metadata": {},
     "output_type": "execute_result"
    }
   ],
   "source": [
    "set(data['possible_solution'])"
   ]
  },
  {
   "cell_type": "code",
   "execution_count": 10,
   "metadata": {},
   "outputs": [
    {
     "data": {
      "text/plain": [
       "{('false_neagative', 'unknown_lexeme', 'taxon'),\n",
       " ('false_negative', 'anaphora', 'habitat'),\n",
       " ('false_negative', 'anaphora', 'taxon'),\n",
       " ('false_negative', 'case_sensitivity', 'habitat'),\n",
       " ('false_negative', 'encoding', 'habitat'),\n",
       " ('false_negative', 'foreign_lexeme', 'habitat'),\n",
       " ('false_negative', 'foreign_lexeme', 'taxon'),\n",
       " ('false_negative', 'morphological variation', 'taxon'),\n",
       " ('false_negative', 'morphological_variation', 'taxon'),\n",
       " ('false_negative', 'outdated_term', 'habitat'),\n",
       " ('false_negative', 'pattern_recognition', 'habitat'),\n",
       " ('false_negative', 'pattern_recognition,anaphora', 'habitat'),\n",
       " ('false_negative', 'polysemy', 'habitat'),\n",
       " ('false_negative', 'text_extraction_issue', 'habitat'),\n",
       " ('false_negative', 'text_extraction_issue', 'taxon'),\n",
       " ('false_negative', 'text_extraction_issue', nan),\n",
       " ('false_negative', 'text_extraction_issue,unknown_lexeme', 'habitat'),\n",
       " ('false_negative', 'unknown_lexeme', 'habitat'),\n",
       " ('false_negative', 'unknown_lexeme', 'taxon'),\n",
       " ('false_negative', nan, 'habitat'),\n",
       " ('false_negative', nan, 'taxon'),\n",
       " ('false_positive', 'polysemy', nan),\n",
       " ('false_positive', 'pragmatics,semantics', 'habitat'),\n",
       " ('false_positive', 'text_extraction_issue', nan),\n",
       " ('false_positive', nan, nan),\n",
       " ('too narrow', 'unknown_lexeme', 'taxon'),\n",
       " ('too-narrow', 'unknown_lexeme', 'taxon'),\n",
       " ('too_narrow', 'discontinued_entity_coordination', 'taxon'),\n",
       " ('too_narrow', 'pattern_recognition', 'habitat'),\n",
       " ('too_narrow', 'pattern_recognition,anaphora', 'taxon'),\n",
       " ('too_narrow', 'pos_tagging', 'habitat'),\n",
       " ('too_narrow', 'text_extraction_issue', 'habitat'),\n",
       " ('too_narrow', 'text_extraction_issue', 'taxon'),\n",
       " ('too_narrow', 'text_extraction_issue,unknown_lexeme', 'taxon'),\n",
       " ('too_narrow', 'unknown_lexeme', 'habitat'),\n",
       " ('too_narrow', 'unknown_lexeme', 'taxon'),\n",
       " ('too_narrow', 'unknown_lexeme,abbreviation', 'taxon'),\n",
       " ('too_narrow', nan, 'habitat'),\n",
       " ('too_narrow', nan, 'taxon'),\n",
       " ('too_wide', nan, 'habitat'),\n",
       " ('wrong_label', 'polysemy', nan)}"
      ]
     },
     "execution_count": 10,
     "metadata": {},
     "output_type": "execute_result"
    }
   ],
   "source": [
    "data['problem'] = tuple(zip(data['quality'],data['supposed_cause'],data['correct_label']))\n",
    "set(data['problem'])"
   ]
  }
 ],
 "metadata": {
  "kernelspec": {
   "display_name": "Python 3.10.4 ('venv': venv)",
   "language": "python",
   "name": "python3"
  },
  "language_info": {
   "codemirror_mode": {
    "name": "ipython",
    "version": 3
   },
   "file_extension": ".py",
   "mimetype": "text/x-python",
   "name": "python",
   "nbconvert_exporter": "python",
   "pygments_lexer": "ipython3",
   "version": "3.10.5"
  },
  "orig_nbformat": 4,
  "vscode": {
   "interpreter": {
    "hash": "0791b7be171ebad212c24ef65290d1f031fc8c5ca9521baf1e29a38a9507073b"
   }
  }
 },
 "nbformat": 4,
 "nbformat_minor": 2
}
