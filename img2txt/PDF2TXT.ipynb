{
  "cells": [
    {
      "cell_type": "markdown",
      "metadata": {},
      "source": [
        "# Rearrange files"
      ]
    },
    {
      "cell_type": "markdown",
      "metadata": {
        "id": "Q6_qrxn6Wr97"
      },
      "source": [
        "# Config"
      ]
    },
    {
      "cell_type": "code",
      "execution_count": 1,
      "metadata": {},
      "outputs": [
        {
          "name": "stderr",
          "output_type": "stream",
          "text": [
            "[nltk_data] Downloading package words to /home/lubrini/nltk_data...\n",
            "[nltk_data]   Package words is already up-to-date!\n"
          ]
        }
      ],
      "source": [
        "import os\n",
        "\n",
        "import fitz\n",
        "import string\n",
        "import fasttext\n",
        "\n",
        "import enchant\n",
        "from enchant.checker import SpellChecker\n",
        "from enchant.errors import DictNotFoundError, DefaultLanguageNotFoundError\n",
        "\n",
        "from tqdm import tqdm\n",
        "\n",
        "from nltk.corpus import words\n",
        "import nltk\n",
        "nltk.download('words')\n",
        "\n",
        "from deep_translator import GoogleTranslator\n",
        "from googletrans import Translator\n",
        "from collections import Counter"
      ]
    },
    {
      "cell_type": "code",
      "execution_count": 2,
      "metadata": {
        "id": "utrLifOwX781"
      },
      "outputs": [
        {
          "name": "stdout",
          "output_type": "stream",
          "text": [
            "Tools converting in the following extensions:\n",
            "('pdf', 'png')\n",
            "('[img]', 'pdf')\n",
            "('png', 'txt')\n",
            "('pdf', 'txt')\n",
            "('pdf', 'txt')\n",
            "('pdf', 'txt')\n",
            "('pdf', 'txt')\n"
          ]
        },
        {
          "data": {
            "text/plain": [
              "{'pdf2img': 'pdf',\n",
              " 'img2pdf': '[img]',\n",
              " 'pytesseract_ocr': 'png',\n",
              " 'PyPDF4_ocr': 'pdf',\n",
              " 'pdfminer_ocr': 'pdf',\n",
              " 'tika_ocr': 'pdf',\n",
              " 'pdfreader_ocr': 'pdf'}"
            ]
          },
          "execution_count": 2,
          "metadata": {},
          "output_type": "execute_result"
        }
      ],
      "source": [
        "# import conversion tools\n",
        "from tools.conv_tools import tools as ctools\n",
        "from tools.conv_tools import ter\n",
        "ter"
      ]
    },
    {
      "cell_type": "code",
      "execution_count": 3,
      "metadata": {},
      "outputs": [
        {
          "data": {
            "text/plain": [
              "[('it_CH', <Enchant: Hunspell Provider>),\n",
              " ('it_IT', <Enchant: Hunspell Provider>)]"
            ]
          },
          "execution_count": 3,
          "metadata": {},
          "output_type": "execute_result"
        }
      ],
      "source": [
        "tools_for_conversion = ['pdfreader_ocr','pytesseract_ocr','tika_ocr','pdfminer_ocr','PyPDF4_ocr']"
      ]
    },
    {
      "cell_type": "markdown",
      "metadata": {
        "id": "XfK6MTi_WoHr"
      },
      "source": [
        "# Load and Rearrange Files"
      ]
    },
    {
      "cell_type": "code",
      "execution_count": 4,
      "metadata": {},
      "outputs": [],
      "source": [
        "data_path = os.path.join('data')\n",
        "\n",
        "input_path = os.path.join(data_path, 'docs')\n",
        "\n",
        "ref_dir = 'ref'\n",
        "\n",
        "doc_paths = [os.path.join(input_path, filepath) for filepath in os.listdir(input_path) if os.path.isfile(os.path.join(input_path, filepath))]\n"
      ]
    },
    {
      "cell_type": "code",
      "execution_count": 5,
      "metadata": {},
      "outputs": [],
      "source": [
        "## convert images to pdf\n",
        "not_pdf_filepaths = [doc_path for doc_path in doc_paths if not doc_path.endswith('.pdf')]\n",
        "for doc_path in not_pdf_filepaths:\n",
        "    try:\n",
        "        ctools.img2pdf(doc_path)\n",
        "    except:\n",
        "        print(doc_path)\n",
        "        print('Warning: \"{0}\" extension not supported for conversion to pdf'.format(doc_path[:-4]))"
      ]
    },
    {
      "cell_type": "code",
      "execution_count": 6,
      "metadata": {
        "id": "g-mQHOvjW_BD"
      },
      "outputs": [],
      "source": [
        "## move files from input_path to their own directory\n",
        "for doc_path in doc_paths:\n",
        "    split_path = os.path.split(doc_path)\n",
        "    new_dir_name = split_path[-1][:-4]\n",
        "    filename = split_path[-1]\n",
        "    new_dir_path = os.path.join(input_path,new_dir_name)\n",
        "    new_doc_path = os.path.join(new_dir_path,filename)\n",
        "    os.mkdir(new_dir_path)\n",
        "    os.rename(doc_path,new_doc_path)"
      ]
    },
    {
      "cell_type": "code",
      "execution_count": 7,
      "metadata": {},
      "outputs": [],
      "source": [
        "def mark_filename(file_path, mark):\n",
        "    print('Marking filename...')\n",
        "    ext = os.path.splitext(file_path)[-1]\n",
        "    if ext=='pdf':\n",
        "        path_no_ext = os.path.splitext(file_path)[-2][:-(len(ext))].replace(mark,\"\")\n",
        "        print('path_no_ext:',path_no_ext)\n",
        "        new_path = (str(path_no_ext)+mark+ext)\n",
        "        print('new_path:',new_path)\n",
        "        \n",
        "        #os.rename(file_path,new_path)\n",
        "\n",
        "def in_lang_wl(w, lang_code, max_error_count = 0):\n",
        "                                d = SpellChecker(lang_code)\n",
        "                                d.set_text(w)\n",
        "                                errors = [err.word for err in d]\n",
        "                                if (len(errors) > max_error_count):\n",
        "                                    return True\n",
        "                                else:\n",
        "                                    return False"
      ]
    },
    {
      "cell_type": "code",
      "execution_count": 8,
      "metadata": {},
      "outputs": [
        {
          "name": "stdout",
          "output_type": "stream",
          "text": [
            "file_paths: data/docs/flyer_coleottero_giapponese/flyer_coleottero_giappone_zone_misure.pdf\n",
            "language: it\n"
          ]
        },
        {
          "name": "stderr",
          "output_type": "stream",
          "text": [
            "Warning : `load_model` does not return WordVectorModel or SupervisedModel any more, but a `FastText` object which is very similar.\n"
          ]
        },
        {
          "name": "stdout",
          "output_type": "stream",
          "text": [
            "SCORE: 0.3\n",
            "Text is not usable! Score too low.\n",
            "Marking filename...\n",
            "file_paths: data/docs/1954_Blöte_Cacopsylla_pruni_Pays-Bas_Hollande_copie/1954_Blöte_Cacopsylla_pruni_Pays-Bas_Hollande_copie.pdf\n",
            "language: nl\n"
          ]
        },
        {
          "name": "stderr",
          "output_type": "stream",
          "text": [
            "Warning : `load_model` does not return WordVectorModel or SupervisedModel any more, but a `FastText` object which is very similar.\n"
          ]
        },
        {
          "name": "stdout",
          "output_type": "stream",
          "text": [
            "SCORE: 0.38\n",
            "Text is not usable! Score too low.\n",
            "Marking filename...\n",
            "file_paths: data/docs/footnote/footnote.pdf\n",
            "language: sv\n"
          ]
        },
        {
          "name": "stderr",
          "output_type": "stream",
          "text": [
            "Warning : `load_model` does not return WordVectorModel or SupervisedModel any more, but a `FastText` object which is very similar.\n"
          ]
        },
        {
          "name": "stdout",
          "output_type": "stream",
          "text": [
            "SCORE: 0.54\n",
            "Text is not usable! Score too low.\n",
            "Marking filename...\n",
            "file_paths: data/docs/1882_Scott_The_British_Psyllina,_with_corrections_in_the_synonomy_copie/1882_Scott_The_British_Psyllina,_with_corrections_in_the_synonomy_copie.pdf\n",
            "No text available!\n",
            "Marking filename...\n",
            "file_paths: data/docs/sample_no_txt/sample_no_txt.pdf\n"
          ]
        },
        {
          "name": "stderr",
          "output_type": "stream",
          "text": [
            "Warning : `load_model` does not return WordVectorModel or SupervisedModel any more, but a `FastText` object which is very similar.\n"
          ]
        },
        {
          "name": "stdout",
          "output_type": "stream",
          "text": [
            "language: de\n",
            "SCORE: 0.78\n",
            "Text is not usable! Score too low.\n",
            "Marking filename...\n"
          ]
        }
      ],
      "source": [
        "## rename files that do not have (usable) text embedded\n",
        "lang_threshold = 0.90 # min percentage of words that need to be in a vocabulary for the embedded text to be considered usable\n",
        "embedded_text_dir='embedded_txt'\n",
        "\n",
        "for doc_dir in os.listdir(input_path):\n",
        "    dir_path = os.path.join(input_path,doc_dir)\n",
        "    for file_or_tool_name in os.listdir(dir_path):\n",
        "        file_or_tool_path = os.path.join(dir_path,file_or_tool_name)\n",
        "        if os.path.isfile(file_or_tool_path) and file_or_tool_path.endswith('pdf'):\n",
        "            doc_path = file_or_tool_path \n",
        "            print('file_paths:',doc_path)\n",
        "\n",
        "            # check if text is already embedded\n",
        "            text = \"\"\n",
        "            doc = fitz.open(doc_path)\n",
        "            for page in doc:\n",
        "                text += page.get_text()\n",
        "            if text != '':\n",
        "                # tokenise text\n",
        "                doc_wordlist = list(set(text.translate(str.maketrans('', '', string.punctuation)).lower().split()))[-50:]\n",
        "                prep_text = ' '.join(doc_wordlist)\n",
        "\n",
        "                # get language of text\n",
        "                lang_n = 1 # how many possible languages we want to detect\n",
        "                model = fasttext.load_model(os.path.join('models','lid.176.ftz'))\n",
        "                prediction = (model.predict(prep_text, k=lang_n))[0]\n",
        "                languages = [label[-2:] for label in prediction]\n",
        "                \n",
        "                for lang_code in languages:\n",
        "                    if not enchant.request_dict(lang_code):\n",
        "                        print('WARNING: Install the required dictionary!\\ne.g. sudo apt-get install hunspell-{0}'.format(lang_code))\n",
        "\n",
        "                # check words exist in at least one vocabulary\n",
        "                for lang_code in languages:\n",
        "                    print('language:', lang_code)\n",
        "                    lang_wordlist_path = os.path.join(data_path, 'wordlists',(lang_code+'.txt'))\n",
        "                    # get wordlist from file ('en.txt' for english, 'fr.txt' for french, etc.)... \n",
        "                    if os.path.exists(lang_wordlist_path):\n",
        "                        with open(lang_wordlist_path, 'rU') as f:\n",
        "                            lang_wordlist = set(line.strip() for line in f)\n",
        "                            \n",
        "                            c=len([w for w in lang_wordlist for w in doc_wordlist])\n",
        "                            print('COUNT (loaded wordlist):',c)\n",
        "                    \n",
        "                    else:\n",
        "                        try:\n",
        "                            c=len([w for w in doc_wordlist if in_lang_wl(w,lang_code)])\n",
        "                            #print('COUNT (spellchecker):',c)\n",
        "                        except (DictNotFoundError, DefaultLanguageNotFoundError):\n",
        "                            raise Exception('Install the required dictionary!\\ne.g. sudo apt-get install hunspell-{0}'.format(lang_code))\n",
        "\n",
        "                        # ...if everything else fails, create wordlist (takes ages, download list if possible)\n",
        "                        except AttributeError:\n",
        "                            translator = Translator()\n",
        "                            for en_w in tqdm(words.words()):\n",
        "                                translation = (GoogleTranslator('en',lang_code).translate(en_w))\n",
        "                                lang_wordlist.add(translation)\n",
        "\n",
        "                                lang_wordlist\n",
        "                                # save language wordlist\n",
        "                                textfile = open(os.path.join(data_path,'wordlists',(lang_code+'.txt')), \"w\")\n",
        "                                for w in lang_wordlist:\n",
        "                                    textfile.write(w + \"\\n\")\n",
        "                                textfile.close()\n",
        "\n",
        "                            c=len([w for w in lang_wordlist for w in doc_wordlist])\n",
        "                            print('COUNT (translated wordlist):',c)\n",
        "                        \n",
        "                # if not, call function to mark filename as not having embedded text\n",
        "                score = c/len(doc_wordlist) \n",
        "                if score < lang_threshold:\n",
        "                    print('SCORE:',score)\n",
        "                    print('Text is not usable! Score too low.')\n",
        "                    unusable_path = os.path.join(dir_path,('UNUSABLE'+embedded_text_dir))\n",
        "                    os.makedirs(unusable_path, exist_ok=True)\n",
        "                    with open(os.path.join(unusable_path,'unusable_emb.txt'), 'w+') as f:\n",
        "                        f.write(text)\n",
        "                    mark_filename(file_path=doc_path,mark='_no-emb-txt_')\n",
        "                else:\n",
        "                    embedded_text_dir_path = os.path.join(dir_path,embedded_text_dir)\n",
        "                    os.makedirs(embedded_text_dir_path, exist_ok=True)\n",
        "                    embedded_text_path = os.path.join(embedded_text_dir_path,'emb.txt')\n",
        "                    with open(embedded_text_path, 'w+') as f:\n",
        "                        f.write(text)\n",
        "\n",
        "            # if no text available, rename doc\n",
        "            else:\n",
        "                print('No text available!')\n",
        "                mark_filename(file_path=doc_path,mark='_no-emb-txt_')\n",
        "                "
      ]
    },
    {
      "cell_type": "code",
      "execution_count": 9,
      "metadata": {},
      "outputs": [],
      "source": [
        "#create labels\n",
        "for doc_dir in os.listdir(input_path):\n",
        "    dir_path = os.path.join(input_path,doc_dir)\n",
        "    ref_path = os.path.join(dir_path,ref_dir)\n",
        "    if not os.path.exists(ref_path):            # create ref dir if doesn't exist\n",
        "        os.mkdir(ref_path)\n",
        "        \n",
        "        # add labels to their document's path\n",
        "        for txt_file in os.listdir(dir_path):\n",
        "            if txt_file.endswith('.txt'):\n",
        "                os.rename(os.path.join(dir_path,txt_file),os.path.join(ref_path,txt_file))\n",
        "    \n",
        "    # create empty ref file if it doesn't exist\n",
        "    if not os.listdir(ref_path):\n",
        "        open(os.path.join(ref_path,'label_ref.txt'), 'w+').close()   \n"
      ]
    },
    {
      "cell_type": "markdown",
      "metadata": {
        "id": "Y8hRDYFoW2Iu"
      },
      "source": [
        "# Conversion and Evaluation"
      ]
    },
    {
      "cell_type": "code",
      "execution_count": 15,
      "metadata": {},
      "outputs": [],
      "source": [
        "from tools.conv_tools import conv_ad_save\n",
        "from tools.conv_classes import Doc, TxtConverter\n",
        "from tools.eval_tools import get_cer"
      ]
    },
    {
      "cell_type": "code",
      "execution_count": 16,
      "metadata": {},
      "outputs": [],
      "source": [
        "# create convertor instance from class\n",
        "converter = TxtConverter(tools=ctools)"
      ]
    },
    {
      "cell_type": "code",
      "execution_count": 17,
      "metadata": {},
      "outputs": [
        {
          "name": "stdout",
          "output_type": "stream",
          "text": [
            "Input_path: data/docs\n",
            "Embedded text already exists for flyer_coleottero_giapponese\n",
            "Embedded text already exists for 1954_Blöte_Cacopsylla_pruni_Pays-Bas_Hollande_copie\n",
            "\u001b[96mConverting: data/docs/footnote\u001b[0m\n",
            "{'original': [<_io.BufferedReader name='data/docs/footnote/footnote.pdf'>]}\n",
            "tool_selection.keys() dict_keys(['PyPDF4_ocr', 'pdfminer_ocr', 'tika_ocr', 'pdfreader_ocr', 'pytesseract_ocr'])\n",
            "tool_names ['pdfreader_ocr', 'pytesseract_ocr', 'tika_ocr', 'pdfminer_ocr', 'PyPDF4_ocr']\n"
          ]
        },
        {
          "name": "stderr",
          "output_type": "stream",
          "text": [
            " 40%|████      | 2/5 [00:03<00:05,  1.71s/it]2022-05-11 05:04:19,369 [MainThread  ] [INFO ]  Retrieving http://search.maven.org/remotecontent?filepath=org/apache/tika/tika-server/1.24/tika-server-1.24.jar to /tmp/tika-server.jar.\n",
            "INFO:tika.tika:Retrieving http://search.maven.org/remotecontent?filepath=org/apache/tika/tika-server/1.24/tika-server-1.24.jar to /tmp/tika-server.jar.\n",
            "2022-05-11 05:04:33,768 [MainThread  ] [WARNI]  Failed to see startup log message; retrying...\n",
            "WARNING:tika.tika:Failed to see startup log message; retrying...\n",
            "100%|██████████| 5/5 [00:33<00:00,  6.73s/it]\n"
          ]
        },
        {
          "name": "stdout",
          "output_type": "stream",
          "text": [
            "\u001b[96mConverting: data/docs/1882_Scott_The_British_Psyllina,_with_corrections_in_the_synonomy_copie\u001b[0m\n",
            "{'original': [<_io.BufferedReader name='data/docs/1882_Scott_The_British_Psyllina,_with_corrections_in_the_synonomy_copie/1882_Scott_The_British_Psyllina,_with_corrections_in_the_synonomy_copie.pdf'>]}\n",
            "tool_selection.keys() dict_keys(['PyPDF4_ocr', 'pdfminer_ocr', 'tika_ocr', 'pdfreader_ocr', 'pytesseract_ocr'])\n",
            "tool_names ['pdfreader_ocr', 'pytesseract_ocr', 'tika_ocr', 'pdfminer_ocr', 'PyPDF4_ocr']\n"
          ]
        },
        {
          "name": "stderr",
          "output_type": "stream",
          "text": [
            "100%|██████████| 5/5 [00:10<00:00,  2.10s/it]\n"
          ]
        },
        {
          "name": "stdout",
          "output_type": "stream",
          "text": [
            "\u001b[96mConverting: data/docs/sample_no_txt\u001b[0m\n",
            "{'original': [<_io.BufferedReader name='data/docs/sample_no_txt/sample_no_txt.pdf'>]}\n",
            "tool_selection.keys() dict_keys(['PyPDF4_ocr', 'pdfminer_ocr', 'tika_ocr', 'pdfreader_ocr', 'pytesseract_ocr'])\n",
            "tool_names ['pdfreader_ocr', 'pytesseract_ocr', 'tika_ocr', 'pdfminer_ocr', 'PyPDF4_ocr']\n"
          ]
        },
        {
          "name": "stderr",
          "output_type": "stream",
          "text": [
            "100%|██████████| 5/5 [01:06<00:00, 13.25s/it]"
          ]
        },
        {
          "name": "stdout",
          "output_type": "stream",
          "text": [
            "Character Error Rates {'footnote.pdf': {'pdfreader_ocr': 239400.0, 'pytesseract_ocr': 17376.9231, 'tika_ocr': 19023.0769, 'pdfminer_ocr': 21715.3846, 'PyPDF4_ocr': 22500.0}, '1882_scott_the_british_psyllina,_with_corrections_in_the_synonomy_copie.pdf': {'pdfreader_ocr': 753.8462, 'pytesseract_ocr': 72669.2308, 'tika_ocr': 2353.8462, 'pdfminer_ocr': 100.0, 'PyPDF4_ocr': 100.0}, 'sample_no_txt.pdf': {'pdfreader_ocr': 330.7692, 'pytesseract_ocr': 629215.3846, 'tika_ocr': 673169.2308, 'pdfminer_ocr': 736315.3846, 'PyPDF4_ocr': 689492.3077}}\n"
          ]
        },
        {
          "name": "stderr",
          "output_type": "stream",
          "text": [
            "\n"
          ]
        }
      ],
      "source": [
        "# for doc in data (each doc has its own directory)\n",
        "print('Input_path:', input_path) \n",
        "cers = {} # CER scores\n",
        "\n",
        "for dir in os.listdir(input_path):\n",
        "    dir_path = os.path.join(input_path,dir)\n",
        "    if embedded_text_dir not in os.listdir(dir_path):\n",
        "        doc_paths = [os.path.join(dir_path, filepath) for filepath in os.listdir(dir_path) if os.path.isfile(os.path.join(dir_path, filepath))]\n",
        "        # create Doc instance with doc path\n",
        "        doc_object = Doc(doc_paths, tools=ctools)\n",
        "    \n",
        "        ## CONVERSION\n",
        "        conv_ad_save(dir_path,\n",
        "                    doc_object,\n",
        "                    converter,\n",
        "                    tool_names=tools_for_conversion,\n",
        "                    overwrite=False) # set to True to overwrite previous conversion exports \n",
        "        \n",
        "        ## EVALUATION \n",
        "        doc_cer = get_cer(cers,\n",
        "                doc_object,\n",
        "                dir_path,\n",
        "                ref_dir,\n",
        "                source='obj')\n",
        "                \n",
        "        cers.update(doc_cer)\n",
        "    else:\n",
        "        print('Embedded text already exists for', dir)\n",
        "\n",
        "print('Character Error Rates', cers)"
      ]
    },
    {
      "cell_type": "code",
      "execution_count": 29,
      "metadata": {},
      "outputs": [
        {
          "data": {
            "text/plain": [
              "{'pdfreader_ocr': 753.8462,\n",
              " 'PyPDF4_ocr': 100.0,\n",
              " 'pdfminer_ocr': 100.0,\n",
              " 'tika_ocr': 2353.8462,\n",
              " 'pytesseract_ocr': 72669.2308}"
            ]
          },
          "execution_count": 29,
          "metadata": {},
          "output_type": "execute_result"
        }
      ],
      "source": [
        "cers['1882_scott_the_british_psyllina,_with_corrections_in_the_synonomy_copie.pdf']"
      ]
    },
    {
      "cell_type": "markdown",
      "metadata": {},
      "source": [
        "# Evaluation from converted txt files\n",
        "(to be used if conversion outputs have already been saved)"
      ]
    },
    {
      "cell_type": "code",
      "execution_count": 18,
      "metadata": {},
      "outputs": [],
      "source": [
        "cers = {}\n",
        "for dir in os.listdir(input_path):\n",
        "    dir_path = os.path.join(input_path,dir)\n",
        "    doc_paths = [os.path.join(dir_path, filepath) for filepath in os.listdir(dir_path) if os.path.isfile(os.path.join(dir_path, filepath))]\n",
        "    \n",
        "    # create Doc instance with doc path\n",
        "    doc_object = Doc(doc_paths, tools=ctools)\n",
        "\n",
        "    cers = get_cer(cers,\n",
        "                    doc_object,\n",
        "                    dir_path,\n",
        "                    ref_dir,\n",
        "                    source='file')"
      ]
    },
    {
      "cell_type": "markdown",
      "metadata": {},
      "source": [
        "# Visualisation"
      ]
    },
    {
      "cell_type": "code",
      "execution_count": 19,
      "metadata": {},
      "outputs": [],
      "source": [
        "import seaborn as sns\n",
        "import matplotlib.pyplot as plt\n",
        "import numpy as np"
      ]
    },
    {
      "cell_type": "code",
      "execution_count": 20,
      "metadata": {},
      "outputs": [
        {
          "data": {
            "text/plain": [
              "{'pdfreader_ocr': 318592.6154,\n",
              " 'embedded_txt': 281350.4615,\n",
              " 'PyPDF4_ocr': 1067089.2308,\n",
              " 'pdfminer_ocr': 1051812.6154,\n",
              " 'tika_ocr': 976205.5385,\n",
              " 'UNUSABLEembedded_txt': 947973.5384,\n",
              " 'pytesseract_ocr': 980360.9231}"
            ]
          },
          "execution_count": 20,
          "metadata": {},
          "output_type": "execute_result"
        }
      ],
      "source": [
        "# sum up scores per tools\n",
        "cer_per_tool = {}\n",
        "\n",
        "for _,tool_cer in cers.items():\n",
        "    for tool,cer in tool_cer.items():\n",
        "        cer_per_tool[tool] = 0   \n",
        "    break\n",
        "        \n",
        "for _,tool_cer in cers.items():\n",
        "    for tool,cer in tool_cer.items():\n",
        "        cer_per_tool[tool] = cer_per_tool[tool]+cer\n",
        "\n",
        "cer_per_tool\n"
      ]
    },
    {
      "cell_type": "code",
      "execution_count": 21,
      "metadata": {},
      "outputs": [],
      "source": [
        "data = cer_per_tool"
      ]
    },
    {
      "cell_type": "code",
      "execution_count": 24,
      "metadata": {},
      "outputs": [
        {
          "data": {
            "text/plain": [
              "<AxesSubplot:>"
            ]
          },
          "execution_count": 24,
          "metadata": {},
          "output_type": "execute_result"
        },
        {
          "data": {
            "image/png": "[encoded data removed]",
            "text/plain": [
              "<Figure size 842.4x595.44 with 1 Axes>"
            ]
          },
          "metadata": {},
          "output_type": "display_data"
        }
      ],
      "source": [
        "sns.set(rc={'figure.figsize':(11.7,8.27)})\n",
        "plt.xticks(rotation=45)\n",
        "sns.barplot(x=list(data.keys()), y=list(data.values()))"
      ]
    }
  ],
  "metadata": {
    "colab": {
      "collapsed_sections": [],
      "name": "PDF2TXT.ipynb",
      "provenance": []
    },
    "interpreter": {
      "hash": "edcc5be5a525af8e97e23bf1972aea5fd07a1c7f57254dc7385b6797660d8cb8"
    },
    "kernelspec": {
      "display_name": "Python 3.9.7 ('venv': venv)",
      "language": "python",
      "name": "python3"
    },
    "language_info": {
      "codemirror_mode": {
        "name": "ipython",
        "version": 3
      },
      "file_extension": ".py",
      "mimetype": "text/x-python",
      "name": "python",
      "nbconvert_exporter": "python",
      "pygments_lexer": "ipython3",
      "version": "3.9.7"
    }
  },
  "nbformat": 4,
  "nbformat_minor": 0
}
