{
 "cells": [
  {
   "cell_type": "code",
   "execution_count": 74,
   "metadata": {},
   "outputs": [],
   "source": [
    "import json\n",
    "\n",
    "import advertools as adv\n",
    "from nltk import word_tokenize\n",
    "\n",
    "from nltk.corpus import words\n",
    "from nltk.metrics.distance import edit_distance,jaccard_distance\n",
    "from nltk.util import ngrams\n",
    "import pandas as pd\n",
    "import numpy as np\n",
    "import enchant\n",
    "import string \n",
    "\n",
    "from tqdm import tqdm"
   ]
  },
  {
   "cell_type": "code",
   "execution_count": 75,
   "metadata": {},
   "outputs": [
    {
     "name": "stderr",
     "output_type": "stream",
     "text": [
      "[nltk_data] Downloading package words to /home/elubrini/nltk_data...\n",
      "[nltk_data]   Package words is already up-to-date!\n"
     ]
    }
   ],
   "source": [
    "import nltk \n",
    "nltk.download('words')\n",
    "d = enchant.Dict(\"en_UK\")"
   ]
  },
  {
   "cell_type": "code",
   "execution_count": 76,
   "metadata": {},
   "outputs": [],
   "source": [
    "with open('./vector.txt','r') as f:\n",
    "    correct_spellings = f.read().split(\"\\n\")\n",
    "\n",
    "with open('../../data/sample_doc.txt', 'r') as f:\n",
    "    sample = f.read()"
   ]
  },
  {
   "cell_type": "code",
   "execution_count": 77,
   "metadata": {},
   "outputs": [],
   "source": [
    "def flatten(l):\n",
    "    return [item for sublist in l for item in sublist]"
   ]
  },
  {
   "cell_type": "code",
   "execution_count": 78,
   "metadata": {},
   "outputs": [
    {
     "data": {
      "text/plain": [
       "0               chermes pruni\n",
       "1               pruni scopoli\n",
       "2                scopoli 1763\n",
       "3                psylla pruni\n",
       "4               pruni scopoli\n",
       "5                scopoli 1763\n",
       "6            cacopsylla pruni\n",
       "7               pruni scopoli\n",
       "8                scopoli 1763\n",
       "9     cacopsylla thamnopsylla\n",
       "10         thamnopsylla pruni\n",
       "11              pruni scopoli\n",
       "12               scopoli 1763\n",
       "13               psylla pruni\n",
       "14              pruni scopoli\n",
       "15               scopoli 1763\n",
       "16           cacopsylla pruni\n",
       "17              pruni scopoli\n",
       "18               scopoli 1763\n",
       "19           use(s chresonymy\n",
       "20           cacopsylla pruni\n",
       "21              pruni scopoli\n",
       "22           cacopsylla pruni\n",
       "23              pruni scopoli\n",
       "24               scopoli 1763\n",
       "25              chermes pruni\n",
       "26              pruni scopoli\n",
       "27               scopoli 1763\n",
       "28           cacopsylla pruni\n",
       "29              pruni scopoli\n",
       "30               scopoli 1763\n",
       "31    cacopsylla thamnopsylla\n",
       "32         thamnopsylla pruni\n",
       "33              pruni scopoli\n",
       "34               scopoli 1763\n",
       "dtype: object"
      ]
     },
     "execution_count": 78,
     "metadata": {},
     "output_type": "execute_result"
    }
   ],
   "source": [
    "spellings_series = flatten([gram for spelling in correct_spellings for gram in adv.word_tokenize(spelling)])\n",
    "spellings_series = pd.Series(spellings_series)\n",
    "spellings_series"
   ]
  },
  {
   "cell_type": "code",
   "execution_count": 79,
   "metadata": {},
   "outputs": [],
   "source": [
    "\n",
    "def jaccard(entry, gram_number, spellings_series):\n",
    "    spellings = spellings_series[spellings_series.str.startswith(entry[0])] \n",
    "    distances = ((jaccard_distance(set(ngrams(entry, gram_number)),\n",
    "                                    set(ngrams(word, gram_number))), word)\n",
    "                    for word in spellings)\n",
    "    try:\n",
    "        closest = min(distances)\n",
    "        outcome = (closest[1])\n",
    "    except ValueError:\n",
    "        outcome = entry    \n",
    "    return outcome"
   ]
  },
  {
   "cell_type": "code",
   "execution_count": 80,
   "metadata": {},
   "outputs": [],
   "source": [
    "def correct(entry, gram_number, spellings_series):\n",
    "    no_punct_entry = (entry+'.').translate(str.maketrans('', '', string.punctuation))\n",
    "    if not no_punct_entry:\n",
    "        return entry\n",
    "    if d.check(entry) or d.check(no_punct_entry):\n",
    "        return entry\n",
    "    else:\n",
    "        return jaccard(entry, gram_number, spellings_series)\n",
    "        \n",
    "def correct_text(text, gram_number, spellings_series, df_out=False, save=False):\n",
    "    entries = word_tokenize(text)\n",
    "    corrections = []\n",
    "    for entry in tqdm(entries):\n",
    "        correction = correct(entry, gram_number, spellings_series)\n",
    "        corrections.append(correction)\n",
    "    if df_out:\n",
    "        dic = dict(entries=entries,corrections=corrections)\n",
    "        df = pd.DataFrame(dic)\n",
    "        df['diff'] = np.where( df['entries'] == df['corrections'] , 1, 0)\n",
    "        df[df['diff'] == 0]\n",
    "        return df\n",
    "    else:\n",
    "        return corrections"
   ]
  },
  {
   "cell_type": "code",
   "execution_count": 81,
   "metadata": {},
   "outputs": [],
   "source": [
    "def correct_text_ngrams(text, gram_number, spellings_series, df_out=False, save=False):\n",
    "    corrections = []\n",
    "    entries = []\n",
    "    for spelling in spellings_series:\n",
    "        print(spelling)\n",
    "        token_ngram = len(list(word_tokenize(spelling)))\n",
    "        #print(token_ngram)\n",
    "        new_entries = adv.word_tokenize(text, token_ngram)[0]\n",
    "        entries+=new_entries\n",
    "        for entry in tqdm(new_entries):\n",
    "            correction = correct(entry, gram_number, spellings_series)\n",
    "            corrections.append(correction)\n",
    "    if df_out:\n",
    "        #print(len(entries), len(corrections))\n",
    "        dic = dict(entries=entries,corrections=corrections)\n",
    "        df = pd.DataFrame(dic)\n",
    "        df['diff'] = np.where( df['entries'] == df['corrections'] , 1, 0)\n",
    "        df[df['diff'] == 0]\n",
    "        return df\n",
    "    else:\n",
    "        return corrections"
   ]
  },
  {
   "cell_type": "code",
   "execution_count": 82,
   "metadata": {},
   "outputs": [],
   "source": [
    "sample = \" Prawdopodobnie przy uwzgiednieniu wszystkich palearktyeznyeh gatunkéw z rodzaju Cacopsylla przy tworzeniu gru\""
   ]
  },
  {
   "cell_type": "code",
   "execution_count": 83,
   "metadata": {},
   "outputs": [
    {
     "name": "stdout",
     "output_type": "stream",
     "text": [
      "chermes pruni\n",
      "['prawdopodobnie przy', 'przy uwzgiednieniu', 'uwzgiednieniu wszystkich', 'wszystkich palearktyeznyeh', 'palearktyeznyeh gatunkéw', 'gatunkéw z', 'z rodzaju', 'rodzaju cacopsylla', 'cacopsylla przy', 'przy tworzeniu', 'tworzeniu gru']\n"
     ]
    },
    {
     "name": "stderr",
     "output_type": "stream",
     "text": [
      "100%|██████████| 11/11 [00:00<00:00, 416.69it/s]\n"
     ]
    },
    {
     "name": "stdout",
     "output_type": "stream",
     "text": [
      "pruni scopoli\n",
      "['prawdopodobnie przy', 'przy uwzgiednieniu', 'uwzgiednieniu wszystkich', 'wszystkich palearktyeznyeh', 'palearktyeznyeh gatunkéw', 'gatunkéw z', 'z rodzaju', 'rodzaju cacopsylla', 'cacopsylla przy', 'przy tworzeniu', 'tworzeniu gru']\n"
     ]
    },
    {
     "name": "stderr",
     "output_type": "stream",
     "text": [
      "100%|██████████| 11/11 [00:00<00:00, 447.88it/s]\n"
     ]
    },
    {
     "name": "stdout",
     "output_type": "stream",
     "text": [
      "scopoli 1763\n",
      "['prawdopodobnie przy', 'przy uwzgiednieniu', 'uwzgiednieniu wszystkich', 'wszystkich palearktyeznyeh', 'palearktyeznyeh gatunkéw', 'gatunkéw z', 'z rodzaju', 'rodzaju cacopsylla', 'cacopsylla przy', 'przy tworzeniu', 'tworzeniu gru']\n"
     ]
    },
    {
     "name": "stderr",
     "output_type": "stream",
     "text": [
      "100%|██████████| 11/11 [00:00<00:00, 486.98it/s]\n"
     ]
    },
    {
     "name": "stdout",
     "output_type": "stream",
     "text": [
      "psylla pruni\n",
      "['prawdopodobnie przy', 'przy uwzgiednieniu', 'uwzgiednieniu wszystkich', 'wszystkich palearktyeznyeh', 'palearktyeznyeh gatunkéw', 'gatunkéw z', 'z rodzaju', 'rodzaju cacopsylla', 'cacopsylla przy', 'przy tworzeniu', 'tworzeniu gru']\n"
     ]
    },
    {
     "name": "stderr",
     "output_type": "stream",
     "text": [
      "100%|██████████| 11/11 [00:00<00:00, 415.25it/s]\n"
     ]
    },
    {
     "name": "stdout",
     "output_type": "stream",
     "text": [
      "pruni scopoli\n",
      "['prawdopodobnie przy', 'przy uwzgiednieniu', 'uwzgiednieniu wszystkich', 'wszystkich palearktyeznyeh', 'palearktyeznyeh gatunkéw', 'gatunkéw z', 'z rodzaju', 'rodzaju cacopsylla', 'cacopsylla przy', 'przy tworzeniu', 'tworzeniu gru']\n"
     ]
    },
    {
     "name": "stderr",
     "output_type": "stream",
     "text": [
      "100%|██████████| 11/11 [00:00<00:00, 489.96it/s]\n"
     ]
    },
    {
     "name": "stdout",
     "output_type": "stream",
     "text": [
      "scopoli 1763\n",
      "['prawdopodobnie przy', 'przy uwzgiednieniu', 'uwzgiednieniu wszystkich', 'wszystkich palearktyeznyeh', 'palearktyeznyeh gatunkéw', 'gatunkéw z', 'z rodzaju', 'rodzaju cacopsylla', 'cacopsylla przy', 'przy tworzeniu', 'tworzeniu gru']\n"
     ]
    },
    {
     "name": "stderr",
     "output_type": "stream",
     "text": [
      "100%|██████████| 11/11 [00:00<00:00, 418.48it/s]\n"
     ]
    },
    {
     "name": "stdout",
     "output_type": "stream",
     "text": [
      "cacopsylla pruni\n",
      "['prawdopodobnie przy', 'przy uwzgiednieniu', 'uwzgiednieniu wszystkich', 'wszystkich palearktyeznyeh', 'palearktyeznyeh gatunkéw', 'gatunkéw z', 'z rodzaju', 'rodzaju cacopsylla', 'cacopsylla przy', 'przy tworzeniu', 'tworzeniu gru']\n"
     ]
    },
    {
     "name": "stderr",
     "output_type": "stream",
     "text": [
      "100%|██████████| 11/11 [00:00<00:00, 380.72it/s]\n"
     ]
    },
    {
     "name": "stdout",
     "output_type": "stream",
     "text": [
      "pruni scopoli\n",
      "['prawdopodobnie przy', 'przy uwzgiednieniu', 'uwzgiednieniu wszystkich', 'wszystkich palearktyeznyeh', 'palearktyeznyeh gatunkéw', 'gatunkéw z', 'z rodzaju', 'rodzaju cacopsylla', 'cacopsylla przy', 'przy tworzeniu', 'tworzeniu gru']\n"
     ]
    },
    {
     "name": "stderr",
     "output_type": "stream",
     "text": [
      "100%|██████████| 11/11 [00:00<00:00, 374.71it/s]\n"
     ]
    },
    {
     "name": "stdout",
     "output_type": "stream",
     "text": [
      "scopoli 1763\n",
      "['prawdopodobnie przy', 'przy uwzgiednieniu', 'uwzgiednieniu wszystkich', 'wszystkich palearktyeznyeh', 'palearktyeznyeh gatunkéw', 'gatunkéw z', 'z rodzaju', 'rodzaju cacopsylla', 'cacopsylla przy', 'przy tworzeniu', 'tworzeniu gru']\n"
     ]
    },
    {
     "name": "stderr",
     "output_type": "stream",
     "text": [
      "100%|██████████| 11/11 [00:00<00:00, 421.14it/s]\n"
     ]
    },
    {
     "name": "stdout",
     "output_type": "stream",
     "text": [
      "cacopsylla thamnopsylla\n",
      "['prawdopodobnie przy', 'przy uwzgiednieniu', 'uwzgiednieniu wszystkich', 'wszystkich palearktyeznyeh', 'palearktyeznyeh gatunkéw', 'gatunkéw z', 'z rodzaju', 'rodzaju cacopsylla', 'cacopsylla przy', 'przy tworzeniu', 'tworzeniu gru']\n"
     ]
    },
    {
     "name": "stderr",
     "output_type": "stream",
     "text": [
      "100%|██████████| 11/11 [00:00<00:00, 442.27it/s]\n"
     ]
    },
    {
     "name": "stdout",
     "output_type": "stream",
     "text": [
      "thamnopsylla pruni\n",
      "['prawdopodobnie przy', 'przy uwzgiednieniu', 'uwzgiednieniu wszystkich', 'wszystkich palearktyeznyeh', 'palearktyeznyeh gatunkéw', 'gatunkéw z', 'z rodzaju', 'rodzaju cacopsylla', 'cacopsylla przy', 'przy tworzeniu', 'tworzeniu gru']\n"
     ]
    },
    {
     "name": "stderr",
     "output_type": "stream",
     "text": [
      "100%|██████████| 11/11 [00:00<00:00, 391.18it/s]\n"
     ]
    },
    {
     "name": "stdout",
     "output_type": "stream",
     "text": [
      "pruni scopoli\n",
      "['prawdopodobnie przy', 'przy uwzgiednieniu', 'uwzgiednieniu wszystkich', 'wszystkich palearktyeznyeh', 'palearktyeznyeh gatunkéw', 'gatunkéw z', 'z rodzaju', 'rodzaju cacopsylla', 'cacopsylla przy', 'przy tworzeniu', 'tworzeniu gru']\n"
     ]
    },
    {
     "name": "stderr",
     "output_type": "stream",
     "text": [
      "100%|██████████| 11/11 [00:00<00:00, 294.40it/s]\n"
     ]
    },
    {
     "name": "stdout",
     "output_type": "stream",
     "text": [
      "scopoli 1763\n",
      "['prawdopodobnie przy', 'przy uwzgiednieniu', 'uwzgiednieniu wszystkich', 'wszystkich palearktyeznyeh', 'palearktyeznyeh gatunkéw', 'gatunkéw z', 'z rodzaju', 'rodzaju cacopsylla', 'cacopsylla przy', 'przy tworzeniu', 'tworzeniu gru']\n"
     ]
    },
    {
     "name": "stderr",
     "output_type": "stream",
     "text": [
      "100%|██████████| 11/11 [00:00<00:00, 321.47it/s]\n"
     ]
    },
    {
     "name": "stdout",
     "output_type": "stream",
     "text": [
      "psylla pruni\n",
      "['prawdopodobnie przy', 'przy uwzgiednieniu', 'uwzgiednieniu wszystkich', 'wszystkich palearktyeznyeh', 'palearktyeznyeh gatunkéw', 'gatunkéw z', 'z rodzaju', 'rodzaju cacopsylla', 'cacopsylla przy', 'przy tworzeniu', 'tworzeniu gru']\n"
     ]
    },
    {
     "name": "stderr",
     "output_type": "stream",
     "text": [
      "100%|██████████| 11/11 [00:00<00:00, 333.60it/s]\n"
     ]
    },
    {
     "name": "stdout",
     "output_type": "stream",
     "text": [
      "pruni scopoli\n",
      "['prawdopodobnie przy', 'przy uwzgiednieniu', 'uwzgiednieniu wszystkich', 'wszystkich palearktyeznyeh', 'palearktyeznyeh gatunkéw', 'gatunkéw z', 'z rodzaju', 'rodzaju cacopsylla', 'cacopsylla przy', 'przy tworzeniu', 'tworzeniu gru']\n"
     ]
    },
    {
     "name": "stderr",
     "output_type": "stream",
     "text": [
      "100%|██████████| 11/11 [00:00<00:00, 360.75it/s]\n"
     ]
    },
    {
     "name": "stdout",
     "output_type": "stream",
     "text": [
      "scopoli 1763\n",
      "['prawdopodobnie przy', 'przy uwzgiednieniu', 'uwzgiednieniu wszystkich', 'wszystkich palearktyeznyeh', 'palearktyeznyeh gatunkéw', 'gatunkéw z', 'z rodzaju', 'rodzaju cacopsylla', 'cacopsylla przy', 'przy tworzeniu', 'tworzeniu gru']\n"
     ]
    },
    {
     "name": "stderr",
     "output_type": "stream",
     "text": [
      "100%|██████████| 11/11 [00:00<00:00, 348.17it/s]\n"
     ]
    },
    {
     "name": "stdout",
     "output_type": "stream",
     "text": [
      "cacopsylla pruni\n",
      "['prawdopodobnie przy', 'przy uwzgiednieniu', 'uwzgiednieniu wszystkich', 'wszystkich palearktyeznyeh', 'palearktyeznyeh gatunkéw', 'gatunkéw z', 'z rodzaju', 'rodzaju cacopsylla', 'cacopsylla przy', 'przy tworzeniu', 'tworzeniu gru']\n"
     ]
    },
    {
     "name": "stderr",
     "output_type": "stream",
     "text": [
      "100%|██████████| 11/11 [00:00<00:00, 356.39it/s]\n"
     ]
    },
    {
     "name": "stdout",
     "output_type": "stream",
     "text": [
      "pruni scopoli\n",
      "['prawdopodobnie przy', 'przy uwzgiednieniu', 'uwzgiednieniu wszystkich', 'wszystkich palearktyeznyeh', 'palearktyeznyeh gatunkéw', 'gatunkéw z', 'z rodzaju', 'rodzaju cacopsylla', 'cacopsylla przy', 'przy tworzeniu', 'tworzeniu gru']\n"
     ]
    },
    {
     "name": "stderr",
     "output_type": "stream",
     "text": [
      "100%|██████████| 11/11 [00:00<00:00, 450.18it/s]\n"
     ]
    },
    {
     "name": "stdout",
     "output_type": "stream",
     "text": [
      "scopoli 1763\n",
      "['prawdopodobnie przy', 'przy uwzgiednieniu', 'uwzgiednieniu wszystkich', 'wszystkich palearktyeznyeh', 'palearktyeznyeh gatunkéw', 'gatunkéw z', 'z rodzaju', 'rodzaju cacopsylla', 'cacopsylla przy', 'przy tworzeniu', 'tworzeniu gru']\n"
     ]
    },
    {
     "name": "stderr",
     "output_type": "stream",
     "text": [
      "100%|██████████| 11/11 [00:00<00:00, 405.91it/s]\n"
     ]
    },
    {
     "name": "stdout",
     "output_type": "stream",
     "text": [
      "use(s chresonymy\n",
      "['prawdopodobnie przy uwzgiednieniu wszystkich', 'przy uwzgiednieniu wszystkich palearktyeznyeh', 'uwzgiednieniu wszystkich palearktyeznyeh gatunkéw', 'wszystkich palearktyeznyeh gatunkéw z', 'palearktyeznyeh gatunkéw z rodzaju', 'gatunkéw z rodzaju cacopsylla', 'z rodzaju cacopsylla przy', 'rodzaju cacopsylla przy tworzeniu', 'cacopsylla przy tworzeniu gru']\n"
     ]
    },
    {
     "name": "stderr",
     "output_type": "stream",
     "text": [
      "100%|██████████| 9/9 [00:00<00:00, 349.54it/s]\n"
     ]
    },
    {
     "name": "stdout",
     "output_type": "stream",
     "text": [
      "cacopsylla pruni\n",
      "['prawdopodobnie przy', 'przy uwzgiednieniu', 'uwzgiednieniu wszystkich', 'wszystkich palearktyeznyeh', 'palearktyeznyeh gatunkéw', 'gatunkéw z', 'z rodzaju', 'rodzaju cacopsylla', 'cacopsylla przy', 'przy tworzeniu', 'tworzeniu gru']\n"
     ]
    },
    {
     "name": "stderr",
     "output_type": "stream",
     "text": [
      "100%|██████████| 11/11 [00:00<00:00, 322.10it/s]\n"
     ]
    },
    {
     "name": "stdout",
     "output_type": "stream",
     "text": [
      "pruni scopoli\n",
      "['prawdopodobnie przy', 'przy uwzgiednieniu', 'uwzgiednieniu wszystkich', 'wszystkich palearktyeznyeh', 'palearktyeznyeh gatunkéw', 'gatunkéw z', 'z rodzaju', 'rodzaju cacopsylla', 'cacopsylla przy', 'przy tworzeniu', 'tworzeniu gru']\n"
     ]
    },
    {
     "name": "stderr",
     "output_type": "stream",
     "text": [
      "100%|██████████| 11/11 [00:00<00:00, 352.85it/s]\n"
     ]
    },
    {
     "name": "stdout",
     "output_type": "stream",
     "text": [
      "cacopsylla pruni\n",
      "['prawdopodobnie przy', 'przy uwzgiednieniu', 'uwzgiednieniu wszystkich', 'wszystkich palearktyeznyeh', 'palearktyeznyeh gatunkéw', 'gatunkéw z', 'z rodzaju', 'rodzaju cacopsylla', 'cacopsylla przy', 'przy tworzeniu', 'tworzeniu gru']\n"
     ]
    },
    {
     "name": "stderr",
     "output_type": "stream",
     "text": [
      "100%|██████████| 11/11 [00:00<00:00, 375.45it/s]\n"
     ]
    },
    {
     "name": "stdout",
     "output_type": "stream",
     "text": [
      "pruni scopoli\n",
      "['prawdopodobnie przy', 'przy uwzgiednieniu', 'uwzgiednieniu wszystkich', 'wszystkich palearktyeznyeh', 'palearktyeznyeh gatunkéw', 'gatunkéw z', 'z rodzaju', 'rodzaju cacopsylla', 'cacopsylla przy', 'przy tworzeniu', 'tworzeniu gru']\n"
     ]
    },
    {
     "name": "stderr",
     "output_type": "stream",
     "text": [
      "100%|██████████| 11/11 [00:00<00:00, 370.52it/s]\n"
     ]
    },
    {
     "name": "stdout",
     "output_type": "stream",
     "text": [
      "scopoli 1763\n",
      "['prawdopodobnie przy', 'przy uwzgiednieniu', 'uwzgiednieniu wszystkich', 'wszystkich palearktyeznyeh', 'palearktyeznyeh gatunkéw', 'gatunkéw z', 'z rodzaju', 'rodzaju cacopsylla', 'cacopsylla przy', 'przy tworzeniu', 'tworzeniu gru']\n"
     ]
    },
    {
     "name": "stderr",
     "output_type": "stream",
     "text": [
      "100%|██████████| 11/11 [00:00<00:00, 362.58it/s]\n"
     ]
    },
    {
     "name": "stdout",
     "output_type": "stream",
     "text": [
      "chermes pruni\n",
      "['prawdopodobnie przy', 'przy uwzgiednieniu', 'uwzgiednieniu wszystkich', 'wszystkich palearktyeznyeh', 'palearktyeznyeh gatunkéw', 'gatunkéw z', 'z rodzaju', 'rodzaju cacopsylla', 'cacopsylla przy', 'przy tworzeniu', 'tworzeniu gru']\n"
     ]
    },
    {
     "name": "stderr",
     "output_type": "stream",
     "text": [
      "100%|██████████| 11/11 [00:00<00:00, 309.37it/s]\n"
     ]
    },
    {
     "name": "stdout",
     "output_type": "stream",
     "text": [
      "pruni scopoli\n",
      "['prawdopodobnie przy', 'przy uwzgiednieniu', 'uwzgiednieniu wszystkich', 'wszystkich palearktyeznyeh', 'palearktyeznyeh gatunkéw', 'gatunkéw z', 'z rodzaju', 'rodzaju cacopsylla', 'cacopsylla przy', 'przy tworzeniu', 'tworzeniu gru']\n"
     ]
    },
    {
     "name": "stderr",
     "output_type": "stream",
     "text": [
      "100%|██████████| 11/11 [00:00<00:00, 359.50it/s]\n"
     ]
    },
    {
     "name": "stdout",
     "output_type": "stream",
     "text": [
      "scopoli 1763\n",
      "['prawdopodobnie przy', 'przy uwzgiednieniu', 'uwzgiednieniu wszystkich', 'wszystkich palearktyeznyeh', 'palearktyeznyeh gatunkéw', 'gatunkéw z', 'z rodzaju', 'rodzaju cacopsylla', 'cacopsylla przy', 'przy tworzeniu', 'tworzeniu gru']\n"
     ]
    },
    {
     "name": "stderr",
     "output_type": "stream",
     "text": [
      "100%|██████████| 11/11 [00:00<00:00, 371.03it/s]\n"
     ]
    },
    {
     "name": "stdout",
     "output_type": "stream",
     "text": [
      "cacopsylla pruni\n",
      "['prawdopodobnie przy', 'przy uwzgiednieniu', 'uwzgiednieniu wszystkich', 'wszystkich palearktyeznyeh', 'palearktyeznyeh gatunkéw', 'gatunkéw z', 'z rodzaju', 'rodzaju cacopsylla', 'cacopsylla przy', 'przy tworzeniu', 'tworzeniu gru']\n"
     ]
    },
    {
     "name": "stderr",
     "output_type": "stream",
     "text": [
      "100%|██████████| 11/11 [00:00<00:00, 398.94it/s]\n"
     ]
    },
    {
     "name": "stdout",
     "output_type": "stream",
     "text": [
      "pruni scopoli\n",
      "['prawdopodobnie przy', 'przy uwzgiednieniu', 'uwzgiednieniu wszystkich', 'wszystkich palearktyeznyeh', 'palearktyeznyeh gatunkéw', 'gatunkéw z', 'z rodzaju', 'rodzaju cacopsylla', 'cacopsylla przy', 'przy tworzeniu', 'tworzeniu gru']\n"
     ]
    },
    {
     "name": "stderr",
     "output_type": "stream",
     "text": [
      "100%|██████████| 11/11 [00:00<00:00, 370.42it/s]\n"
     ]
    },
    {
     "name": "stdout",
     "output_type": "stream",
     "text": [
      "scopoli 1763\n",
      "['prawdopodobnie przy', 'przy uwzgiednieniu', 'uwzgiednieniu wszystkich', 'wszystkich palearktyeznyeh', 'palearktyeznyeh gatunkéw', 'gatunkéw z', 'z rodzaju', 'rodzaju cacopsylla', 'cacopsylla przy', 'przy tworzeniu', 'tworzeniu gru']\n"
     ]
    },
    {
     "name": "stderr",
     "output_type": "stream",
     "text": [
      "100%|██████████| 11/11 [00:00<00:00, 385.65it/s]\n"
     ]
    },
    {
     "name": "stdout",
     "output_type": "stream",
     "text": [
      "cacopsylla thamnopsylla\n",
      "['prawdopodobnie przy', 'przy uwzgiednieniu', 'uwzgiednieniu wszystkich', 'wszystkich palearktyeznyeh', 'palearktyeznyeh gatunkéw', 'gatunkéw z', 'z rodzaju', 'rodzaju cacopsylla', 'cacopsylla przy', 'przy tworzeniu', 'tworzeniu gru']\n"
     ]
    },
    {
     "name": "stderr",
     "output_type": "stream",
     "text": [
      "100%|██████████| 11/11 [00:00<00:00, 364.38it/s]\n"
     ]
    },
    {
     "name": "stdout",
     "output_type": "stream",
     "text": [
      "thamnopsylla pruni\n",
      "['prawdopodobnie przy', 'przy uwzgiednieniu', 'uwzgiednieniu wszystkich', 'wszystkich palearktyeznyeh', 'palearktyeznyeh gatunkéw', 'gatunkéw z', 'z rodzaju', 'rodzaju cacopsylla', 'cacopsylla przy', 'przy tworzeniu', 'tworzeniu gru']\n"
     ]
    },
    {
     "name": "stderr",
     "output_type": "stream",
     "text": [
      "100%|██████████| 11/11 [00:00<00:00, 354.17it/s]\n"
     ]
    },
    {
     "name": "stdout",
     "output_type": "stream",
     "text": [
      "pruni scopoli\n",
      "['prawdopodobnie przy', 'przy uwzgiednieniu', 'uwzgiednieniu wszystkich', 'wszystkich palearktyeznyeh', 'palearktyeznyeh gatunkéw', 'gatunkéw z', 'z rodzaju', 'rodzaju cacopsylla', 'cacopsylla przy', 'przy tworzeniu', 'tworzeniu gru']\n"
     ]
    },
    {
     "name": "stderr",
     "output_type": "stream",
     "text": [
      "100%|██████████| 11/11 [00:00<00:00, 309.21it/s]\n"
     ]
    },
    {
     "name": "stdout",
     "output_type": "stream",
     "text": [
      "scopoli 1763\n",
      "['prawdopodobnie przy', 'przy uwzgiednieniu', 'uwzgiednieniu wszystkich', 'wszystkich palearktyeznyeh', 'palearktyeznyeh gatunkéw', 'gatunkéw z', 'z rodzaju', 'rodzaju cacopsylla', 'cacopsylla przy', 'przy tworzeniu', 'tworzeniu gru']\n"
     ]
    },
    {
     "name": "stderr",
     "output_type": "stream",
     "text": [
      "100%|██████████| 11/11 [00:00<00:00, 261.65it/s]\n"
     ]
    },
    {
     "data": {
      "text/html": [
       "<div>\n",
       "<style scoped>\n",
       "    .dataframe tbody tr th:only-of-type {\n",
       "        vertical-align: middle;\n",
       "    }\n",
       "\n",
       "    .dataframe tbody tr th {\n",
       "        vertical-align: top;\n",
       "    }\n",
       "\n",
       "    .dataframe thead th {\n",
       "        text-align: right;\n",
       "    }\n",
       "</style>\n",
       "<table border=\"1\" class=\"dataframe\">\n",
       "  <thead>\n",
       "    <tr style=\"text-align: right;\">\n",
       "      <th></th>\n",
       "      <th>entries</th>\n",
       "      <th>corrections</th>\n",
       "      <th>diff</th>\n",
       "    </tr>\n",
       "  </thead>\n",
       "  <tbody>\n",
       "    <tr>\n",
       "      <th>0</th>\n",
       "      <td>prawdopodobnie przy</td>\n",
       "      <td>psylla pruni</td>\n",
       "      <td>0</td>\n",
       "    </tr>\n",
       "    <tr>\n",
       "      <th>1</th>\n",
       "      <td>przy uwzgiednieniu</td>\n",
       "      <td>pruni scopoli</td>\n",
       "      <td>0</td>\n",
       "    </tr>\n",
       "    <tr>\n",
       "      <th>2</th>\n",
       "      <td>uwzgiednieniu wszystkich</td>\n",
       "      <td>use(s chresonymy</td>\n",
       "      <td>0</td>\n",
       "    </tr>\n",
       "    <tr>\n",
       "      <th>3</th>\n",
       "      <td>wszystkich palearktyeznyeh</td>\n",
       "      <td>wszystkich palearktyeznyeh</td>\n",
       "      <td>1</td>\n",
       "    </tr>\n",
       "    <tr>\n",
       "      <th>4</th>\n",
       "      <td>palearktyeznyeh gatunkéw</td>\n",
       "      <td>pruni scopoli</td>\n",
       "      <td>0</td>\n",
       "    </tr>\n",
       "  </tbody>\n",
       "</table>\n",
       "</div>"
      ],
      "text/plain": [
       "                      entries                 corrections  diff\n",
       "0         prawdopodobnie przy                psylla pruni     0\n",
       "1          przy uwzgiednieniu               pruni scopoli     0\n",
       "2    uwzgiednieniu wszystkich            use(s chresonymy     0\n",
       "3  wszystkich palearktyeznyeh  wszystkich palearktyeznyeh     1\n",
       "4    palearktyeznyeh gatunkéw               pruni scopoli     0"
      ]
     },
     "execution_count": 83,
     "metadata": {},
     "output_type": "execute_result"
    }
   ],
   "source": [
    "correction = correct_text_ngrams(sample, 3, spellings_series, df_out=True)\n",
    "correction.head()"
   ]
  },
  {
   "cell_type": "code",
   "execution_count": 84,
   "metadata": {},
   "outputs": [
    {
     "data": {
      "text/html": [
       "<div>\n",
       "<style scoped>\n",
       "    .dataframe tbody tr th:only-of-type {\n",
       "        vertical-align: middle;\n",
       "    }\n",
       "\n",
       "    .dataframe tbody tr th {\n",
       "        vertical-align: top;\n",
       "    }\n",
       "\n",
       "    .dataframe thead th {\n",
       "        text-align: right;\n",
       "    }\n",
       "</style>\n",
       "<table border=\"1\" class=\"dataframe\">\n",
       "  <thead>\n",
       "    <tr style=\"text-align: right;\">\n",
       "      <th></th>\n",
       "      <th>entries</th>\n",
       "      <th>corrections</th>\n",
       "    </tr>\n",
       "  </thead>\n",
       "  <tbody>\n",
       "    <tr>\n",
       "      <th>0</th>\n",
       "      <td>prawdopodobnie przy</td>\n",
       "      <td>psylla pruni</td>\n",
       "    </tr>\n",
       "    <tr>\n",
       "      <th>1</th>\n",
       "      <td>przy uwzgiednieniu</td>\n",
       "      <td>pruni scopoli</td>\n",
       "    </tr>\n",
       "    <tr>\n",
       "      <th>2</th>\n",
       "      <td>uwzgiednieniu wszystkich</td>\n",
       "      <td>use(s chresonymy</td>\n",
       "    </tr>\n",
       "    <tr>\n",
       "      <th>4</th>\n",
       "      <td>palearktyeznyeh gatunkéw</td>\n",
       "      <td>pruni scopoli</td>\n",
       "    </tr>\n",
       "    <tr>\n",
       "      <th>8</th>\n",
       "      <td>cacopsylla przy</td>\n",
       "      <td>cacopsylla pruni</td>\n",
       "    </tr>\n",
       "    <tr>\n",
       "      <th>...</th>\n",
       "      <td>...</td>\n",
       "      <td>...</td>\n",
       "    </tr>\n",
       "    <tr>\n",
       "      <th>374</th>\n",
       "      <td>uwzgiednieniu wszystkich</td>\n",
       "      <td>use(s chresonymy</td>\n",
       "    </tr>\n",
       "    <tr>\n",
       "      <th>376</th>\n",
       "      <td>palearktyeznyeh gatunkéw</td>\n",
       "      <td>pruni scopoli</td>\n",
       "    </tr>\n",
       "    <tr>\n",
       "      <th>380</th>\n",
       "      <td>cacopsylla przy</td>\n",
       "      <td>cacopsylla pruni</td>\n",
       "    </tr>\n",
       "    <tr>\n",
       "      <th>381</th>\n",
       "      <td>przy tworzeniu</td>\n",
       "      <td>pruni scopoli</td>\n",
       "    </tr>\n",
       "    <tr>\n",
       "      <th>382</th>\n",
       "      <td>tworzeniu gru</td>\n",
       "      <td>thamnopsylla pruni</td>\n",
       "    </tr>\n",
       "  </tbody>\n",
       "</table>\n",
       "<p>243 rows × 2 columns</p>\n",
       "</div>"
      ],
      "text/plain": [
       "                      entries         corrections\n",
       "0         prawdopodobnie przy        psylla pruni\n",
       "1          przy uwzgiednieniu       pruni scopoli\n",
       "2    uwzgiednieniu wszystkich    use(s chresonymy\n",
       "4    palearktyeznyeh gatunkéw       pruni scopoli\n",
       "8             cacopsylla przy    cacopsylla pruni\n",
       "..                        ...                 ...\n",
       "374  uwzgiednieniu wszystkich    use(s chresonymy\n",
       "376  palearktyeznyeh gatunkéw       pruni scopoli\n",
       "380           cacopsylla przy    cacopsylla pruni\n",
       "381            przy tworzeniu       pruni scopoli\n",
       "382             tworzeniu gru  thamnopsylla pruni\n",
       "\n",
       "[243 rows x 2 columns]"
      ]
     },
     "execution_count": 84,
     "metadata": {},
     "output_type": "execute_result"
    }
   ],
   "source": [
    "correction[correction['diff']==0][['entries','corrections']]"
   ]
  },
  {
   "cell_type": "markdown",
   "metadata": {},
   "source": [
    "## Save"
   ]
  },
  {
   "cell_type": "code",
   "execution_count": 85,
   "metadata": {},
   "outputs": [],
   "source": [
    "filename = 'sample_correction.json'\n",
    "correction.to_json(filename)"
   ]
  },
  {
   "cell_type": "markdown",
   "metadata": {},
   "source": [
    "## Load"
   ]
  },
  {
   "cell_type": "code",
   "execution_count": 86,
   "metadata": {},
   "outputs": [
    {
     "data": {
      "text/html": [
       "<div>\n",
       "<style scoped>\n",
       "    .dataframe tbody tr th:only-of-type {\n",
       "        vertical-align: middle;\n",
       "    }\n",
       "\n",
       "    .dataframe tbody tr th {\n",
       "        vertical-align: top;\n",
       "    }\n",
       "\n",
       "    .dataframe thead th {\n",
       "        text-align: right;\n",
       "    }\n",
       "</style>\n",
       "<table border=\"1\" class=\"dataframe\">\n",
       "  <thead>\n",
       "    <tr style=\"text-align: right;\">\n",
       "      <th></th>\n",
       "      <th>entries</th>\n",
       "      <th>corrections</th>\n",
       "      <th>diff</th>\n",
       "    </tr>\n",
       "  </thead>\n",
       "  <tbody>\n",
       "    <tr>\n",
       "      <th>0</th>\n",
       "      <td>prawdopodobnie przy</td>\n",
       "      <td>psylla pruni</td>\n",
       "      <td>0</td>\n",
       "    </tr>\n",
       "    <tr>\n",
       "      <th>1</th>\n",
       "      <td>przy uwzgiednieniu</td>\n",
       "      <td>pruni scopoli</td>\n",
       "      <td>0</td>\n",
       "    </tr>\n",
       "    <tr>\n",
       "      <th>2</th>\n",
       "      <td>uwzgiednieniu wszystkich</td>\n",
       "      <td>use(s chresonymy</td>\n",
       "      <td>0</td>\n",
       "    </tr>\n",
       "    <tr>\n",
       "      <th>3</th>\n",
       "      <td>wszystkich palearktyeznyeh</td>\n",
       "      <td>wszystkich palearktyeznyeh</td>\n",
       "      <td>1</td>\n",
       "    </tr>\n",
       "    <tr>\n",
       "      <th>4</th>\n",
       "      <td>palearktyeznyeh gatunkéw</td>\n",
       "      <td>pruni scopoli</td>\n",
       "      <td>0</td>\n",
       "    </tr>\n",
       "  </tbody>\n",
       "</table>\n",
       "</div>"
      ],
      "text/plain": [
       "                      entries                 corrections  diff\n",
       "0         prawdopodobnie przy                psylla pruni     0\n",
       "1          przy uwzgiednieniu               pruni scopoli     0\n",
       "2    uwzgiednieniu wszystkich            use(s chresonymy     0\n",
       "3  wszystkich palearktyeznyeh  wszystkich palearktyeznyeh     1\n",
       "4    palearktyeznyeh gatunkéw               pruni scopoli     0"
      ]
     },
     "execution_count": 86,
     "metadata": {},
     "output_type": "execute_result"
    }
   ],
   "source": [
    "df = pd.read_json(filename)\n",
    "df.head()"
   ]
  }
 ],
 "metadata": {
  "kernelspec": {
   "display_name": "Python 3.10.4 ('venv': venv)",
   "language": "python",
   "name": "python3"
  },
  "language_info": {
   "codemirror_mode": {
    "name": "ipython",
    "version": 3
   },
   "file_extension": ".py",
   "mimetype": "text/x-python",
   "name": "python",
   "nbconvert_exporter": "python",
   "pygments_lexer": "ipython3",
   "version": "3.10.6"
  },
  "orig_nbformat": 4,
  "vscode": {
   "interpreter": {
    "hash": "0791b7be171ebad212c24ef65290d1f031fc8c5ca9521baf1e29a38a9507073b"
   }
  }
 },
 "nbformat": 4,
 "nbformat_minor": 2
}
