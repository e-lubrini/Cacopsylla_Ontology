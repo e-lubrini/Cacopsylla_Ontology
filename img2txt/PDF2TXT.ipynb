{
  "cells": [
    {
      "cell_type": "markdown",
      "metadata": {
        "id": "Q6_qrxn6Wr97"
      },
      "source": [
        "# Config"
      ]
    },
    {
      "cell_type": "code",
      "execution_count": null,
      "metadata": {
        "id": "gb8lIzwbXBZV"
      },
      "outputs": [],
      "source": [
        "import os\n",
        "import types\n",
        "from typing import Union\n",
        "try:\n",
        " from PIL import Image\n",
        "except ImportError:\n",
        " import Image\n",
        "\n",
        "import fitz\n"
      ]
    },
    {
      "cell_type": "code",
      "execution_count": null,
      "metadata": {
        "id": "utrLifOwX781"
      },
      "outputs": [],
      "source": [
        "# import conversion tools\n",
        "import utils\n",
        "from conversion_tools import *\n",
        "from conversion_tools import tools_for_conversion"
      ]
    },
    {
      "cell_type": "markdown",
      "metadata": {
        "id": "XfK6MTi_WoHr"
      },
      "source": [
        "# Load Files"
      ]
    },
    {
      "cell_type": "code",
      "execution_count": null,
      "metadata": {
        "id": "g-mQHOvjW_BD"
      },
      "outputs": [],
      "source": [
        "data_path = os.path.join('/content', 'drive', 'MyDrive', '6_work', 'PHIM', 'data')\n",
        "\n",
        "input-path = os.path.join(data_path, 'input')\n",
        "output_path = os.path.join(data_path, 'output')\n",
        "\n",
        "#pdf_path = os.path.join(input-pat, 'pdf')\n",
        "#img_path = os.path.join(input-pat, 'img')"
      ]
    },
    {
      "cell_type": "markdown",
      "metadata": {
        "id": "CcRLrnpUWtvx"
      },
      "source": [
        "# Converter Classes"
      ]
    },
    {
      "cell_type": "code",
      "execution_count": null,
      "metadata": {},
      "outputs": [],
      "source": [
        "class Doc:\n",
        "   def __init__(self, input_filepaths):\n",
        "      # input_filepath is a LIST of filepaths (in case more files belong to the same document)\n",
        "      self.input_filepaths = input_filepaths\n",
        "      self.main_input_filepath = input_filepaths[0] # only used to detect filename and extension\n",
        "      \n",
        "      self.input_extension = os.path.splitext(self.main_input_filepath)[-1].lower()\n",
        "      self.input_filename = os.path.splitext(self.main_input_filepath)[-2].lower()\n",
        "\n",
        "      self.txt_conversions = dict() # dict of {tool-name: converted-text} pairs\n",
        "\n",
        "      self.data = dict() # dict of {format: {tool-name: converted-text}} e.g. {'jpg': {'pdf2txt': <jpg-object>}}\n",
        "\n",
        "\n",
        "   # doc conversion img<>pdf\n",
        "   def to_format(self, format, tool_name = None):\n",
        "      \"\"\"format can be pdf, png\"\"\"\n",
        "      data_selection = self.data.get(format)       \n",
        "      if data_selection:                           # if at least an instance of (converted/original) data is already stored for given format...\n",
        "         if not tool_name:\n",
        "            converted_data = data_selection[0]     # ...take the first instance available...\n",
        "         else:\n",
        "            converted_data = data_selection[tool_name]  #...unless a preferred conversion tool was selected\n",
        "         return converted_data\n",
        "\n",
        "      else: # if the requested format has no instances, add an empty instance format:{}\n",
        "         self.data[format] = dict()\n",
        "\n",
        "      # if requested format matches filepath extension, open the document and store it as an object\n",
        "      if format is \"pdf\":\n",
        "         if self.is_pdf():\n",
        "\n",
        "            # open all files for the given document...\n",
        "            pdf_objects = []\n",
        "            for pdf_path in self.input_filepaths:\n",
        "               with open(pdf_path, 'rb') as file:\n",
        "                  pdf_objects.append(file)\n",
        "            converted_data = pdf_objects\n",
        "            \n",
        "            self.data[format]['original'] = converted_data # ...and store original data in self.data\n",
        "\n",
        "         if self.is_png(): # if requested format does NOT match filepath extension, convert it\n",
        "           \n",
        "            tool_selection = tools_for_conversion[('png','pdf')] # this gives a dict of suitable tools\n",
        "            \n",
        "            if tool_name is None:\n",
        "               tool = tool_selection.keys()[0] # take first available tool if no tool was specified\n",
        "\n",
        "            conversion_tool = tool_selection[tool_name] # assign tool based on tool name\n",
        "                        \n",
        "            png_objects = None # TODO open files...\n",
        "            \n",
        "            converted_data = conversion_tool( # ...apply conversion tool on them...\n",
        "               png_objects\n",
        "            )\n",
        "\n",
        "            self.data[format][tool] = converted_data # ...and store the converted data\n",
        "      \n",
        "      # if requested format matches filepath extension, open the document and store it as an object\n",
        "      if format is \"png\":\n",
        "         if self.is_png():\n",
        "            \n",
        "            # open all files for the given document...\n",
        "            converted_data = [\n",
        "               Image.open(image_path) for image_path in self.input_filepaths\n",
        "               ]\n",
        "               \n",
        "            self.data[format]['original'] = converted_data # ... and store original data in self.data\n",
        "\n",
        "         if self.is_pdf():\n",
        "            \n",
        "            tool_selection = tools_for_conversion[('png','pdf')] # this gives a dict of suitable tools\n",
        "            \n",
        "            if tool_name is None:\n",
        "               tool = tool_selection.keys()[0] # take first available tool if no tool was specified\n",
        "\n",
        "            conversion_tool = tool_selection[tool_name] # assign tool based on tool name\n",
        "                        \n",
        "            pdf_objects = [ # open files...\n",
        "               fitz.open(self.pdf_path) for pdf_path in self.input_filepaths\n",
        "            ]\n",
        "\n",
        "            converted_data = conversion_tool( # ...apply conversion tool on them...\n",
        "               pdf_objects\n",
        "            )\n",
        "\n",
        "            self.data[format][tool] = converted_data # ...and store the converted data\n",
        "\n",
        "      return converted_data\n",
        "\n",
        "\n",
        "   # check format\n",
        "   def is_pdf(self):\n",
        "      return self.input_extension.lower() == 'pdf'\n",
        "\n",
        "   def is_png(self):\n",
        "      return self.input_extension.lower() == 'png'\n",
        "\n",
        "   # save output txt\n",
        "   def save_txt_conversion(self, tool_name, output_dir_path):\n",
        "      # define output filepath\n",
        "      output_file_path = os.path.join(output_dir_path,tool_name,str(self.filename)+'.txt')\n",
        "\n",
        "      # save txt in chosen dir\n",
        "      with open(output_file_path, 'w') as f:\n",
        "         f.write(self.txt_conversions[tool_name])\n",
        "   \n",
        "   def save_all_txt_conversions(self, output_dir_path):\n",
        "      for key in self.txt_conversions.keys():\n",
        "         self.save_txt_conversion(key, output_dir_path)\n",
        "            \n",
        "      "
      ]
    },
    {
      "cell_type": "code",
      "execution_count": null,
      "metadata": {},
      "outputs": [],
      "source": [
        "class TxtConverter:\n",
        "   def __init__(self, tools=tools_for_conversion):\n",
        "      #self.available_functions = {str(f):f for f in globals().values() if type(f) == types.FunctionType}\n",
        "      self.tools = tools\n",
        "      \n",
        "   # select tool and convert\n",
        "   def convert_to_txt(self, doc, tool_names = None):\n",
        "\n",
        "      input_format = doc.input_extension\n",
        "      output_format = 'txt'\n",
        "\n",
        "      tool_selection = tools_for_conversion[(input_format, output_format)] # this gives a dict of suitable tools\n",
        "\n",
        "      if isinstance(tool_names, str):\n",
        "         tool_names = [tool_names]\n",
        "\n",
        "      if tool_names is None: # use all the conversion tools\n",
        "         tool_names = tool_selection.keys()\n",
        "      \n",
        "      selected_tools = {\n",
        "         tool_name: tools_for_conversion[ tool_name] for tool_name in tool_names\n",
        "      }\n",
        "\n",
        "      objects = doc.to_format(input_format) # this is a list\n",
        "\n",
        "      # this is where the heavy lifting happens\n",
        "      extracted_texts = {\n",
        "         tool_name: selected_tools[tool_name](objects) for tool_name in tool_names\n",
        "      }\n",
        "\n",
        "      #store in doc.txt_conversions\n",
        "      doc.txt_conversions.update(extracted_texts) # join the dictionaires\n",
        "      \n",
        "      # store in doc.data\n",
        "      if not doc.data.get('txt') :\n",
        "         doc.data['txt'] = dict()\n",
        "      \n",
        "      doc.data['txt'].update(extracted_texts) # join the dictionaires"
      ]
    },
    {
      "cell_type": "markdown",
      "metadata": {
        "id": "Y8hRDYFoW2Iu"
      },
      "source": [
        "# Conversion"
      ]
    },
    {
      "cell_type": "markdown",
      "metadata": {
        "id": "WG4hzpYGW4gL"
      },
      "source": [
        "# Evaluation"
      ]
    },
    {
      "cell_type": "code",
      "execution_count": null,
      "metadata": {
        "id": "0-gef83jWnlz"
      },
      "outputs": [],
      "source": []
    },
    {
      "cell_type": "code",
      "execution_count": null,
      "metadata": {
        "id": "BOP2At48WjDg"
      },
      "outputs": [],
      "source": []
    }
  ],
  "metadata": {
    "colab": {
      "collapsed_sections": [],
      "name": "PDF2TXT.ipynb",
      "provenance": []
    },
    "kernelspec": {
      "display_name": "Python 3",
      "name": "python3"
    },
    "language_info": {
      "name": "python"
    }
  },
  "nbformat": 4,
  "nbformat_minor": 0
}
