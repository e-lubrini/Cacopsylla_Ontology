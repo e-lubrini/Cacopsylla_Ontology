{
  "cells": [
    {
      "cell_type": "markdown",
      "metadata": {
        "id": "M02r1HtW6Oqr"
      },
      "source": [
        "# Loading Scans (PDF)"
      ]
    },
    {
      "cell_type": "code",
      "execution_count": 1,
      "metadata": {
        "id": "vccdBtQuLb8D"
      },
      "outputs": [],
      "source": [
        "import os"
      ]
    },
    {
      "cell_type": "code",
      "execution_count": 12,
      "metadata": {
        "id": "im_m5YYuR3_5"
      },
      "outputs": [],
      "source": [
        "data_path = os.path.join('data')\n",
        "\n",
        "output_path = os.path.join(data_path, 'output')\n",
        "input_path = os.path.join(data_path, 'input')"
      ]
    },
    {
      "cell_type": "code",
      "execution_count": 13,
      "metadata": {
        "id": "B5SLulaM6PlO"
      },
      "outputs": [],
      "source": [
        "def list_format_filepaths(path, format):\n",
        "    filepaths = []\n",
        "    path = os.path.join(path) # for Colab\n",
        "    for filename in os.listdir(path):\n",
        "        if filename.endswith(format):\n",
        "            #filenames.append(rename_file(filename, path))\n",
        "            filepaths.append(os.path.join(path,filename))\n",
        "    return filepaths"
      ]
    },
    {
      "cell_type": "code",
      "execution_count": 14,
      "metadata": {
        "colab": {
          "base_uri": "https://localhost:8080/",
          "height": 356
        },
        "id": "EMHQDZbZR8E9",
        "outputId": "3414f23e-4de6-44d8-d5d0-c6f838360607"
      },
      "outputs": [
        {
          "ename": "NameError",
          "evalue": "name 'img_samples_path' is not defined",
          "output_type": "error",
          "traceback": [
            "\u001b[0;31m---------------------------------------------------------------------------\u001b[0m",
            "\u001b[0;31mNameError\u001b[0m                                 Traceback (most recent call last)",
            "\u001b[1;32m/home/lubrini/GitHub/psylloidea_ontology/img2txt/PDF2TXT_functions.ipynb Cell 5'\u001b[0m in \u001b[0;36m<cell line: 3>\u001b[0;34m()\u001b[0m\n\u001b[1;32m      <a href='vscode-notebook-cell:/home/lubrini/GitHub/psylloidea_ontology/img2txt/PDF2TXT_functions.ipynb#ch0000004?line=0'>1</a>\u001b[0m pdf_filepaths \u001b[39m=\u001b[39m list_format_filepaths(input_path, \u001b[39m'\u001b[39m\u001b[39m.pdf\u001b[39m\u001b[39m'\u001b[39m)\n\u001b[0;32m----> <a href='vscode-notebook-cell:/home/lubrini/GitHub/psylloidea_ontology/img2txt/PDF2TXT_functions.ipynb#ch0000004?line=2'>3</a>\u001b[0m img_filepaths \u001b[39m=\u001b[39m list_format_filepaths(img_samples_path, \u001b[39m'\u001b[39m\u001b[39m.png\u001b[39m\u001b[39m'\u001b[39m)\n\u001b[1;32m      <a href='vscode-notebook-cell:/home/lubrini/GitHub/psylloidea_ontology/img2txt/PDF2TXT_functions.ipynb#ch0000004?line=4'>5</a>\u001b[0m \u001b[39mprint\u001b[39m(pdf_filepaths[:\u001b[39m5\u001b[39m],\u001b[39m'\u001b[39m\u001b[39m\\n\u001b[39;00m\u001b[39m'\u001b[39m, img_filepaths[:\u001b[39m5\u001b[39m])\n",
            "\u001b[0;31mNameError\u001b[0m: name 'img_samples_path' is not defined"
          ]
        }
      ],
      "source": [
        "pdf_filepaths = list_format_filepaths(input_path, '.pdf')\n",
        "\n",
        "img_filepaths = list_format_filepaths( '.png')\n",
        "\n",
        "print(pdf_filepaths[:5],'\\n', img_filepaths[:5])"
      ]
    },
    {
      "cell_type": "markdown",
      "metadata": {
        "id": "714GoxM4nW27"
      },
      "source": [
        "# Define decorator to process folders"
      ]
    },
    {
      "cell_type": "code",
      "execution_count": 8,
      "metadata": {
        "id": "Af6MmnIcnika"
      },
      "outputs": [],
      "source": [
        "def apply_to_folder(fun):\n",
        "    def inner(samples_filenames):\n",
        "        samples_filepath = os.path.join(samples_path,samples_filename)\n",
        "        return [fun(val[0], val[1]) for samples_filename in samples_filenames]\n",
        "    return inner"
      ]
    },
    {
      "cell_type": "markdown",
      "metadata": {
        "id": "1VT4_hfIPWYF"
      },
      "source": [
        "# PDF to PNG"
      ]
    },
    {
      "cell_type": "markdown",
      "metadata": {
        "id": "8zE4QF3HjX-L"
      },
      "source": [
        "## conf"
      ]
    },
    {
      "cell_type": "code",
      "execution_count": 9,
      "metadata": {
        "id": "281vjIALUinL"
      },
      "outputs": [],
      "source": [
        "%%capture\n",
        "!pip install pymupdf"
      ]
    },
    {
      "cell_type": "code",
      "execution_count": 12,
      "metadata": {
        "id": "Fd6eHts3Ujj5"
      },
      "outputs": [],
      "source": [
        "import fitz\n",
        "from PIL import Image"
      ]
    },
    {
      "cell_type": "markdown",
      "metadata": {
        "id": "ym1UFC-ZjQ3O"
      },
      "source": [
        "## def"
      ]
    },
    {
      "cell_type": "code",
      "execution_count": 55,
      "metadata": {
        "id": "oaXpRMXMX_kR"
      },
      "outputs": [],
      "source": [
        "def pdf2img(in_filepath,\n",
        "            in_format='pdf',\n",
        "            out_format='png',\n",
        "            out_dir_path=None):\n",
        "    \n",
        "    compression = 'zip' # \"zip\", \"lzw\", \"group4\"\n",
        "\n",
        "    zoom = 2 # to increase the resolution\n",
        "    mat = fitz.Matrix(zoom, zoom)\n",
        "\n",
        "    doc = fitz.open(in_filepath)\n",
        "    image_list = []\n",
        "    for page in doc:\n",
        "        pix = page.get_pixmap(matrix = mat)\n",
        "        img = Image.frombytes(\"RGB\", [pix.width, pix.height], pix.samples)\n",
        "        image_list.append(img)\n",
        "    \n",
        "    if out_dir_path is not None:\n",
        "        print('saving')\n",
        "        in_filename = os.path.basename(in_filepath).strip()\n",
        "        doc_name = os.path.splitext(in_filename)[0]\n",
        "        c = 0\n",
        "        for image in image_list:\n",
        "            out_filepath = os.path.join(out_dir_path,\n",
        "                                         doc_name\n",
        "                                         + '--page'\n",
        "                                         + str(c)\n",
        "                                         + '.'\n",
        "                                         + out_format)\n",
        "            \n",
        "            image.save(out_filepath,\n",
        "                       dpi=(300, 300),)  \n",
        "            c += 1 \n",
        "            print('saved')\n",
        "        #image_list[0].save(\n",
        "        #    out_file_name,\n",
        "        #    save_all=True,\n",
        "        #    append_images=image_list[1:],\n",
        "        #    compression=compression,\n",
        "        #    dpi=(300, 300),\n",
        "        #)\n",
        "    return image_list"
      ]
    },
    {
      "cell_type": "markdown",
      "metadata": {
        "id": "HYHn_6QxjZrD"
      },
      "source": [
        "## conversion"
      ]
    },
    {
      "cell_type": "code",
      "execution_count": 56,
      "metadata": {},
      "outputs": [
        {
          "name": "stdout",
          "output_type": "stream",
          "text": [
            "saving\n",
            "Unexpected exception formatting exception. Falling back to standard exception\n"
          ]
        },
        {
          "name": "stderr",
          "output_type": "stream",
          "text": [
            "Traceback (most recent call last):\n",
            "  File \"/home/lubrini/GitHub/psylloidea_ontology/venv/lib/python3.9/site-packages/IPython/core/interactiveshell.py\", line 3369, in run_code\n",
            "    exec(code_obj, self.user_global_ns, self.user_ns)\n",
            "  File \"/tmp/ipykernel_3206052/1346878540.py\", line 1, in <cell line: 1>\n",
            "    pdf2img(in_filepath = sample, out_dir_path='/home/lubrini/GitHub/psylloidea_ontology/img2txt/data/input/flyer_coleottero_giapponese/')\n",
            "  File \"/tmp/ipykernel_3206052/3599804366.py\", line 31, in pdf2img\n",
            "    image.save(out_filepath,\n",
            "  File \"/home/lubrini/GitHub/psylloidea_ontology/venv/lib/python3.9/site-packages/PIL/Image.py\", line 1706, in save\n",
            "    return lut.point(self)\n",
            "  File \"/home/lubrini/GitHub/psylloidea_ontology/venv/lib/python3.9/site-packages/PIL/Image.py\", line 358, in preinit\n",
            "  File \"/home/lubrini/GitHub/psylloidea_ontology/venv/lib/python3.9/site-packages/PIL/BmpImagePlugin.py\", line 431, in <module>\n",
            "    Image.register_decoder(\"bmp_rle\", BmpRleDecoder)\n",
            "AttributeError: module 'PIL.Image' has no attribute 'register_decoder'\n",
            "\n",
            "During handling of the above exception, another exception occurred:\n",
            "\n",
            "Traceback (most recent call last):\n",
            "  File \"/home/lubrini/GitHub/psylloidea_ontology/venv/lib/python3.9/site-packages/IPython/core/interactiveshell.py\", line 1982, in showtraceback\n",
            "    stb = self.InteractiveTB.structured_traceback(\n",
            "  File \"/home/lubrini/GitHub/psylloidea_ontology/venv/lib/python3.9/site-packages/IPython/core/ultratb.py\", line 1118, in structured_traceback\n",
            "    return FormattedTB.structured_traceback(\n",
            "  File \"/home/lubrini/GitHub/psylloidea_ontology/venv/lib/python3.9/site-packages/IPython/core/ultratb.py\", line 1012, in structured_traceback\n",
            "    return VerboseTB.structured_traceback(\n",
            "  File \"/home/lubrini/GitHub/psylloidea_ontology/venv/lib/python3.9/site-packages/IPython/core/ultratb.py\", line 865, in structured_traceback\n",
            "    formatted_exception = self.format_exception_as_a_whole(etype, evalue, etb, number_of_lines_of_context,\n",
            "  File \"/home/lubrini/GitHub/psylloidea_ontology/venv/lib/python3.9/site-packages/IPython/core/ultratb.py\", line 818, in format_exception_as_a_whole\n",
            "    frames.append(self.format_record(r))\n",
            "  File \"/home/lubrini/GitHub/psylloidea_ontology/venv/lib/python3.9/site-packages/IPython/core/ultratb.py\", line 736, in format_record\n",
            "    result += ''.join(_format_traceback_lines(frame_info.lines, Colors, self.has_colors, lvals))\n",
            "  File \"/home/lubrini/GitHub/psylloidea_ontology/venv/lib/python3.9/site-packages/stack_data/utils.py\", line 145, in cached_property_wrapper\n",
            "    value = obj.__dict__[self.func.__name__] = self.func(obj)\n",
            "  File \"/home/lubrini/GitHub/psylloidea_ontology/venv/lib/python3.9/site-packages/stack_data/core.py\", line 698, in lines\n",
            "    pieces = self.included_pieces\n",
            "  File \"/home/lubrini/GitHub/psylloidea_ontology/venv/lib/python3.9/site-packages/stack_data/utils.py\", line 145, in cached_property_wrapper\n",
            "    value = obj.__dict__[self.func.__name__] = self.func(obj)\n",
            "  File \"/home/lubrini/GitHub/psylloidea_ontology/venv/lib/python3.9/site-packages/stack_data/core.py\", line 649, in included_pieces\n",
            "    pos = scope_pieces.index(self.executing_piece)\n",
            "  File \"/home/lubrini/GitHub/psylloidea_ontology/venv/lib/python3.9/site-packages/stack_data/utils.py\", line 145, in cached_property_wrapper\n",
            "    value = obj.__dict__[self.func.__name__] = self.func(obj)\n",
            "  File \"/home/lubrini/GitHub/psylloidea_ontology/venv/lib/python3.9/site-packages/stack_data/core.py\", line 628, in executing_piece\n",
            "    return only(\n",
            "  File \"/home/lubrini/GitHub/psylloidea_ontology/venv/lib/python3.9/site-packages/executing/executing.py\", line 164, in only\n",
            "    raise NotOneValueFound('Expected one value, found 0')\n",
            "executing.executing.NotOneValueFound: Expected one value, found 0\n"
          ]
        }
      ],
      "source": [
        "pdf2img(in_filepath = sample, out_dir_path='/home/lubrini/GitHub/psylloidea_ontology/img2txt/data/input/flyer_coleottero_giapponese/')"
      ]
    },
    {
      "cell_type": "code",
      "execution_count": 12,
      "metadata": {
        "id": "G_7IAaoCX8mc"
      },
      "outputs": [
        {
          "ename": "NameError",
          "evalue": "name 'samples_filenames' is not defined",
          "output_type": "error",
          "traceback": [
            "\u001b[0;31m---------------------------------------------------------------------------\u001b[0m",
            "\u001b[0;31mNameError\u001b[0m                                 Traceback (most recent call last)",
            "\u001b[1;32m/home/lubrini/GitHub/psylloidea_ontology/img2txt/PDF2TXT_functions.ipynb Cell 16'\u001b[0m in \u001b[0;36m<cell line: 1>\u001b[0;34m()\u001b[0m\n\u001b[0;32m----> <a href='vscode-notebook-cell:/home/lubrini/GitHub/psylloidea_ontology/img2txt/PDF2TXT_functions.ipynb#ch0000015?line=0'>1</a>\u001b[0m \u001b[39mfor\u001b[39;00m samples_filename \u001b[39min\u001b[39;00m samples_filenames:\n\u001b[1;32m      <a href='vscode-notebook-cell:/home/lubrini/GitHub/psylloidea_ontology/img2txt/PDF2TXT_functions.ipynb#ch0000015?line=1'>2</a>\u001b[0m     samples_filepath \u001b[39m=\u001b[39m os\u001b[39m.\u001b[39mpath\u001b[39m.\u001b[39mjoin(samples_path,samples_filename)\n\u001b[1;32m      <a href='vscode-notebook-cell:/home/lubrini/GitHub/psylloidea_ontology/img2txt/PDF2TXT_functions.ipynb#ch0000015?line=2'>3</a>\u001b[0m     pdf2img(in_filepath \u001b[39m=\u001b[39m samples_filepath,\n\u001b[1;32m      <a href='vscode-notebook-cell:/home/lubrini/GitHub/psylloidea_ontology/img2txt/PDF2TXT_functions.ipynb#ch0000015?line=3'>4</a>\u001b[0m             out_dir_path \u001b[39m=\u001b[39m img_samples_path)\n",
            "\u001b[0;31mNameError\u001b[0m: name 'samples_filenames' is not defined"
          ]
        }
      ],
      "source": [
        "for samples_filename in samples_filenames:\n",
        "    samples_filepath = os.path.join(samples_path,samples_filename)\n",
        "    pdf2img(in_filepath = samples_filepath,\n",
        "            out_dir_path = img_samples_path)"
      ]
    },
    {
      "cell_type": "markdown",
      "metadata": {
        "id": "emu6_Apr7Qp_"
      },
      "source": [
        "# PDF/PNG to TXT"
      ]
    },
    {
      "cell_type": "markdown",
      "metadata": {
        "id": "GgkFkuN7aRXf"
      },
      "source": [
        "## pytesseract"
      ]
    },
    {
      "cell_type": "markdown",
      "metadata": {
        "id": "VLBqO9pEAI7Q"
      },
      "source": [
        "### config"
      ]
    },
    {
      "cell_type": "code",
      "execution_count": 13,
      "metadata": {
        "id": "TxrEteYBaUjG"
      },
      "outputs": [],
      "source": [
        "%%capture\n",
        "!sudo apt install tesseract-ocr\n",
        "!pip install Pillow==4.0.0\n",
        "!pip install PIL\n",
        "!pip install image\n",
        "!pip install pillow\n",
        "!pip install imgaug\n",
        "!pip install pytesseract\n",
        "!pip install pytorch\n",
        "%reload_ext autoreload\n",
        "%autoreload"
      ]
    },
    {
      "cell_type": "code",
      "execution_count": 2,
      "metadata": {
        "id": "YujjfzurdU1j"
      },
      "outputs": [],
      "source": [
        "import pytesseract\n",
        "import shutil\n",
        "import os\n",
        "import random\n",
        "try:\n",
        " from PIL import Image\n",
        "except ImportError:\n",
        " import Image"
      ]
    },
    {
      "cell_type": "code",
      "execution_count": 4,
      "metadata": {
        "id": "QTuVOkD6hNlh"
      },
      "outputs": [],
      "source": [
        "\n",
        "def register_extension(id, extension): Image.EXTENSION[extension.lower()] = id.upper()\n",
        "Image.register_extension = register_extension\n",
        "def register_extensions(id, extensions): \n",
        "  for extension in extensions: register_extension(id, extension)\n",
        "Image.register_extensions = register_extensions"
      ]
    },
    {
      "cell_type": "markdown",
      "metadata": {
        "id": "iV9PVEm_joDc"
      },
      "source": [
        "### def"
      ]
    },
    {
      "cell_type": "code",
      "execution_count": 5,
      "metadata": {
        "id": "u7IIWjQRjqul"
      },
      "outputs": [],
      "source": [
        "def pytesseract_ocr(img_filepath, output_path=None):\n",
        "    if img_filepath.endswith('.png'):\n",
        "        extractedInformation = pytesseract.image_to_string(Image.open(img_filepath))\n",
        "    \n",
        "    if output_path:\n",
        "        out_name = os.path.splitext(img_filepath)[0]+'.txt'\n",
        "        out_filepath = os.path.join(output_path,out_name)\n",
        "        os.makedirs(os.path.dirname(out_filepath), exist_ok=True)   \n",
        "        with open(out_filepath, 'w+') as f:\n",
        "            f.write(extractedInformation)\n",
        "\n",
        "    return extractedInformation"
      ]
    },
    {
      "cell_type": "markdown",
      "metadata": {
        "id": "D96Okv8oARZV"
      },
      "source": [
        "### conversion"
      ]
    },
    {
      "cell_type": "code",
      "execution_count": 11,
      "metadata": {
        "id": "z8lczOSkSm8y"
      },
      "outputs": [
        {
          "name": "stdout",
          "output_type": "stream",
          "text": [
            "Unexpected exception formatting exception. Falling back to standard exception\n"
          ]
        },
        {
          "name": "stderr",
          "output_type": "stream",
          "text": [
            "Traceback (most recent call last):\n",
            "  File \"/home/lubrini/GitHub/psylloidea_ontology/venv/lib/python3.9/site-packages/IPython/core/interactiveshell.py\", line 3369, in run_code\n",
            "    exec(code_obj, self.user_global_ns, self.user_ns)\n",
            "  File \"/tmp/ipykernel_3206052/888544919.py\", line 2, in <cell line: 1>\n",
            "    pytesseract.image_to_string(Image.open('data/input/img.pdf'))\n",
            "  File \"/home/lubrini/GitHub/psylloidea_ontology/venv/lib/python3.9/site-packages/PIL/Image.py\", line 2312, in open\n",
            "FileNotFoundError: [Errno 2] No such file or directory: 'data/input/img.pdf'\n",
            "\n",
            "During handling of the above exception, another exception occurred:\n",
            "\n",
            "Traceback (most recent call last):\n",
            "  File \"/home/lubrini/GitHub/psylloidea_ontology/venv/lib/python3.9/site-packages/IPython/core/interactiveshell.py\", line 1982, in showtraceback\n",
            "    stb = self.InteractiveTB.structured_traceback(\n",
            "  File \"/home/lubrini/GitHub/psylloidea_ontology/venv/lib/python3.9/site-packages/IPython/core/ultratb.py\", line 1118, in structured_traceback\n",
            "    return FormattedTB.structured_traceback(\n",
            "  File \"/home/lubrini/GitHub/psylloidea_ontology/venv/lib/python3.9/site-packages/IPython/core/ultratb.py\", line 1012, in structured_traceback\n",
            "    return VerboseTB.structured_traceback(\n",
            "  File \"/home/lubrini/GitHub/psylloidea_ontology/venv/lib/python3.9/site-packages/IPython/core/ultratb.py\", line 865, in structured_traceback\n",
            "    formatted_exception = self.format_exception_as_a_whole(etype, evalue, etb, number_of_lines_of_context,\n",
            "  File \"/home/lubrini/GitHub/psylloidea_ontology/venv/lib/python3.9/site-packages/IPython/core/ultratb.py\", line 818, in format_exception_as_a_whole\n",
            "    frames.append(self.format_record(r))\n",
            "  File \"/home/lubrini/GitHub/psylloidea_ontology/venv/lib/python3.9/site-packages/IPython/core/ultratb.py\", line 736, in format_record\n",
            "    result += ''.join(_format_traceback_lines(frame_info.lines, Colors, self.has_colors, lvals))\n",
            "  File \"/home/lubrini/GitHub/psylloidea_ontology/venv/lib/python3.9/site-packages/stack_data/utils.py\", line 145, in cached_property_wrapper\n",
            "    value = obj.__dict__[self.func.__name__] = self.func(obj)\n",
            "  File \"/home/lubrini/GitHub/psylloidea_ontology/venv/lib/python3.9/site-packages/stack_data/core.py\", line 698, in lines\n",
            "    pieces = self.included_pieces\n",
            "  File \"/home/lubrini/GitHub/psylloidea_ontology/venv/lib/python3.9/site-packages/stack_data/utils.py\", line 145, in cached_property_wrapper\n",
            "    value = obj.__dict__[self.func.__name__] = self.func(obj)\n",
            "  File \"/home/lubrini/GitHub/psylloidea_ontology/venv/lib/python3.9/site-packages/stack_data/core.py\", line 649, in included_pieces\n",
            "    pos = scope_pieces.index(self.executing_piece)\n",
            "  File \"/home/lubrini/GitHub/psylloidea_ontology/venv/lib/python3.9/site-packages/stack_data/utils.py\", line 145, in cached_property_wrapper\n",
            "    value = obj.__dict__[self.func.__name__] = self.func(obj)\n",
            "  File \"/home/lubrini/GitHub/psylloidea_ontology/venv/lib/python3.9/site-packages/stack_data/core.py\", line 628, in executing_piece\n",
            "    return only(\n",
            "  File \"/home/lubrini/GitHub/psylloidea_ontology/venv/lib/python3.9/site-packages/executing/executing.py\", line 164, in only\n",
            "    raise NotOneValueFound('Expected one value, found 0')\n",
            "executing.executing.NotOneValueFound: Expected one value, found 0\n"
          ]
        }
      ],
      "source": [
        "try:\n",
        "    pytesseract.image_to_string(Image.open('data/input/img.png'))\n",
        "except AttributeError:\n",
        "    print('Restart runtime!')\n"
      ]
    },
    {
      "cell_type": "code",
      "execution_count": null,
      "metadata": {
        "colab": {
          "base_uri": "https://localhost:8080/",
          "height": 235
        },
        "id": "ba-V03fIjCk5",
        "outputId": "23526d4b-580b-4f3e-f731-225c37455453"
      },
      "outputs": [
        {
          "ename": "NameError",
          "evalue": "ignored",
          "output_type": "error",
          "traceback": [
            "\u001b[0;31m---------------------------------------------------------------------------\u001b[0m",
            "\u001b[0;31mNameError\u001b[0m                                 Traceback (most recent call last)",
            "\u001b[0;32m<ipython-input-10-e9256b2a2788>\u001b[0m in \u001b[0;36m<module>\u001b[0;34m()\u001b[0m\n\u001b[0;32m----> 1\u001b[0;31m \u001b[0mimg_sample_filename\u001b[0m \u001b[0;34m=\u001b[0m \u001b[0mimg_samples_filenames\u001b[0m\u001b[0;34m[\u001b[0m\u001b[0;36m1\u001b[0m\u001b[0;34m]\u001b[0m\u001b[0;34m\u001b[0m\u001b[0;34m\u001b[0m\u001b[0m\n\u001b[0m\u001b[1;32m      2\u001b[0m \u001b[0mimg_filepath\u001b[0m \u001b[0;34m=\u001b[0m \u001b[0mos\u001b[0m\u001b[0;34m.\u001b[0m\u001b[0mpath\u001b[0m\u001b[0;34m.\u001b[0m\u001b[0mjoin\u001b[0m\u001b[0;34m(\u001b[0m\u001b[0mimg_samples_path\u001b[0m\u001b[0;34m,\u001b[0m\u001b[0msample_filename\u001b[0m\u001b[0;34m)\u001b[0m\u001b[0;34m\u001b[0m\u001b[0;34m\u001b[0m\u001b[0m\n\u001b[1;32m      3\u001b[0m \u001b[0moutput_path\u001b[0m \u001b[0;34m=\u001b[0m \u001b[0mos\u001b[0m\u001b[0;34m.\u001b[0m\u001b[0mpath\u001b[0m\u001b[0;34m.\u001b[0m\u001b[0mjoin\u001b[0m\u001b[0;34m(\u001b[0m\u001b[0mdata_path\u001b[0m\u001b[0;34m,\u001b[0m\u001b[0;34m'output'\u001b[0m\u001b[0;34m,\u001b[0m\u001b[0;34m'pytesseract_ocr'\u001b[0m\u001b[0;34m)\u001b[0m\u001b[0;34m\u001b[0m\u001b[0;34m\u001b[0m\u001b[0m\n\u001b[1;32m      4\u001b[0m \u001b[0;34m\u001b[0m\u001b[0m\n\u001b[1;32m      5\u001b[0m pytesseract_ocr(img_filepath=img_filepath,\n",
            "\u001b[0;31mNameError\u001b[0m: name 'img_samples_filenames' is not defined"
          ]
        }
      ],
      "source": [
        "img_sample_filename = img_samples_filenames[1]\n",
        "img_filepath = os.path.join(img_samples_path,sample_filename)\n",
        "output_path = os.path.join(data_path,'output','pytesseract_ocr')\n",
        "\n",
        "pytesseract_ocr(img_filepath=img_filepath,\n",
        "                output_path=output_path)"
      ]
    },
    {
      "cell_type": "markdown",
      "metadata": {
        "id": "2pUk8NhjAZb9"
      },
      "source": [
        "## PyPDF4\n"
      ]
    },
    {
      "cell_type": "markdown",
      "metadata": {
        "id": "4kbzdQuIAbu0"
      },
      "source": [
        "### config"
      ]
    },
    {
      "cell_type": "code",
      "execution_count": null,
      "metadata": {
        "id": "neBIasTSmAlm"
      },
      "outputs": [],
      "source": [
        "%%capture\n",
        "!pip install PyPDF4"
      ]
    },
    {
      "cell_type": "code",
      "execution_count": 29,
      "metadata": {
        "id": "8tkoEm9EtKp0"
      },
      "outputs": [],
      "source": [
        "import PyPDF4"
      ]
    },
    {
      "cell_type": "markdown",
      "metadata": {
        "id": "a4CNsTP0Acw-"
      },
      "source": [
        "### def"
      ]
    },
    {
      "cell_type": "code",
      "execution_count": 30,
      "metadata": {
        "id": "tUJXbbD1mCFa"
      },
      "outputs": [],
      "source": [
        "def PyPDF4_ocr(filepath):\n",
        "    pdfFileObj = open(filepath, 'rb') # creating a pdf file object\n",
        "    \n",
        "    pdfReader = PyPDF4.PdfFileReader(pdfFileObj) # creating a pdf reader object\n",
        "    \n",
        "    print(pdfReader.numPages) # printing number of pages in pdf file\n",
        "    \n",
        "    pageObj = pdfReader.getPage(0) # creating a page object\n",
        "    \n",
        "    text = pageObj.extractText() # extracting text from page\n",
        "    return text"
      ]
    },
    {
      "cell_type": "markdown",
      "metadata": {
        "id": "8MLyDigHtvOf"
      },
      "source": [
        "### Conversion"
      ]
    },
    {
      "cell_type": "code",
      "execution_count": 31,
      "metadata": {
        "colab": {
          "base_uri": "https://localhost:8080/"
        },
        "id": "ErbDQM8NtxbY",
        "outputId": "559086ac-c5e3-4529-81e6-98c262e3e127"
      },
      "outputs": [
        {
          "name": "stdout",
          "output_type": "stream",
          "text": [
            "1\n"
          ]
        },
        {
          "data": {
            "text/plain": [
              "\"TILL \\nK\\n. \\nVERIGES \\nP \\n\\\\: \\nLL \\nDER \\nAF \\n0. \\nM. \\nREUTER \\nI \\nåt\\ntonde \\nhäftet \\naf \\nsrna \\nOpus \\nula \\nentomolo\\ngica, \\npp. \\n82\\n0 \\nff. \\nhar \\nTH\\no \\n1soN \\npubli \\nerat \\ne\\nn \\nöfver \\ni\\ng\\nt \\naf \\nSkandinaYiens \\nCherme\\n, \\n-\\narter, \\n1 \\nsåsom \\nhan \\nbenämner \\nP \\nylloderna. \\nDe \\nytter \\nt \\nkorta \\nd \\niagnoserna \\näfven \\naf \\nsås\\nom \\nn\\nya \\nuppstälda \\narter, \\nhvilka \\nd\\nes \\nutom \\nofta \\nt \\nangifva \\nen\\ndast \\ne\\nn \\naf \\nde \\nm\\nå\\nnga \\n'\\nfärgdrägter, \\ni \\nh,\\n·\\nilka \\nde \\nfl\\ne \\nta \\na\\nrter \\nallt \\nefter \\nolika \\nå\\nr\\nst\\nid\\ne\\nr \\nu \\nPl \\nträda, \\nl\\nå\\nta \\ndo\\nc\\nk \\nt\\nyvärr \\nandra \\nä\\nn \\nförf. \\nsjelf \\ni \\nm\\nå\\nn\\nga \\nfall \\nstanna \\ni \\novisshet \\nom \\nd\\ne \\npe-\\n1 \\nTHO\\n:'11\\nSON \\n1nleder \\ndenna \\nupp \\nats \\nm\\ned \\nföl\\nja\\nnde \\nord: \\n»I \\nden \\nca\\nt\\nalog \\nver \\nFinland \\nP\\nsyllode\\nr\\n, \\nom \\nR\\nEUTER \\nnyli\\nge\\nn \\npublicerat, \\nyttrar \\nh\\nan \\ni \\nbörjan \\natt \\nternorhyncha \\nvarit \\nnä\\ns\\nt\\na\\nn \\na\\nlld\\ne\\nl\\nes \\nförsummade \\na\\nf \\nfin\\ns\\nk\\na \\noc\\nh \\nsve\\nn \\nk\\na \\nH\\ne\\nm\\npterologer. \\nDett\\na \\nomdöm\\ne \\nsy\\nn\\nes \\nv\\na\\nr\\na \\nn\\nå\\ng\\not \\no\\nmildt \\nsä\\nr\\ns\\nkilt \\nmed \\nafsee\\nnd\\ne \\np\\nå \\nförfattaren \\ntill \\nIn\\nsecta \\nL\\nappo\\nni\\nca, \\nty \\nZETTERSTEDT \\nh\\na\\nr \\nensam \\nhemfört \\noch \\nbe \\nkrifvit \\nAere \\narter \\na\\nf \\nPsylla \\nfr\\nå\\nn \\nL\\napp\\nl\\na\\nnd \\nä\\nn \\nalla \\nFinland\\ns \\nä\\nldr\\ne \\noc\\nh \\nn\\nyare \\nentomologe\\nr \\nförm\\nå\\ntt \\nhopbringa. \\n» \\nMeningen \\nmed \\nde\\nssa \\nrade\\nr \\nä\\nr \\nmig \\nok\\nl\\nar, \\nenär \\nZETT\\nE\\nR \\nTEDT \\ni \\nInsecta \\nLappon\\ni\\nca \\nbesk\\nrifv\\ner \\nin \\na\\nlles \\nendast \\nI \\n2 \\nP \\nylloder\\n, \\na\\nf \\nh\\nvi\\nl\\nka \\n4 \\nP \\nyllae \\n. \\nstrict., \\noc\\nh \\nmin \\nofva\\nn \\nnärnnd\\na \\nkat\\na\\nl\\nog \\nupptager \\n36 \\na\\nter, \\naf \\nl\\nwilka \\nI \\n7 \\nPsyllae\\n. \\nM\\ne\\nn\\nar \\nTHOM \\nON, \\natt \\nZETTER\\nSTE\\nDT \\nfr\\nå\\nn \\nLapplan\\ncl \\nhemfört \\noch \\nbesk\\nrif \\nvit \\nAe\\nr\\ne \\narter, \\nän \\nde \\nfin \\nka \\nsa\\nml\\na\\nrn\\ne \\nfö\\nrm\\nå\\nt\\nt \\nl1\\nopbri\\nn\\nga \\nfr\\nå\\nn \\ndelta \\nl\\na\\nn\\nd, \\nhar \\nh\\nan \\nå \\ntill \\nv\\ni\\nda \\nr\\nätt \\nderi, \\na\\ntt \\nZ. \\nväl \\nhemfört, \\nmen \\nicke \\nbeskri\\nf\\nvit \\nA\\ne\\nre \\narte\\nr, \\nän \\nde \\nfin \\nka \\nentomo\\nl\\nogerna \\nkänna \\nfr\\nå\\nn \\nL\\nappmarke\\nn. \\ni\\nen \\nom \\nä\\nf\\nven \\nZ. \\nhade \\nbeskrifvit \\nAere \\nl\\na1 \\np \\nk\\na \\na\\nrt\\ne\\nr\\n, \\nän \\nmin \\nk\\na\\ntal\\nog \\nupptager, \\nå \\ndrar \\ndet\\nt\\na \\nicke \\nat\\nt \\ndenna \\ngrupp \\nför \\nö\\nfrigt \\nin\\no\\nm \\nSverige \\noc\\nh \\nFinland \\nt\\nill \\ns\\ni \\nt\\na \\ntiden \\nvarit \\ni \\nh\\nög \\ng\\nr\\nad \\nför \\numm\\nad \\ni \\njä\\nmför\\ne\\nl\\ns\\ne \\nm\\ned \\nö\\nfri\\nga \\nh\\nemipte\\nr\\ne\\nr\\n; \\noch \\nänn\\nu \\nåte\\nr \\nt\\nå\\nr \\nmycket \\natt \\ngöra, \\ndit \\nh\\nörande \\ndessa \\narte\\nr \\noch \\nsä\\nrdeles \\nderas \\nbiologi \\nblifvit \\nr\\nätt \\nbe\\nl\\ny\\ns\\nta. \\nD\\nenna \\nup\\np \\na\\nt\\ns \\nvisar \\nfö\\nr \\nö\\nfrigt, \\na\\nt\\nt \\njag \\ningalunda \\nhaft \\nå \\norätt \\ni \\nmitt \\npåstående; \\nTH \\n:\\\\[ \\nON \\nu\\npptager \\nnämligen \\ni \\nin \\nÖfversigt \\n44 \\n,\\n·e\\nn-\\nk\\na \\narter. \\nR\\neda\\nn \\nnu, \\nfyra \\nå\\nr \\nefter \\ndes \\noffe\\nntli\\nggöra\\nnde\\n, \\nkunn\\na \\n61 \\nspecie \\nan\\nföra \\nfrån \\nverige; \\noc\\nh \\nännu \\näro \\nhelt \\nsä\\nk\\nert \\nAere \\natt \\ntillägga, \\nat\\nt \\ndöma \\nd\\ne\\nraf\\n, \\natt \\njag \\ni \\nydvestra \\nFinland \\nfunni\\nt \\nän\\nnu \\nn\\några \\nspe\\ncie\\ns, \\nsom \\ni\\nc\\nke \\nträffats \\ni \\n,\\nrige, \\nm\\ne\\nn \\nutan \\nt\\nvif \\nvel \\nd\\ne\\nr \\nicl\\n·e \\naknas\\n. \\n\""
            ]
          },
          "execution_count": 31,
          "metadata": {},
          "output_type": "execute_result"
        }
      ],
      "source": [
        "PyPDF4_ocr(pdf_filepaths[0])"
      ]
    },
    {
      "cell_type": "markdown",
      "metadata": {
        "id": "tKVJLxtCAdXR"
      },
      "source": [
        "## pdfminer.six"
      ]
    },
    {
      "cell_type": "markdown",
      "metadata": {
        "id": "4PUYgpcsIy1Y"
      },
      "source": [
        "### config"
      ]
    },
    {
      "cell_type": "code",
      "execution_count": 33,
      "metadata": {
        "id": "kWsNsf4OVlAG"
      },
      "outputs": [],
      "source": [
        "%%capture\n",
        "!pip install pdfminer.six"
      ]
    },
    {
      "cell_type": "code",
      "execution_count": 35,
      "metadata": {
        "id": "I6EaBgggJiRE"
      },
      "outputs": [],
      "source": [
        "import pdfminer\n",
        "from pdfminer.high_level import extract_text"
      ]
    },
    {
      "cell_type": "markdown",
      "metadata": {
        "id": "jCYpH92bI3cQ"
      },
      "source": [
        "### def"
      ]
    },
    {
      "cell_type": "code",
      "execution_count": null,
      "metadata": {
        "id": "RFmOsNuaI4uI"
      },
      "outputs": [],
      "source": [
        "# define function"
      ]
    },
    {
      "cell_type": "markdown",
      "metadata": {
        "id": "xN86ab7TI55a"
      },
      "source": [
        "### conversion"
      ]
    },
    {
      "cell_type": "code",
      "execution_count": 36,
      "metadata": {
        "colab": {
          "base_uri": "https://localhost:8080/",
          "height": 163
        },
        "id": "bHeJW8T0I5jR",
        "outputId": "80309d91-4d38-4235-ec48-0167f5cc4077"
      },
      "outputs": [
        {
          "data": {
            "text/plain": [
              "\"TILL  K. \\n\\n~  VERIGES  P  \\\\: LL  DER \\n\\nAF \\n\\n0.  M.  REUTER \\n\\nI  åt tonde  häftet  af  srna  Opus  ula  entomolo gica,  pp.  82 0 \\nff. \\nhar  TH o  1soN  publi  erat  en  öfver  igt  af  SkandinaYiens  Cherme , -\\narter,  1  såsom  han  benämner  P  ylloderna. \\nDe  ytter  t  korta  art \\narter,  hvilka  d es  utom \\näfven  af  sås om  n ya  uppstälda \\nd iagnoserna \\nofta  t  angifva \\ni  h, ·ilka  de \\nfle  ta  arter \\nlåta  do ck  tyvärr \\ni  ovisshet  om  d e  pe-\\nandra \\n\\nallt  efter  olika  å rst id er  u Pl  träda, \\n\\ne n  af  de  må nga  ' färgdrägter, \\n\\ni  m å n ga  fall  stanna \\n\\nän  förf.  sjelf \\n\\nen dast \\n\\ntill \\n\\nver  Finland \\n\\nternorhyncha \\n\\nty  ZETTERSTEDT \\n\\nIn secta  L appo nica, \\n\\nvarit  nä stan  alld el es  försummade \\n\\ni  Insecta  Lappon ica  besk rifver  in  alles  endast \\n\\n1  THO :'11SON  1nleder  denna  upp  ats  med  följa nde  ord:  »I  den  ca talog  öf \\nP syllode r ,  om  R EUTER  nyli ge n  publicerat,  yttrar  h an  i början  att \\naf  finska  och  sven  k a  H emi \\nDett a  omdöm e  synes  va ra  någ ot  omildt  särskilt  med  afsee nd e  på \\npterologer. \\nförfattaren \\nh ar  ensam  hemfört  och \\nbe  krifvit  Aere  arter  a f  Psylla  från  L app land  än  alla  Finland s  äldr e  oc h  nyare \\nentomologe r  förm ått  hopbringa.  »  Meningen  med  dessa  rade r  är  mig  ok lar, \\nenär  ZETT E R  TEDT \\nI 2  P  ylloder , \\n.  strict.,  och  min  ofva n  närnnd a  kat alog  upptager  36  ar \\na f  hvilka  4  P  yllae \\nI 7  Psyllae .  Menar  THOM  ON,  att  ZETTER STE DT  från  Lapplan cl \\nter,  af  lwilka \\nhemfört  och  besk rif vit  Aere  arter,  än  de  fin  ka  sa ml arne  fö rmått  l1opbri nga  från \\nland,  har  h an  å  till  vida  rätt  deri,  att  Z.  väl  hemfört,  men  icke  beskri f \\ndelta \\ni en  om \\nvit  Aere  arte r,  än  de  fin  ka  entomo logerna  känna  frå n  L appmarke n. \\nå  hin \\nä fven  Z.  hade  beskrifvit  Aere  la1 p  k a  art er ,  än  min  k atal og  upptager, \\ndrar  det ta  icke  at t  denna  grupp  för  ö frigt  inom  Sverige  och  Finland \\ntill  si  ta \\ni  jä mför else  med  öfriga  h emipte rer ;  och \\ntiden  varit \\nänn u  åte r  tår  mycket  att  göra,  dit  hörande  dessa  arte r  och  särdeles  deras  biologi \\nrätt  be lysta.  D enna  up p  ats  visar  för  öfrigt,  att  jag  ingalunda  haft  å \\nblifvit \\n,·en-\\norätt \\nk a  arter.  Reda n  nu,  fyra  år  efter  des  offentli ggöra nde ,  kunn a  61 specie  an  \\nverige;  och  ännu  äro  helt  säk ert  Aere  att  tillägga,  at t  döma  deraf , \\nföra \\n,·e \\natt  jag  i  ydvestra  Finland \\nrige,  men  utan  tvif vel  der  icl·e  aknas . \\n\\nfunni t  än nu  några  spe cies,  som  icke  träffats  i \\n\\n:\\\\[  ON  upptager  nämligen \\n\\ni  h ög  g rad  för  umm ad \\n\\ni  mitt  påstående; \\n\\nin  Öfversigt  44 \\n\\nfrån \\n\\nTH \\n\\ni \\n\\n\\x0c\""
            ]
          },
          "execution_count": 36,
          "metadata": {},
          "output_type": "execute_result"
        }
      ],
      "source": [
        "text = extract_text(sample)\n",
        "text"
      ]
    },
    {
      "cell_type": "markdown",
      "metadata": {
        "id": "NyLS9LZKS6ta"
      },
      "source": [
        "## PyPDF4 txt + info"
      ]
    },
    {
      "cell_type": "markdown",
      "metadata": {
        "id": "8vBMdTLqTAH4"
      },
      "source": [
        "### config"
      ]
    },
    {
      "cell_type": "code",
      "execution_count": null,
      "metadata": {
        "id": "hIUYO68fS_1B"
      },
      "outputs": [],
      "source": [
        "%%capture\n",
        "!pip install PyPDF4"
      ]
    },
    {
      "cell_type": "code",
      "execution_count": 37,
      "metadata": {
        "id": "el9aPOYBTn6z"
      },
      "outputs": [],
      "source": [
        "import PyPDF4\n",
        "from PyPDF4 import PdfFileReader"
      ]
    },
    {
      "cell_type": "markdown",
      "metadata": {
        "id": "b9cKKBQRTA5i"
      },
      "source": [
        "### def"
      ]
    },
    {
      "cell_type": "code",
      "execution_count": 41,
      "metadata": {
        "id": "zYJjWKM1S_r_"
      },
      "outputs": [],
      "source": [
        "def extract_information(pdf_path):\n",
        "    with open(pdf_path, 'rb') as f:\n",
        "        pdf = PdfFileReader(f)\n",
        "        information = pdf.getDocumentInfo()\n",
        "        number_of_pages = pdf.getNumPages()\n",
        "\n",
        "    txt = f\"\"\"\n",
        "    Information about {pdf_path}: \n",
        "\n",
        "    Author: {information.author}\n",
        "    Creator: {information.creator}\n",
        "    Producer: {information.producer}\n",
        "    Subject: {information.subject}\n",
        "    Title: {information.title}\n",
        "    Number of pages: {number_of_pages}\n",
        "    \"\"\"\n",
        "\n",
        "    read_pdf = PyPDF4.PdfFileReader(pdf_path)\n",
        "    page = read_pdf.getPage(0)\n",
        "    page_content = page.extractText()\n",
        "    return page_content"
      ]
    },
    {
      "cell_type": "markdown",
      "metadata": {
        "id": "jB0K1aDsTBXZ"
      },
      "source": [
        "### conversion"
      ]
    },
    {
      "cell_type": "code",
      "execution_count": 42,
      "metadata": {
        "colab": {
          "base_uri": "https://localhost:8080/",
          "height": 163
        },
        "id": "b25NF8euS-kq",
        "outputId": "07a7c3b5-8833-404b-ec8a-2bec3042741c"
      },
      "outputs": [
        {
          "data": {
            "text/plain": [
              "\"TILL \\nK\\n. \\nVERIGES \\nP \\n\\\\: \\nLL \\nDER \\nAF \\n0. \\nM. \\nREUTER \\nI \\nåt\\ntonde \\nhäftet \\naf \\nsrna \\nOpus \\nula \\nentomolo\\ngica, \\npp. \\n82\\n0 \\nff. \\nhar \\nTH\\no \\n1soN \\npubli \\nerat \\ne\\nn \\nöfver \\ni\\ng\\nt \\naf \\nSkandinaYiens \\nCherme\\n, \\n-\\narter, \\n1 \\nsåsom \\nhan \\nbenämner \\nP \\nylloderna. \\nDe \\nytter \\nt \\nkorta \\nd \\niagnoserna \\näfven \\naf \\nsås\\nom \\nn\\nya \\nuppstälda \\narter, \\nhvilka \\nd\\nes \\nutom \\nofta \\nt \\nangifva \\nen\\ndast \\ne\\nn \\naf \\nde \\nm\\nå\\nnga \\n'\\nfärgdrägter, \\ni \\nh,\\n·\\nilka \\nde \\nfl\\ne \\nta \\na\\nrter \\nallt \\nefter \\nolika \\nå\\nr\\nst\\nid\\ne\\nr \\nu \\nPl \\nträda, \\nl\\nå\\nta \\ndo\\nc\\nk \\nt\\nyvärr \\nandra \\nä\\nn \\nförf. \\nsjelf \\ni \\nm\\nå\\nn\\nga \\nfall \\nstanna \\ni \\novisshet \\nom \\nd\\ne \\npe-\\n1 \\nTHO\\n:'11\\nSON \\n1nleder \\ndenna \\nupp \\nats \\nm\\ned \\nföl\\nja\\nnde \\nord: \\n»I \\nden \\nca\\nt\\nalog \\nver \\nFinland \\nP\\nsyllode\\nr\\n, \\nom \\nR\\nEUTER \\nnyli\\nge\\nn \\npublicerat, \\nyttrar \\nh\\nan \\ni \\nbörjan \\natt \\nternorhyncha \\nvarit \\nnä\\ns\\nt\\na\\nn \\na\\nlld\\ne\\nl\\nes \\nförsummade \\na\\nf \\nfin\\ns\\nk\\na \\noc\\nh \\nsve\\nn \\nk\\na \\nH\\ne\\nm\\npterologer. \\nDett\\na \\nomdöm\\ne \\nsy\\nn\\nes \\nv\\na\\nr\\na \\nn\\nå\\ng\\not \\no\\nmildt \\nsä\\nr\\ns\\nkilt \\nmed \\nafsee\\nnd\\ne \\np\\nå \\nförfattaren \\ntill \\nIn\\nsecta \\nL\\nappo\\nni\\nca, \\nty \\nZETTERSTEDT \\nh\\na\\nr \\nensam \\nhemfört \\noch \\nbe \\nkrifvit \\nAere \\narter \\na\\nf \\nPsylla \\nfr\\nå\\nn \\nL\\napp\\nl\\na\\nnd \\nä\\nn \\nalla \\nFinland\\ns \\nä\\nldr\\ne \\noc\\nh \\nn\\nyare \\nentomologe\\nr \\nförm\\nå\\ntt \\nhopbringa. \\n» \\nMeningen \\nmed \\nde\\nssa \\nrade\\nr \\nä\\nr \\nmig \\nok\\nl\\nar, \\nenär \\nZETT\\nE\\nR \\nTEDT \\ni \\nInsecta \\nLappon\\ni\\nca \\nbesk\\nrifv\\ner \\nin \\na\\nlles \\nendast \\nI \\n2 \\nP \\nylloder\\n, \\na\\nf \\nh\\nvi\\nl\\nka \\n4 \\nP \\nyllae \\n. \\nstrict., \\noc\\nh \\nmin \\nofva\\nn \\nnärnnd\\na \\nkat\\na\\nl\\nog \\nupptager \\n36 \\na\\nter, \\naf \\nl\\nwilka \\nI \\n7 \\nPsyllae\\n. \\nM\\ne\\nn\\nar \\nTHOM \\nON, \\natt \\nZETTER\\nSTE\\nDT \\nfr\\nå\\nn \\nLapplan\\ncl \\nhemfört \\noch \\nbesk\\nrif \\nvit \\nAe\\nr\\ne \\narter, \\nän \\nde \\nfin \\nka \\nsa\\nml\\na\\nrn\\ne \\nfö\\nrm\\nå\\nt\\nt \\nl1\\nopbri\\nn\\nga \\nfr\\nå\\nn \\ndelta \\nl\\na\\nn\\nd, \\nhar \\nh\\nan \\nå \\ntill \\nv\\ni\\nda \\nr\\nätt \\nderi, \\na\\ntt \\nZ. \\nväl \\nhemfört, \\nmen \\nicke \\nbeskri\\nf\\nvit \\nA\\ne\\nre \\narte\\nr, \\nän \\nde \\nfin \\nka \\nentomo\\nl\\nogerna \\nkänna \\nfr\\nå\\nn \\nL\\nappmarke\\nn. \\ni\\nen \\nom \\nä\\nf\\nven \\nZ. \\nhade \\nbeskrifvit \\nAere \\nl\\na1 \\np \\nk\\na \\na\\nrt\\ne\\nr\\n, \\nän \\nmin \\nk\\na\\ntal\\nog \\nupptager, \\nå \\ndrar \\ndet\\nt\\na \\nicke \\nat\\nt \\ndenna \\ngrupp \\nför \\nö\\nfrigt \\nin\\no\\nm \\nSverige \\noc\\nh \\nFinland \\nt\\nill \\ns\\ni \\nt\\na \\ntiden \\nvarit \\ni \\nh\\nög \\ng\\nr\\nad \\nför \\numm\\nad \\ni \\njä\\nmför\\ne\\nl\\ns\\ne \\nm\\ned \\nö\\nfri\\nga \\nh\\nemipte\\nr\\ne\\nr\\n; \\noch \\nänn\\nu \\nåte\\nr \\nt\\nå\\nr \\nmycket \\natt \\ngöra, \\ndit \\nh\\nörande \\ndessa \\narte\\nr \\noch \\nsä\\nrdeles \\nderas \\nbiologi \\nblifvit \\nr\\nätt \\nbe\\nl\\ny\\ns\\nta. \\nD\\nenna \\nup\\np \\na\\nt\\ns \\nvisar \\nfö\\nr \\nö\\nfrigt, \\na\\nt\\nt \\njag \\ningalunda \\nhaft \\nå \\norätt \\ni \\nmitt \\npåstående; \\nTH \\n:\\\\[ \\nON \\nu\\npptager \\nnämligen \\ni \\nin \\nÖfversigt \\n44 \\n,\\n·e\\nn-\\nk\\na \\narter. \\nR\\neda\\nn \\nnu, \\nfyra \\nå\\nr \\nefter \\ndes \\noffe\\nntli\\nggöra\\nnde\\n, \\nkunn\\na \\n61 \\nspecie \\nan\\nföra \\nfrån \\nverige; \\noc\\nh \\nännu \\näro \\nhelt \\nsä\\nk\\nert \\nAere \\natt \\ntillägga, \\nat\\nt \\ndöma \\nd\\ne\\nraf\\n, \\natt \\njag \\ni \\nydvestra \\nFinland \\nfunni\\nt \\nän\\nnu \\nn\\några \\nspe\\ncie\\ns, \\nsom \\ni\\nc\\nke \\nträffats \\ni \\n,\\nrige, \\nm\\ne\\nn \\nutan \\nt\\nvif \\nvel \\nd\\ne\\nr \\nicl\\n·e \\naknas\\n. \\n\""
            ]
          },
          "execution_count": 42,
          "metadata": {},
          "output_type": "execute_result"
        }
      ],
      "source": [
        "extract_information(sample)"
      ]
    },
    {
      "cell_type": "markdown",
      "metadata": {
        "id": "Kx2gVM94VAab"
      },
      "source": [
        "## TIKA"
      ]
    },
    {
      "cell_type": "code",
      "execution_count": null,
      "metadata": {
        "colab": {
          "base_uri": "https://localhost:8080/"
        },
        "id": "hwA8Fr0YWZWk",
        "outputId": "e968a30f-f079-4182-e849-b1d45a8925f5"
      },
      "outputs": [
        {
          "name": "stdout",
          "output_type": "stream",
          "text": [
            "Collecting tika\n",
            "  Downloading tika-1.24.tar.gz (28 kB)\n",
            "Requirement already satisfied: setuptools in /usr/local/lib/python3.7/dist-packages (from tika) (57.4.0)\n",
            "Requirement already satisfied: requests in /usr/local/lib/python3.7/dist-packages (from tika) (2.23.0)\n",
            "Requirement already satisfied: chardet<4,>=3.0.2 in /usr/local/lib/python3.7/dist-packages (from requests->tika) (3.0.4)\n",
            "Requirement already satisfied: certifi>=2017.4.17 in /usr/local/lib/python3.7/dist-packages (from requests->tika) (2021.10.8)\n",
            "Requirement already satisfied: idna<3,>=2.5 in /usr/local/lib/python3.7/dist-packages (from requests->tika) (2.10)\n",
            "Requirement already satisfied: urllib3!=1.25.0,!=1.25.1,<1.26,>=1.21.1 in /usr/local/lib/python3.7/dist-packages (from requests->tika) (1.24.3)\n",
            "Building wheels for collected packages: tika\n",
            "  Building wheel for tika (setup.py) ... \u001b[?25l\u001b[?25hdone\n",
            "  Created wheel for tika: filename=tika-1.24-py3-none-any.whl size=32893 sha256=b5ce108e7114a6254d150192a53db13b888809cd19a6c43d0a2578d144e71311\n",
            "  Stored in directory: /root/.cache/pip/wheels/ec/2b/38/58ff05467a742e32f67f5d0de048fa046e764e2fbb25ac93f3\n",
            "Successfully built tika\n",
            "Installing collected packages: tika\n",
            "Successfully installed tika-1.24\n"
          ]
        }
      ],
      "source": [
        "%%capture\n",
        "!pip install tika"
      ]
    },
    {
      "cell_type": "code",
      "execution_count": 43,
      "metadata": {
        "id": "ihk-fN_TWSI2"
      },
      "outputs": [],
      "source": [
        "from tika import parser # pip install tika"
      ]
    },
    {
      "cell_type": "code",
      "execution_count": 45,
      "metadata": {
        "colab": {
          "base_uri": "https://localhost:8080/"
        },
        "id": "k9ZpHCPIWURQ",
        "outputId": "08270f4d-daba-41a2-c8d7-02f6c55be077"
      },
      "outputs": [
        {
          "name": "stderr",
          "output_type": "stream",
          "text": [
            "2022-05-04 14:51:51,137 [MainThread  ] [INFO ]  Retrieving http://search.maven.org/remotecontent?filepath=org/apache/tika/tika-server/1.24/tika-server-1.24.jar to /tmp/tika-server.jar.\n",
            "2022-05-04 14:51:58,828 [MainThread  ] [INFO ]  Retrieving http://search.maven.org/remotecontent?filepath=org/apache/tika/tika-server/1.24/tika-server-1.24.jar.md5 to /tmp/tika-server.jar.md5.\n",
            "2022-05-04 14:51:59,612 [MainThread  ] [WARNI]  Failed to see startup log message; retrying...\n"
          ]
        },
        {
          "name": "stdout",
          "output_type": "stream",
          "text": [
            "\n",
            "\n",
            "\n",
            "\n",
            "\n",
            "\n",
            "\n",
            "\n",
            "\n",
            "\n",
            "\n",
            "\n",
            "\n",
            "\n",
            "\n",
            "\n",
            "\n",
            "\n",
            "\n",
            "\n",
            "\n",
            "\n",
            "\n",
            "\n",
            "\n",
            "TILL K. ~ VERIGES P \\: LL DER \n",
            "\n",
            "AF \n",
            "\n",
            "0. M. REUTER \n",
            "\n",
            "I åt tonde häftet af srna Opus ula entomolo gica, pp. 82 0 ff. \n",
            "\n",
            "har TH o 1soN publi erat en öfver igt af SkandinaYiens Cherme , -\n",
            "\n",
            "arter, 1 såsom han benämner P ylloderna. De ytter t korta art-\n",
            "\n",
            "d iagnoserna äfven af sås om n ya uppstälda arter, hvilka des utom \n",
            "\n",
            "ofta t angifva en dast en af de må nga ' färgdrägter, i h, ·ilka de \n",
            "\n",
            "fle ta arter allt efter olika å rst id er u Pl träda, låta do ck tyvärr \n",
            "\n",
            "andra än förf. sjelf i må n ga fall stanna i ovisshet om d e pe-\n",
            "\n",
            "1 THO :'11SON 1nleder denna upp ats med följande ord: »I den ca talog öf-\n",
            "\n",
            "ver Finland Psyllode r , om R EUTER nylige n publicerat, yttrar han i början att \n",
            "\n",
            "ternorhyncha varit nä stan alld eles försummade af finska och sven ka H emi-\n",
            "\n",
            "pterologer. Dett a omdöm e synes va ra något omildt särskilt med afsee nde på \n",
            "\n",
            "författaren till In secta L appo nica, ty ZETTERSTEDT h ar ensam hemfört och \n",
            "\n",
            "be krifvit Aere arter a f Psylla från L app land än alla Finland s äldr e och nyare \n",
            "\n",
            "entomologe r förm ått hopbringa. » Meningen med dessa rade r är mig ok lar, \n",
            "\n",
            "enär ZETT E R TEDT i Insecta Lappon ica besk rifver in alles endast I 2 P ylloder , \n",
            "\n",
            "a f hvilka 4 P yllae . strict., och min ofva n närnnd a kat alog upptager 36 ar-\n",
            "\n",
            "ter, af lwilka I 7 Psyllae . Menar THOM ON, att ZETTER STE DT från Lapplan cl \n",
            "\n",
            "hemfört och besk rif vit Aere arter, än de fin ka samlarne fö rmått l1opbri nga från \n",
            "\n",
            "delta land, har han å till vida rätt deri, att Z. väl hemfört, men icke beskri f-\n",
            "\n",
            "vit Aere arte r, än de fin ka entomo logerna känna från Lappmarke n. i en om \n",
            "\n",
            "äfven Z. hade beskrifvit Aere la1 p ka art er , än min katal og upptager, å hin-\n",
            "drar det ta icke at t denna grupp för öfrigt inom Sverige och Finland till si ta \n",
            "\n",
            "tiden varit i hög g rad för umm ad i jä mför else med öfriga hemipte rer ; och \n",
            "\n",
            "änn u åte r tår mycket att göra, dit hörande dessa arte r och särdeles deras biologi \n",
            "\n",
            "blifvit rätt be lysta. D enna upp ats visar för öfrigt, att jag ingalunda haft å \n",
            "orätt i mitt påstående; TH :\\[ ON upptager nämligen i in Öfversigt 44 ,·en-\n",
            "ka arter. Reda n nu, fyra år efter des offentli ggöra nde , kunn a 61 specie an -\n",
            "\n",
            "föra från verige; och ännu äro helt säkert Aere att tillägga, at t döma deraf , \n",
            "\n",
            "att jag i ydvestra Finland funni t än nu några spe cies, som icke träffats i ,·e-\n",
            "\n",
            "rige, men utan tvif vel der icl·e aknas . \n",
            "\n",
            "\n",
            "\n"
          ]
        }
      ],
      "source": [
        "raw = parser.from_file(sample)\n",
        "print(raw['content'])"
      ]
    },
    {
      "cell_type": "code",
      "execution_count": null,
      "metadata": {
        "id": "2ZAQOwzxWXuq"
      },
      "outputs": [],
      "source": []
    },
    {
      "cell_type": "markdown",
      "metadata": {
        "id": "VE0xN2-BxCKx"
      },
      "source": [
        "## pdftotext (install failed)"
      ]
    },
    {
      "cell_type": "markdown",
      "metadata": {
        "id": "pP1reqeNxOuj"
      },
      "source": [
        "### conf"
      ]
    },
    {
      "cell_type": "code",
      "execution_count": 47,
      "metadata": {
        "colab": {
          "base_uri": "https://localhost:8080/"
        },
        "id": "IY1ZAlI3xEEP",
        "outputId": "ff2339ac-aec4-4856-ded7-19204b631c25"
      },
      "outputs": [
        {
          "name": "stdout",
          "output_type": "stream",
          "text": [
            "\u001b[33mWARNING: Ignoring invalid distribution -illow (/home/lubrini/GitHub/psylloidea_ontology/venv/lib/python3.9/site-packages)\u001b[0m\u001b[33m\n",
            "\u001b[0m\u001b[33mWARNING: Ignoring invalid distribution -illow (/home/lubrini/GitHub/psylloidea_ontology/venv/lib/python3.9/site-packages)\u001b[0m\u001b[33m\n",
            "\u001b[0mCollecting pdftotext\n",
            "  Using cached pdftotext-2.2.2.tar.gz (113 kB)\n",
            "  Preparing metadata (setup.py) ... \u001b[?25ldone\n",
            "\u001b[?25hUsing legacy 'setup.py install' for pdftotext, since package 'wheel' is not installed.\n",
            "\u001b[33mWARNING: Ignoring invalid distribution -illow (/home/lubrini/GitHub/psylloidea_ontology/venv/lib/python3.9/site-packages)\u001b[0m\u001b[33m\n",
            "\u001b[0mInstalling collected packages: pdftotext\n",
            "  Running setup.py install for pdftotext ... \u001b[?25lerror\n",
            "  \u001b[1;31merror\u001b[0m: \u001b[1msubprocess-exited-with-error\u001b[0m\n",
            "  \n",
            "  \u001b[31m×\u001b[0m \u001b[32mRunning setup.py install for pdftotext\u001b[0m did not run successfully.\n",
            "  \u001b[31m│\u001b[0m exit code: \u001b[1;36m1\u001b[0m\n",
            "  \u001b[31m╰─>\u001b[0m \u001b[31m[12 lines of output]\u001b[0m\n",
            "  \u001b[31m   \u001b[0m running install\n",
            "  \u001b[31m   \u001b[0m running build\n",
            "  \u001b[31m   \u001b[0m running build_ext\n",
            "  \u001b[31m   \u001b[0m building 'pdftotext' extension\n",
            "  \u001b[31m   \u001b[0m creating build\n",
            "  \u001b[31m   \u001b[0m creating build/temp.linux-x86_64-3.9\n",
            "  \u001b[31m   \u001b[0m gcc -pthread -B /home/lubrini/miniconda3/compiler_compat -Wno-unused-result -Wsign-compare -DNDEBUG -O2 -Wall -fPIC -O2 -isystem /home/lubrini/miniconda3/include -I/home/lubrini/miniconda3/include -fPIC -O2 -isystem /home/lubrini/miniconda3/include -fPIC -DPOPPLER_CPP_AT_LEAST_0_30_0=0 -DPOPPLER_CPP_AT_LEAST_0_58_0=0 -DPOPPLER_CPP_AT_LEAST_0_88_0=0 -I/home/lubrini/GitHub/psylloidea_ontology/venv/include -I/home/lubrini/miniconda3/include/python3.9 -c pdftotext.cpp -o build/temp.linux-x86_64-3.9/pdftotext.o -Wall\n",
            "  \u001b[31m   \u001b[0m pdftotext.cpp:3:10: fatal error: poppler/cpp/poppler-document.h: No such file or directory\n",
            "  \u001b[31m   \u001b[0m     3 | #include <poppler/cpp/poppler-document.h>\n",
            "  \u001b[31m   \u001b[0m       |          ^~~~~~~~~~~~~~~~~~~~~~~~~~~~~~~~\n",
            "  \u001b[31m   \u001b[0m compilation terminated.\n",
            "  \u001b[31m   \u001b[0m error: command '/usr/bin/gcc' failed with exit code 1\n",
            "  \u001b[31m   \u001b[0m \u001b[31m[end of output]\u001b[0m\n",
            "  \n",
            "  \u001b[1;35mnote\u001b[0m: This error originates from a subprocess, and is likely not a problem with pip.\n",
            "\u001b[?25h\u001b[1;31merror\u001b[0m: \u001b[1mlegacy-install-failure\u001b[0m\n",
            "\n",
            "\u001b[31m×\u001b[0m Encountered error while trying to install package.\n",
            "\u001b[31m╰─>\u001b[0m pdftotext\n",
            "\n",
            "\u001b[1;35mnote\u001b[0m: This is an issue with the package mentioned above, not pip.\n",
            "\u001b[1;36mhint\u001b[0m: See above for output from the failure.\n",
            "\u001b[33mWARNING: Ignoring invalid distribution -illow (/home/lubrini/GitHub/psylloidea_ontology/venv/lib/python3.9/site-packages)\u001b[0m\u001b[33m\n",
            "\u001b[0m\u001b[33mWARNING: Ignoring invalid distribution -illow (/home/lubrini/GitHub/psylloidea_ontology/venv/lib/python3.9/site-packages)\u001b[0m\u001b[33m\n",
            "\u001b[0m"
          ]
        }
      ],
      "source": [
        "!pip install pdftotext\n"
      ]
    },
    {
      "cell_type": "code",
      "execution_count": 52,
      "metadata": {
        "colab": {
          "base_uri": "https://localhost:8080/",
          "height": 310
        },
        "id": "MukL6fyLxHXN",
        "outputId": "8e1a6270-92a9-442c-d291-20b444fbb15c"
      },
      "outputs": [
        {
          "ename": "ModuleNotFoundError",
          "evalue": "No module named 'pdftotext'",
          "output_type": "error",
          "traceback": [
            "\u001b[0;31m---------------------------------------------------------------------------\u001b[0m",
            "\u001b[0;31mModuleNotFoundError\u001b[0m                       Traceback (most recent call last)",
            "\u001b[1;32m/home/lubrini/GitHub/psylloidea_ontology/img2txt/PDF2TXT_functions.ipynb Cell 60'\u001b[0m in \u001b[0;36m<cell line: 1>\u001b[0;34m()\u001b[0m\n\u001b[0;32m----> <a href='vscode-notebook-cell:/home/lubrini/GitHub/psylloidea_ontology/img2txt/PDF2TXT_functions.ipynb#ch0000059?line=0'>1</a>\u001b[0m \u001b[39mimport\u001b[39;00m \u001b[39mpdftotext\u001b[39;00m\n",
            "\u001b[0;31mModuleNotFoundError\u001b[0m: No module named 'pdftotext'"
          ]
        }
      ],
      "source": [
        "import pdftotext"
      ]
    },
    {
      "cell_type": "markdown",
      "metadata": {
        "id": "SkaRMYCyxHDp"
      },
      "source": [
        "### def"
      ]
    },
    {
      "cell_type": "code",
      "execution_count": 54,
      "metadata": {
        "id": "hXx2I_uUxI8D"
      },
      "outputs": [
        {
          "ename": "FileNotFoundError",
          "evalue": "[Errno 2] No such file or directory: 'Target.pdf'",
          "output_type": "error",
          "traceback": [
            "\u001b[0;31m---------------------------------------------------------------------------\u001b[0m",
            "\u001b[0;31mFileNotFoundError\u001b[0m                         Traceback (most recent call last)",
            "\u001b[1;32m/home/lubrini/GitHub/psylloidea_ontology/img2txt/PDF2TXT_functions.ipynb Cell 62'\u001b[0m in \u001b[0;36m<cell line: 2>\u001b[0;34m()\u001b[0m\n\u001b[1;32m      <a href='vscode-notebook-cell:/home/lubrini/GitHub/psylloidea_ontology/img2txt/PDF2TXT_functions.ipynb#ch0000061?line=0'>1</a>\u001b[0m \u001b[39m# Load your PDF\u001b[39;00m\n\u001b[0;32m----> <a href='vscode-notebook-cell:/home/lubrini/GitHub/psylloidea_ontology/img2txt/PDF2TXT_functions.ipynb#ch0000061?line=1'>2</a>\u001b[0m \u001b[39mwith\u001b[39;00m \u001b[39mopen\u001b[39;49m(\u001b[39m\"\u001b[39;49m\u001b[39mTarget.pdf\u001b[39;49m\u001b[39m\"\u001b[39;49m, \u001b[39m\"\u001b[39;49m\u001b[39mrb\u001b[39;49m\u001b[39m\"\u001b[39;49m) \u001b[39mas\u001b[39;00m f:\n\u001b[1;32m      <a href='vscode-notebook-cell:/home/lubrini/GitHub/psylloidea_ontology/img2txt/PDF2TXT_functions.ipynb#ch0000061?line=2'>3</a>\u001b[0m     pdf \u001b[39m=\u001b[39m pdftotext\u001b[39m.\u001b[39mPDF(f)\n\u001b[1;32m      <a href='vscode-notebook-cell:/home/lubrini/GitHub/psylloidea_ontology/img2txt/PDF2TXT_functions.ipynb#ch0000061?line=4'>5</a>\u001b[0m \u001b[39m# Save all text to a txt file.\u001b[39;00m\n",
            "\u001b[0;31mFileNotFoundError\u001b[0m: [Errno 2] No such file or directory: 'Target.pdf'"
          ]
        }
      ],
      "source": [
        "# Load your PDF\n",
        "with open(\"Target.pdf\", \"rb\") as f:\n",
        "    pdf = pdftotext.PDF(f)\n",
        " \n",
        "# Save all text to a txt file.\n",
        "with open('output.txt', 'w') as f:\n",
        "    f.write(\"\\n\\n\".join(pdf))"
      ]
    },
    {
      "cell_type": "markdown",
      "metadata": {
        "id": "hlvgHqXOxIiO"
      },
      "source": [
        "### conv"
      ]
    },
    {
      "cell_type": "code",
      "execution_count": null,
      "metadata": {
        "id": "xeswOiQUxIQu"
      },
      "outputs": [],
      "source": []
    },
    {
      "cell_type": "markdown",
      "metadata": {
        "id": "_jPqy3ET3z-1"
      },
      "source": [
        "## pdf2txt (bash, needs exe installing)"
      ]
    },
    {
      "cell_type": "code",
      "execution_count": null,
      "metadata": {
        "id": "T7_O8kSC4E8K"
      },
      "outputs": [],
      "source": [
        "import subprocess"
      ]
    },
    {
      "cell_type": "code",
      "execution_count": 49,
      "metadata": {
        "id": "VRRYc_7O360Z"
      },
      "outputs": [],
      "source": [
        "def pdf2txt_ocr(filepath):\n",
        "    #pdf2txt.exe source.pdf destination.txt\n",
        "    cmd = str('python pdf2txt.py -c UTF-8 '\n",
        "            + output_path\n",
        "            + filepath[:-4]\n",
        "            + '.txt \"'\n",
        "            + filepath\n",
        "            +'\"')\n",
        "    print(filepath)\n",
        "    subprocess.Popen(cmd, shell=True, executable='/bin/bash')"
      ]
    },
    {
      "cell_type": "code",
      "execution_count": 51,
      "metadata": {
        "colab": {
          "base_uri": "https://localhost:8080/"
        },
        "id": "sapLFajm4Lw5",
        "outputId": "7b886c61-65c1-4a42-a289-eb432776c999"
      },
      "outputs": [
        {
          "name": "stdout",
          "output_type": "stream",
          "text": [
            "/home/lubrini/GitHub/psylloidea_ontology/img2txt/data/input/img.pdf\n"
          ]
        },
        {
          "ename": "NameError",
          "evalue": "name 'subprocess' is not defined",
          "output_type": "error",
          "traceback": [
            "\u001b[0;31m---------------------------------------------------------------------------\u001b[0m",
            "\u001b[0;31mNameError\u001b[0m                                 Traceback (most recent call last)",
            "\u001b[1;32m/home/lubrini/GitHub/psylloidea_ontology/img2txt/PDF2TXT_functions.ipynb Cell 68'\u001b[0m in \u001b[0;36m<cell line: 1>\u001b[0;34m()\u001b[0m\n\u001b[0;32m----> <a href='vscode-notebook-cell:/home/lubrini/GitHub/psylloidea_ontology/img2txt/PDF2TXT_functions.ipynb#ch0000067?line=0'>1</a>\u001b[0m pdf2txt_ocr(sample)\n",
            "\u001b[1;32m/home/lubrini/GitHub/psylloidea_ontology/img2txt/PDF2TXT_functions.ipynb Cell 67'\u001b[0m in \u001b[0;36mpdf2txt_ocr\u001b[0;34m(filepath)\u001b[0m\n\u001b[1;32m      <a href='vscode-notebook-cell:/home/lubrini/GitHub/psylloidea_ontology/img2txt/PDF2TXT_functions.ipynb#ch0000066?line=2'>3</a>\u001b[0m cmd \u001b[39m=\u001b[39m \u001b[39mstr\u001b[39m(\u001b[39m'\u001b[39m\u001b[39mpython pdf2txt.py -c UTF-8 \u001b[39m\u001b[39m'\u001b[39m\n\u001b[1;32m      <a href='vscode-notebook-cell:/home/lubrini/GitHub/psylloidea_ontology/img2txt/PDF2TXT_functions.ipynb#ch0000066?line=3'>4</a>\u001b[0m         \u001b[39m+\u001b[39m output_path\n\u001b[1;32m      <a href='vscode-notebook-cell:/home/lubrini/GitHub/psylloidea_ontology/img2txt/PDF2TXT_functions.ipynb#ch0000066?line=4'>5</a>\u001b[0m         \u001b[39m+\u001b[39m filepath[:\u001b[39m-\u001b[39m\u001b[39m4\u001b[39m]\n\u001b[1;32m      <a href='vscode-notebook-cell:/home/lubrini/GitHub/psylloidea_ontology/img2txt/PDF2TXT_functions.ipynb#ch0000066?line=5'>6</a>\u001b[0m         \u001b[39m+\u001b[39m \u001b[39m'\u001b[39m\u001b[39m.txt \u001b[39m\u001b[39m\"\u001b[39m\u001b[39m'\u001b[39m\n\u001b[1;32m      <a href='vscode-notebook-cell:/home/lubrini/GitHub/psylloidea_ontology/img2txt/PDF2TXT_functions.ipynb#ch0000066?line=6'>7</a>\u001b[0m         \u001b[39m+\u001b[39m filepath\n\u001b[1;32m      <a href='vscode-notebook-cell:/home/lubrini/GitHub/psylloidea_ontology/img2txt/PDF2TXT_functions.ipynb#ch0000066?line=7'>8</a>\u001b[0m         \u001b[39m+\u001b[39m\u001b[39m'\u001b[39m\u001b[39m\"\u001b[39m\u001b[39m'\u001b[39m)\n\u001b[1;32m      <a href='vscode-notebook-cell:/home/lubrini/GitHub/psylloidea_ontology/img2txt/PDF2TXT_functions.ipynb#ch0000066?line=8'>9</a>\u001b[0m \u001b[39mprint\u001b[39m(filepath)\n\u001b[0;32m---> <a href='vscode-notebook-cell:/home/lubrini/GitHub/psylloidea_ontology/img2txt/PDF2TXT_functions.ipynb#ch0000066?line=9'>10</a>\u001b[0m subprocess\u001b[39m.\u001b[39mPopen(cmd, shell\u001b[39m=\u001b[39m\u001b[39mTrue\u001b[39;00m, executable\u001b[39m=\u001b[39m\u001b[39m'\u001b[39m\u001b[39m/bin/bash\u001b[39m\u001b[39m'\u001b[39m)\n",
            "\u001b[0;31mNameError\u001b[0m: name 'subprocess' is not defined"
          ]
        }
      ],
      "source": [
        "pdf2txt_ocr(sample)"
      ]
    },
    {
      "cell_type": "markdown",
      "metadata": {
        "id": "jy0ja-50XqgY"
      },
      "source": [
        "# Evaluation\n"
      ]
    },
    {
      "cell_type": "markdown",
      "metadata": {
        "id": "N_g-HaTbXsaf"
      },
      "source": [
        "## CER"
      ]
    },
    {
      "cell_type": "code",
      "execution_count": null,
      "metadata": {
        "id": "YkYw1io2Xv4a"
      },
      "outputs": [],
      "source": [
        "%%capture\n",
        "!pip install pybind11\n",
        "!pip install fastwer"
      ]
    },
    {
      "cell_type": "code",
      "execution_count": null,
      "metadata": {
        "id": "GTxnRERXXtaI"
      },
      "outputs": [],
      "source": [
        "import fastwer"
      ]
    },
    {
      "cell_type": "code",
      "execution_count": null,
      "metadata": {
        "colab": {
          "base_uri": "https://localhost:8080/"
        },
        "id": "e58MAx1BXt4k",
        "outputId": "e13ddd2e-c48d-4218-a54b-e45359696750"
      },
      "outputs": [
        {
          "data": {
            "text/plain": [
              "96.3028"
            ]
          },
          "execution_count": 27,
          "metadata": {},
          "output_type": "execute_result"
        }
      ],
      "source": [
        "output = pytesseract_ocr(img_filepaths[0])\n",
        "ref = extract_text(pdf_filepaths[0])\n",
        "fastwer.score_sent(output, ref, char_level=True)"
      ]
    }
  ],
  "metadata": {
    "colab": {
      "collapsed_sections": [
        "714GoxM4nW27",
        "GgkFkuN7aRXf",
        "2pUk8NhjAZb9",
        "tKVJLxtCAdXR",
        "NyLS9LZKS6ta",
        "jy0ja-50XqgY"
      ],
      "name": "PDF2TXT_functions.ipynb",
      "provenance": []
    },
    "interpreter": {
      "hash": "edcc5be5a525af8e97e23bf1972aea5fd07a1c7f57254dc7385b6797660d8cb8"
    },
    "kernelspec": {
      "display_name": "Python 3.9.7 ('venv': venv)",
      "language": "python",
      "name": "python3"
    },
    "language_info": {
      "codemirror_mode": {
        "name": "ipython",
        "version": 3
      },
      "file_extension": ".py",
      "mimetype": "text/x-python",
      "name": "python",
      "nbconvert_exporter": "python",
      "pygments_lexer": "ipython3",
      "version": "3.9.7"
    }
  },
  "nbformat": 4,
  "nbformat_minor": 0
}
