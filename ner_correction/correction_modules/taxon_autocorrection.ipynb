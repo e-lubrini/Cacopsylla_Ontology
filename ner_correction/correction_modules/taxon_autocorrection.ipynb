{
 "cells": [
  {
   "cell_type": "code",
   "execution_count": 23,
   "metadata": {},
   "outputs": [
    {
     "name": "stderr",
     "output_type": "stream",
     "text": [
      "[nltk_data] Downloading package words to /home/elubrini/nltk_data...\n",
      "[nltk_data]   Package words is already up-to-date!\n"
     ]
    }
   ],
   "source": [
    "import nltk\n",
    "from nltk import word_tokenize\n",
    "from nltk.corpus import words\n",
    "from nltk.metrics.distance import (\n",
    "    edit_distance,\n",
    "    jaccard_distance,\n",
    "    )\n",
    "from nltk.util import ngrams\n",
    "nltk.download('words')\n",
    "import pandas as pd\n",
    "import numpy as np\n",
    "import enchant\n",
    "d = enchant.Dict(\"en_UK\")\n",
    "\n",
    "from tqdm import tqdm"
   ]
  },
  {
   "cell_type": "code",
   "execution_count": 24,
   "metadata": {},
   "outputs": [],
   "source": [
    "with open('../data/onto_taxa.txt','r') as f:\n",
    "    correct_spellings = f.read().split(\"\\n\")"
   ]
  },
  {
   "cell_type": "code",
   "execution_count": 25,
   "metadata": {},
   "outputs": [
    {
     "data": {
      "text/plain": [
       "0                                00003A/5\n",
       "1                                 0016J/2\n",
       "2                                 001 Na2\n",
       "3                                 001-Na2\n",
       "4                                  003A/5\n",
       "                        ...              \n",
       "10310736                    Z . zygospora\n",
       "10310737                      Z.zygospora\n",
       "10310738                     Z. zygospora\n",
       "10310739    Z. Z. Zhou & Y. J. Min 090512\n",
       "10310740                                 \n",
       "Length: 10310741, dtype: object"
      ]
     },
     "execution_count": 25,
     "metadata": {},
     "output_type": "execute_result"
    }
   ],
   "source": [
    "spellings_series = pd.Series(correct_spellings)\n",
    "spellings_series"
   ]
  },
  {
   "cell_type": "code",
   "execution_count": 26,
   "metadata": {},
   "outputs": [],
   "source": [
    "\n",
    "def jaccard(entry, gram_number, spellings_series):\n",
    "    spellings = spellings_series[spellings_series.str.startswith(entry[0])] \n",
    "    distances = ((jaccard_distance(set(ngrams(entry, gram_number)),\n",
    "                                    set(ngrams(word, gram_number))), word)\n",
    "                    for word in spellings)\n",
    "    try:\n",
    "        closest = min(distances)\n",
    "        outcome = (closest[1])\n",
    "    except ValueError:\n",
    "        outcome = entry    \n",
    "    return outcome"
   ]
  },
  {
   "cell_type": "code",
   "execution_count": 27,
   "metadata": {},
   "outputs": [],
   "source": [
    "def correct(entry, gram_number, spellings_series):\n",
    "    if d.check(entry):\n",
    "        return entry\n",
    "    else:\n",
    "        return jaccard(entry, gram_number, spellings_series)\n",
    "\n",
    "def correct_text(text, gram_number, spellings_series, df_out=False, save=False):\n",
    "    entries = word_tokenize(text)\n",
    "    corrections = []\n",
    "    for entry in tqdm(entries):\n",
    "        correction = correct(entry, gram_number, spellings_series)\n",
    "        corrections.append(correction)\n",
    "    if df_out:\n",
    "        dic = dict(entries=entries,corrections=corrections)\n",
    "        df = pd.DataFrame(dic)\n",
    "        df['diff'] = np.where( df['entries'] == df['corrections'] , 1, 0)\n",
    "        df[df['diff'] == 0]\n",
    "        return df\n",
    "    else:\n",
    "        return corrections"
   ]
  },
  {
   "cell_type": "code",
   "execution_count": 28,
   "metadata": {},
   "outputs": [],
   "source": [
    "with open('../data/sample_doc.txt', 'r') as f:\n",
    "    sample = f.read()"
   ]
  },
  {
   "cell_type": "code",
   "execution_count": 29,
   "metadata": {},
   "outputs": [
    {
     "name": "stderr",
     "output_type": "stream",
     "text": [
      "100%|██████████| 1462/1462 [1:28:45<00:00,  3.64s/it]\n"
     ]
    },
    {
     "data": {
      "text/html": [
       "<div>\n",
       "<style scoped>\n",
       "    .dataframe tbody tr th:only-of-type {\n",
       "        vertical-align: middle;\n",
       "    }\n",
       "\n",
       "    .dataframe tbody tr th {\n",
       "        vertical-align: top;\n",
       "    }\n",
       "\n",
       "    .dataframe thead th {\n",
       "        text-align: right;\n",
       "    }\n",
       "</style>\n",
       "<table border=\"1\" class=\"dataframe\">\n",
       "  <thead>\n",
       "    <tr style=\"text-align: right;\">\n",
       "      <th></th>\n",
       "      <th>entries</th>\n",
       "      <th>corrections</th>\n",
       "      <th>diff</th>\n",
       "    </tr>\n",
       "  </thead>\n",
       "  <tbody>\n",
       "    <tr>\n",
       "      <th>0</th>\n",
       "      <td>None</td>\n",
       "      <td>None</td>\n",
       "      <td>1</td>\n",
       "    </tr>\n",
       "    <tr>\n",
       "      <th>1</th>\n",
       "      <td>10</td>\n",
       "      <td>1 08-B(F)</td>\n",
       "      <td>0</td>\n",
       "    </tr>\n",
       "    <tr>\n",
       "      <th>2</th>\n",
       "      <td>LI</td>\n",
       "      <td>LI</td>\n",
       "      <td>1</td>\n",
       "    </tr>\n",
       "    <tr>\n",
       "      <th>3</th>\n",
       "      <td>VIO</td>\n",
       "      <td>V . abbotti</td>\n",
       "      <td>0</td>\n",
       "    </tr>\n",
       "    <tr>\n",
       "      <th>4</th>\n",
       "      <td>T</td>\n",
       "      <td>T</td>\n",
       "      <td>1</td>\n",
       "    </tr>\n",
       "  </tbody>\n",
       "</table>\n",
       "</div>"
      ],
      "text/plain": [
       "  entries  corrections  diff\n",
       "0    None         None     1\n",
       "1      10    1 08-B(F)     0\n",
       "2      LI           LI     1\n",
       "3     VIO  V . abbotti     0\n",
       "4       T            T     1"
      ]
     },
     "execution_count": 29,
     "metadata": {},
     "output_type": "execute_result"
    }
   ],
   "source": [
    "correction = correct_text(sample, 3, spellings_series, df_out=True)\n",
    "correction.head()"
   ]
  },
  {
   "cell_type": "code",
   "execution_count": 30,
   "metadata": {},
   "outputs": [
    {
     "data": {
      "text/html": [
       "<div>\n",
       "<style scoped>\n",
       "    .dataframe tbody tr th:only-of-type {\n",
       "        vertical-align: middle;\n",
       "    }\n",
       "\n",
       "    .dataframe tbody tr th {\n",
       "        vertical-align: top;\n",
       "    }\n",
       "\n",
       "    .dataframe thead th {\n",
       "        text-align: right;\n",
       "    }\n",
       "</style>\n",
       "<table border=\"1\" class=\"dataframe\">\n",
       "  <thead>\n",
       "    <tr style=\"text-align: right;\">\n",
       "      <th></th>\n",
       "      <th>entries</th>\n",
       "      <th>corrections</th>\n",
       "    </tr>\n",
       "  </thead>\n",
       "  <tbody>\n",
       "    <tr>\n",
       "      <th>1</th>\n",
       "      <td>10</td>\n",
       "      <td>1 08-B(F)</td>\n",
       "    </tr>\n",
       "    <tr>\n",
       "      <th>3</th>\n",
       "      <td>VIO</td>\n",
       "      <td>V . abbotti</td>\n",
       "    </tr>\n",
       "    <tr>\n",
       "      <th>5</th>\n",
       "      <td>AMANINI</td>\n",
       "      <td>AMAND7</td>\n",
       "    </tr>\n",
       "    <tr>\n",
       "      <th>13</th>\n",
       "      <td>PSILLIDI</td>\n",
       "      <td>PSI07</td>\n",
       "    </tr>\n",
       "    <tr>\n",
       "      <th>17</th>\n",
       "      <td>Psgllina</td>\n",
       "      <td>Puellina</td>\n",
       "    </tr>\n",
       "    <tr>\n",
       "      <th>...</th>\n",
       "      <td>...</td>\n",
       "      <td>...</td>\n",
       "    </tr>\n",
       "    <tr>\n",
       "      <th>1453</th>\n",
       "      <td>A.Via</td>\n",
       "      <td>Aulonemia cincta P.L.Viana &amp; Filg., 2014</td>\n",
       "    </tr>\n",
       "    <tr>\n",
       "      <th>1454</th>\n",
       "      <td>Monticelli</td>\n",
       "      <td>Monticellia</td>\n",
       "    </tr>\n",
       "    <tr>\n",
       "      <th>1456</th>\n",
       "      <td>IlGENOVA</td>\n",
       "      <td>Influenza A virus (A/GENOA/4/2002(H3N2))</td>\n",
       "    </tr>\n",
       "    <tr>\n",
       "      <th>1457</th>\n",
       "      <td>``</td>\n",
       "      <td>`ohai</td>\n",
       "    </tr>\n",
       "    <tr>\n",
       "      <th>1458</th>\n",
       "      <td>'PRINTED</td>\n",
       "      <td>'Abelmoschus esculentus' bunchy top phytoplasma</td>\n",
       "    </tr>\n",
       "  </tbody>\n",
       "</table>\n",
       "<p>362 rows × 2 columns</p>\n",
       "</div>"
      ],
      "text/plain": [
       "         entries                                      corrections\n",
       "1             10                                        1 08-B(F)\n",
       "3            VIO                                      V . abbotti\n",
       "5        AMANINI                                           AMAND7\n",
       "13      PSILLIDI                                            PSI07\n",
       "17      Psgllina                                         Puellina\n",
       "...          ...                                              ...\n",
       "1453       A.Via         Aulonemia cincta P.L.Viana & Filg., 2014\n",
       "1454  Monticelli                                      Monticellia\n",
       "1456    IlGENOVA         Influenza A virus (A/GENOA/4/2002(H3N2))\n",
       "1457          ``                                            `ohai\n",
       "1458    'PRINTED  'Abelmoschus esculentus' bunchy top phytoplasma\n",
       "\n",
       "[362 rows x 2 columns]"
      ]
     },
     "execution_count": 30,
     "metadata": {},
     "output_type": "execute_result"
    }
   ],
   "source": [
    "correction[correction['diff']==0][['entries','corrections']]"
   ]
  }
 ],
 "metadata": {
  "kernelspec": {
   "display_name": "Python 3.10.4 ('venv': venv)",
   "language": "python",
   "name": "python3"
  },
  "language_info": {
   "codemirror_mode": {
    "name": "ipython",
    "version": 3
   },
   "file_extension": ".py",
   "mimetype": "text/x-python",
   "name": "python",
   "nbconvert_exporter": "python",
   "pygments_lexer": "ipython3",
   "version": "3.10.5"
  },
  "orig_nbformat": 4,
  "vscode": {
   "interpreter": {
    "hash": "0791b7be171ebad212c24ef65290d1f031fc8c5ca9521baf1e29a38a9507073b"
   }
  }
 },
 "nbformat": 4,
 "nbformat_minor": 2
}
