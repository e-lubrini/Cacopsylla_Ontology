{
  "cells": [
    {
      "cell_type": "markdown",
      "metadata": {
        "id": "Q6_qrxn6Wr97"
      },
      "source": [
        "# Config"
      ]
    },
    {
      "cell_type": "code",
      "execution_count": null,
      "metadata": {
        "id": "gb8lIzwbXBZV"
      },
      "outputs": [],
      "source": [
        "import os\n",
        "import types\n",
        "from typing import Union"
      ]
    },
    {
      "cell_type": "markdown",
      "metadata": {
        "id": "4cbn4hgpZ-R8"
      },
      "source": [
        "### PDF <> PNG"
      ]
    },
    {
      "cell_type": "code",
      "execution_count": null,
      "metadata": {
        "id": "Bm-de9ayZvyG"
      },
      "outputs": [],
      "source": [
        "import fitz\n",
        "from PIL import Image\n",
        "\n",
        "# ? (PNG2PDF)\n",
        "# TODO: find tool"
      ]
    },
    {
      "cell_type": "markdown",
      "metadata": {
        "id": "nNqjqAZ4Z6Fm"
      },
      "source": [
        "### PDF/PNG > TXT"
      ]
    },
    {
      "cell_type": "code",
      "execution_count": null,
      "metadata": {
        "id": "utrLifOwX781"
      },
      "outputs": [],
      "source": [
        "# pytesseract\n",
        "import pytesseract\n",
        "import shutil\n",
        "import os\n",
        "import random\n",
        "try:\n",
        " from PIL import Image\n",
        "except ImportError:\n",
        " import Image\n",
        "\n",
        "# PyPDF4\n",
        "import PyPDF4\n",
        "\n",
        "# pdfminer.six\n",
        "import pdfminer\n",
        "from pdfminer.high_level import extract_text\n",
        "\n",
        "# PyPDF4 txt + info\n",
        "import PyPDF4\n",
        "from PyPDF4 import PdfFileReader\n",
        "\n",
        "# TIKA\n",
        "from tika import parser\n"
      ]
    },
    {
      "cell_type": "markdown",
      "metadata": {
        "id": "XfK6MTi_WoHr"
      },
      "source": [
        "# Load Files"
      ]
    },
    {
      "cell_type": "code",
      "execution_count": null,
      "metadata": {
        "id": "g-mQHOvjW_BD"
      },
      "outputs": [],
      "source": [
        "data_path = os.path.join('/content', 'drive', 'MyDrive', '6_work', 'PHIM', 'data')\n",
        "\n",
        "input-path = os.path.join(data_path, 'input')\n",
        "output_path = os.path.join(data_path, 'output')\n",
        "\n",
        "#pdf_path = os.path.join(input-pat, 'pdf')\n",
        "#img_path = os.path.join(input-pat, 'img')"
      ]
    },
    {
      "cell_type": "markdown",
      "metadata": {
        "id": "CcRLrnpUWtvx"
      },
      "source": [
        "# Converter Classes"
      ]
    },
    {
      "cell_type": "code",
      "execution_count": null,
      "metadata": {
        "id": "Rz727fGiaOmc"
      },
      "outputs": [],
      "source": [
        "class DocForConversion:\n",
        "    def __init__(self, input_filepath: str,\n",
        "                 output_filepath: Union[str, None],\n",
        "                 conversion_tool: str):\n",
        "        self.input_filepath = input_filepath\n",
        "        self.input_extension = os.path.splitext(self.input_filepath)\n",
        "        \n",
        "        self.output_filepath = None\n",
        "        self.output_exension = os.path.splitext(self.output_filepath)\n",
        "        \n",
        "        self.available_functions = {str(f):f for f in globals().values() if type(f) == types.FunctionType}\n",
        "        self.selected_tool = self.available_functions[conversion_tool]\n",
        "\n",
        "    def convert(self):\n",
        "        try:\n",
        "            self.selected_tool(self.input_filepath, self.output_filepath)\n",
        "        except KeyError:\n",
        "            raise ValueError('Invalid tool selected, please enter the name of one of the following functions:%s' % self.available_functions)\n",
        "\n",
        "    \n",
        "\n"
      ]
    },
    {
      "cell_type": "markdown",
      "metadata": {
        "id": "Y8hRDYFoW2Iu"
      },
      "source": [
        "# Conversion\n",
        "\n",
        "e.g. GROBID https://github.com/kermitt2/grobid_client_python"
      ]
    },
    {
      "cell_type": "markdown",
      "metadata": {
        "id": "WG4hzpYGW4gL"
      },
      "source": [
        "# Evaluation"
      ]
    },
    {
      "cell_type": "code",
      "execution_count": null,
      "metadata": {
        "id": "0-gef83jWnlz"
      },
      "outputs": [],
      "source": []
    },
    {
      "cell_type": "code",
      "execution_count": null,
      "metadata": {
        "id": "BOP2At48WjDg"
      },
      "outputs": [],
      "source": []
    }
  ],
  "metadata": {
    "colab": {
      "collapsed_sections": [],
      "name": "PDF2TXT.ipynb",
      "provenance": []
    },
    "kernelspec": {
      "display_name": "Python 3",
      "name": "python3"
    },
    "language_info": {
      "name": "python"
    }
  },
  "nbformat": 4,
  "nbformat_minor": 0
}
