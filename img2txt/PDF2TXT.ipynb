{
  "cells": [
    {
      "cell_type": "markdown",
      "metadata": {
        "id": "Q6_qrxn6Wr97"
      },
      "source": [
        "# Config"
      ]
    },
    {
      "cell_type": "code",
      "execution_count": 1,
      "metadata": {
        "id": "gb8lIzwbXBZV"
      },
      "outputs": [],
      "source": [
        "import os\n",
        "import types\n",
        "from typing import Union\n",
        "from PIL import Image\n",
        "import string\n",
        "import fitz\n",
        "from tqdm import tqdm"
      ]
    },
    {
      "cell_type": "code",
      "execution_count": 2,
      "metadata": {
        "id": "utrLifOwX781"
      },
      "outputs": [
        {
          "name": "stdout",
          "output_type": "stream",
          "text": [
            "Tools converting in the following extensions:\n",
            "('pdf', 'png')\n",
            "('png', 'txt')\n",
            "('pdf', 'txt')\n",
            "('pdf', 'txt')\n",
            "('pdf', 'txt')\n"
          ]
        },
        {
          "data": {
            "text/plain": [
              "dict_keys(['PyPDF4_ocr', 'pdfminer_ocr', 'tika_ocr'])"
            ]
          },
          "execution_count": 2,
          "metadata": {},
          "output_type": "execute_result"
        }
      ],
      "source": [
        "# import conversion tools\n",
        "from conv_tools import *\n",
        "from conv_tools import tools as ctools\n",
        "from conv_tools import ter\n",
        "#from conv_tools import logs\n",
        "#print(logs)\n",
        "ctools[('pdf', 'txt')].keys()"
      ]
    },
    {
      "cell_type": "markdown",
      "metadata": {
        "id": "XfK6MTi_WoHr"
      },
      "source": [
        "# Load Files"
      ]
    },
    {
      "cell_type": "code",
      "execution_count": 3,
      "metadata": {
        "id": "g-mQHOvjW_BD"
      },
      "outputs": [],
      "source": [
        "data_path = os.path.join('data')\n",
        "\n",
        "input_path = os.path.join(data_path, 'input')"
      ]
    },
    {
      "cell_type": "markdown",
      "metadata": {
        "id": "CcRLrnpUWtvx"
      },
      "source": [
        "# Doc and Converter Classes"
      ]
    },
    {
      "cell_type": "markdown",
      "metadata": {},
      "source": [
        "A `Doc` class, instantiated once for each document, holding its path, and original/converted data in various formats.\n",
        "\n",
        "`{format: {tool-name: converted-text}}`\n",
        "\n",
        "`e.g. {'jpg': {'pdf2txt': <jpg-object>}}`\n",
        "\n",
        "by using the `to_target_format` method, the document can be converted and stored in another format.\n"
      ]
    },
    {
      "cell_type": "code",
      "execution_count": 4,
      "metadata": {},
      "outputs": [],
      "source": [
        "class Doc:\n",
        "   def __init__(self, input_filepaths, tools):\n",
        "      self.tools = tools\n",
        "\n",
        "      # input_filepath is a LIST of filepaths (in case more files belong to the same document)\n",
        "      self.input_filepaths = input_filepaths\n",
        "      self.main_input_filepath = input_filepaths[0] # only used to detect filename and extension\n",
        "      \n",
        "      self.input_extension = os.path.splitext(self.main_input_filepath)[-1].lower().translate(str.maketrans('', '', string.punctuation))\n",
        "      self.input_filename = os.path.basename(self.main_input_filepath).lower()\n",
        "      \n",
        "      self.txt_conversions = dict() # dict of {tool-name: converted-text} pairs\n",
        "\n",
        "      self.data = dict() # dict of {target_format: {tool-name: converted-text}} e.g. {'jpg': {'pdf2txt': <jpg-object>}}\n",
        "\n",
        "   ## doc conversion img<>pdf\n",
        "   def to_target_format(self, target_format, tool_name = None):\n",
        "      \"\"\"target_format can be pdf, png\"\"\"\n",
        "      #selected_tool_name = tool_name\n",
        "      global selected_tool_name\n",
        "      \n",
        "      data_selection = self.data.get(target_format)      \n",
        "      if data_selection:                           # if at least an instance of (converted/original) data is already stored for given target_format...\n",
        "         if not tool_name:\n",
        "            converted_data = data_selection[0]     # ...take the first instance available...\n",
        "         else:\n",
        "            converted_data = data_selection[tool_name]  #...unless a preferred conversion tool was selected\n",
        "         return converted_data\n",
        "      else: # if the requested extension has no instances, add an empty instance target_format:{}\n",
        "         self.data[target_format] = dict()\n",
        "         \n",
        "      # if requested target_format matches filepath extension, open the document and store it as an object\n",
        "      if target_format == 'pdf':\n",
        "         if self.data['pdf']:\n",
        "            return\n",
        "         if self.is_pdf():\n",
        "            # open all files for the given document...\n",
        "            pdf_objects = []\n",
        "            for pdf_path in self.input_filepaths:\n",
        "               with open(pdf_path, 'rb') as file:\n",
        "                  pdf_objects.append(file)\n",
        "            converted_data = pdf_objects\n",
        "            \n",
        "            self.data[target_format]['original'] = converted_data # ...and store original data in self.data\n",
        "            \n",
        "         elif self.is_png(): # if requested target_format does NOT match filepath extension, convert it\n",
        "            \n",
        "            tool_selection = self.tools[('png','pdf')] # this gives a dict of suitable tools\n",
        "            \n",
        "            if tool_name is None:\n",
        "               selected_tool_name = list(tool_selection)[0]\n",
        "               conversion_tool = tool_selection[selected_tool_name] # take first available tool if no tool was specified\n",
        "            else:\n",
        "               selected_tool_name=tool_name\n",
        "               conversion_tool = tool_selection[selected_tool_name] # assign tool based on tool name\n",
        "                        \n",
        "            png_objects = None # TODO open files...\n",
        "            \n",
        "            converted_data = conversion_tool( # ...apply conversion tool on them...\n",
        "               png_objects\n",
        "            )\n",
        "\n",
        "            self.data[target_format][selected_tool_name] = converted_data # ...and store the converted data\n",
        "         else:\n",
        "            print('Error: source format {0} is nor accepted'.format(self.input_extension))\n",
        "            return\n",
        "      \n",
        "      # if requested target_format matches filepath extension, open the document and store it as an object\n",
        "      elif target_format == \"png\":\n",
        "         if self.data['png']:\n",
        "            return\n",
        "         if self.is_png():   \n",
        "            # open all files for the given document...\n",
        "            converted_data = [\n",
        "               Image.open(image_path) for image_path in self.input_filepaths\n",
        "               ]\n",
        "               \n",
        "            self.data[target_format]['original'] = converted_data # ... and store original data in self.data\n",
        "\n",
        "         elif self.is_pdf():\n",
        "            tool_selection = self.tools[('pdf','png')] # this gives a dict of suitable tools\n",
        "            if tool_name is None:\n",
        "               selected_tool_name = list(tool_selection)[0]\n",
        "               conversion_tool = tool_selection[selected_tool_name] # take first available tool if no tool was specified\n",
        "            else:\n",
        "               selected_tool_name=tool_name\n",
        "               conversion_tool = tool_selection[selected_tool_name] # assign tool based on tool name\n",
        "                        \n",
        "            pdf_filepath = [ # open files...\n",
        "               path for path in self.input_filepaths if path.endswith('.pdf')\n",
        "            ][0]\n",
        "            \n",
        "            converted_data = conversion_tool( # ...apply conversion tool on them...\n",
        "               pdf_filepath\n",
        "            )\n",
        "            self.data[target_format][selected_tool_name] = converted_data # ...and store the converted data\n",
        "            \n",
        "            #print('self.data[{0}][{1}]:{2}'.format(target_format,selected_tool_name,self.data[target_format][selected_tool_name]))\n",
        "            \n",
        "         else:\n",
        "            #print('Error: source format {0} is nor accepted'.format(self.input_extension))\n",
        "            return\n",
        "      else:\n",
        "         #print('Error: target_format {0} is nor accepted'.format(target_format))\n",
        "         return\n",
        "      \n",
        "      #print('self.data[{0}][{1}]:{2}'.format(target_format,selected_tool_name,self.data[target_format][selected_tool_name]))\n",
        "      return \n",
        "      \n",
        "   ## check extension\n",
        "   def is_pdf(self):\n",
        "      return self.input_extension.lower() == 'pdf'\n",
        "   def is_png(self):\n",
        "      return self.input_extension.lower() == 'png'\n",
        "\n",
        "   ## save output txt\n",
        "   def save_txt_conversion(self, tool_name, doc_path):\n",
        "      # define output filepath\n",
        "      output_file_path = os.path.join(doc_path,tool_name,str(self.input_filename)+'.txt')\n",
        "\n",
        "      # save txt in chosen dir\n",
        "      os.makedirs(os.path.dirname(output_file_path), exist_ok=True)\n",
        "      with open(output_file_path, 'w+') as f:\n",
        "         f.write(self.txt_conversions[tool_name])\n",
        "   \n",
        "   def save_all_txt_conversions(self, doc_path):\n",
        "      for key in self.txt_conversions.keys():\n",
        "         self.save_txt_conversion(key, doc_path)"
      ]
    },
    {
      "cell_type": "code",
      "execution_count": 5,
      "metadata": {},
      "outputs": [],
      "source": [
        "class TxtConverter:\n",
        "   def __init__(self, tools):\n",
        "      #self.available_functions = {str(f):f for f in globals().values() if type(f) == types.FunctionType}\n",
        "      self.tools = tools\n",
        "      \n",
        "   # select tool and convert\n",
        "   def convert_to_txt(self, doc, input_formats=['pdf','png'], tool_names = None):\n",
        "\n",
        "      output_format = 'txt'\n",
        "      tool_selection = {}\n",
        "      for input_format in input_formats:\n",
        "         tool_selection.update(self.tools[(input_format, output_format)]) # this adds tools given the required formats\n",
        "      if isinstance(tool_names, str):\n",
        "         tool_names = [tool_names]\n",
        "\n",
        "      if tool_names is None: # use all the conversion tools\n",
        "         tool_names = tool_selection.keys()\n",
        "      \n",
        "      print('tool_selection.keys()',tool_selection.keys())\n",
        "      print('tool_names',tool_names)\n",
        "      selected_tools = {}\n",
        "      for tool_name in tool_names:\n",
        "         selected_tools[tool_name] = tool_selection[tool_name]\n",
        "\n",
        "      extracted_texts = dict()\n",
        "      for t_name in tqdm(tool_names):\n",
        "         req_ext = ter[t_name]      # extract input format of tool\n",
        "         doc_ext = doc.data[req_ext]\n",
        "         #TODO: if doc_ext is empty: convert\n",
        "         \n",
        "         first_tool_name = list(doc_ext.keys())[0]\n",
        "         pdf_filepath = doc.main_input_filepath      # get path from doc # TODO: trat multiple pdfs per document\n",
        "         extracted_texts[t_name]= selected_tools[t_name](pdf_filepath)  # pass it to tool\n",
        "\n",
        "      #store in doc.txt_conversions\n",
        "      doc.txt_conversions.update(extracted_texts) # join the dictionaires\n",
        "      \n",
        "      # store in doc.data\n",
        "      if not doc.data.get('txt'):\n",
        "         doc.data['txt'] = dict()\n",
        "      \n",
        "      doc.data['txt'].update(extracted_texts) # join the dictionaires"
      ]
    },
    {
      "cell_type": "markdown",
      "metadata": {
        "id": "Y8hRDYFoW2Iu"
      },
      "source": [
        "# Conversion and Evaluation"
      ]
    },
    {
      "cell_type": "code",
      "execution_count": 6,
      "metadata": {},
      "outputs": [],
      "source": [
        "import fastwer\n",
        "\n",
        "OKCYAN = '\\033[96m'\n",
        "ENDC = '\\033[0m'"
      ]
    },
    {
      "cell_type": "code",
      "execution_count": 7,
      "metadata": {},
      "outputs": [],
      "source": [
        "# create convertor instance from class\n",
        "converter = TxtConverter(tools=ctools)"
      ]
    },
    {
      "cell_type": "code",
      "execution_count": 8,
      "metadata": {},
      "outputs": [
        {
          "name": "stdout",
          "output_type": "stream",
          "text": [
            "\u001b[96mInput_path: data/input\u001b[0m\n",
            "\u001b[96mConverting: data/input/flyer_coleottero_giapponese\u001b[0m\n",
            "{'original': [<_io.BufferedReader name='data/input/flyer_coleottero_giapponese/flyer_coleottero_giappone_zone_misure.pdf'>]}\n",
            "tool_selection.keys() dict_keys(['PyPDF4_ocr', 'pdfminer_ocr', 'tika_ocr', 'pytesseract_ocr'])\n",
            "tool_names ['pytesseract_ocr', 'tika_ocr', 'pdfminer_ocr', 'PyPDF4_ocr']\n"
          ]
        },
        {
          "name": "stderr",
          "output_type": "stream",
          "text": [
            " 75%|███████▌  | 3/4 [00:05<00:01,  1.32s/it]PdfReadWarning: Xref table not zero-indexed. ID numbers for objects will be corrected. [pdf.py:1801]\n",
            "100%|██████████| 4/4 [00:05<00:00,  1.37s/it]\n"
          ]
        },
        {
          "name": "stdout",
          "output_type": "stream",
          "text": [
            "2\n",
            "\u001b[96mConverting: data/input/sample\u001b[0m\n",
            "{'original': [<_io.BufferedReader name='data/input/sample/sample_no_txt.pdf'>]}\n",
            "tool_selection.keys() dict_keys(['PyPDF4_ocr', 'pdfminer_ocr', 'tika_ocr', 'pytesseract_ocr'])\n",
            "tool_names ['pytesseract_ocr', 'tika_ocr', 'pdfminer_ocr', 'PyPDF4_ocr']\n"
          ]
        },
        {
          "name": "stderr",
          "output_type": "stream",
          "text": [
            "100%|██████████| 4/4 [01:41<00:00, 25.46s/it]"
          ]
        },
        {
          "name": "stdout",
          "output_type": "stream",
          "text": [
            "17\n",
            "\u001b[96m Character Error Rates {'flyer_coleottero_giappone_zone_misure.pdf': {'pytesseract_ocr': 12096.0, 'tika_ocr': 21844.0, 'pdfminer_ocr': 21128.0, 'PyPDF4_ocr': 8032.0}, 'sample_no_txt.pdf': {'pytesseract_ocr': 24385.7143, 'tika_ocr': 625078.5714, 'pdfminer_ocr': 683714.2857, 'PyPDF4_ocr': 100.0}} \u001b[0m\n"
          ]
        },
        {
          "name": "stderr",
          "output_type": "stream",
          "text": [
            "\n"
          ]
        }
      ],
      "source": [
        "# for doc in data (each doc has its own directory)\n",
        "print(OKCYAN + 'Input_path:', input_path + ENDC) \n",
        "cers = {} # CER scores\n",
        "\n",
        "for dir in os.listdir(input_path):\n",
        "    dir_path = os.path.join(input_path,dir)\n",
        "    doc_paths = [os.path.join(dir_path, filepath) for filepath in os.listdir(dir_path) if os.path.isfile(os.path.join(dir_path, filepath))]\n",
        "    # create Doc instance with doc path\n",
        "    doc_object = Doc(doc_paths, tools=ctools)\n",
        "    print(OKCYAN + 'Converting:', dir_path + ENDC)\n",
        "\n",
        "    ##############\n",
        "    # CONVERSION #\n",
        "    ##############\n",
        "      \n",
        "    # convert to jpg/pdf\n",
        "    doc_object.to_target_format('png', tool_name='pdf2img')\n",
        "    doc_object.to_target_format('pdf')\n",
        "    print(doc_object.data['pdf'])\n",
        "    \n",
        "    # convert to txt it with all tools\n",
        "    converter.convert_to_txt(doc_object, tool_names=['pytesseract_ocr','tika_ocr','pdfminer_ocr','PyPDF4_ocr'])\n",
        "\n",
        "    # save all\n",
        "    doc_object.save_all_txt_conversions(dir_path)\n",
        "\n",
        "    ##############\n",
        "    # EVALUATION #\n",
        "    ##############\n",
        "\n",
        "    name = doc_object.input_filename\n",
        "    cers[name] = {}\n",
        "    \n",
        "    for tool_name,text in doc_object.data['txt'].items():\n",
        "        ref = os.listdir(os.path.join(dir_path,'ref'))[0]\n",
        "        output = text\n",
        "        score = fastwer.score_sent(output, ref, char_level=True)\n",
        "        cers[name][tool_name] = score\n",
        "\n",
        "print(OKCYAN , 'Character Error Rates', cers , ENDC)"
      ]
    },
    {
      "cell_type": "markdown",
      "metadata": {},
      "source": [
        "# Visualisation"
      ]
    },
    {
      "cell_type": "code",
      "execution_count": 9,
      "metadata": {},
      "outputs": [],
      "source": [
        "import seaborn as sns\n",
        "import matplotlib.pyplot as plt\n",
        "import numpy as np"
      ]
    },
    {
      "cell_type": "code",
      "execution_count": 10,
      "metadata": {},
      "outputs": [
        {
          "name": "stdout",
          "output_type": "stream",
          "text": [
            "pytesseract_ocr\n",
            "tika_ocr\n",
            "pdfminer_ocr\n",
            "PyPDF4_ocr\n"
          ]
        },
        {
          "data": {
            "text/plain": [
              "{'pytesseract_ocr': 36481.7143,\n",
              " 'tika_ocr': 646922.5714,\n",
              " 'pdfminer_ocr': 704842.2857,\n",
              " 'PyPDF4_ocr': 8132.0}"
            ]
          },
          "execution_count": 10,
          "metadata": {},
          "output_type": "execute_result"
        }
      ],
      "source": [
        "# sum up scores per tools\n",
        "cer_per_tool = {}\n",
        "\n",
        "for _,tool_cer in cers.items():\n",
        "    for tool,cer in tool_cer.items():\n",
        "        cer_per_tool[tool] = 0\n",
        "        print(tool)    \n",
        "    break\n",
        "        \n",
        "for _,tool_cer in cers.items():\n",
        "    for tool,cer in tool_cer.items():\n",
        "        cer_per_tool[tool] = cer_per_tool[tool]+cer\n",
        "\n",
        "cer_per_tool"
      ]
    },
    {
      "cell_type": "code",
      "execution_count": 11,
      "metadata": {},
      "outputs": [],
      "source": [
        "data = cer_per_tool"
      ]
    },
    {
      "cell_type": "code",
      "execution_count": 12,
      "metadata": {},
      "outputs": [
        {
          "data": {
            "text/plain": [
              "<AxesSubplot:>"
            ]
          },
          "execution_count": 12,
          "metadata": {},
          "output_type": "execute_result"
        },
        {
          "data": {
            "image/png": "[encoded data removed]",
            "text/plain": [
              "<Figure size 432x288 with 1 Axes>"
            ]
          },
          "metadata": {
            "needs_background": "light"
          },
          "output_type": "display_data"
        }
      ],
      "source": [
        "sns.barplot(x=list(data.keys()), y=list(data.values()))"
      ]
    }
  ],
  "metadata": {
    "colab": {
      "collapsed_sections": [],
      "name": "PDF2TXT.ipynb",
      "provenance": []
    },
    "interpreter": {
      "hash": "edcc5be5a525af8e97e23bf1972aea5fd07a1c7f57254dc7385b6797660d8cb8"
    },
    "kernelspec": {
      "display_name": "Python 3.9.7 ('venv': venv)",
      "language": "python",
      "name": "python3"
    },
    "language_info": {
      "codemirror_mode": {
        "name": "ipython",
        "version": 3
      },
      "file_extension": ".py",
      "mimetype": "text/x-python",
      "name": "python",
      "nbconvert_exporter": "python",
      "pygments_lexer": "ipython3",
      "version": "3.9.7"
    }
  },
  "nbformat": 4,
  "nbformat_minor": 0
}
