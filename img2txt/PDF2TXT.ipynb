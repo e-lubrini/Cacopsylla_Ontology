{
  "nbformat": 4,
  "nbformat_minor": 0,
  "metadata": {
    "colab": {
      "name": "PDF2TXT.ipynb",
      "provenance": [],
      "collapsed_sections": []
    },
    "kernelspec": {
      "name": "python3",
      "display_name": "Python 3"
    },
    "language_info": {
      "name": "python"
    }
  },
  "cells": [
    {
      "cell_type": "markdown",
      "source": [
        "# Config"
      ],
      "metadata": {
        "id": "Q6_qrxn6Wr97"
      }
    },
    {
      "cell_type": "code",
      "source": [
        "import os\n",
        "import types\n",
        "from typing import Union"
      ],
      "metadata": {
        "id": "gb8lIzwbXBZV"
      },
      "execution_count": null,
      "outputs": []
    },
    {
      "cell_type": "markdown",
      "source": [
        "### PDF <> PNG"
      ],
      "metadata": {
        "id": "4cbn4hgpZ-R8"
      }
    },
    {
      "cell_type": "code",
      "source": [
        "%%capture\n",
        "################\n",
        "## PDF <> PNG ##\n",
        "################\n",
        "\n",
        "# pymupdf (PDF2PNG)\n",
        "!pip install pymupdf\n",
        "import fitz\n",
        "from PIL import Image\n",
        "\n",
        "# ? (PNG2PDF)\n",
        "# TODO: find tool"
      ],
      "metadata": {
        "id": "Bm-de9ayZvyG"
      },
      "execution_count": null,
      "outputs": []
    },
    {
      "cell_type": "markdown",
      "source": [
        "### PDF/PNG > TXT"
      ],
      "metadata": {
        "id": "nNqjqAZ4Z6Fm"
      }
    },
    {
      "cell_type": "code",
      "source": [
        "%%capture\n",
        "###################\n",
        "## PDF/PNG > TXT ##\n",
        "###################\n",
        "\n",
        "# pytesseract\n",
        "!sudo apt install tesseract-ocr\n",
        "!pip install Pillow==4.0.0\n",
        "!pip install PIL\n",
        "!pip install image\n",
        "!pip install pillow\n",
        "!pip install imgaug\n",
        "!pip install pytesseract\n",
        "!pip install pytorch\n",
        "%reload_ext autoreload\n",
        "%autoreload\n",
        "import pytesseract\n",
        "import shutil\n",
        "import os\n",
        "import random\n",
        "try:\n",
        " from PIL import Image\n",
        "except ImportError:\n",
        " import Image\n",
        "\n",
        "# PyPDF4\n",
        "!pip install PyPDF4\n",
        "import PyPDF4\n",
        "\n",
        "# pdfminer.six\n",
        "!pip install pdfminer.six\n",
        "import pdfminer\n",
        "from pdfminer.high_level import extract_text\n",
        "\n",
        "# PyPDF4 txt + info\n",
        "!pip install PyPDF4\n",
        "import PyPDF4\n",
        "from PyPDF4 import PdfFileReader\n",
        "\n",
        "# TIKA\n",
        "!pip install tika\n",
        "from tika import parser\n",
        "\n",
        "# pdftotext (install failed)\n",
        "!pip install pdftotext"
      ],
      "metadata": {
        "id": "utrLifOwX781"
      },
      "execution_count": null,
      "outputs": []
    },
    {
      "cell_type": "markdown",
      "source": [
        "# Load Files"
      ],
      "metadata": {
        "id": "XfK6MTi_WoHr"
      }
    },
    {
      "cell_type": "code",
      "source": [
        "# for colab\n",
        "from google.colab import drive\n",
        "drive.mount('/content/drive/', force_remount=True)"
      ],
      "metadata": {
        "id": "GAYNmfH2W8JE"
      },
      "execution_count": null,
      "outputs": []
    },
    {
      "cell_type": "code",
      "source": [
        "data_path = os.path.join('/content', 'drive', 'MyDrive', '6_work', 'PHIM', 'data')\n",
        "\n",
        "input-path = os.path.join(data_path, 'input')\n",
        "output_path = os.path.join(data_path, 'output')\n",
        "\n",
        "#pdf_path = os.path.join(input-pat, 'pdf')\n",
        "#img_path = os.path.join(input-pat, 'img')"
      ],
      "metadata": {
        "id": "g-mQHOvjW_BD"
      },
      "execution_count": null,
      "outputs": []
    },
    {
      "cell_type": "markdown",
      "source": [
        "# Converter Classes"
      ],
      "metadata": {
        "id": "CcRLrnpUWtvx"
      }
    },
    {
      "cell_type": "code",
      "source": [
        "class DocForConversion:\n",
        "    def __init__(self, input_filepath: str,\n",
        "                 output_filepath: Union[str, None],\n",
        "                 conversion_tool: str):\n",
        "        self.input_filepath = input_filepath\n",
        "        self.input_extension = os.path.splitext(self.input_filepath)\n",
        "        \n",
        "        self.output_filepath = None\n",
        "        self.output_exension = os.path.splitext(self.output_filepath)\n",
        "        \n",
        "        self.available_functions = {str(f):f for f in globals().values() if type(f) == types.FunctionType}\n",
        "        self.selected_tool = self.available_functions[conversion_tool]\n",
        "\n",
        "    def convert(self):\n",
        "        try:\n",
        "            self.selected_tool(self.input_filepath, self.output_filepath)\n",
        "        except KeyError:\n",
        "            raise ValueError('Invalid tool selected, please enter the name of one of the following functions:%s' % self.available_functions)\n",
        "\n",
        "    \n",
        "\n"
      ],
      "metadata": {
        "id": "Rz727fGiaOmc"
      },
      "execution_count": null,
      "outputs": []
    },
    {
      "cell_type": "markdown",
      "source": [
        "# Conversion\n",
        "\n",
        "e.g. GROBID https://github.com/kermitt2/grobid_client_python"
      ],
      "metadata": {
        "id": "Y8hRDYFoW2Iu"
      }
    },
    {
      "cell_type": "markdown",
      "source": [
        "# Evaluation"
      ],
      "metadata": {
        "id": "WG4hzpYGW4gL"
      }
    },
    {
      "cell_type": "code",
      "source": [
        ""
      ],
      "metadata": {
        "id": "0-gef83jWnlz"
      },
      "execution_count": null,
      "outputs": []
    },
    {
      "cell_type": "code",
      "execution_count": null,
      "metadata": {
        "id": "BOP2At48WjDg"
      },
      "outputs": [],
      "source": [
        ""
      ]
    }
  ]
}