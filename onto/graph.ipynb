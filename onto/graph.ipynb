{
 "cells": [
  {
   "cell_type": "code",
   "execution_count": 129,
   "metadata": {},
   "outputs": [],
   "source": [
    "import networkx as nx"
   ]
  },
  {
   "cell_type": "markdown",
   "metadata": {},
   "source": [
    "## ALT 1 - Graph with Classes"
   ]
  },
  {
   "cell_type": "code",
   "execution_count": 130,
   "metadata": {},
   "outputs": [],
   "source": [
    "class Node:\n",
    "  \n",
    "    def __init__(self, key):\n",
    "        self.id = key\n",
    "        self.connectedTo = {}\n",
    "        \n",
    "    def addNeighbor(self, nbr, weight = 0):\n",
    "        self.connectedTo[nbr] = weight\n",
    "        \n",
    "    def __str__(self):\n",
    "        return f\"{str(self.id)} connected to: {str([x.id for x in self.connectedTo])}\"\n",
    "      \n",
    "    def getConnections(self):\n",
    "        return self.connectedTo.keys()\n",
    "        \n",
    "    def getId(self):\n",
    "        return self.id\n",
    "      \n",
    "    def getWeight(self, nbr):\n",
    "        return self.connectedTo.get(nbr)\n",
    "      \n",
    "class Graph:\n",
    "  \n",
    "    def __init__(self):\n",
    "        self.vertList = {}\n",
    "        self.numVertices = 0\n",
    "        \n",
    "    def addNode(self, key):\n",
    "        \"\"\"\n",
    "        Add a Node to the Graph network with the id of key\n",
    "        \"\"\"\n",
    "        \n",
    "        #add 1 to the number of vertices attribute\n",
    "        self.numVertices += 1\n",
    "        \n",
    "        #instantiate a new Node class\n",
    "        newNode = Node(key)\n",
    "        \n",
    "        #add the Node with the key to the vertList dictionary\n",
    "        self.vertList[key] = newNode\n",
    "        \n",
    "        #return the NewNode created\n",
    "        return newNode  \n",
    "      \n",
    "    def getNode(self, key):\n",
    "        \"\"\"\n",
    "        If Node with key is in Graph then return the Node\n",
    "        \"\"\"\n",
    "        \n",
    "        #use the get method to return the Node if it exists\n",
    "        #otherwise it will return None\n",
    "        return self.vertList.get(key)\n",
    "      \n",
    "    def __contains__(self, key):\n",
    "        \"\"\"\n",
    "        Check whether Node with key is in the Graph\n",
    "        \"\"\"\n",
    "        \n",
    "        #returns True or False depending if in list\n",
    "        return key in self.vertList\n",
    "      \n",
    "    def addEdge(self, f, t, weight = 0):\n",
    "        \"\"\"\n",
    "        Add an edge to connect two vertices of t and f with weight\n",
    "        assuming directed graph\n",
    "        \"\"\"\n",
    "        \n",
    "        #add vertices if they do not exist\n",
    "        if f not in self.vertList:\n",
    "            nv = self.addNode(f)\n",
    "        if t not in self.vertList:\n",
    "            nv = self.addNode(t)\n",
    "            \n",
    "        #then add Neighbor from f to t with weight\n",
    "        self.vertList[f].addNeighbor(self.vertList[t], weight)\n",
    "        \n",
    "    def getVertices(self):\n",
    "        \"\"\"\n",
    "        Return all the vertices in the graph\n",
    "        \"\"\"\n",
    "       \n",
    "        return self.vertList.keys()\n",
    "      \n",
    "    def getCount(self):\n",
    "        \"\"\"\n",
    "        Return a count of all vertices in the Graph\n",
    "        \"\"\"\n",
    "        return self.numVertices"
   ]
  },
  {
   "cell_type": "code",
   "execution_count": 131,
   "metadata": {},
   "outputs": [],
   "source": [
    "psylve = Graph()"
   ]
  },
  {
   "cell_type": "code",
   "execution_count": 132,
   "metadata": {},
   "outputs": [],
   "source": [
    "edges = [('hi','hola'),('hola','salut')]"
   ]
  },
  {
   "cell_type": "code",
   "execution_count": 133,
   "metadata": {},
   "outputs": [
    {
     "data": {
      "text/plain": [
       "dict_keys(['hi', 'hola', 'salut'])"
      ]
     },
     "execution_count": 133,
     "metadata": {},
     "output_type": "execute_result"
    }
   ],
   "source": [
    "for f,t in edges:\n",
    "    psylve.addEdge(f, t)\n",
    "psylve.getVertices()"
   ]
  },
  {
   "cell_type": "markdown",
   "metadata": {},
   "source": [
    "## ALT 2 - Graph with NX"
   ]
  },
  {
   "cell_type": "code",
   "execution_count": 134,
   "metadata": {},
   "outputs": [],
   "source": [
    "import pandas as pd"
   ]
  },
  {
   "cell_type": "code",
   "execution_count": 135,
   "metadata": {},
   "outputs": [],
   "source": [
    "def edges_to_pd_graph(edges):\n",
    "    g = pd.DataFrame.from_records(edges, columns =['source', 'target', 'type', 'weight'][:(len(edges[0]))])\n",
    "    return g\n",
    "\n",
    "def load_edges(filename):\n",
    "    with open(filename,'r') as f:\n",
    "        df = pd.read_csv(f, sep='\\t', header=0)\n",
    "    return df"
   ]
  },
  {
   "cell_type": "code",
   "execution_count": 136,
   "metadata": {},
   "outputs": [
    {
     "data": {
      "text/html": [
       "<div>\n",
       "<style scoped>\n",
       "    .dataframe tbody tr th:only-of-type {\n",
       "        vertical-align: middle;\n",
       "    }\n",
       "\n",
       "    .dataframe tbody tr th {\n",
       "        vertical-align: top;\n",
       "    }\n",
       "\n",
       "    .dataframe thead th {\n",
       "        text-align: right;\n",
       "    }\n",
       "</style>\n",
       "<table border=\"1\" class=\"dataframe\">\n",
       "  <thead>\n",
       "    <tr style=\"text-align: right;\">\n",
       "      <th></th>\n",
       "      <th>source</th>\n",
       "      <th>target</th>\n",
       "    </tr>\n",
       "  </thead>\n",
       "  <tbody>\n",
       "    <tr>\n",
       "      <th>0</th>\n",
       "      <td>hi</td>\n",
       "      <td>hola</td>\n",
       "    </tr>\n",
       "    <tr>\n",
       "      <th>1</th>\n",
       "      <td>hola</td>\n",
       "      <td>salut</td>\n",
       "    </tr>\n",
       "    <tr>\n",
       "      <th>2</th>\n",
       "      <td>salut</td>\n",
       "      <td>ciao</td>\n",
       "    </tr>\n",
       "  </tbody>\n",
       "</table>\n",
       "</div>"
      ],
      "text/plain": [
       "  source target\n",
       "0     hi   hola\n",
       "1   hola  salut\n",
       "2  salut   ciao"
      ]
     },
     "execution_count": 136,
     "metadata": {},
     "output_type": "execute_result"
    }
   ],
   "source": [
    "psylve_pd = edges_to_pd_graph(edges)\n",
    "psylve_pd = load_edges('edges.tsv')\n",
    "psylve_pd.head()"
   ]
  },
  {
   "cell_type": "code",
   "execution_count": 137,
   "metadata": {},
   "outputs": [
    {
     "data": {
      "image/png": "[encoded data removed]",
      "text/plain": [
       "<Figure size 432x288 with 1 Axes>"
      ]
     },
     "metadata": {},
     "output_type": "display_data"
    }
   ],
   "source": [
    "psylve_nx = nx.from_pandas_edgelist(psylve_pd, source='source', target='target', edge_attr=None, create_using=nx.DiGraph())\n",
    "nx.draw(psylve_nx)"
   ]
  },
  {
   "cell_type": "markdown",
   "metadata": {},
   "source": [
    "### Visualisation"
   ]
  },
  {
   "cell_type": "code",
   "execution_count": 138,
   "metadata": {},
   "outputs": [
    {
     "data": {
      "text/html": [
       "\n",
       "        <iframe\n",
       "            width=\"500px\"\n",
       "            height=\"500px\"\n",
       "            src=\"PsylVe.html\"\n",
       "            frameborder=\"0\"\n",
       "            allowfullscreen\n",
       "            \n",
       "        ></iframe>\n",
       "        "
      ],
      "text/plain": [
       "<IPython.lib.display.IFrame at 0x7f507939dfc0>"
      ]
     },
     "execution_count": 138,
     "metadata": {},
     "output_type": "execute_result"
    }
   ],
   "source": [
    "from pyvis.network import Network\n",
    "\n",
    "net = Network(notebook=True, directed =True)\n",
    "\n",
    "net.from_nx(psylve_nx)\n",
    "\n",
    "net.show('PsylVe.html')"
   ]
  }
 ],
 "metadata": {
  "kernelspec": {
   "display_name": "Python 3.10.4 ('venv': venv)",
   "language": "python",
   "name": "python3"
  },
  "language_info": {
   "codemirror_mode": {
    "name": "ipython",
    "version": 3
   },
   "file_extension": ".py",
   "mimetype": "text/x-python",
   "name": "python",
   "nbconvert_exporter": "python",
   "pygments_lexer": "ipython3",
   "version": "3.10.5"
  },
  "orig_nbformat": 4,
  "vscode": {
   "interpreter": {
    "hash": "0791b7be171ebad212c24ef65290d1f031fc8c5ca9521baf1e29a38a9507073b"
   }
  }
 },
 "nbformat": 4,
 "nbformat_minor": 2
}
