{
 "cells": [
  {
   "cell_type": "code",
   "execution_count": 78,
   "metadata": {},
   "outputs": [],
   "source": [
    "import pandas as pd"
   ]
  },
  {
   "cell_type": "code",
   "execution_count": 79,
   "metadata": {},
   "outputs": [],
   "source": [
    "with open('onto.tsv', 'r') as f:\n",
    "    #onto = pd.read_csv(f, sep='\\t', header=0)\n",
    "    text = f.read()"
   ]
  },
  {
   "cell_type": "markdown",
   "metadata": {},
   "source": [
    "# RE\n"
   ]
  },
  {
   "cell_type": "code",
   "execution_count": 80,
   "metadata": {},
   "outputs": [],
   "source": [
    "import re\n",
    "from re import match"
   ]
  },
  {
   "cell_type": "markdown",
   "metadata": {},
   "source": [
    "### class_to_pred"
   ]
  },
  {
   "cell_type": "code",
   "execution_count": 81,
   "metadata": {},
   "outputs": [
    {
     "data": {
      "text/plain": [
       "'Plant(x)'"
      ]
     },
     "execution_count": 81,
     "metadata": {},
     "output_type": "execute_result"
    }
   ],
   "source": [
    "s = \"MemberOf(x,Plant)\"\n",
    "a = re.sub(r'(MemberOf)(\\()(\\w*)(,)(\\w*)(\\))', r'\\5\\2\\3\\6',s)\n",
    "a"
   ]
  },
  {
   "cell_type": "code",
   "execution_count": 82,
   "metadata": {},
   "outputs": [],
   "source": [
    "def class_to_pred(s):\n",
    "    s = re.sub(r'(MemberOf)(\\()(\\\\|\\s|&)*(\\w*)(,)(\\\\|\\s|&)*(\\w*)(\\\\|\\s|&)*(\\))', r'\\7\\2\\4\\9',s)\n",
    "    return s"
   ]
  },
  {
   "cell_type": "code",
   "execution_count": 83,
   "metadata": {},
   "outputs": [
    {
     "data": {
      "text/plain": [
       "'InanimateCarrier(wind)'"
      ]
     },
     "execution_count": 83,
     "metadata": {},
     "output_type": "execute_result"
    }
   ],
   "source": [
    "class_to_pred(\"MemberOf( \\\\ &                wind, \\\\ &                InanimateCarrier \\\\ &                )\")"
   ]
  },
  {
   "cell_type": "code",
   "execution_count": 84,
   "metadata": {},
   "outputs": [],
   "source": [
    "text = class_to_pred(text)"
   ]
  },
  {
   "cell_type": "markdown",
   "metadata": {},
   "source": [
    "### Disjoint Union"
   ]
  },
  {
   "cell_type": "code",
   "execution_count": 85,
   "metadata": {},
   "outputs": [],
   "source": [
    "def partition_to_disjunion(text):\n",
    "    p = re.compile(r'Partition\\((\\\\|\\s|&)*\\((\\\\|\\s|&)*((\\\\*|\\s*|&|\\w+|,|\\s*)*)\\.*\\)(\\\\|\\s|&)*,(\\\\|\\s|&)*(\\w+)(\\\\|\\s|&)*\\)')\n",
    "    regex = re.compile(p)\n",
    "    for orig_partition in regex.finditer(text):\n",
    "        orig_partition = orig_partition.group(0)\n",
    "        print(orig_partition)\n",
    "        partitions = p.match(orig_partition).group(3).replace(' ','').split(',')\n",
    "        print(partitions)\n",
    "        parent = p.match(orig_partition).group(7)\n",
    "        print(parent)\n",
    "\n",
    "        a_parent = str('{bold_begin}a:'+parent+'{bold_end}').format(bold_begin='\\\\code{', bold_end='}')\n",
    "        a_partitions = str(['\\\\& '+x for x in str([str('{bold_begin}a:'+part+'{bold_end}').format(bold_begin='\\\\code{', bold_end='}') for part in partitions]).replace('[','').replace(']','').replace('\\'','').replace('&','').replace('\\\\','').replace('a: ',' ').split(',')]).replace('\\'','').replace('[','').replace(']','').replace(',','').replace(' bm','\\\\bm')#.replace('\\\\\\\\','\\\\')\n",
    "\n",
    "        disj_union = '{bold_begin}DisjointUnion({bold_end}\\\\\\\\& {a_parent} {a_partitions}\\\\\\\\&{bold_begin}){bold_end}'.format(bold_begin='\\\\code{', bold_end='}', a_parent=a_parent, a_partitions=a_partitions)\n",
    "        \n",
    "        text = text.replace(orig_partition, disj_union)\n",
    "\n",
    "    return text"
   ]
  },
  {
   "cell_type": "code",
   "execution_count": 86,
   "metadata": {},
   "outputs": [
    {
     "name": "stdout",
     "output_type": "stream",
     "text": [
      "Partition(&(\\Flower, \\ Tree, ...),Plant)\n",
      "['Flower', '\\\\Tree', '']\n",
      "Plant\n",
      "Partition((Sun, ...),Star)\n",
      "['Sun', '']\n",
      "Star\n"
     ]
    },
    {
     "data": {
      "text/plain": [
       "'\\\\code{DisjointUnion(}\\\\\\\\& \\\\code{a:Plant} \\\\\\\\& code{a:Flower} \\\\\\\\&  code{a:Tree} \\\\\\\\&  code{a:}\\\\\\\\&\\\\code{)}      \\\\±jfid \\\\code{DisjointUnion(}\\\\\\\\& \\\\code{a:Star} \\\\\\\\& code{a:Sun} \\\\\\\\&  code{a:}\\\\\\\\&\\\\code{)}'"
      ]
     },
     "execution_count": 86,
     "metadata": {},
     "output_type": "execute_result"
    }
   ],
   "source": [
    "\n",
    "s = \"Partition(&(\\\\Flower, \\\\ Tree, ...),Plant)      \\±jfid Partition((Sun, ...),Star)\"\n",
    "partition_to_disjunion(s)"
   ]
  },
  {
   "cell_type": "code",
   "execution_count": 87,
   "metadata": {},
   "outputs": [
    {
     "name": "stdout",
     "output_type": "stream",
     "text": [
      "Partition( \\\\ &                (Organism,\\\\ &InanimateEntity), \\\\ &                PathogenCarrier \\\\ &                )\n",
      "['Organism', '\\\\\\\\&InanimateEntity']\n",
      "PathogenCarrier\n",
      "Partition( \\\\ &                (VectingCarrier,\\\\ &NonVectingCarrier), \\\\ &                PathogenCarrier \\\\ &                )\n",
      "['VectingCarrier', '\\\\\\\\&NonVectingCarrier']\n",
      "PathogenCarrier\n",
      "Partition( \\\\ &                (Organism,\\\\ &InanimateEntity), \\\\ &                PathogenCarrier \\\\ &                )\n",
      "['Organism', '\\\\\\\\&InanimateEntity']\n",
      "PathogenCarrier\n",
      "Partition( \\\\ &                (LivingOrganism,\\\\ &NonLivingOrganism), \\\\ &                Organism \\\\ &                )\n",
      "['LivingOrganism', '\\\\\\\\&NonLivingOrganism']\n",
      "Organism\n",
      "Partition( \\\\ &                (Bacterium,\\\\ &Fungus,\\\\ &Virus), \\\\ &                Pathogen \\\\ &                )\n",
      "['Bacterium', '\\\\\\\\&Fungus', '\\\\\\\\&Virus']\n",
      "Pathogen\n",
      "Partition( \\\\ &                (Trophic,\\\\ &NonTrophic), \\\\ &                BiologicalInteraction \\\\ &                )\n",
      "['Trophic', '\\\\\\\\&NonTrophic']\n",
      "BiologicalInteraction\n",
      "Partition( \\\\ &                (ShortTermInteraction,\\\\ &                LongTermInteraction), \\\\ &                TrophicInteraction \\\\ &                )\n",
      "['ShortTermInteraction', '\\\\\\\\&LongTermInteraction']\n",
      "TrophicInteraction\n",
      "Partition( \\\\ &                (Phytophagy, Carnivory, ...),\\\\ &                ShortTermInteraction \\\\ &                )\n",
      "['Phytophagy', 'Carnivory', '']\n",
      "ShortTermInteraction\n",
      "Partition( \\\\ &                (Parasitism,\\\\ &                Commensalism,\\\\ &                Mutualism,\\\\ &...),\\\\ &                LongTermTermInteraction \\\\ &                )\n",
      "['Parasitism', '\\\\\\\\&Commensalism', '\\\\\\\\&Mutualism', '\\\\\\\\&']\n",
      "LongTermTermInteraction\n",
      "Partition( \\\\ &                (IndoorFarming,\\\\ &OutdoorFarming),\\\\ &                AgriculturalTechnique \\\\ &                )\n",
      "['IndoorFarming', '\\\\\\\\&OutdoorFarming']\n",
      "AgriculturalTechnique\n",
      "Partition( \\\\ &(Monophagous,\\\\ &Polyphagous,\\\\ &Oligophagous),\\\\ &                Insect \\\\ &)\n",
      "['Monophagous', '\\\\\\\\&Polyphagous', '\\\\\\\\&Oligophagous']\n",
      "Insect\n",
      "Partition(\\\\ &(SymptomaticInfectedOrganism,\\\\ &NonSymptomaticInfectedOrganism),\\\\ &InfectedOrganism\\\\ &)\n",
      "['SymptomaticInfectedOrganism', '\\\\\\\\&NonSymptomaticInfectedOrganism']\n",
      "InfectedOrganism\n",
      "Partition(\\\\&(LivingOrganism,\\\\ &NonLivingOrganism,\\\\ &InanimateEntity),\\\\ & PathogenCarrier\\\\&)\n",
      "['LivingOrganism', '\\\\\\\\&NonLivingOrganism', '\\\\\\\\&InanimateEntity']\n",
      "PathogenCarrier\n"
     ]
    }
   ],
   "source": [
    "text = partition_to_disjunion(text)"
   ]
  },
  {
   "cell_type": "markdown",
   "metadata": {},
   "source": [
    "## Save File"
   ]
  },
  {
   "cell_type": "code",
   "execution_count": 88,
   "metadata": {},
   "outputs": [],
   "source": [
    "with open('onto_out.tsv', 'w+') as f:\n",
    "    #onto = pd.read_csv(f, sep='\\t', header=0)\n",
    "    f.write(text)"
   ]
  },
  {
   "cell_type": "code",
   "execution_count": null,
   "metadata": {},
   "outputs": [],
   "source": []
  }
 ],
 "metadata": {
  "kernelspec": {
   "display_name": "Python 3.10.4 ('venv': venv)",
   "language": "python",
   "name": "python3"
  },
  "language_info": {
   "codemirror_mode": {
    "name": "ipython",
    "version": 3
   },
   "file_extension": ".py",
   "mimetype": "text/x-python",
   "name": "python",
   "nbconvert_exporter": "python",
   "pygments_lexer": "ipython3",
   "version": "3.10.4"
  },
  "orig_nbformat": 4,
  "vscode": {
   "interpreter": {
    "hash": "0791b7be171ebad212c24ef65290d1f031fc8c5ca9521baf1e29a38a9507073b"
   }
  }
 },
 "nbformat": 4,
 "nbformat_minor": 2
}
