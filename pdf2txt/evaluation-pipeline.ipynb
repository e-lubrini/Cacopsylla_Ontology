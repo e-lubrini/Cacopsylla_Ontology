{
  "cells": [
    {
      "cell_type": "markdown",
      "metadata": {},
      "source": [
        "# Rearrange files"
      ]
    },
    {
      "cell_type": "markdown",
      "metadata": {
        "id": "Q6_qrxn6Wr97"
      },
      "source": [
        "# Config"
      ]
    },
    {
      "cell_type": "code",
      "execution_count": 1,
      "metadata": {},
      "outputs": [],
      "source": [
        "import os"
      ]
    },
    {
      "cell_type": "code",
      "execution_count": 2,
      "metadata": {
        "id": "utrLifOwX781"
      },
      "outputs": [
        {
          "name": "stdout",
          "output_type": "stream",
          "text": [
            "Tools converting in the following extensions:\n",
            "('pdf', 'png')\n",
            "('[img]', 'pdf')\n",
            "('png', 'txt')\n",
            "('pdf', 'txt')\n",
            "('pdf', 'txt')\n",
            "('pdf', 'txt')\n",
            "('pdf', 'txt')\n",
            "('pdf', 'txt')\n"
          ]
        },
        {
          "data": {
            "text/plain": [
              "{'pdf2img': 'pdf',\n",
              " 'img2pdf': '[img]',\n",
              " 'pytesseract_ocr': 'png',\n",
              " 'PyPDF4_ocr': 'pdf',\n",
              " 'pdfminer_ocr': 'pdf',\n",
              " 'tika_ocr': 'pdf',\n",
              " 'pdfreader_ocr': 'pdf',\n",
              " 'grobid_extr': 'pdf'}"
            ]
          },
          "execution_count": 2,
          "metadata": {},
          "output_type": "execute_result"
        }
      ],
      "source": [
        "# import conversion tools\n",
        "from tools.conv_tools import tools as ctools\n",
        "from tools.conv_tools import ter\n",
        "ter"
      ]
    },
    {
      "cell_type": "code",
      "execution_count": 3,
      "metadata": {},
      "outputs": [],
      "source": [
        "tools_for_conversion = ['pdfreader_ocr','pytesseract_ocr','tika_ocr','pdfminer_ocr','PyPDF4_ocr']"
      ]
    },
    {
      "cell_type": "markdown",
      "metadata": {
        "id": "XfK6MTi_WoHr"
      },
      "source": [
        "# Load and Rearrange Files"
      ]
    },
    {
      "cell_type": "code",
      "execution_count": 4,
      "metadata": {},
      "outputs": [
        {
          "name": "stderr",
          "output_type": "stream",
          "text": [
            "[nltk_data] Downloading package words to /home/lubrini/nltk_data...\n",
            "[nltk_data]   Package words is already up-to-date!\n"
          ]
        }
      ],
      "source": [
        "from tools.utils import *"
      ]
    },
    {
      "cell_type": "code",
      "execution_count": 5,
      "metadata": {},
      "outputs": [],
      "source": [
        "data_path = os.path.join('data')\n",
        "\n",
        "input_path = os.path.join(data_path, 'docs')\n",
        "\n",
        "ref_dir = 'ref'               # name of the directory where reference txt is stored \n",
        "\n",
        "doc_paths = [os.path.join(input_path, filepath) for filepath in os.listdir(input_path) if os.path.isfile(os.path.join(input_path, filepath))]\n"
      ]
    },
    {
      "cell_type": "code",
      "execution_count": 6,
      "metadata": {},
      "outputs": [],
      "source": [
        "## convert images to pdf\n",
        "not_pdf_filepaths = [doc_path for doc_path in doc_paths if not doc_path.endswith('.pdf')]\n",
        "for doc_path in not_pdf_filepaths:\n",
        "    try:\n",
        "        ctools.img2pdf(doc_path)\n",
        "    except:\n",
        "        print(doc_path)\n",
        "        print('Warning: \"{0}\" extension not supported for conversion to pdf'.format(doc_path[:-4]))"
      ]
    },
    {
      "cell_type": "code",
      "execution_count": 7,
      "metadata": {
        "id": "g-mQHOvjW_BD"
      },
      "outputs": [],
      "source": [
        "## move files from input_path to their own directory\n",
        "for doc_path in doc_paths:\n",
        "    mv_to_custom_dir(doc_path)\n",
        "    "
      ]
    },
    {
      "cell_type": "code",
      "execution_count": 8,
      "metadata": {},
      "outputs": [
        {
          "name": "stderr",
          "output_type": "stream",
          "text": [
            "Warning : `load_model` does not return WordVectorModel or SupervisedModel any more, but a `FastText` object which is very similar.\n"
          ]
        },
        {
          "name": "stdout",
          "output_type": "stream",
          "text": [
            "file_paths: data/docs/flyer_coleottero_giapponese/flyer_coleottero_giappone_zone_misure.pdf\n",
            "languages: ['it']\n"
          ]
        },
        {
          "name": "stderr",
          "output_type": "stream",
          "text": [
            "100%|██████████| 1/1 [00:03<00:00,  3.06s/it]\n",
            "Warning : `load_model` does not return WordVectorModel or SupervisedModel any more, but a `FastText` object which is very similar.\n"
          ]
        },
        {
          "name": "stdout",
          "output_type": "stream",
          "text": [
            "COUNT (spellchecker): 38\n",
            "SCORE: 0.76\n",
            "Text is not usable! Score too low.\n",
            "Marking filename...\n",
            "file_paths: data/docs/1954_Blöte_Cacopsylla_pruni_Pays-Bas_Hollande_copie/1954_Blöte_Cacopsylla_pruni_Pays-Bas_Hollande_copie.pdf\n",
            "languages: ['nl']\n"
          ]
        },
        {
          "name": "stderr",
          "output_type": "stream",
          "text": [
            "100%|██████████| 1/1 [00:07<00:00,  7.63s/it]\n",
            "Warning : `load_model` does not return WordVectorModel or SupervisedModel any more, but a `FastText` object which is very similar.\n"
          ]
        },
        {
          "name": "stdout",
          "output_type": "stream",
          "text": [
            "COUNT (spellchecker): 35\n",
            "SCORE: 0.7\n",
            "Text is not usable! Score too low.\n",
            "Marking filename...\n",
            "file_paths: data/docs/footnote/footnote.pdf\n",
            "languages: ['sv']\n"
          ]
        },
        {
          "name": "stderr",
          "output_type": "stream",
          "text": [
            "100%|██████████| 1/1 [00:07<00:00,  7.04s/it]"
          ]
        },
        {
          "name": "stdout",
          "output_type": "stream",
          "text": [
            "COUNT (spellchecker): 27\n",
            "SCORE: 0.54\n",
            "Text is not usable! Score too low.\n",
            "Marking filename...\n",
            "file_paths: data/docs/sample_no_txt/sample_no_txt.pdf\n"
          ]
        },
        {
          "name": "stderr",
          "output_type": "stream",
          "text": [
            "\n",
            "Warning : `load_model` does not return WordVectorModel or SupervisedModel any more, but a `FastText` object which is very similar.\n"
          ]
        },
        {
          "name": "stdout",
          "output_type": "stream",
          "text": [
            "languages: ['de']\n"
          ]
        },
        {
          "name": "stderr",
          "output_type": "stream",
          "text": [
            "100%|██████████| 1/1 [00:11<00:00, 11.67s/it]"
          ]
        },
        {
          "name": "stdout",
          "output_type": "stream",
          "text": [
            "COUNT (spellchecker): 19\n",
            "SCORE: 0.38\n",
            "Text is not usable! Score too low.\n",
            "Marking filename...\n"
          ]
        },
        {
          "name": "stderr",
          "output_type": "stream",
          "text": [
            "\n"
          ]
        }
      ],
      "source": [
        "## rename files that do not have (usable) text embedded\n",
        "lang_threshold = 0.90 # min percentage of words that need to be in a vocabulary for the embedded text to be considered usable\n",
        "embedded_text_dir='embedded_txt'\n",
        "\n",
        "for doc_dir in os.listdir(input_path):\n",
        "    dir_path = os.path.join(input_path,doc_dir)\n",
        "    for file_or_tool_name in os.listdir(dir_path):\n",
        "        file_or_tool_path = os.path.join(dir_path,file_or_tool_name)\n",
        "        if os.path.isfile(file_or_tool_path) and file_or_tool_path.endswith('pdf'):\n",
        "            doc_path = file_or_tool_path \n",
        "            print('file_paths:',doc_path)\n",
        "\n",
        "            # check if text is already embedded\n",
        "            text = get_emb_txt(doc_path)\n",
        "            if text != '':\n",
        "                \n",
        "                prep_text, doc_wordlist = prep_and_tokenise(text) # tokenise and preprocess text\n",
        "\n",
        "                # get language of text\n",
        "                languages = get_langs(prep_text)\n",
        "                \n",
        "                lang_wordlist_paths = {lang_code:os.path.join(data_path, 'wordlists',(lang_code+'.txt')) for lang_code in languages}\n",
        "                print('languages:',languages)\n",
        "                multilang_score = words_in_langs_ratio(doc_wordlist=doc_wordlist,\n",
        "                                    languages=languages,\n",
        "                                    max_n_words=50,\n",
        "                                    lang_wordlist_paths=lang_wordlist_paths\n",
        "                                    )\n",
        "\n",
        "                if multilang_score < lang_threshold: # if not enough words are part of the language...\n",
        "                    print('SCORE:',multilang_score)\n",
        "                    print('Text is not usable! Score too low.')\n",
        "\n",
        "                    unusable_path = os.path.join(dir_path,('UNUSABLE'+embedded_text_dir))\n",
        "                    os.makedirs(unusable_path, exist_ok=True)\n",
        "                    with open(os.path.join(unusable_path,'unusable_emb.txt'), 'w+') as f:\n",
        "                        f.write(text)\n",
        "                    mark_filename(file_path=doc_path,mark='_no-emb-txt_') # ...call function to mark filename as not having usable embedded text\n",
        "                    \n",
        "                else:\n",
        "                    print('SCORE:',multilang_score)\n",
        "                    print('Score is equal or more than threshold. Embedded text will be stored in a subdirectory of the document\\'s directory.')\n",
        "                    embedded_text_dir_path = os.path.join(dir_path,embedded_text_dir)\n",
        "                    os.makedirs(embedded_text_dir_path, exist_ok=True)\n",
        "                    embedded_text_path = os.path.join(embedded_text_dir_path,'emb.txt')\n",
        "                    with open(embedded_text_path, 'w+') as f:\n",
        "                        f.write(text)\n",
        "\n",
        "            # if no text available, rename doc\n",
        "            else:\n",
        "                print('No text available!')\n",
        "                mark_filename(file_path=doc_path,mark='_no-emb-txt_')"
      ]
    },
    {
      "cell_type": "code",
      "execution_count": 9,
      "metadata": {},
      "outputs": [],
      "source": [
        "#create labels\n",
        "for doc_dir in os.listdir(input_path):\n",
        "    dir_path = os.path.join(input_path,doc_dir)\n",
        "    ref_path = os.path.join(dir_path,ref_dir)\n",
        "    if not os.path.exists(ref_path):            # create ref dir if doesn't exist\n",
        "        os.mkdir(ref_path)\n",
        "        \n",
        "        # add labels to their document's path\n",
        "        for txt_file in os.listdir(dir_path):\n",
        "            if txt_file.endswith('.txt'):\n",
        "                os.rename(os.path.join(dir_path,txt_file),os.path.join(ref_path,txt_file))\n",
        "    \n",
        "    # create empty ref file if it doesn't exist\n",
        "    if not os.listdir(ref_path):\n",
        "        open(os.path.join(ref_path,'label_ref.txt'), 'w+').close()   \n"
      ]
    },
    {
      "cell_type": "markdown",
      "metadata": {
        "id": "Y8hRDYFoW2Iu"
      },
      "source": [
        "# Conversion and Evaluation"
      ]
    },
    {
      "cell_type": "code",
      "execution_count": 10,
      "metadata": {},
      "outputs": [],
      "source": [
        "from tools.conv_tools import conv_ad_save\n",
        "from tools.conv_classes import Doc, TxtConverter\n",
        "from tools.eval_tools import get_cer"
      ]
    },
    {
      "cell_type": "code",
      "execution_count": 11,
      "metadata": {},
      "outputs": [],
      "source": [
        "# create convertor instance from class\n",
        "converter = TxtConverter(tools=ctools)"
      ]
    },
    {
      "cell_type": "code",
      "execution_count": 12,
      "metadata": {},
      "outputs": [
        {
          "name": "stdout",
          "output_type": "stream",
          "text": [
            "Input_path: data/docs\n",
            "dir_path: data/docs/flyer_coleottero_giapponese\n",
            "doc_paths: ['data/docs/flyer_coleottero_giapponese/flyer_coleottero_giappone_zone_misure.pdf']\n",
            "doc_object: <tools.conv_classes.Doc object at 0x7f145ee647c0>\n",
            "\u001b[96mConverting: data/docs/flyer_coleottero_giapponese\u001b[0m\n",
            "{'original': [<_io.BufferedReader name='data/docs/flyer_coleottero_giapponese/flyer_coleottero_giappone_zone_misure.pdf'>]}\n",
            "tool_selection.keys() dict_keys(['PyPDF4_ocr', 'pdfminer_ocr', 'tika_ocr', 'pdfreader_ocr', 'grobid_extr', 'pytesseract_ocr'])\n",
            "tool_names ['pdfreader_ocr', 'pytesseract_ocr', 'tika_ocr', 'pdfminer_ocr', 'PyPDF4_ocr']\n"
          ]
        },
        {
          "name": "stderr",
          "output_type": "stream",
          "text": [
            " 80%|████████  | 4/5 [00:04<00:00,  1.01it/s]PdfReadWarning: Xref table not zero-indexed. ID numbers for objects will be corrected. [pdf.py:1801]\n",
            "100%|██████████| 5/5 [00:04<00:00,  1.07it/s]\n",
            "Warning : `load_model` does not return WordVectorModel or SupervisedModel any more, but a `FastText` object which is very similar.\n"
          ]
        },
        {
          "name": "stdout",
          "output_type": "stream",
          "text": [
            "emb_dir: data/docs/flyer_coleottero_giapponese/embedded_txt\n",
            "DATA dict_keys(['pdfreader_ocr', 'pytesseract_ocr', 'tika_ocr', 'pdfminer_ocr', 'PyPDF4_ocr', 'embedded_text_dir'])\n",
            "['it']\n",
            "COUNT (spellchecker): 91\n",
            "COUNT (spellchecker): 71\n",
            "COUNT (spellchecker): 75\n",
            "COUNT (spellchecker): 76\n",
            "COUNT (spellchecker): 75\n",
            "COUNT (spellchecker): 76\n",
            "dir_path: data/docs/1954_Blöte_Cacopsylla_pruni_Pays-Bas_Hollande_copie\n",
            "doc_paths: ['data/docs/1954_Blöte_Cacopsylla_pruni_Pays-Bas_Hollande_copie/1954_Blöte_Cacopsylla_pruni_Pays-Bas_Hollande_copie.pdf']\n",
            "doc_object: <tools.conv_classes.Doc object at 0x7f144b00fca0>\n",
            "\u001b[96mConverting: data/docs/1954_Blöte_Cacopsylla_pruni_Pays-Bas_Hollande_copie\u001b[0m\n",
            "{'original': [<_io.BufferedReader name='data/docs/1954_Blöte_Cacopsylla_pruni_Pays-Bas_Hollande_copie/1954_Blöte_Cacopsylla_pruni_Pays-Bas_Hollande_copie.pdf'>]}\n",
            "tool_selection.keys() dict_keys(['PyPDF4_ocr', 'pdfminer_ocr', 'tika_ocr', 'pdfreader_ocr', 'grobid_extr', 'pytesseract_ocr'])\n",
            "tool_names ['pdfreader_ocr', 'pytesseract_ocr', 'tika_ocr', 'pdfminer_ocr', 'PyPDF4_ocr']\n"
          ]
        },
        {
          "name": "stderr",
          "output_type": "stream",
          "text": [
            " 20%|██        | 1/5 [00:00<00:00,  6.75it/s]"
          ]
        },
        {
          "name": "stdout",
          "output_type": "stream",
          "text": [
            "Value Error\n"
          ]
        },
        {
          "name": "stderr",
          "output_type": "stream",
          "text": [
            " 80%|████████  | 4/5 [00:31<00:07,  7.34s/it]PdfReadWarning: Xref table not zero-indexed. ID numbers for objects will be corrected. [pdf.py:1801]\n",
            "100%|██████████| 5/5 [00:32<00:00,  6.42s/it]\n",
            "Warning : `load_model` does not return WordVectorModel or SupervisedModel any more, but a `FastText` object which is very similar.\n"
          ]
        },
        {
          "name": "stdout",
          "output_type": "stream",
          "text": [
            "emb_dir: data/docs/1954_Blöte_Cacopsylla_pruni_Pays-Bas_Hollande_copie/embedded_txt\n",
            "DATA dict_keys(['pdfreader_ocr', 'pytesseract_ocr', 'tika_ocr', 'pdfminer_ocr', 'PyPDF4_ocr', 'embedded_text_dir'])\n",
            "['nl']\n",
            "COUNT (spellchecker): 0\n",
            "COUNT (spellchecker): 59\n",
            "COUNT (spellchecker): 68\n",
            "COUNT (spellchecker): 68\n",
            "COUNT (spellchecker): 66\n",
            "COUNT (spellchecker): 68\n",
            "dir_path: data/docs/footnote\n",
            "doc_paths: ['data/docs/footnote/footnote.pdf']\n",
            "doc_object: <tools.conv_classes.Doc object at 0x7f144ac2a550>\n",
            "\u001b[96mConverting: data/docs/footnote\u001b[0m\n",
            "{'original': [<_io.BufferedReader name='data/docs/footnote/footnote.pdf'>]}\n",
            "tool_selection.keys() dict_keys(['PyPDF4_ocr', 'pdfminer_ocr', 'tika_ocr', 'pdfreader_ocr', 'grobid_extr', 'pytesseract_ocr'])\n",
            "tool_names ['pdfreader_ocr', 'pytesseract_ocr', 'tika_ocr', 'pdfminer_ocr', 'PyPDF4_ocr']\n"
          ]
        },
        {
          "name": "stderr",
          "output_type": "stream",
          "text": [
            "100%|██████████| 5/5 [00:03<00:00,  1.48it/s]\n",
            "Warning : `load_model` does not return WordVectorModel or SupervisedModel any more, but a `FastText` object which is very similar.\n"
          ]
        },
        {
          "name": "stdout",
          "output_type": "stream",
          "text": [
            "emb_dir: data/docs/footnote/embedded_txt\n",
            "DATA dict_keys(['pdfreader_ocr', 'pytesseract_ocr', 'tika_ocr', 'pdfminer_ocr', 'PyPDF4_ocr', 'embedded_text_dir'])\n",
            "['sv']\n",
            "COUNT (spellchecker): 82\n",
            "COUNT (spellchecker): 51\n",
            "COUNT (spellchecker): 56\n",
            "COUNT (spellchecker): 52\n",
            "COUNT (spellchecker): 48\n",
            "COUNT (spellchecker): 55\n",
            "dir_path: data/docs/sample_no_txt\n",
            "doc_paths: ['data/docs/sample_no_txt/sample_no_txt.pdf']\n",
            "doc_object: <tools.conv_classes.Doc object at 0x7f14498529a0>\n",
            "\u001b[96mConverting: data/docs/sample_no_txt\u001b[0m\n",
            "{'original': [<_io.BufferedReader name='data/docs/sample_no_txt/sample_no_txt.pdf'>]}\n",
            "tool_selection.keys() dict_keys(['PyPDF4_ocr', 'pdfminer_ocr', 'tika_ocr', 'pdfreader_ocr', 'grobid_extr', 'pytesseract_ocr'])\n",
            "tool_names ['pdfreader_ocr', 'pytesseract_ocr', 'tika_ocr', 'pdfminer_ocr', 'PyPDF4_ocr']\n"
          ]
        },
        {
          "name": "stderr",
          "output_type": "stream",
          "text": [
            "100%|██████████| 5/5 [01:07<00:00, 13.53s/it]\n",
            "Warning : `load_model` does not return WordVectorModel or SupervisedModel any more, but a `FastText` object which is very similar.\n"
          ]
        },
        {
          "name": "stdout",
          "output_type": "stream",
          "text": [
            "emb_dir: data/docs/sample_no_txt/embedded_txt\n",
            "DATA dict_keys(['pdfreader_ocr', 'pytesseract_ocr', 'tika_ocr', 'pdfminer_ocr', 'PyPDF4_ocr', 'embedded_text_dir'])\n",
            "['de']\n",
            "COUNT (spellchecker): 6\n",
            "COUNT (spellchecker): 23\n",
            "COUNT (spellchecker): 27\n",
            "COUNT (spellchecker): 28\n",
            "COUNT (spellchecker): 28\n",
            "COUNT (spellchecker): 27\n",
            "Character Error Rates {'flyer_coleottero_giappone_zone_misure.pdf': {'pdfreader_ocr': 78108.0, 'pytesseract_ocr': 20484.0, 'tika_ocr': 21844.0, 'pdfminer_ocr': 21128.0, 'PyPDF4_ocr': 20520.0, 'embedded_text_dir': 21012.0}, '1954_blöte_cacopsylla_pruni_pays-bas_hollande_copie.pdf': {'pdfreader_ocr': 100.0, 'pytesseract_ocr': 240615.3846, 'tika_ocr': 259815.3846, 'pdfminer_ocr': 272553.8462, 'PyPDF4_ocr': 334476.9231, 'embedded_text_dir': 260338.4615}, 'footnote.pdf': {'pdfreader_ocr': 239400.0, 'pytesseract_ocr': 17376.9231, 'tika_ocr': 19023.0769, 'pdfminer_ocr': 21715.3846, 'PyPDF4_ocr': 22500.0, 'embedded_text_dir': 18738.4615}, 'sample_no_txt.pdf': {'pdfreader_ocr': 330.7692, 'pytesseract_ocr': 629215.3846, 'tika_ocr': 673169.2308, 'pdfminer_ocr': 736315.3846, 'PyPDF4_ocr': 689492.3077, 'embedded_text_dir': 647884.6154}}\n",
            "Language Accuracy {'data/docs/sample_no_txt/sample_no_txt.pdf': {'de': {'pdfreader_ocr': 0.8571428571428571, 'pytesseract_ocr': 0.23, 'tika_ocr': 0.27, 'pdfminer_ocr': 0.28, 'PyPDF4_ocr': 0.28, 'embedded_text_dir': 0.27}}}\n"
          ]
        }
      ],
      "source": [
        "# for doc in data (each doc has its own directory)\n",
        "print('Input_path:', input_path) \n",
        "cers = {} # CER scores\n",
        "las = {}\n",
        "\n",
        "for dir in os.listdir(input_path):\n",
        "    dir_path = os.path.join(input_path,dir)\n",
        "    print('dir_path:',dir_path)\n",
        "    \n",
        "    doc_paths = [os.path.join(dir_path, filepath) for filepath in os.listdir(dir_path) if os.path.isfile(os.path.join(dir_path, filepath))]\n",
        "    print('doc_paths:',doc_paths)\n",
        "    # create Doc instance with doc path\n",
        "    doc_object = Doc(doc_paths, tools=ctools)\n",
        "    print('doc_object:',doc_object)\n",
        "\n",
        "        \n",
        "    ## CONVERSION\n",
        "    conv_ad_save(dir_path,\n",
        "            doc_object,\n",
        "            converter,\n",
        "            tool_names=tools_for_conversion,\n",
        "            overwrite=False) # set to True to overwrite previous conversion exports\n",
        "    embedded_text_path = os.path.join(dir_path, embedded_text_dir)\n",
        "    if os.path.exists(embedded_text_path) and [filename.endswith('.txt') for filename in os.listdir(embedded_text_path)]:\n",
        "        emb_dir = os.path.join(dir_path,embedded_text_dir)\n",
        "        print('emb_dir:',emb_dir)\n",
        "        emb_file = [os.path.join(emb_dir,file) for file in os.listdir(emb_dir)][0]\n",
        "        with open(emb_file) as f:\n",
        "            embedded_text = f.read()\n",
        "        doc_object.data['txt'].update(dict(embedded_text_dir=embedded_text))\n",
        "    \n",
        "\n",
        "    ## GET METADATA\n",
        "    print('DATA',doc_object.data['txt'].keys())\n",
        "    if doc_object.data['txt']['embedded_text_dir']:\n",
        "            text = doc_object.data['txt']['embedded_text_dir']\n",
        "    else: doc_object.data['txt']['pytesseract_ocr']\n",
        "    prep_text,_ = prep_and_tokenise(text)\n",
        "    doc_object.get_metadata(prep_text)\n",
        "    lang_codes = doc_object.metadata['lang_codes']\n",
        "    print(lang_codes)\n",
        "    # TODO store metadata in dir_path/meta.jason\n",
        "        \n",
        "    ## EVALUATION \n",
        "        # (1) Language Accuracy\n",
        "    las[doc_path] = {}\n",
        "    for lang_code in lang_codes:\n",
        "        las[doc_path][lang_code] = {}\n",
        "        txt_convs = doc_object.data['txt']\n",
        "        tools = txt_convs.keys()\n",
        "        for tool in tools:\n",
        "            _,doc_wordlist = prep_and_tokenise(txt_convs[tool])\n",
        "            la = words_in_lang_ratio(doc_wordlist,\n",
        "                                    lang_code,\n",
        "                                    lang_wordlist=[],\n",
        "                                    lang_wordlist_path='',\n",
        "                                    max_n_words=100)\n",
        "            las[doc_path][lang_code][tool]=la\n",
        "\n",
        "\n",
        "        # (2) Character Error Rate \n",
        "    doc_cer = get_cer(cers,\n",
        "            doc_object,\n",
        "            dir_path,\n",
        "            ref_dir,\n",
        "            source='obj')\n",
        "            \n",
        "    cers.update(doc_cer)\n",
        "    #else:\n",
        "    #print('Embedded text already exists for', dir)\n",
        "\n",
        "print('Character Error Rates', cers)\n",
        "print('Language Accuracy', las)"
      ]
    },
    {
      "cell_type": "markdown",
      "metadata": {},
      "source": [
        "# Evaluation from converted txt files\n",
        "(to be used if conversion outputs have already been saved)"
      ]
    },
    {
      "cell_type": "code",
      "execution_count": 13,
      "metadata": {},
      "outputs": [
        {
          "data": {
            "text/plain": [
              "1"
            ]
          },
          "execution_count": 13,
          "metadata": {},
          "output_type": "execute_result"
        }
      ],
      "source": [
        "x = ['ammmma', 'fqefqfze', 'io']\n",
        "true_counter(func=in_lang_sc, elems=x, lang_code='it')"
      ]
    },
    {
      "cell_type": "code",
      "execution_count": 14,
      "metadata": {},
      "outputs": [],
      "source": [
        "## SCORE (1) Character Error Rate\n",
        "cers = {}\n",
        "for dir in os.listdir(input_path):\n",
        "    dir_path = os.path.join(input_path,dir)\n",
        "    doc_paths = [os.path.join(dir_path, filepath) for filepath in os.listdir(dir_path) if os.path.isfile(os.path.join(dir_path, filepath))]\n",
        "    \n",
        "    # create Doc instance with doc path\n",
        "    doc_object = Doc(doc_paths, tools=ctools)\n",
        "\n",
        "    cers = get_cer(cers,\n",
        "                    doc_object,\n",
        "                    dir_path,\n",
        "                    ref_dir,\n",
        "                    source='file')"
      ]
    },
    {
      "cell_type": "code",
      "execution_count": 15,
      "metadata": {},
      "outputs": [
        {
          "data": {
            "text/plain": [
              "\"las = {}\\nfor dir in os.listdir(input_path):\\n    dir_path = os.path.join(input_path,dir)\\n    doc_paths = [os.path.join(dir_path, filepath) for filepath in os.listdir(dir_path) if os.path.isfile(os.path.join(dir_path, filepath))]\\n    \\n    # create Doc instance with doc path\\n    doc_object = Doc(doc_paths, tools=ctools)\\n    \\n    las = get_la(las,\\n                    doc_object,\\n                    dir_path,\\n                    ref_dir,\\n                    source='file')\\n                    \\ndef get_la=(las,\\n            doc_object,\\n            dir_path,\\n            metadata,\\n            ref_dir,\\n            source='file')\""
            ]
          },
          "execution_count": 15,
          "metadata": {},
          "output_type": "execute_result"
        }
      ],
      "source": [
        "## SCORE (2) language accuracy\n",
        "'''las = {}\n",
        "for dir in os.listdir(input_path):\n",
        "    dir_path = os.path.join(input_path,dir)\n",
        "    doc_paths = [os.path.join(dir_path, filepath) for filepath in os.listdir(dir_path) if os.path.isfile(os.path.join(dir_path, filepath))]\n",
        "    \n",
        "    # create Doc instance with doc path\n",
        "    doc_object = Doc(doc_paths, tools=ctools)\n",
        "    \n",
        "    las = get_la(las,\n",
        "                    doc_object,\n",
        "                    dir_path,\n",
        "                    ref_dir,\n",
        "                    source='file')\n",
        "                    \n",
        "def get_la=(las,\n",
        "            doc_object,\n",
        "            dir_path,\n",
        "            metadata,\n",
        "            ref_dir,\n",
        "            source='file')'''"
      ]
    },
    {
      "cell_type": "markdown",
      "metadata": {},
      "source": [
        "# Visualisation"
      ]
    },
    {
      "cell_type": "code",
      "execution_count": 16,
      "metadata": {},
      "outputs": [],
      "source": [
        "import seaborn as sns\n",
        "import matplotlib.pyplot as plt\n",
        "import numpy as np"
      ]
    },
    {
      "cell_type": "code",
      "execution_count": 17,
      "metadata": {},
      "outputs": [
        {
          "data": {
            "text/plain": [
              "{'pdfreader_ocr': 317938.7692,\n",
              " 'embedded_txt': 947973.5384,\n",
              " 'PyPDF4_ocr': 1066989.2308,\n",
              " 'pdfminer_ocr': 1051712.6154,\n",
              " 'tika_ocr': 973851.6923,\n",
              " 'UNUSABLEembedded_txt': 947973.5384,\n",
              " 'pytesseract_ocr': 907691.6923}"
            ]
          },
          "execution_count": 17,
          "metadata": {},
          "output_type": "execute_result"
        }
      ],
      "source": [
        "# sum up scores per tools\n",
        "cer_per_tool = {}\n",
        "\n",
        "for _,tool_cer in cers.items():\n",
        "    for tool,cer in tool_cer.items():\n",
        "        cer_per_tool[tool] = 0   \n",
        "    break\n",
        "        \n",
        "for _,tool_cer in cers.items():\n",
        "    for tool,cer in tool_cer.items():\n",
        "        cer_per_tool[tool] = cer_per_tool[tool]+cer\n",
        "\n",
        "cer_per_tool\n"
      ]
    },
    {
      "cell_type": "code",
      "execution_count": 18,
      "metadata": {},
      "outputs": [
        {
          "data": {
            "text/plain": [
              "{'pdfreader_ocr': 0.8571428571428571,\n",
              " 'pytesseract_ocr': 0.23,\n",
              " 'tika_ocr': 0.27,\n",
              " 'pdfminer_ocr': 0.28,\n",
              " 'PyPDF4_ocr': 0.28,\n",
              " 'embedded_text_dir': 0.27}"
            ]
          },
          "execution_count": 18,
          "metadata": {},
          "output_type": "execute_result"
        }
      ],
      "source": [
        "# sum up scores per tools\n",
        "la_per_tool = {}\n",
        "\n",
        "for _,lang_d in las.items():\n",
        "    for _,tool_d in lang_d.items():\n",
        "        for tool,_ in tool_d.items():\n",
        "            la_per_tool[tool] = 0\n",
        "        break\n",
        "    break\n",
        "        \n",
        "for _,lang_d in las.items():\n",
        "    for _,tool_d in lang_d.items():\n",
        "        for tool,la in tool_d.items():\n",
        "            la_per_tool[tool] = la_per_tool[tool]+la\n",
        "\n",
        "la_per_tool\n"
      ]
    },
    {
      "cell_type": "code",
      "execution_count": 19,
      "metadata": {},
      "outputs": [],
      "source": [
        "data = la_per_tool"
      ]
    },
    {
      "cell_type": "code",
      "execution_count": 20,
      "metadata": {},
      "outputs": [
        {
          "data": {
            "text/plain": [
              "<AxesSubplot:>"
            ]
          },
          "execution_count": 20,
          "metadata": {},
          "output_type": "execute_result"
        },
        {
          "data": {
            "image/png": "[encoded data removed]",
            "text/plain": [
              "<Figure size 842.4x595.44 with 1 Axes>"
            ]
          },
          "metadata": {},
          "output_type": "display_data"
        }
      ],
      "source": [
        "sns.set(rc={'figure.figsize':(11.7,8.27)})\n",
        "plt.xticks(rotation=45)\n",
        "sns.barplot(x=list(data.keys()), y=list(data.values()))"
      ]
    },
    {
      "cell_type": "code",
      "execution_count": 24,
      "metadata": {},
      "outputs": [
        {
          "ename": "FileNotFoundError",
          "evalue": "[Errno 2] No such file or directory: 'cd'",
          "output_type": "error",
          "traceback": [
            "\u001b[0;31m---------------------------------------------------------------------------\u001b[0m",
            "\u001b[0;31mFileNotFoundError\u001b[0m                         Traceback (most recent call last)",
            "\u001b[1;32m/home/lubrini/GitHub/psylloidea_ontology/img2txt/PDF2TXT.ipynb Cell 27'\u001b[0m in \u001b[0;36m<cell line: 2>\u001b[0;34m()\u001b[0m\n\u001b[1;32m      <a href='vscode-notebook-cell:/home/lubrini/GitHub/psylloidea_ontology/img2txt/PDF2TXT.ipynb#ch0000030?line=0'>1</a>\u001b[0m \u001b[39mfrom\u001b[39;00m \u001b[39mtools\u001b[39;00m\u001b[39m.\u001b[39;00m\u001b[39mconv_tools\u001b[39;00m \u001b[39mimport\u001b[39;00m grobid_extr\n\u001b[0;32m----> <a href='vscode-notebook-cell:/home/lubrini/GitHub/psylloidea_ontology/img2txt/PDF2TXT.ipynb#ch0000030?line=1'>2</a>\u001b[0m grobid_extr(\u001b[39m'\u001b[39;49m\u001b[39m/home/lubrini/GitHub/psylloidea_ontology/img2txt/data/docs/sample_no_txt/sample_no_txt.pdf\u001b[39;49m\u001b[39m'\u001b[39;49m)\n",
            "File \u001b[0;32m~/GitHub/psylloidea_ontology/img2txt/tools/conv_tools.py:162\u001b[0m, in \u001b[0;36mgrobid_extr\u001b[0;34m(pdf_filepath)\u001b[0m\n\u001b[1;32m    <a href='file:///home/lubrini/GitHub/psylloidea_ontology/img2txt/tools/conv_tools.py?line=160'>161</a>\u001b[0m \u001b[39mdef\u001b[39;00m \u001b[39mgrobid_extr\u001b[39m(pdf_filepath):\n\u001b[0;32m--> <a href='file:///home/lubrini/GitHub/psylloidea_ontology/img2txt/tools/conv_tools.py?line=161'>162</a>\u001b[0m     \u001b[39mreturn\u001b[39;00m grobid\u001b[39m.\u001b[39;49mextract_emb_txt(pdf_filepath)\n",
            "File \u001b[0;32m~/GitHub/psylloidea_ontology/img2txt/tools/grobid.py:18\u001b[0m, in \u001b[0;36mextract_emb_txt\u001b[0;34m(pdf_filepath, grobid_inst_path, config_path, GROBID_URL, url)\u001b[0m\n\u001b[1;32m     <a href='file:///home/lubrini/GitHub/psylloidea_ontology/img2txt/tools/grobid.py?line=10'>11</a>\u001b[0m \u001b[39mdef\u001b[39;00m \u001b[39mextract_emb_txt\u001b[39m(pdf_filepath,\n\u001b[1;32m     <a href='file:///home/lubrini/GitHub/psylloidea_ontology/img2txt/tools/grobid.py?line=11'>12</a>\u001b[0m                     grobid_inst_path\u001b[39m=\u001b[39mconfig[\u001b[39m'\u001b[39m\u001b[39mgrobid_inst_path\u001b[39m\u001b[39m'\u001b[39m],\n\u001b[1;32m     <a href='file:///home/lubrini/GitHub/psylloidea_ontology/img2txt/tools/grobid.py?line=12'>13</a>\u001b[0m                     config_path\u001b[39m=\u001b[39mconfig[\u001b[39m'\u001b[39m\u001b[39mconfig_path\u001b[39m\u001b[39m'\u001b[39m],\n\u001b[1;32m     <a href='file:///home/lubrini/GitHub/psylloidea_ontology/img2txt/tools/grobid.py?line=13'>14</a>\u001b[0m                     GROBID_URL\u001b[39m=\u001b[39mconfig[\u001b[39m'\u001b[39m\u001b[39mGROBID_URL\u001b[39m\u001b[39m'\u001b[39m],\n\u001b[1;32m     <a href='file:///home/lubrini/GitHub/psylloidea_ontology/img2txt/tools/grobid.py?line=14'>15</a>\u001b[0m                     url\u001b[39m=\u001b[39mconfig[\u001b[39m'\u001b[39m\u001b[39murl\u001b[39m\u001b[39m'\u001b[39m]\n\u001b[1;32m     <a href='file:///home/lubrini/GitHub/psylloidea_ontology/img2txt/tools/grobid.py?line=15'>16</a>\u001b[0m                     ):\n\u001b[0;32m---> <a href='file:///home/lubrini/GitHub/psylloidea_ontology/img2txt/tools/grobid.py?line=17'>18</a>\u001b[0m     subprocess\u001b[39m.\u001b[39;49mrun([\u001b[39m'\u001b[39;49m\u001b[39mcd\u001b[39;49m\u001b[39m'\u001b[39;49m,grobid_inst_path,\u001b[39m'\u001b[39;49m\u001b[39m&\u001b[39;49m\u001b[39m'\u001b[39;49m, \u001b[39m'\u001b[39;49m\u001b[39mbash\u001b[39;49m\u001b[39m'\u001b[39;49m, \u001b[39m'\u001b[39;49m\u001b[39mgradlew\u001b[39;49m\u001b[39m'\u001b[39;49m, \u001b[39m'\u001b[39;49m\u001b[39mrun\u001b[39;49m\u001b[39m'\u001b[39;49m])\n\u001b[1;32m     <a href='file:///home/lubrini/GitHub/psylloidea_ontology/img2txt/tools/grobid.py?line=19'>20</a>\u001b[0m     client \u001b[39m=\u001b[39m GrobidClient(config_path)\n\u001b[1;32m     <a href='file:///home/lubrini/GitHub/psylloidea_ontology/img2txt/tools/grobid.py?line=21'>22</a>\u001b[0m     client\u001b[39m.\u001b[39mprocess(\u001b[39m\"\u001b[39m\u001b[39mprocessFulltextDocument\u001b[39m\u001b[39m\"\u001b[39m,\n\u001b[1;32m     <a href='file:///home/lubrini/GitHub/psylloidea_ontology/img2txt/tools/grobid.py?line=22'>23</a>\u001b[0m                     input_path\u001b[39m=\u001b[39mpdf_filepath,\n\u001b[1;32m     <a href='file:///home/lubrini/GitHub/psylloidea_ontology/img2txt/tools/grobid.py?line=23'>24</a>\u001b[0m                     verbose\u001b[39m=\u001b[39m\u001b[39mTrue\u001b[39;00m,\n\u001b[1;32m     <a href='file:///home/lubrini/GitHub/psylloidea_ontology/img2txt/tools/grobid.py?line=24'>25</a>\u001b[0m                     consolidate_citations\u001b[39m=\u001b[39m\u001b[39mTrue\u001b[39;00m, tei_coordinates\u001b[39m=\u001b[39m\u001b[39mTrue\u001b[39;00m, force\u001b[39m=\u001b[39m\u001b[39mTrue\u001b[39;00m)\n",
            "File \u001b[0;32m~/miniconda3/lib/python3.9/subprocess.py:505\u001b[0m, in \u001b[0;36mrun\u001b[0;34m(input, capture_output, timeout, check, *popenargs, **kwargs)\u001b[0m\n\u001b[1;32m    <a href='file:///home/lubrini/miniconda3/lib/python3.9/subprocess.py?line=501'>502</a>\u001b[0m     kwargs[\u001b[39m'\u001b[39m\u001b[39mstdout\u001b[39m\u001b[39m'\u001b[39m] \u001b[39m=\u001b[39m PIPE\n\u001b[1;32m    <a href='file:///home/lubrini/miniconda3/lib/python3.9/subprocess.py?line=502'>503</a>\u001b[0m     kwargs[\u001b[39m'\u001b[39m\u001b[39mstderr\u001b[39m\u001b[39m'\u001b[39m] \u001b[39m=\u001b[39m PIPE\n\u001b[0;32m--> <a href='file:///home/lubrini/miniconda3/lib/python3.9/subprocess.py?line=504'>505</a>\u001b[0m \u001b[39mwith\u001b[39;00m Popen(\u001b[39m*\u001b[39;49mpopenargs, \u001b[39m*\u001b[39;49m\u001b[39m*\u001b[39;49mkwargs) \u001b[39mas\u001b[39;00m process:\n\u001b[1;32m    <a href='file:///home/lubrini/miniconda3/lib/python3.9/subprocess.py?line=505'>506</a>\u001b[0m     \u001b[39mtry\u001b[39;00m:\n\u001b[1;32m    <a href='file:///home/lubrini/miniconda3/lib/python3.9/subprocess.py?line=506'>507</a>\u001b[0m         stdout, stderr \u001b[39m=\u001b[39m process\u001b[39m.\u001b[39mcommunicate(\u001b[39minput\u001b[39m, timeout\u001b[39m=\u001b[39mtimeout)\n",
            "File \u001b[0;32m~/miniconda3/lib/python3.9/subprocess.py:951\u001b[0m, in \u001b[0;36mPopen.__init__\u001b[0;34m(self, args, bufsize, executable, stdin, stdout, stderr, preexec_fn, close_fds, shell, cwd, env, universal_newlines, startupinfo, creationflags, restore_signals, start_new_session, pass_fds, user, group, extra_groups, encoding, errors, text, umask)\u001b[0m\n\u001b[1;32m    <a href='file:///home/lubrini/miniconda3/lib/python3.9/subprocess.py?line=946'>947</a>\u001b[0m         \u001b[39mif\u001b[39;00m \u001b[39mself\u001b[39m\u001b[39m.\u001b[39mtext_mode:\n\u001b[1;32m    <a href='file:///home/lubrini/miniconda3/lib/python3.9/subprocess.py?line=947'>948</a>\u001b[0m             \u001b[39mself\u001b[39m\u001b[39m.\u001b[39mstderr \u001b[39m=\u001b[39m io\u001b[39m.\u001b[39mTextIOWrapper(\u001b[39mself\u001b[39m\u001b[39m.\u001b[39mstderr,\n\u001b[1;32m    <a href='file:///home/lubrini/miniconda3/lib/python3.9/subprocess.py?line=948'>949</a>\u001b[0m                     encoding\u001b[39m=\u001b[39mencoding, errors\u001b[39m=\u001b[39merrors)\n\u001b[0;32m--> <a href='file:///home/lubrini/miniconda3/lib/python3.9/subprocess.py?line=950'>951</a>\u001b[0m     \u001b[39mself\u001b[39;49m\u001b[39m.\u001b[39;49m_execute_child(args, executable, preexec_fn, close_fds,\n\u001b[1;32m    <a href='file:///home/lubrini/miniconda3/lib/python3.9/subprocess.py?line=951'>952</a>\u001b[0m                         pass_fds, cwd, env,\n\u001b[1;32m    <a href='file:///home/lubrini/miniconda3/lib/python3.9/subprocess.py?line=952'>953</a>\u001b[0m                         startupinfo, creationflags, shell,\n\u001b[1;32m    <a href='file:///home/lubrini/miniconda3/lib/python3.9/subprocess.py?line=953'>954</a>\u001b[0m                         p2cread, p2cwrite,\n\u001b[1;32m    <a href='file:///home/lubrini/miniconda3/lib/python3.9/subprocess.py?line=954'>955</a>\u001b[0m                         c2pread, c2pwrite,\n\u001b[1;32m    <a href='file:///home/lubrini/miniconda3/lib/python3.9/subprocess.py?line=955'>956</a>\u001b[0m                         errread, errwrite,\n\u001b[1;32m    <a href='file:///home/lubrini/miniconda3/lib/python3.9/subprocess.py?line=956'>957</a>\u001b[0m                         restore_signals,\n\u001b[1;32m    <a href='file:///home/lubrini/miniconda3/lib/python3.9/subprocess.py?line=957'>958</a>\u001b[0m                         gid, gids, uid, umask,\n\u001b[1;32m    <a href='file:///home/lubrini/miniconda3/lib/python3.9/subprocess.py?line=958'>959</a>\u001b[0m                         start_new_session)\n\u001b[1;32m    <a href='file:///home/lubrini/miniconda3/lib/python3.9/subprocess.py?line=959'>960</a>\u001b[0m \u001b[39mexcept\u001b[39;00m:\n\u001b[1;32m    <a href='file:///home/lubrini/miniconda3/lib/python3.9/subprocess.py?line=960'>961</a>\u001b[0m     \u001b[39m# Cleanup if the child failed starting.\u001b[39;00m\n\u001b[1;32m    <a href='file:///home/lubrini/miniconda3/lib/python3.9/subprocess.py?line=961'>962</a>\u001b[0m     \u001b[39mfor\u001b[39;00m f \u001b[39min\u001b[39;00m \u001b[39mfilter\u001b[39m(\u001b[39mNone\u001b[39;00m, (\u001b[39mself\u001b[39m\u001b[39m.\u001b[39mstdin, \u001b[39mself\u001b[39m\u001b[39m.\u001b[39mstdout, \u001b[39mself\u001b[39m\u001b[39m.\u001b[39mstderr)):\n",
            "File \u001b[0;32m~/miniconda3/lib/python3.9/subprocess.py:1821\u001b[0m, in \u001b[0;36mPopen._execute_child\u001b[0;34m(self, args, executable, preexec_fn, close_fds, pass_fds, cwd, env, startupinfo, creationflags, shell, p2cread, p2cwrite, c2pread, c2pwrite, errread, errwrite, restore_signals, gid, gids, uid, umask, start_new_session)\u001b[0m\n\u001b[1;32m   <a href='file:///home/lubrini/miniconda3/lib/python3.9/subprocess.py?line=1818'>1819</a>\u001b[0m     \u001b[39mif\u001b[39;00m errno_num \u001b[39m!=\u001b[39m \u001b[39m0\u001b[39m:\n\u001b[1;32m   <a href='file:///home/lubrini/miniconda3/lib/python3.9/subprocess.py?line=1819'>1820</a>\u001b[0m         err_msg \u001b[39m=\u001b[39m os\u001b[39m.\u001b[39mstrerror(errno_num)\n\u001b[0;32m-> <a href='file:///home/lubrini/miniconda3/lib/python3.9/subprocess.py?line=1820'>1821</a>\u001b[0m     \u001b[39mraise\u001b[39;00m child_exception_type(errno_num, err_msg, err_filename)\n\u001b[1;32m   <a href='file:///home/lubrini/miniconda3/lib/python3.9/subprocess.py?line=1821'>1822</a>\u001b[0m \u001b[39mraise\u001b[39;00m child_exception_type(err_msg)\n",
            "\u001b[0;31mFileNotFoundError\u001b[0m: [Errno 2] No such file or directory: 'cd'"
          ]
        }
      ],
      "source": [
        "from tools.conv_tools import grobid_extr\n",
        "grobid_extr('/home/lubrini/GitHub/psylloidea_ontology/img2txt/data/docs/sample_no_txt/sample_no_txt.pdf')"
      ]
    }
  ],
  "metadata": {
    "colab": {
      "collapsed_sections": [],
      "name": "PDF2TXT.ipynb",
      "provenance": []
    },
    "interpreter": {
      "hash": "edcc5be5a525af8e97e23bf1972aea5fd07a1c7f57254dc7385b6797660d8cb8"
    },
    "kernelspec": {
      "display_name": "Python 3.9.7 ('venv': venv)",
      "language": "python",
      "name": "python3"
    },
    "language_info": {
      "codemirror_mode": {
        "name": "ipython",
        "version": 3
      },
      "file_extension": ".py",
      "mimetype": "text/x-python",
      "name": "python",
      "nbconvert_exporter": "python",
      "pygments_lexer": "ipython3",
      "version": "3.9.7"
    }
  },
  "nbformat": 4,
  "nbformat_minor": 0
}
