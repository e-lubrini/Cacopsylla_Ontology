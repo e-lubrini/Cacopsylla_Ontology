{
  "cells": [
    {
      "cell_type": "markdown",
      "metadata": {
        "id": "Q6_qrxn6Wr97"
      },
      "source": [
        "# Config"
      ]
    },
    {
      "cell_type": "code",
      "execution_count": 1,
      "metadata": {},
      "outputs": [],
      "source": [
        "import os\n",
        "from tools.utils import *"
      ]
    },
    {
      "cell_type": "code",
      "execution_count": 2,
      "metadata": {
        "id": "utrLifOwX781"
      },
      "outputs": [
        {
          "data": {
            "text/plain": [
              "dict_keys(['PyPDF4_ocr', 'extract_text', 'grobid_extr', 'img2pdf', 'pdf2img', 'pdfminer_ocr', 'pdfreader_ocr', 'pytesseract_ocr', 'tika_ocr'])"
            ]
          },
          "execution_count": 2,
          "metadata": {},
          "output_type": "execute_result"
        }
      ],
      "source": [
        "# import conversion tools\n",
        "from tools.conversion.conv_funs import *\n",
        "from tools.conversion import conv_funs\n",
        "ctools = get_funs_from_module(conv_funs)\n",
        "ctools.keys()"
      ]
    },
    {
      "cell_type": "code",
      "execution_count": 3,
      "metadata": {},
      "outputs": [
        {
          "data": {
            "text/plain": [
              "dict_keys(['dbg', 'emb_text_is_usable', 'eval_tools_scores', 'get_child_dir_paths', 'get_child_ext_path', 'get_emb_txt', 'get_funs_from_module', 'get_langs', 'get_metadata', 'get_parent_dir', 'get_var_name', 'getmembers', 'grobid_extr', 'in_lang_sc', 'in_lang_wl', 'isfunction', 'join_parentpath_childnames', 'list_ext', 'mv_to_custom_dir', 'pdf2txt', 'pdf2xml', 'prep_and_tokenise', 'read_doc_metadata', 'spellcheck_score', 'translate_wl', 'true_counter', 'word_is_correct_Q', 'words_in_lang_ratio', 'words_in_langs_ratio', 'write_pdf_metadata'])"
            ]
          },
          "execution_count": 3,
          "metadata": {},
          "output_type": "execute_result"
        }
      ],
      "source": [
        "from tools import eval_tools\n",
        "etools = get_funs_from_module(eval_tools)\n",
        "etools.keys()"
      ]
    },
    {
      "cell_type": "markdown",
      "metadata": {
        "id": "XfK6MTi_WoHr"
      },
      "source": [
        "# Load and Rearrange Files"
      ]
    },
    {
      "cell_type": "code",
      "execution_count": 4,
      "metadata": {},
      "outputs": [],
      "source": [
        "from tools.utils import *"
      ]
    },
    {
      "cell_type": "code",
      "execution_count": 14,
      "metadata": {},
      "outputs": [],
      "source": [
        "data_path = os.path.join('data')\n",
        "\n",
        "input_dir_path = os.path.join(data_path, 'docs_for_eval')\n",
        "\n",
        "selected_conv_tools = ['PyPDF4_ocr',    # names of the tools for conversion\n",
        "                    'extract_text',\n",
        "                    'pdfminer_ocr',\n",
        "                    'pdfreader_ocr',\n",
        "                    'pytesseract_ocr',\n",
        "                    'tika_ocr',  \n",
        "                    ]\n",
        "selected_scores = ['spellcheck_score',  # names of the scores for tool evaluation\n",
        "                    ]\n",
        "score_data_filepath = os.path.join('evaluation_results','scores')\n",
        "\n",
        "doc_paths = [os.path.join(input_dir_path, filepath) for filepath in os.listdir(input_dir_path) if os.path.isfile(os.path.join(input_dir_path, filepath))]\n"
      ]
    },
    {
      "cell_type": "code",
      "execution_count": 6,
      "metadata": {},
      "outputs": [],
      "source": [
        "# if there are any imgs, convert them to pdf\n",
        "not_pdf_filepaths = list_ext(input_dir_path,    # files to be converted to pdf\n",
        "                            exts=['pdf'],\n",
        "                            invert=True)\n",
        "                            \n",
        "map(functools.partial(ctools['img2pdf'],           # convert to pdf\n",
        "                    input_dir_path_path=input_dir_path),\n",
        "    not_pdf_filepaths)      \n",
        "\n",
        "pdf_filepaths = list_ext(input_dir_path,        # all pdf files\n",
        "                        exts=['pdf'],\n",
        "                        invert=False)"
      ]
    },
    {
      "cell_type": "code",
      "execution_count": 7,
      "metadata": {},
      "outputs": [],
      "source": [
        "# rearrange folder structure\n",
        "for pdf_filepath in pdf_filepaths:\n",
        "    mv_to_custom_dir(pdf_filepath)"
      ]
    },
    {
      "cell_type": "code",
      "execution_count": 8,
      "metadata": {},
      "outputs": [
        {
          "name": "stdout",
          "output_type": "stream",
          "text": [
            "Reading existing metadata for data/docs_for_eval/1882_Scott_The_British_Psyllina,_with_corrections_in_the_synonomy_copie/1882_Scott_The_British_Psyllina,_with_corrections_in_the_synonomy_copie.pdf.\n",
            "\u001b[35mWRITE \u001b[32mmess: \u001b[0mdict_keys(['lang_codes', 'emb_txt'])\n",
            "Reading existing metadata for data/docs_for_eval/flyer_coleottero_giappone_zone_misure/flyer_coleottero_giappone_zone_misure.pdf.\n",
            "\u001b[35mWRITE \u001b[32mmess: \u001b[0mdict_keys(['lang_codes', 'emb_txt'])\n",
            "Reading existing metadata for data/docs_for_eval/footnote/footnote.pdf.\n",
            "\u001b[35mWRITE \u001b[32mmess: \u001b[0mdict_keys(['lang_codes', 'emb_txt'])\n"
          ]
        }
      ],
      "source": [
        "# compile metadata for each file\n",
        "for dir_path in get_child_dir_paths(input_dir_path):\n",
        "    metadata = write_pdf_metadata(path=dir_path,\n",
        "                                )"
      ]
    },
    {
      "cell_type": "markdown",
      "metadata": {},
      "source": [
        "# Conversion"
      ]
    },
    {
      "cell_type": "code",
      "execution_count": 9,
      "metadata": {},
      "outputs": [],
      "source": [
        "from tools.conversion.conv_funs import *\n",
        "from tools.conversion.conv_classes import TxtConverter"
      ]
    },
    {
      "cell_type": "code",
      "execution_count": 10,
      "metadata": {},
      "outputs": [
        {
          "name": "stderr",
          "output_type": "stream",
          "text": [
            "PdfReadWarning: Xref table not zero-indexed. ID numbers for objects will be corrected. [pdf.py:1801]\n"
          ]
        }
      ],
      "source": [
        "dir_paths = get_child_dir_paths(input_dir_path)\n",
        "for dir_path in dir_paths:  \n",
        "    pdf2txt(doc_dir_path=dir_path,\n",
        "                tool_names=selected_conv_tools,\n",
        "                tools=ctools,\n",
        "                overwrite=True,\n",
        "                )\n"
      ]
    },
    {
      "cell_type": "markdown",
      "metadata": {
        "id": "Y8hRDYFoW2Iu"
      },
      "source": [
        "# Evaluation"
      ]
    },
    {
      "cell_type": "code",
      "execution_count": 11,
      "metadata": {},
      "outputs": [],
      "source": [
        "from tools.eval_tools import eval_tools_scores"
      ]
    },
    {
      "cell_type": "code",
      "execution_count": 12,
      "metadata": {},
      "outputs": [
        {
          "name": "stdout",
          "output_type": "stream",
          "text": [
            "\u001b[35m\u001b[32mmess: \u001b[0mdict_keys(['lang_codes', 'emb_txt'])\n",
            "\u001b[35m\u001b[32mlang_code: \u001b[0men\n",
            "\u001b[35m\u001b[32mmess: \u001b[0mdict_keys(['lang_codes', 'emb_txt'])\n",
            "\u001b[35m\u001b[32mlang_code: \u001b[0men\n",
            "\u001b[35m\u001b[32mmess: \u001b[0mdict_keys(['lang_codes', 'emb_txt'])\n",
            "\u001b[35m\u001b[32mlang_code: \u001b[0men\n",
            "\u001b[35m\u001b[32mmess: \u001b[0mdict_keys(['lang_codes', 'emb_txt'])\n",
            "\u001b[35m\u001b[32mlang_code: \u001b[0men\n",
            "\u001b[35m\u001b[32mmess: \u001b[0mdict_keys(['lang_codes', 'emb_txt'])\n",
            "\u001b[35m\u001b[32mlang_code: \u001b[0men\n",
            "\u001b[35m\u001b[32mmess: \u001b[0mdict_keys(['lang_codes', 'emb_txt'])\n",
            "\u001b[35m\u001b[32mlang_code: \u001b[0men\n",
            "\u001b[35m\u001b[32mmess: \u001b[0mdict_keys(['lang_codes', 'emb_txt'])\n",
            "\u001b[35m\u001b[32mlang_code: \u001b[0mit\n",
            "\u001b[35m\u001b[32mmess: \u001b[0mdict_keys(['lang_codes', 'emb_txt'])\n",
            "\u001b[35m\u001b[32mlang_code: \u001b[0mit\n",
            "\u001b[35m\u001b[32mmess: \u001b[0mdict_keys(['lang_codes', 'emb_txt'])\n",
            "\u001b[35m\u001b[32mlang_code: \u001b[0mit\n",
            "\u001b[35m\u001b[32mmess: \u001b[0mdict_keys(['lang_codes', 'emb_txt'])\n",
            "\u001b[35m\u001b[32mlang_code: \u001b[0mit\n",
            "\u001b[35m\u001b[32mmess: \u001b[0mdict_keys(['lang_codes', 'emb_txt'])\n",
            "\u001b[35m\u001b[32mlang_code: \u001b[0mit\n",
            "\u001b[35m\u001b[32mmess: \u001b[0mdict_keys(['lang_codes', 'emb_txt'])\n",
            "\u001b[35m\u001b[32mlang_code: \u001b[0mit\n",
            "\u001b[35m\u001b[32mmess: \u001b[0mdict_keys(['lang_codes', 'emb_txt'])\n",
            "\u001b[35m\u001b[32mlang_code: \u001b[0msv\n",
            "\u001b[35m\u001b[32mmess: \u001b[0mdict_keys(['lang_codes', 'emb_txt'])\n",
            "\u001b[35m\u001b[32mlang_code: \u001b[0msv\n",
            "\u001b[35m\u001b[32mmess: \u001b[0mdict_keys(['lang_codes', 'emb_txt'])\n",
            "\u001b[35m\u001b[32mlang_code: \u001b[0msv\n",
            "\u001b[35m\u001b[32mmess: \u001b[0mdict_keys(['lang_codes', 'emb_txt'])\n",
            "\u001b[35m\u001b[32mlang_code: \u001b[0msv\n",
            "\u001b[35m\u001b[32mmess: \u001b[0mdict_keys(['lang_codes', 'emb_txt'])\n",
            "\u001b[35m\u001b[32mlang_code: \u001b[0msv\n",
            "\u001b[35m\u001b[32mmess: \u001b[0mdict_keys(['lang_codes', 'emb_txt'])\n",
            "\u001b[35m\u001b[32mlang_code: \u001b[0msv\n"
          ]
        },
        {
          "data": {
            "text/plain": [
              "{'spellcheck_score': {'PyPDF4_ocr': 435,\n",
              "  'extract_text': 451,\n",
              "  'pdfminer_ocr': 451,\n",
              "  'pdfreader_ocr': 2310,\n",
              "  'pytesseract_ocr': 849,\n",
              "  'tika_ocr': 449}}"
            ]
          },
          "execution_count": 12,
          "metadata": {},
          "output_type": "execute_result"
        }
      ],
      "source": [
        "scores_results = eval_tools_scores(db_dir_path=input_dir_path,\n",
        "                        conv_tool_names=selected_conv_tools, # tools to be evaluated\n",
        "                        score_names=selected_scores,\n",
        "                        scoring_funs=etools,\n",
        "                        )\n",
        "scores_results"
      ]
    },
    {
      "cell_type": "code",
      "execution_count": 18,
      "metadata": {},
      "outputs": [],
      "source": [
        "with open(score_data_filepath+'.json', 'w+') as f:\n",
        "    json.dump(scores_results, f)"
      ]
    },
    {
      "cell_type": "markdown",
      "metadata": {},
      "source": [
        "# Visualisation"
      ]
    },
    {
      "cell_type": "code",
      "execution_count": 22,
      "metadata": {},
      "outputs": [],
      "source": [
        "import seaborn as sns\n",
        "import matplotlib.pyplot as plt\n",
        "import numpy as np"
      ]
    },
    {
      "cell_type": "code",
      "execution_count": 23,
      "metadata": {},
      "outputs": [],
      "source": [
        "with open(score_data_filepath+'.json', 'r') as f:\n",
        "    score_results = json.load(f)"
      ]
    },
    {
      "cell_type": "code",
      "execution_count": 24,
      "metadata": {},
      "outputs": [],
      "source": [
        "score_name = selected_scores[0]\n",
        "data = score_results[score_name]"
      ]
    },
    {
      "cell_type": "code",
      "execution_count": 28,
      "metadata": {},
      "outputs": [
        {
          "data": {
            "text/plain": [
              "Text(0, 0.5, 'score: spellcheck_score')"
            ]
          },
          "execution_count": 28,
          "metadata": {},
          "output_type": "execute_result"
        },
        {
          "data": {
            "image/png": "[encoded data removed]",
            "text/plain": [
              "<Figure size 842.4x595.44 with 1 Axes>"
            ]
          },
          "metadata": {},
          "output_type": "display_data"
        }
      ],
      "source": [
        "sns.set(rc={'figure.figsize':(11.7,8.27)})\n",
        "plt.xticks(rotation=45)\n",
        "p = sns.barplot(x=list(data.keys()), y=list(data.values()))\n",
        "p.set_xlabel('tools', fontsize = 20)\n",
        "p.set_ylabel(score_name, fontsize = 20)"
      ]
    },
    {
      "cell_type": "code",
      "execution_count": 37,
      "metadata": {},
      "outputs": [],
      "source": [
        "p.figure.savefig(score_data_filepath+'.png')"
      ]
    }
  ],
  "metadata": {
    "colab": {
      "collapsed_sections": [],
      "name": "PDF2TXT.ipynb",
      "provenance": []
    },
    "interpreter": {
      "hash": "ca359da88923a148e956a1a9ddb9fa72da23a8d58fa1573ee9bde288a9b2540a"
    },
    "kernelspec": {
      "display_name": "Python 3.10.4 ('venv': venv)",
      "language": "python",
      "name": "python3"
    },
    "language_info": {
      "codemirror_mode": {
        "name": "ipython",
        "version": 3
      },
      "file_extension": ".py",
      "mimetype": "text/x-python",
      "name": "python",
      "nbconvert_exporter": "python",
      "pygments_lexer": "ipython3",
      "version": "3.10.4"
    }
  },
  "nbformat": 4,
  "nbformat_minor": 0
}
