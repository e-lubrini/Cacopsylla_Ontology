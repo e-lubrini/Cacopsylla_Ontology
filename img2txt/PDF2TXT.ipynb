{
  "cells": [
    {
      "cell_type": "markdown",
      "metadata": {
        "id": "Q6_qrxn6Wr97"
      },
      "source": [
        "# Config"
      ]
    },
    {
      "cell_type": "code",
      "execution_count": 4,
      "metadata": {
        "id": "gb8lIzwbXBZV"
      },
      "outputs": [],
      "source": [
        "import os\n",
        "import types\n",
        "from typing import Union\n",
        "try:\n",
        " from PIL import Image\n",
        "except ImportError:\n",
        " import Image\n",
        "\n",
        "import fitz\n"
      ]
    },
    {
      "cell_type": "code",
      "execution_count": 16,
      "metadata": {
        "id": "utrLifOwX781"
      },
      "outputs": [
        {
          "ename": "ImportError",
          "evalue": "cannot import name 'tools_for_conversion' from 'conversion_tools' (/home/lubrini/GitHub/psylloidea_ontology/img2txt/conversion_tools.py)",
          "output_type": "error",
          "traceback": [
            "\u001b[0;31m---------------------------------------------------------------------------\u001b[0m",
            "\u001b[0;31mImportError\u001b[0m                               Traceback (most recent call last)",
            "\u001b[1;32m/home/lubrini/GitHub/psylloidea_ontology/img2txt/PDF2TXT.ipynb Cell 3'\u001b[0m in \u001b[0;36m<cell line: 3>\u001b[0;34m()\u001b[0m\n\u001b[1;32m      <a href='vscode-notebook-cell:/home/lubrini/GitHub/psylloidea_ontology/img2txt/PDF2TXT.ipynb#ch0000002?line=0'>1</a>\u001b[0m \u001b[39m# import conversion tools\u001b[39;00m\n\u001b[1;32m      <a href='vscode-notebook-cell:/home/lubrini/GitHub/psylloidea_ontology/img2txt/PDF2TXT.ipynb#ch0000002?line=1'>2</a>\u001b[0m \u001b[39mfrom\u001b[39;00m \u001b[39mconversion_tools\u001b[39;00m \u001b[39mimport\u001b[39;00m \u001b[39m*\u001b[39m\n\u001b[0;32m----> <a href='vscode-notebook-cell:/home/lubrini/GitHub/psylloidea_ontology/img2txt/PDF2TXT.ipynb#ch0000002?line=2'>3</a>\u001b[0m \u001b[39mfrom\u001b[39;00m \u001b[39mconversion_tools\u001b[39;00m \u001b[39mimport\u001b[39;00m tools_for_conversion\n",
            "\u001b[0;31mImportError\u001b[0m: cannot import name 'tools_for_conversion' from 'conversion_tools' (/home/lubrini/GitHub/psylloidea_ontology/img2txt/conversion_tools.py)"
          ]
        }
      ],
      "source": [
        "# import conversion tools\n",
        "from conversion_tools import *\n",
        "from conversion_tools import tools as ctools"
      ]
    },
    {
      "cell_type": "markdown",
      "metadata": {
        "id": "XfK6MTi_WoHr"
      },
      "source": [
        "# Load Files"
      ]
    },
    {
      "cell_type": "code",
      "execution_count": 2,
      "metadata": {
        "id": "g-mQHOvjW_BD"
      },
      "outputs": [],
      "source": [
        "data_path = os.path.join('psylloidea_ontology','img2txt','data')\n",
        "\n",
        "input_path = os.path.join(data_path, 'input')\n",
        "output_path = os.path.join(data_path, 'output')"
      ]
    },
    {
      "cell_type": "markdown",
      "metadata": {
        "id": "CcRLrnpUWtvx"
      },
      "source": [
        "# Doc and Converter Classes"
      ]
    },
    {
      "cell_type": "code",
      "execution_count": null,
      "metadata": {},
      "outputs": [],
      "source": [
        "class Doc:\n",
        "   def __init__(self, input_filepaths, tools):\n",
        "      self.tools = tools\n",
        "\n",
        "      # input_filepath is a LIST of filepaths (in case more files belong to the same document)\n",
        "      self.input_filepaths = input_filepaths\n",
        "      self.main_input_filepath = input_filepaths[0] # only used to detect filename and extension\n",
        "      \n",
        "      self.input_extension = os.path.splitext(self.main_input_filepath)[-1].lower()\n",
        "      self.input_filename = os.path.splitext(self.main_input_filepath)[-2].lower()\n",
        "\n",
        "      self.txt_conversions = dict() # dict of {tool-name: converted-text} pairs\n",
        "\n",
        "      self.data = dict() # dict of {format: {tool-name: converted-text}} e.g. {'jpg': {'pdf2txt': <jpg-object>}}\n",
        "\n",
        "\n",
        "   ## doc conversion img<>pdf\n",
        "   def to_format(self, format, tool_name = None):\n",
        "      \"\"\"format can be pdf, png\"\"\"\n",
        "      data_selection = self.data.get(format)       \n",
        "      if data_selection:                           # if at least an instance of (converted/original) data is already stored for given format...\n",
        "         if not tool_name:\n",
        "            converted_data = data_selection[0]     # ...take the first instance available...\n",
        "         else:\n",
        "            converted_data = data_selection[tool_name]  #...unless a preferred conversion tool was selected\n",
        "         return converted_data\n",
        "\n",
        "      else: # if the requested format has no instances, add an empty instance format:{}\n",
        "         self.data[format] = dict()\n",
        "\n",
        "      # if requested format matches filepath extension, open the document and store it as an object\n",
        "      if format is \"pdf\":\n",
        "         if self.is_pdf():\n",
        "\n",
        "            # open all files for the given document...\n",
        "            pdf_objects = []\n",
        "            for pdf_path in self.input_filepaths:\n",
        "               with open(pdf_path, 'rb') as file:\n",
        "                  pdf_objects.append(file)\n",
        "            converted_data = pdf_objects\n",
        "            \n",
        "            self.data[format]['original'] = converted_data # ...and store original data in self.data\n",
        "\n",
        "         if self.is_png(): # if requested format does NOT match filepath extension, convert it\n",
        "           \n",
        "            tool_selection = self.tools[('png','pdf')] # this gives a dict of suitable tools\n",
        "            \n",
        "            if tool_name is None:\n",
        "               tool = tool_selection.keys()[0] # take first available tool if no tool was specified\n",
        "\n",
        "            conversion_tool = tool_selection[tool_name] # assign tool based on tool name\n",
        "                        \n",
        "            png_objects = None # TODO open files...\n",
        "            \n",
        "            converted_data = conversion_tool( # ...apply conversion tool on them...\n",
        "               png_objects\n",
        "            )\n",
        "\n",
        "            self.data[format][tool] = converted_data # ...and store the converted data\n",
        "      \n",
        "      # if requested format matches filepath extension, open the document and store it as an object\n",
        "      if format is \"png\":\n",
        "         if self.is_png():\n",
        "            \n",
        "            # open all files for the given document...\n",
        "            converted_data = [\n",
        "               Image.open(image_path) for image_path in self.input_filepaths\n",
        "               ]\n",
        "               \n",
        "            self.data[format]['original'] = converted_data # ... and store original data in self.data\n",
        "\n",
        "         if self.is_pdf():\n",
        "            \n",
        "            tool_selection = self.tools[('png','pdf')] # this gives a dict of suitable tools\n",
        "            \n",
        "            if tool_name is None:\n",
        "               tool = tool_selection.keys()[0] # take first available tool if no tool was specified\n",
        "\n",
        "            conversion_tool = tool_selection[tool_name] # assign tool based on tool name\n",
        "                        \n",
        "            pdf_objects = [ # open files...\n",
        "               fitz.open(self.pdf_path) for pdf_path in self.input_filepaths\n",
        "            ]\n",
        "\n",
        "            converted_data = conversion_tool( # ...apply conversion tool on them...\n",
        "               pdf_objects\n",
        "            )\n",
        "\n",
        "            self.data[format][tool] = converted_data # ...and store the converted data\n",
        "\n",
        "      return converted_data\n",
        "\n",
        "\n",
        "   ## check format\n",
        "   def is_pdf(self):\n",
        "      return self.input_extension.lower() == 'pdf'\n",
        "   def is_png(self):\n",
        "      return self.input_extension.lower() == 'png'\n",
        "\n",
        "   ## save output txt\n",
        "   def save_txt_conversion(self, tool_name, output_dir_path):\n",
        "      # define output filepath\n",
        "      output_file_path = os.path.join(output_dir_path,tool_name,str(self.filename)+'.txt')\n",
        "\n",
        "      # save txt in chosen dir\n",
        "      with open(output_file_path, 'w') as f:\n",
        "         f.write(self.txt_conversions[tool_name])\n",
        "   \n",
        "   def save_all_txt_conversions(self, output_dir_path):\n",
        "      for key in self.txt_conversions.keys():\n",
        "         self.save_txt_conversion(key, output_dir_path)"
      ]
    },
    {
      "cell_type": "code",
      "execution_count": null,
      "metadata": {},
      "outputs": [],
      "source": [
        "class TxtConverter:\n",
        "   def __init__(self, tools):\n",
        "      #self.available_functions = {str(f):f for f in globals().values() if type(f) == types.FunctionType}\n",
        "      self.tools = tools\n",
        "      \n",
        "   # select tool and convert\n",
        "   def convert_to_txt(self, doc, tool_names = None):\n",
        "\n",
        "      input_format = doc.input_extension\n",
        "      output_format = 'txt'\n",
        "\n",
        "      tool_selection = self.tools[(input_format, output_format)] # this gives a dict of suitable tools\n",
        "\n",
        "      if isinstance(tool_names, str):\n",
        "         tool_names = [tool_names]\n",
        "\n",
        "      if tool_names is None: # use all the conversion tools\n",
        "         tool_names = tool_selection.keys()\n",
        "      \n",
        "      selected_tools = {\n",
        "         tool_name: self.tools[tool_name] for tool_name in tool_names\n",
        "      }\n",
        "\n",
        "      objects = doc.to_format(input_format) # this is a list\n",
        "\n",
        "      # this is where the heavy lifting happens\n",
        "      extracted_texts = {\n",
        "         tool_name: selected_tools[tool_name](objects) for tool_name in tool_names\n",
        "      }\n",
        "\n",
        "      #store in doc.txt_conversions\n",
        "      doc.txt_conversions.update(extracted_texts) # join the dictionaires\n",
        "      \n",
        "      # store in doc.data\n",
        "      if not doc.data.get('txt') :\n",
        "         doc.data['txt'] = dict()\n",
        "      \n",
        "      doc.data['txt'].update(extracted_texts) # join the dictionaires"
      ]
    },
    {
      "cell_type": "markdown",
      "metadata": {
        "id": "Y8hRDYFoW2Iu"
      },
      "source": [
        "# Conversion"
      ]
    },
    {
      "cell_type": "code",
      "execution_count": null,
      "metadata": {},
      "outputs": [],
      "source": [
        "# create convertor instance from class\n",
        "converter = TxtConverter(tools=ctools)"
      ]
    },
    {
      "cell_type": "code",
      "execution_count": 3,
      "metadata": {},
      "outputs": [],
      "source": [
        "# for doc in data\n",
        "for dir in os.walk(input_path):\n",
        "    print(\"dir:\",dir)\n",
        "    doc_paths = [os.path.join(dir, filepath) for filepath in os.listdir(dir)]\n",
        "\n",
        "    # create Doc class instance with its path\n",
        "    doc_object = Doc(doc_paths, tools_for_conversion=ctools)\n",
        "\n",
        "    # convert to jpg/pdf\n",
        "    doc_object.to_format('jpg')\n",
        "    doc_object.to_format('pdf')\n",
        "\n",
        "    # convert to txt it with all tools\n",
        "    converter.convert_to_txt(doc_object)"
      ]
    },
    {
      "cell_type": "markdown",
      "metadata": {
        "id": "WG4hzpYGW4gL"
      },
      "source": [
        "# Evaluation"
      ]
    },
    {
      "cell_type": "code",
      "execution_count": null,
      "metadata": {
        "id": "0-gef83jWnlz"
      },
      "outputs": [],
      "source": []
    },
    {
      "cell_type": "code",
      "execution_count": null,
      "metadata": {
        "id": "BOP2At48WjDg"
      },
      "outputs": [],
      "source": []
    }
  ],
  "metadata": {
    "colab": {
      "collapsed_sections": [],
      "name": "PDF2TXT.ipynb",
      "provenance": []
    },
    "kernelspec": {
      "display_name": "Python 3",
      "name": "python3"
    },
    "language_info": {
      "codemirror_mode": {
        "name": "ipython",
        "version": 3
      },
      "file_extension": ".py",
      "mimetype": "text/x-python",
      "name": "python",
      "nbconvert_exporter": "python",
      "pygments_lexer": "ipython3",
      "version": "3.9.7"
    }
  },
  "nbformat": 4,
  "nbformat_minor": 0
}
