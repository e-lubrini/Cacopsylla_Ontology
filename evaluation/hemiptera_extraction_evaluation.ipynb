{
 "cells": [
  {
   "cell_type": "markdown",
   "metadata": {},
   "source": [
    "# Evaluation"
   ]
  },
  {
   "cell_type": "code",
   "execution_count": 1,
   "metadata": {},
   "outputs": [],
   "source": [
    "import pandas as pd\n",
    "\n",
    "import matplotlib.pyplot as plt\n",
    "import seaborn as sns\n",
    "\n",
    "from sklearn.metrics import confusion_matrix, classification_report, make_scorer, f1_score, recall_score, precision_score"
   ]
  },
  {
   "cell_type": "markdown",
   "metadata": {},
   "source": [
    "## Entity Evaluation"
   ]
  },
  {
   "cell_type": "code",
   "execution_count": null,
   "metadata": {},
   "outputs": [],
   "source": []
  },
  {
   "cell_type": "markdown",
   "metadata": {},
   "source": [
    "## Relation Evaluation"
   ]
  },
  {
   "cell_type": "code",
   "execution_count": null,
   "metadata": {},
   "outputs": [],
   "source": [
    "with open('extracted_psyllid_relations.txt', 'r') as f:\n",
    "    df = pd.read_csv(f, sep='\\t')\n",
    "    \n",
    "relations = zip(df['LEFT_TYPE'],df['RIGHT_TYPE'])\n",
    "set(relations)"
   ]
  },
  {
   "cell_type": "code",
   "execution_count": 1,
   "metadata": {},
   "outputs": [
    {
     "ename": "NameError",
     "evalue": "name 'confusion_matrix' is not defined",
     "output_type": "error",
     "traceback": [
      "\u001b[0;31m---------------------------------------------------------------------------\u001b[0m",
      "\u001b[0;31mNameError\u001b[0m                                 Traceback (most recent call last)",
      "\u001b[1;32m/home/elubrini/GitHub/text-mining-workflow/psyllid_relations_evaluation.ipynb Cell 7\u001b[0m in \u001b[0;36m<cell line: 2>\u001b[0;34m()\u001b[0m\n\u001b[1;32m      <a href='vscode-notebook-cell:/home/elubrini/GitHub/text-mining-workflow/psyllid_relations_evaluation.ipynb#ch0000009?line=0'>1</a>\u001b[0m \u001b[39m# plotting confusion matrix\u001b[39;00m\n\u001b[0;32m----> <a href='vscode-notebook-cell:/home/elubrini/GitHub/text-mining-workflow/psyllid_relations_evaluation.ipynb#ch0000009?line=1'>2</a>\u001b[0m conf_mat \u001b[39m=\u001b[39m confusion_matrix(y_test, y_pred)\n\u001b[1;32m      <a href='vscode-notebook-cell:/home/elubrini/GitHub/text-mining-workflow/psyllid_relations_evaluation.ipynb#ch0000009?line=2'>3</a>\u001b[0m sns\u001b[39m.\u001b[39mset(font_scale\u001b[39m=\u001b[39m\u001b[39m1\u001b[39m)\n\u001b[1;32m      <a href='vscode-notebook-cell:/home/elubrini/GitHub/text-mining-workflow/psyllid_relations_evaluation.ipynb#ch0000009?line=3'>4</a>\u001b[0m matrix \u001b[39m=\u001b[39m sns\u001b[39m.\u001b[39mheatmap(conf_mat, annot\u001b[39m=\u001b[39m\u001b[39mTrue\u001b[39;00m, fmt\u001b[39m=\u001b[39m\u001b[39m'\u001b[39m\u001b[39md\u001b[39m\u001b[39m'\u001b[39m, linewidths\u001b[39m=\u001b[39m\u001b[39m.5\u001b[39m, cmap\u001b[39m=\u001b[39m\u001b[39m'\u001b[39m\u001b[39mflare\u001b[39m\u001b[39m'\u001b[39m)\n",
      "\u001b[0;31mNameError\u001b[0m: name 'confusion_matrix' is not defined"
     ]
    }
   ],
   "source": [
    "# plotting confusion matrix\n",
    "conf_mat = confusion_matrix(y_test, y_pred)\n",
    "sns.set(font_scale=1)\n",
    "matrix = sns.heatmap(conf_mat, annot=True, fmt='d', linewidths=.5, cmap='flare')\n",
    "matrix.set(xlabel='predicted', ylabel='actual')"
   ]
  },
  {
   "cell_type": "code",
   "execution_count": null,
   "metadata": {},
   "outputs": [],
   "source": [
    "print(classification_report(y_test, y_pred))"
   ]
  }
 ],
 "metadata": {
  "kernelspec": {
   "display_name": "Python 3.10.4 ('venv': venv)",
   "language": "python",
   "name": "python3"
  },
  "language_info": {
   "codemirror_mode": {
    "name": "ipython",
    "version": 3
   },
   "file_extension": ".py",
   "mimetype": "text/x-python",
   "name": "python",
   "nbconvert_exporter": "python",
   "pygments_lexer": "ipython3",
   "version": "3.10.5"
  },
  "orig_nbformat": 4,
  "vscode": {
   "interpreter": {
    "hash": "0791b7be171ebad212c24ef65290d1f031fc8c5ca9521baf1e29a38a9507073b"
   }
  }
 },
 "nbformat": 4,
 "nbformat_minor": 2
}
