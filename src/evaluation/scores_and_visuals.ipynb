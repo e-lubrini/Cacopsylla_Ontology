{
 "cells": [
  {
   "cell_type": "markdown",
   "metadata": {},
   "source": [
    "# Scores and Visuals"
   ]
  },
  {
   "cell_type": "code",
   "execution_count": 9,
   "metadata": {},
   "outputs": [],
   "source": [
    "import json\n",
    "import pandas as pd\n",
    "import seaborn as sns\n",
    "import math\n",
    "from sklearn.metrics import confusion_matrix, classification_report, make_scorer, f1_score, recall_score, precision_score"
   ]
  },
  {
   "cell_type": "code",
   "execution_count": 10,
   "metadata": {},
   "outputs": [],
   "source": [
    "comparison_filepath = 'data/comparison.json'"
   ]
  },
  {
   "cell_type": "code",
   "execution_count": 11,
   "metadata": {},
   "outputs": [
    {
     "data": {
      "text/plain": [
       "3"
      ]
     },
     "execution_count": 11,
     "metadata": {},
     "output_type": "execute_result"
    }
   ],
   "source": [
    "with open(comparison_filepath, 'r') as f:\n",
    "        ent_eval = json.load(f)\n",
    "len(ent_eval.items())"
   ]
  },
  {
   "cell_type": "code",
   "execution_count": 12,
   "metadata": {},
   "outputs": [
    {
     "ename": "AttributeError",
     "evalue": "'float' object has no attribute 'items'",
     "output_type": "error",
     "traceback": [
      "\u001b[0;31m---------------------------------------------------------------------------\u001b[0m",
      "\u001b[0;31mAttributeError\u001b[0m                            Traceback (most recent call last)",
      "\u001b[1;32m/home/elubrini/GitHub/psylve/src/evaluation/scores_and_visuals.ipynb Cell 5\u001b[0m in \u001b[0;36m<cell line: 6>\u001b[0;34m()\u001b[0m\n\u001b[1;32m      <a href='vscode-notebook-cell:/home/elubrini/GitHub/psylve/src/evaluation/scores_and_visuals.ipynb#W4sZmlsZQ%3D%3D?line=7'>8</a>\u001b[0m ref_df[\u001b[39m'\u001b[39m\u001b[39mdocname\u001b[39m\u001b[39m'\u001b[39m]\u001b[39m.\u001b[39mappend(docname)\n\u001b[1;32m      <a href='vscode-notebook-cell:/home/elubrini/GitHub/psylve/src/evaluation/scores_and_visuals.ipynb#W4sZmlsZQ%3D%3D?line=8'>9</a>\u001b[0m pred_df[\u001b[39m'\u001b[39m\u001b[39mdocname\u001b[39m\u001b[39m'\u001b[39m]\u001b[39m.\u001b[39mappend(docname)\n\u001b[0;32m---> <a href='vscode-notebook-cell:/home/elubrini/GitHub/psylve/src/evaluation/scores_and_visuals.ipynb#W4sZmlsZQ%3D%3D?line=10'>11</a>\u001b[0m \u001b[39mfor\u001b[39;00m entname,pairs_n_scores \u001b[39min\u001b[39;00m entities\u001b[39m.\u001b[39;49mitems():\n\u001b[1;32m     <a href='vscode-notebook-cell:/home/elubrini/GitHub/psylve/src/evaluation/scores_and_visuals.ipynb#W4sZmlsZQ%3D%3D?line=11'>12</a>\u001b[0m     pred_df[\u001b[39m'\u001b[39m\u001b[39mentname\u001b[39m\u001b[39m'\u001b[39m]\u001b[39m.\u001b[39mappend(entname)\n\u001b[1;32m     <a href='vscode-notebook-cell:/home/elubrini/GitHub/psylve/src/evaluation/scores_and_visuals.ipynb#W4sZmlsZQ%3D%3D?line=12'>13</a>\u001b[0m     ref_df[\u001b[39m'\u001b[39m\u001b[39mentname\u001b[39m\u001b[39m'\u001b[39m]\u001b[39m.\u001b[39mappend(entname)\n",
      "\u001b[0;31mAttributeError\u001b[0m: 'float' object has no attribute 'items'"
     ]
    }
   ],
   "source": [
    "from collections import defaultdict\n",
    "\n",
    "ref_df = dict(docname=[],entname=[])\n",
    "pred_df = dict(docname=[],entname=[])\n",
    "\n",
    "for dir_n,ent_eval in ent_evals.items():\n",
    "    for docname,entities in ent_eval.items():\n",
    "        ref_df['docname'].append(docname)\n",
    "        pred_df['docname'].append(docname)\n",
    "        \n",
    "        for entname,pairs_n_scores in entities.items():\n",
    "            pred_df['entname'].append(entname)\n",
    "            ref_df['entname'].append(entname)\n",
    "            try:\n",
    "                for pair in pairs_n_scores['pairs']:\n",
    "                    try:\n",
    "                        for a,v in pair['ref'].items():\n",
    "                            if a not in ref_df.keys():\n",
    "                                ref_df[a] = []\n",
    "                            ref_df[a].append(v)\n",
    "                    except AttributeError:\n",
    "                        pass\n",
    "                    try:\n",
    "                        for a,v in pair['pred'].items():\n",
    "                            if a not in ref_df.keys():\n",
    "                                pred_df[a] = []\n",
    "                            pred_df[a].append(v)\n",
    "                    except AttributeError:\n",
    "                        pass\n",
    "                    sizes = []\n",
    "                    for k in ref_df.keys():\n",
    "                        sizes.append(len(ref_df[k]))\n",
    "                    for k in ref_df.keys():\n",
    "                        if len(ref_df[k]) < max(sizes):\n",
    "                            ref_df[k].extend([math.nan]*(max(sizes) - len(ref_df[k])))\n",
    "                    sizes = []\n",
    "                    for k in pred_df.keys():\n",
    "                        sizes.append(len(pred_df[k]))\n",
    "                    for k in pred_df.keys():\n",
    "                        if len(pred_df[k]) < max(sizes):\n",
    "                            pred_df[k].extend([math.nan]*(max(sizes) - len(pred_df[k])))\n",
    "                    \n",
    "            except:\n",
    "                pass"
   ]
  },
  {
   "cell_type": "code",
   "execution_count": null,
   "metadata": {},
   "outputs": [],
   "source": [
    "# df = pd.json_normalize(list(ent_evals.values()))\n",
    "# df.index = ent_evals.keys()\n",
    "# df.drop(['global'], axis=0, inplace=True)\n",
    "# df.head()"
   ]
  },
  {
   "cell_type": "markdown",
   "metadata": {},
   "source": [
    "# Scores"
   ]
  },
  {
   "cell_type": "markdown",
   "metadata": {},
   "source": [
    "### Dummy data\n",
    "Create dummy data to be visualised using sklearn tools."
   ]
  },
  {
   "cell_type": "code",
   "execution_count": null,
   "metadata": {},
   "outputs": [],
   "source": [
    "dummies = {'False Positive': (0,1),\n",
    "            'False Negative': (1,0),\n",
    "            'True Positive': (1,1),\n",
    "            'True Negative': (0,0),\n",
    "            }\n",
    "\n",
    "dummies_inv = {v: k for k, v in dummies.items()}"
   ]
  },
  {
   "cell_type": "code",
   "execution_count": null,
   "metadata": {},
   "outputs": [],
   "source": [
    "def create_dummy(data):\n",
    "    dummy_data = []\n",
    "    for docname,entities in data.items():\n",
    "        if (type(entities) is float) or (type(entities) is list):\n",
    "            continue\n",
    "        for entname,pairs_n_scores in entities.items():\n",
    "            if (type(pairs_n_scores) is float) or (type(pairs_n_scores) is list):\n",
    "                continue\n",
    "            for pair in pairs_n_scores['pairs']:\n",
    "                label = pair['cat']\n",
    "                dummy_data.append(dummies[label])\n",
    "\n",
    "    dummy_df = pd.DataFrame(dummy_data, columns =['ref', 'pred'])\n",
    "    \n",
    "    return dummy_df"
   ]
  },
  {
   "cell_type": "code",
   "execution_count": null,
   "metadata": {},
   "outputs": [
    {
     "ename": "NameError",
     "evalue": "name 'create_dummy' is not defined",
     "output_type": "error",
     "traceback": [
      "\u001b[0;31m---------------------------------------------------------------------------\u001b[0m",
      "\u001b[0;31mNameError\u001b[0m                                 Traceback (most recent call last)",
      "\u001b[1;32m/home/elubrini/GitHub/psylve/src/evaluation/scores_and_visuals.ipynb Cell 11\u001b[0m in \u001b[0;36m<cell line: 2>\u001b[0;34m()\u001b[0m\n\u001b[1;32m      <a href='vscode-notebook-cell:/home/elubrini/GitHub/psylve/src/evaluation/scores_and_visuals.ipynb#X13sZmlsZQ%3D%3D?line=0'>1</a>\u001b[0m dummies_df \u001b[39m=\u001b[39m \u001b[39mdict\u001b[39m()\n\u001b[1;32m      <a href='vscode-notebook-cell:/home/elubrini/GitHub/psylve/src/evaluation/scores_and_visuals.ipynb#X13sZmlsZQ%3D%3D?line=1'>2</a>\u001b[0m \u001b[39mfor\u001b[39;00m k,ent_eval \u001b[39min\u001b[39;00m ent_evals\u001b[39m.\u001b[39mitems():\n\u001b[0;32m----> <a href='vscode-notebook-cell:/home/elubrini/GitHub/psylve/src/evaluation/scores_and_visuals.ipynb#X13sZmlsZQ%3D%3D?line=2'>3</a>\u001b[0m     dummies_df[k] \u001b[39m=\u001b[39m create_dummy(ent_evals)\n\u001b[1;32m      <a href='vscode-notebook-cell:/home/elubrini/GitHub/psylve/src/evaluation/scores_and_visuals.ipynb#X13sZmlsZQ%3D%3D?line=4'>5</a>\u001b[0m dummies_df[\u001b[39m'\u001b[39m\u001b[39m2012_Ozgen_Psyllids_Anatolie\u001b[39m\u001b[39m'\u001b[39m]\n",
      "\u001b[0;31mNameError\u001b[0m: name 'create_dummy' is not defined"
     ]
    }
   ],
   "source": [
    "dummies_df = dict()\n",
    "for k,ent_eval in ent_evals.items():\n",
    "    dummies_df[k] = create_dummy(ent_evals)\n",
    "\n",
    "dummies_df['2012_Ozgen_Psyllids_Anatolie']\n"
   ]
  },
  {
   "cell_type": "code",
   "execution_count": null,
   "metadata": {},
   "outputs": [
    {
     "data": {
      "text/plain": [
       "{'2012_Ozgen_Psyllids_Anatolie': [(1, 0),\n",
       "  (0, 1),\n",
       "  (0, 1),\n",
       "  (0, 1),\n",
       "  (0, 1),\n",
       "  (0, 1),\n",
       "  (0, 1),\n",
       "  (0, 1),\n",
       "  (0, 1),\n",
       "  (0, 1),\n",
       "  (0, 1),\n",
       "  (0, 1),\n",
       "  (0, 1),\n",
       "  (0, 1),\n",
       "  (0, 1),\n",
       "  (0, 1),\n",
       "  (0, 1),\n",
       "  (0, 1),\n",
       "  (0, 1),\n",
       "  (0, 1),\n",
       "  (0, 1),\n",
       "  (0, 1),\n",
       "  (0, 1),\n",
       "  (1, 1),\n",
       "  (0, 1),\n",
       "  (0, 1),\n",
       "  (0, 1),\n",
       "  (0, 1),\n",
       "  (1, 1),\n",
       "  (0, 1),\n",
       "  (0, 1),\n",
       "  (0, 1),\n",
       "  (0, 1),\n",
       "  (0, 1),\n",
       "  (0, 1),\n",
       "  (0, 1),\n",
       "  (0, 1),\n",
       "  (0, 1),\n",
       "  (0, 1),\n",
       "  (1, 0),\n",
       "  (0, 1),\n",
       "  (0, 1),\n",
       "  (0, 1),\n",
       "  (1, 0),\n",
       "  (0, 1),\n",
       "  (0, 1),\n",
       "  (0, 1),\n",
       "  (0, 1),\n",
       "  (0, 1),\n",
       "  (0, 1),\n",
       "  (0, 1),\n",
       "  (0, 1),\n",
       "  (0, 1),\n",
       "  (0, 1),\n",
       "  (0, 1),\n",
       "  (0, 1),\n",
       "  (0, 1),\n",
       "  (0, 1),\n",
       "  (0, 1),\n",
       "  (0, 1),\n",
       "  (0, 1),\n",
       "  (0, 1),\n",
       "  (0, 1),\n",
       "  (0, 1),\n",
       "  (0, 1),\n",
       "  (0, 1),\n",
       "  (0, 1),\n",
       "  (1, 0),\n",
       "  (0, 1)],\n",
       " 'global': [(1, 0),\n",
       "  (0, 1),\n",
       "  (0, 1),\n",
       "  (0, 1),\n",
       "  (0, 1),\n",
       "  (0, 1),\n",
       "  (0, 1),\n",
       "  (0, 1),\n",
       "  (0, 1),\n",
       "  (0, 1),\n",
       "  (0, 1),\n",
       "  (0, 1),\n",
       "  (0, 1),\n",
       "  (0, 1),\n",
       "  (0, 1),\n",
       "  (0, 1),\n",
       "  (0, 1),\n",
       "  (0, 1),\n",
       "  (0, 1),\n",
       "  (0, 1),\n",
       "  (0, 1),\n",
       "  (0, 1),\n",
       "  (0, 1),\n",
       "  (1, 1),\n",
       "  (0, 1),\n",
       "  (0, 1),\n",
       "  (0, 1),\n",
       "  (0, 1),\n",
       "  (1, 1),\n",
       "  (0, 1),\n",
       "  (0, 1),\n",
       "  (0, 1),\n",
       "  (0, 1),\n",
       "  (0, 1),\n",
       "  (0, 1),\n",
       "  (0, 1),\n",
       "  (0, 1),\n",
       "  (0, 1),\n",
       "  (0, 1),\n",
       "  (1, 0),\n",
       "  (0, 1),\n",
       "  (0, 1),\n",
       "  (0, 1),\n",
       "  (1, 0),\n",
       "  (0, 1),\n",
       "  (0, 1),\n",
       "  (0, 1),\n",
       "  (0, 1),\n",
       "  (0, 1),\n",
       "  (0, 1),\n",
       "  (0, 1),\n",
       "  (0, 1),\n",
       "  (0, 1),\n",
       "  (0, 1),\n",
       "  (0, 1),\n",
       "  (0, 1),\n",
       "  (0, 1),\n",
       "  (0, 1),\n",
       "  (0, 1),\n",
       "  (0, 1),\n",
       "  (0, 1),\n",
       "  (0, 1),\n",
       "  (0, 1),\n",
       "  (0, 1),\n",
       "  (0, 1),\n",
       "  (0, 1),\n",
       "  (0, 1),\n",
       "  (1, 0),\n",
       "  (0, 1)],\n",
       " '1919_Horwood_blackthorn_Cacopsylla_pruni_UK': [(1, 0),\n",
       "  (0, 1),\n",
       "  (0, 1),\n",
       "  (0, 1),\n",
       "  (0, 1),\n",
       "  (0, 1),\n",
       "  (0, 1),\n",
       "  (0, 1),\n",
       "  (0, 1),\n",
       "  (0, 1),\n",
       "  (0, 1),\n",
       "  (0, 1),\n",
       "  (0, 1),\n",
       "  (0, 1),\n",
       "  (0, 1),\n",
       "  (0, 1),\n",
       "  (0, 1),\n",
       "  (0, 1),\n",
       "  (0, 1),\n",
       "  (0, 1),\n",
       "  (0, 1),\n",
       "  (0, 1),\n",
       "  (0, 1),\n",
       "  (1, 1),\n",
       "  (0, 1),\n",
       "  (0, 1),\n",
       "  (0, 1),\n",
       "  (0, 1),\n",
       "  (1, 1),\n",
       "  (0, 1),\n",
       "  (0, 1),\n",
       "  (0, 1),\n",
       "  (0, 1),\n",
       "  (0, 1),\n",
       "  (0, 1),\n",
       "  (0, 1),\n",
       "  (0, 1),\n",
       "  (0, 1),\n",
       "  (0, 1),\n",
       "  (1, 0),\n",
       "  (0, 1),\n",
       "  (0, 1),\n",
       "  (0, 1),\n",
       "  (1, 0),\n",
       "  (0, 1),\n",
       "  (0, 1),\n",
       "  (0, 1),\n",
       "  (0, 1),\n",
       "  (0, 1),\n",
       "  (0, 1),\n",
       "  (0, 1),\n",
       "  (0, 1),\n",
       "  (0, 1),\n",
       "  (0, 1),\n",
       "  (0, 1),\n",
       "  (0, 1),\n",
       "  (0, 1),\n",
       "  (0, 1),\n",
       "  (0, 1),\n",
       "  (0, 1),\n",
       "  (0, 1),\n",
       "  (0, 1),\n",
       "  (0, 1),\n",
       "  (0, 1),\n",
       "  (0, 1),\n",
       "  (0, 1),\n",
       "  (0, 1),\n",
       "  (1, 0),\n",
       "  (0, 1)]}"
      ]
     },
     "execution_count": 54,
     "metadata": {},
     "output_type": "execute_result"
    }
   ],
   "source": [
    "for k,dummy_df in dummies_df.items():\n",
    "    ref_dummy, pred_dummy = dummy_df['ref'], dummy_df['pred']\n",
    "    dummies_df[k]=list(zip(ref_dummy, pred_dummy))\n",
    "\n",
    "dummies_df"
   ]
  },
  {
   "cell_type": "code",
   "execution_count": null,
   "metadata": {},
   "outputs": [
    {
     "data": {
      "text/plain": [
       "dict_keys(['2012_Ozgen_Psyllids_Anatolie', 'global', '1919_Horwood_blackthorn_Cacopsylla_pruni_UK'])"
      ]
     },
     "execution_count": 55,
     "metadata": {},
     "output_type": "execute_result"
    }
   ],
   "source": [
    "dummies_df.keys()\n"
   ]
  },
  {
   "cell_type": "markdown",
   "metadata": {},
   "source": [
    "### Plot Confusion Matrix"
   ]
  },
  {
   "cell_type": "code",
   "execution_count": null,
   "metadata": {},
   "outputs": [
    {
     "data": {
      "image/png": "[encoded data removed]",
      "text/plain": [
       "<Figure size 432x288 with 2 Axes>"
      ]
     },
     "metadata": {},
     "output_type": "display_data"
    }
   ],
   "source": [
    "# plotting confusion matrix\n",
    "conf_mat = confusion_matrix(ref_dummy, pred_dummy)\n",
    "sns.set(font_scale=1)\n",
    "matrix = sns.heatmap(conf_mat, annot=True, fmt='d', linewidths=.5, cmap='flare')\n",
    "matrix.set(xlabel='predicted', ylabel='actual')\n",
    "matrix.figure.savefig(\"data/evaluation_results/confusion_matrix.png\") "
   ]
  },
  {
   "cell_type": "code",
   "execution_count": null,
   "metadata": {},
   "outputs": [
    {
     "name": "stdout",
     "output_type": "stream",
     "text": [
      "              precision    recall  f1-score   support\n",
      "\n",
      "           0       0.00      0.00      0.00        63\n",
      "           1       0.03      0.33      0.06         6\n",
      "\n",
      "    accuracy                           0.03        69\n",
      "   macro avg       0.02      0.17      0.03        69\n",
      "weighted avg       0.00      0.03      0.00        69\n",
      "\n"
     ]
    }
   ],
   "source": [
    "print(classification_report(ref_dummy, pred_dummy))"
   ]
  },
  {
   "cell_type": "code",
   "execution_count": null,
   "metadata": {},
   "outputs": [],
   "source": [
    "with open(comparison_filepath, 'r') as f:\n",
    "    df = pd.read_json(f)"
   ]
  },
  {
   "cell_type": "code",
   "execution_count": null,
   "metadata": {},
   "outputs": [
    {
     "data": {
      "text/html": [
       "<div>\n",
       "<style scoped>\n",
       "    .dataframe tbody tr th:only-of-type {\n",
       "        vertical-align: middle;\n",
       "    }\n",
       "\n",
       "    .dataframe tbody tr th {\n",
       "        vertical-align: top;\n",
       "    }\n",
       "\n",
       "    .dataframe thead th {\n",
       "        text-align: right;\n",
       "    }\n",
       "</style>\n",
       "<table border=\"1\" class=\"dataframe\">\n",
       "  <thead>\n",
       "    <tr style=\"text-align: right;\">\n",
       "      <th></th>\n",
       "      <th>2012_Ozgen_Psyllids_Anatolie</th>\n",
       "      <th>global</th>\n",
       "      <th>1919_Horwood_blackthorn_Cacopsylla_pruni_UK</th>\n",
       "    </tr>\n",
       "  </thead>\n",
       "  <tbody>\n",
       "    <tr>\n",
       "      <th>vector</th>\n",
       "      <td>{'pairs': [{'ref': {'phylum': 'Arthropoda', 'c...</td>\n",
       "      <td>NaN</td>\n",
       "      <td>{'pairs': [{'ref': {'phylum': 'Arthropoda', 'c...</td>\n",
       "    </tr>\n",
       "    <tr>\n",
       "      <th>location</th>\n",
       "      <td>{'pairs': [{'ref': {'country': 'Turkey', 'coun...</td>\n",
       "      <td>NaN</td>\n",
       "      <td>{'pairs': [{'ref': {'country': 'United Kingdom...</td>\n",
       "    </tr>\n",
       "    <tr>\n",
       "      <th>host</th>\n",
       "      <td>{'pairs': [], 'recall': None, 'precision': Non...</td>\n",
       "      <td>NaN</td>\n",
       "      <td>{'pairs': [{'ref': None, 'pred': {'DOC': '1919...</td>\n",
       "    </tr>\n",
       "    <tr>\n",
       "      <th>date</th>\n",
       "      <td>{'pairs': [{'ref': {'eventDate': '2012', 'type...</td>\n",
       "      <td>NaN</td>\n",
       "      <td>{'pairs': [{'ref': {'eventDate': '1852', 'type...</td>\n",
       "    </tr>\n",
       "    <tr>\n",
       "      <th>recall</th>\n",
       "      <td>NaN</td>\n",
       "      <td>0.001263</td>\n",
       "      <td>NaN</td>\n",
       "    </tr>\n",
       "  </tbody>\n",
       "</table>\n",
       "</div>"
      ],
      "text/plain": [
       "                               2012_Ozgen_Psyllids_Anatolie    global  \\\n",
       "vector    {'pairs': [{'ref': {'phylum': 'Arthropoda', 'c...       NaN   \n",
       "location  {'pairs': [{'ref': {'country': 'Turkey', 'coun...       NaN   \n",
       "host      {'pairs': [], 'recall': None, 'precision': Non...       NaN   \n",
       "date      {'pairs': [{'ref': {'eventDate': '2012', 'type...       NaN   \n",
       "recall                                                  NaN  0.001263   \n",
       "\n",
       "                1919_Horwood_blackthorn_Cacopsylla_pruni_UK  \n",
       "vector    {'pairs': [{'ref': {'phylum': 'Arthropoda', 'c...  \n",
       "location  {'pairs': [{'ref': {'country': 'United Kingdom...  \n",
       "host      {'pairs': [{'ref': None, 'pred': {'DOC': '1919...  \n",
       "date      {'pairs': [{'ref': {'eventDate': '1852', 'type...  \n",
       "recall                                                  NaN  "
      ]
     },
     "execution_count": 59,
     "metadata": {},
     "output_type": "execute_result"
    }
   ],
   "source": [
    "df.head()"
   ]
  },
  {
   "cell_type": "markdown",
   "metadata": {},
   "source": [
    "# Visualisation"
   ]
  },
  {
   "cell_type": "code",
   "execution_count": null,
   "metadata": {},
   "outputs": [],
   "source": [
    "from collections import Counter\n",
    "from tools.visual import plot"
   ]
  },
  {
   "cell_type": "code",
   "execution_count": null,
   "metadata": {},
   "outputs": [
    {
     "data": {
      "text/plain": [
       "{'2012_Ozgen_Psyllids_Anatolie': {(1, 0): 4, (0, 1): 63, (1, 1): 2},\n",
       " 'global': {(1, 0): 4, (0, 1): 63, (1, 1): 2},\n",
       " '1919_Horwood_blackthorn_Cacopsylla_pruni_UK': {(1, 0): 4,\n",
       "  (0, 1): 63,\n",
       "  (1, 1): 2}}"
      ]
     },
     "execution_count": 61,
     "metadata": {},
     "output_type": "execute_result"
    }
   ],
   "source": [
    "counts =dict()\n",
    "\n",
    "for k,dummy_df in dummies_df.items():\n",
    "    counts[k] = dict(Counter(dummy_df))\n",
    "counts\n"
   ]
  },
  {
   "cell_type": "code",
   "execution_count": null,
   "metadata": {},
   "outputs": [
    {
     "ename": "KeyError",
     "evalue": "'2012_Ozgen_Psyllids_Anatolie'",
     "output_type": "error",
     "traceback": [
      "\u001b[0;31m---------------------------------------------------------------------------\u001b[0m",
      "\u001b[0;31mKeyError\u001b[0m                                  Traceback (most recent call last)",
      "\u001b[1;32m/home/elubrini/GitHub/psylve/src/evaluation/scores_and_visuals.ipynb Cell 23\u001b[0m in \u001b[0;36m<cell line: 1>\u001b[0;34m()\u001b[0m\n\u001b[0;32m----> <a href='vscode-notebook-cell:/home/elubrini/GitHub/psylve/src/evaluation/scores_and_visuals.ipynb#X30sZmlsZQ%3D%3D?line=0'>1</a>\u001b[0m df \u001b[39m=\u001b[39m pd\u001b[39m.\u001b[39mDataFrame([count\u001b[39m.\u001b[39mvalues() \u001b[39mfor\u001b[39;00m count \u001b[39min\u001b[39;00m counts\u001b[39m.\u001b[39mvalues()],columns\u001b[39m=\u001b[39m[dummies_inv[k] \u001b[39mfor\u001b[39;00m k \u001b[39min\u001b[39;00m counts\u001b[39m.\u001b[39mkeys()])\n\u001b[1;32m      <a href='vscode-notebook-cell:/home/elubrini/GitHub/psylve/src/evaluation/scores_and_visuals.ipynb#X30sZmlsZQ%3D%3D?line=1'>2</a>\u001b[0m \u001b[39m#df = df.reset_index()\u001b[39;00m\n\u001b[1;32m      <a href='vscode-notebook-cell:/home/elubrini/GitHub/psylve/src/evaluation/scores_and_visuals.ipynb#X30sZmlsZQ%3D%3D?line=2'>3</a>\u001b[0m df\n",
      "\u001b[1;32m/home/elubrini/GitHub/psylve/src/evaluation/scores_and_visuals.ipynb Cell 23\u001b[0m in \u001b[0;36m<listcomp>\u001b[0;34m(.0)\u001b[0m\n\u001b[0;32m----> <a href='vscode-notebook-cell:/home/elubrini/GitHub/psylve/src/evaluation/scores_and_visuals.ipynb#X30sZmlsZQ%3D%3D?line=0'>1</a>\u001b[0m df \u001b[39m=\u001b[39m pd\u001b[39m.\u001b[39mDataFrame([count\u001b[39m.\u001b[39mvalues() \u001b[39mfor\u001b[39;00m count \u001b[39min\u001b[39;00m counts\u001b[39m.\u001b[39mvalues()],columns\u001b[39m=\u001b[39m[dummies_inv[k] \u001b[39mfor\u001b[39;00m k \u001b[39min\u001b[39;00m counts\u001b[39m.\u001b[39mkeys()])\n\u001b[1;32m      <a href='vscode-notebook-cell:/home/elubrini/GitHub/psylve/src/evaluation/scores_and_visuals.ipynb#X30sZmlsZQ%3D%3D?line=1'>2</a>\u001b[0m \u001b[39m#df = df.reset_index()\u001b[39;00m\n\u001b[1;32m      <a href='vscode-notebook-cell:/home/elubrini/GitHub/psylve/src/evaluation/scores_and_visuals.ipynb#X30sZmlsZQ%3D%3D?line=2'>3</a>\u001b[0m df\n",
      "\u001b[0;31mKeyError\u001b[0m: '2012_Ozgen_Psyllids_Anatolie'"
     ]
    }
   ],
   "source": [
    "df = pd.DataFrame([count.values() for count in counts.values()],columns=[dummies_inv[k] for k in counts[0].keys()])\n",
    "#df = df.reset_index()\n",
    "df\n",
    "\n",
    "rows = []\n",
    "for col_name in df.columns:\n",
    "    col = df[col_name]\n",
    "    for i in df.index:\n",
    "        rows.append((i,col_name,df[col_name].iloc[i]))\n",
    "\n",
    "df = pd.DataFrame(rows, columns=['i','cat','val'])\n",
    "df"
   ]
  },
  {
   "cell_type": "code",
   "execution_count": null,
   "metadata": {},
   "outputs": [],
   "source": [
    "save_dir = 'data/evaluation_results/'"
   ]
  },
  {
   "cell_type": "code",
   "execution_count": null,
   "metadata": {},
   "outputs": [
    {
     "data": {
      "image/png": "[encoded data removed]",
      "text/plain": [
       "<Figure size 480.725x360 with 1 Axes>"
      ]
     },
     "metadata": {},
     "output_type": "display_data"
    }
   ],
   "source": [
    "x = 'i'\n",
    "hue = 'cat'\n",
    "palette = sns.color_palette('tab10',n_colors=2)\n",
    "\n",
    "plot(x=x, hue=hue, data=df,\n",
    "    title = 'Feature impact' ,\n",
    "    type='dist',\n",
    "    save_dir = save_dir,\n",
    "    )\n",
    "\n",
    "matrix.figure.savefig(\"data/evaluation_results/confusion_matrix.png\") "
   ]
  }
 ],
 "metadata": {
  "kernelspec": {
   "display_name": "Python 3.10.4 ('venv': venv)",
   "language": "python",
   "name": "python3"
  },
  "language_info": {
   "codemirror_mode": {
    "name": "ipython",
    "version": 3
   },
   "file_extension": ".py",
   "mimetype": "text/x-python",
   "name": "python",
   "nbconvert_exporter": "python",
   "pygments_lexer": "ipython3",
   "version": "3.10.6"
  },
  "orig_nbformat": 4,
  "vscode": {
   "interpreter": {
    "hash": "0791b7be171ebad212c24ef65290d1f031fc8c5ca9521baf1e29a38a9507073b"
   }
  }
 },
 "nbformat": 4,
 "nbformat_minor": 2
}
