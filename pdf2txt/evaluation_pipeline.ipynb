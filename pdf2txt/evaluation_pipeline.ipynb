{
  "cells": [
    {
      "cell_type": "markdown",
      "metadata": {
        "id": "Q6_qrxn6Wr97"
      },
      "source": [
        "# Config"
      ]
    },
    {
      "cell_type": "code",
      "execution_count": 11,
      "metadata": {},
      "outputs": [],
      "source": [
        "import os\n",
        "from tools.utils import *"
      ]
    },
    {
      "cell_type": "code",
      "execution_count": 12,
      "metadata": {
        "id": "utrLifOwX781"
      },
      "outputs": [
        {
          "data": {
            "text/plain": [
              "dict_keys(['PyPDF4_ocr', 'add_metadata_entry', 'dbg', 'emb_text_is_usable', 'extract_text', 'get_child_dir_paths', 'get_child_ext_path', 'get_dir_and_doc_paths', 'get_emb_txt', 'get_funs_from_module', 'get_langs', 'get_meta_path', 'get_metadata', 'get_parent_dir', 'get_translation', 'get_txt', 'get_var_name', 'get_xml', 'getmembers', 'grobid_extr', 'img2pdf', 'in_lang_sc', 'in_lang_wl', 'isfunction', 'join_parentpath_childnames', 'list_ext', 'mess_col', 'metadata', 'mkdir_no_over', 'mv_to_custom_dir', 'pdf2img', 'pdfminer_ocr', 'pdfreader_ocr', 'prep_and_tokenise', 'pytesseract_ocr', 'read', 'read_doc_metadata', 'save_data', 'save_file', 'sent_tokenize', 'store_data', 'tika_ocr', 'translate_conv', 'translate_doc', 'translate_meta', 'translate_to_lang', 'translate_wl', 'translation', 'true_counter', 'try_read', 'verbose_mess', 'words_in_lang_ratio', 'words_in_langs_ratio', 'write_pdf_metadata'])"
            ]
          },
          "execution_count": 12,
          "metadata": {},
          "output_type": "execute_result"
        }
      ],
      "source": [
        "# import conversion tools\n",
        "from tools.conv_tools import *\n",
        "from tools import conv_tools\n",
        "ctools = get_funs_from_module(conv_tools)\n",
        "ctools.keys()"
      ]
    },
    {
      "cell_type": "code",
      "execution_count": 13,
      "metadata": {},
      "outputs": [
        {
          "data": {
            "text/plain": [
              "dict_keys(['add_metadata_entry', 'dbg', 'emb_text_is_usable', 'eval_tools_scores', 'get_child_dir_paths', 'get_child_ext_path', 'get_dir_and_doc_paths', 'get_emb_txt', 'get_funs_from_module', 'get_langs', 'get_meta_path', 'get_metadata', 'get_parent_dir', 'get_translation', 'get_var_name', 'getmembers', 'in_lang_sc', 'in_lang_wl', 'isfunction', 'join_parentpath_childnames', 'list_ext', 'mess_col', 'metadata', 'mkdir_no_over', 'mv_to_custom_dir', 'prep_and_tokenise', 'read_doc_metadata', 'save_data', 'save_file', 'sent_tokenize', 'spellcheck_score', 'store_data', 'translate_conv', 'translate_doc', 'translate_meta', 'translate_to_lang', 'translate_wl', 'translation', 'true_counter', 'try_read', 'verbose_mess', 'word_is_correct_Q', 'words_in_lang_ratio', 'words_in_langs_ratio', 'write_pdf_metadata'])"
            ]
          },
          "execution_count": 13,
          "metadata": {},
          "output_type": "execute_result"
        }
      ],
      "source": [
        "from tools import eval_tools\n",
        "etools = get_funs_from_module(eval_tools)\n",
        "etools.keys()"
      ]
    },
    {
      "cell_type": "markdown",
      "metadata": {
        "id": "XfK6MTi_WoHr"
      },
      "source": [
        "# Load and Rearrange Files"
      ]
    },
    {
      "cell_type": "code",
      "execution_count": 14,
      "metadata": {},
      "outputs": [],
      "source": [
        "from tools.utils import *"
      ]
    },
    {
      "cell_type": "code",
      "execution_count": 15,
      "metadata": {},
      "outputs": [],
      "source": [
        "data_path = os.path.join('data')\n",
        "\n",
        "input_dir_path = os.path.join(data_path, 'docs_for_eval')\n",
        "\n",
        "selected_conv_tools = ['PyPDF4_ocr',    # names of the tools for conversion\n",
        "                    'extract_text',\n",
        "                    'pdfminer_ocr',\n",
        "                    'pdfreader_ocr',\n",
        "                    'pytesseract_ocr',\n",
        "                    'tika_ocr',  \n",
        "                    ]\n",
        "selected_scores = ['spellcheck_score',  # names of the scores for tool evaluation\n",
        "                    ]\n",
        "score_data_dirpath = 'evaluation_results'\n",
        "score_data_filepath = os.path.join(score_data_dirpath,'scores')\n",
        "\n",
        "doc_paths = [os.path.join(input_dir_path, filepath) for filepath in os.listdir(input_dir_path) if os.path.isfile(os.path.join(input_dir_path, filepath))]\n"
      ]
    },
    {
      "cell_type": "code",
      "execution_count": 16,
      "metadata": {},
      "outputs": [],
      "source": [
        "%%capture\n",
        "# if there are any imgs, convert them to pdf\n",
        "not_pdf_filepaths = list_ext(input_dir_path,    # files to be converted to pdf\n",
        "                            exts=['pdf'],\n",
        "                            invert=True)\n",
        "\n",
        "for not_pdf_filepath in not_pdf_filepaths:\n",
        "    ctools['img2pdf']([not_pdf_filepath])\n",
        "\n",
        "pdf_filepaths = list_ext(input_dir_path,        # all pdf files\n",
        "                        exts=['pdf'],\n",
        "                        invert=False)"
      ]
    },
    {
      "cell_type": "code",
      "execution_count": 17,
      "metadata": {},
      "outputs": [],
      "source": [
        "# rearrange folder structure\n",
        "for pdf_filepath in pdf_filepaths:\n",
        "    mv_to_custom_dir(pdf_filepath)\n",
        "for not_pdf_filepath in not_pdf_filepaths:\n",
        "    os.remove(not_pdf_filepath)"
      ]
    },
    {
      "cell_type": "code",
      "execution_count": 18,
      "metadata": {},
      "outputs": [
        {
          "name": "stderr",
          "output_type": "stream",
          "text": [
            "dir_paths: 100%|██████████| 25/25 [00:01<00:00, 14.65it/s]\n"
          ]
        }
      ],
      "source": [
        "dir_paths = get_child_dir_paths(input_dir_path)\n",
        "\n",
        "# compile metadata for each file\n",
        "for dir_path in tqdm(dir_paths, desc='dir_paths'):\n",
        "    metadata = get_metadata(dir_path,\n",
        "                            storage_opts={'lang_codes':True, 'emb_txt':True},\n",
        "                            overwrite_opts={'lang_codes':False, 'emb_txt':False},\n",
        "                            )\n",
        "\n",
        "    store_data(storage='meta',\n",
        "                data=metadata,\n",
        "                dir_path=dir_path,\n",
        "                name='metadata',\n",
        "                )"
      ]
    },
    {
      "cell_type": "markdown",
      "metadata": {},
      "source": [
        "# Conversion"
      ]
    },
    {
      "cell_type": "code",
      "execution_count": 19,
      "metadata": {},
      "outputs": [],
      "source": [
        "from tools.conv_tools import *\n",
        "import sys"
      ]
    },
    {
      "cell_type": "code",
      "execution_count": 20,
      "metadata": {},
      "outputs": [
        {
          "name": "stderr",
          "output_type": "stream",
          "text": [
            "dir_paths:   0%|          | 0/25 [00:00<?, ?it/s]"
          ]
        },
        {
          "name": "stdout",
          "output_type": "stream",
          "text": [
            "\u001b[35m\u001b[32mdir_path: \u001b[0mdata/docs_for_eval/2007_Cocquempot_Faune_Psylles_Psylloidea_France\n"
          ]
        },
        {
          "name": "stderr",
          "output_type": "stream",
          "text": [
            "dir_paths:   4%|▍         | 1/25 [00:44<17:56, 44.84s/it]"
          ]
        },
        {
          "name": "stdout",
          "output_type": "stream",
          "text": [
            "\u001b[35m\u001b[32mdir_path: \u001b[0mdata/docs_for_eval/2011_lethmayer_Cacopsylla_pruni_Austria_vol64-2011-S255-S256\n"
          ]
        },
        {
          "name": "stderr",
          "output_type": "stream",
          "text": [
            "dir_paths:   8%|▊         | 2/25 [00:46<07:23, 19.28s/it]"
          ]
        },
        {
          "name": "stdout",
          "output_type": "stream",
          "text": [
            "\u001b[35m\u001b[32mdir_path: \u001b[0mdata/docs_for_eval/1871_Puton_Psyllides_France_Cacopsylla_pruni\n"
          ]
        },
        {
          "name": "stderr",
          "output_type": "stream",
          "text": [
            "WARNING:root:Incorrect generation 65536 for entry 1\n",
            "WARNING:root:Incorrect generation 65536 for entry 12\n",
            "WARNING:root:Incorrect generation 65536 for entry 15\n",
            "WARNING:root:Incorrect generation 65536 for entry 19\n",
            "WARNING:root:Incorrect generation 65536 for entry 23\n",
            "WARNING:root:Incorrect generation 65536 for entry 27\n",
            "WARNING:root:Incorrect generation 65536 for entry 31\n",
            "WARNING:root:Incorrect generation 65536 for entry 36\n",
            "WARNING:root:Incorrect generation 65536 for entry 39\n",
            "WARNING:root:Incorrect generation 65536 for entry 42\n",
            "WARNING:root:Incorrect generation 65536 for entry 45\n",
            "WARNING:root:Incorrect generation 65536 for entry 49\n",
            "WARNING:root:Incorrect generation 65536 for entry 52\n",
            "dir_paths:  12%|█▏        | 3/25 [00:47<04:04, 11.09s/it]"
          ]
        },
        {
          "name": "stdout",
          "output_type": "stream",
          "text": [
            "\u001b[35m\u001b[32mdir_path: \u001b[0mdata/docs_for_eval/2013_Kanturski_&_Drohojowska_Poland_Cacopsylla\n"
          ]
        },
        {
          "name": "stderr",
          "output_type": "stream",
          "text": [
            "dir_paths:  16%|█▌        | 4/25 [00:52<02:59,  8.55s/it]"
          ]
        },
        {
          "name": "stdout",
          "output_type": "stream",
          "text": [
            "\u001b[35m\u001b[32mdir_path: \u001b[0mdata/docs_for_eval/2003_Baugnée_Hemiptères_Gembloux\n"
          ]
        },
        {
          "name": "stderr",
          "output_type": "stream",
          "text": []
        },
        {
          "name": "stdout",
          "output_type": "stream",
          "text": [
            "\u001b[35m\u001b[32mdir_path: \u001b[0mdata/docs_for_eval/2010_Inoue_checklist_psyllids_Japan\n"
          ]
        },
        {
          "name": "stderr",
          "output_type": "stream",
          "text": [
            "dir_paths:  24%|██▍       | 6/25 [00:59<01:53,  5.97s/it]"
          ]
        },
        {
          "name": "stdout",
          "output_type": "stream",
          "text": [
            "\u001b[35m\u001b[32mdir_path: \u001b[0mdata/docs_for_eval/1900_Lameere_psyllids_Belgium\n"
          ]
        },
        {
          "name": "stderr",
          "output_type": "stream",
          "text": []
        },
        {
          "name": "stdout",
          "output_type": "stream",
          "text": [
            "\u001b[35m\u001b[32mdir_path: \u001b[0mdata/docs_for_eval/1910_Haupt_Cacopsylla_pruni_Thuringen_Allemagn\n"
          ]
        },
        {
          "name": "stderr",
          "output_type": "stream",
          "text": [
            "dir_paths:  32%|███▏      | 8/25 [01:02<01:10,  4.13s/it]"
          ]
        },
        {
          "name": "stdout",
          "output_type": "stream",
          "text": [
            "\u001b[35m\u001b[32mdir_path: \u001b[0mdata/docs_for_eval/2017_Cho_Taxonomy_of_Korean_Psylloidea\n"
          ]
        },
        {
          "name": "stderr",
          "output_type": "stream",
          "text": [
            "dir_paths:  36%|███▌      | 9/25 [01:30<02:34,  9.68s/it]"
          ]
        },
        {
          "name": "stdout",
          "output_type": "stream",
          "text": [
            "\u001b[35m\u001b[32mdir_path: \u001b[0mdata/docs_for_eval/1918_Jacobsen_Cacopsylla_pruni_Danemark\n"
          ]
        },
        {
          "name": "stderr",
          "output_type": "stream",
          "text": []
        },
        {
          "name": "stdout",
          "output_type": "stream",
          "text": [
            "\u001b[35m\u001b[32mdir_path: \u001b[0mdata/docs_for_eval/1970_Ossiannilsson_Hepatopsylla\n"
          ]
        },
        {
          "name": "stderr",
          "output_type": "stream",
          "text": []
        },
        {
          "name": "stdout",
          "output_type": "stream",
          "text": [
            "\u001b[35m\u001b[32mdir_path: \u001b[0mdata/docs_for_eval/2015_Albrecht_Check_list_of_Finnish_Hemiptera\n"
          ]
        },
        {
          "name": "stderr",
          "output_type": "stream",
          "text": [
            "dir_paths:  44%|████▍     | 11/25 [01:31<01:55,  8.28s/it]\n"
          ]
        },
        {
          "ename": "PdfReadError",
          "evalue": "File has not been decrypted",
          "output_type": "error",
          "traceback": [
            "\u001b[0;31m---------------------------------------------------------------------------\u001b[0m",
            "\u001b[0;31mNotImplementedError\u001b[0m                       Traceback (most recent call last)",
            "File \u001b[0;32m~/GitHub/psylloidea_ontology/venv/lib/python3.10/site-packages/PyPDF4/pdf.py:1211\u001b[0m, in \u001b[0;36mPdfFileReader.getNumPages\u001b[0;34m(self)\u001b[0m\n\u001b[1;32m   <a href='file:///home/elubrini/GitHub/psylloidea_ontology/venv/lib/python3.10/site-packages/PyPDF4/pdf.py?line=1209'>1210</a>\u001b[0m \u001b[39mself\u001b[39m\u001b[39m.\u001b[39m_override_encryption \u001b[39m=\u001b[39m \u001b[39mTrue\u001b[39;00m\n\u001b[0;32m-> <a href='file:///home/elubrini/GitHub/psylloidea_ontology/venv/lib/python3.10/site-packages/PyPDF4/pdf.py?line=1210'>1211</a>\u001b[0m \u001b[39mself\u001b[39;49m\u001b[39m.\u001b[39;49mdecrypt(\u001b[39m'\u001b[39;49m\u001b[39m'\u001b[39;49m)\n\u001b[1;32m   <a href='file:///home/elubrini/GitHub/psylloidea_ontology/venv/lib/python3.10/site-packages/PyPDF4/pdf.py?line=1211'>1212</a>\u001b[0m \u001b[39mreturn\u001b[39;00m \u001b[39mself\u001b[39m\u001b[39m.\u001b[39mtrailer[\u001b[39m\"\u001b[39m\u001b[39m/Root\u001b[39m\u001b[39m\"\u001b[39m][\u001b[39m\"\u001b[39m\u001b[39m/Pages\u001b[39m\u001b[39m\"\u001b[39m][\u001b[39m\"\u001b[39m\u001b[39m/Count\u001b[39m\u001b[39m\"\u001b[39m]\n",
            "File \u001b[0;32m~/GitHub/psylloidea_ontology/venv/lib/python3.10/site-packages/PyPDF4/pdf.py:2052\u001b[0m, in \u001b[0;36mPdfFileReader.decrypt\u001b[0;34m(self, password)\u001b[0m\n\u001b[1;32m   <a href='file:///home/elubrini/GitHub/psylloidea_ontology/venv/lib/python3.10/site-packages/PyPDF4/pdf.py?line=2050'>2051</a>\u001b[0m \u001b[39mtry\u001b[39;00m:\n\u001b[0;32m-> <a href='file:///home/elubrini/GitHub/psylloidea_ontology/venv/lib/python3.10/site-packages/PyPDF4/pdf.py?line=2051'>2052</a>\u001b[0m     \u001b[39mreturn\u001b[39;00m \u001b[39mself\u001b[39;49m\u001b[39m.\u001b[39;49m_decrypt(password)\n\u001b[1;32m   <a href='file:///home/elubrini/GitHub/psylloidea_ontology/venv/lib/python3.10/site-packages/PyPDF4/pdf.py?line=2052'>2053</a>\u001b[0m \u001b[39mfinally\u001b[39;00m:\n",
            "File \u001b[0;32m~/GitHub/psylloidea_ontology/venv/lib/python3.10/site-packages/PyPDF4/pdf.py:2061\u001b[0m, in \u001b[0;36mPdfFileReader._decrypt\u001b[0;34m(self, password)\u001b[0m\n\u001b[1;32m   <a href='file:///home/elubrini/GitHub/psylloidea_ontology/venv/lib/python3.10/site-packages/PyPDF4/pdf.py?line=2059'>2060</a>\u001b[0m \u001b[39mif\u001b[39;00m \u001b[39mnot\u001b[39;00m (encrypt[\u001b[39m'\u001b[39m\u001b[39m/V\u001b[39m\u001b[39m'\u001b[39m] \u001b[39min\u001b[39;00m (\u001b[39m1\u001b[39m, \u001b[39m2\u001b[39m)):\n\u001b[0;32m-> <a href='file:///home/elubrini/GitHub/psylloidea_ontology/venv/lib/python3.10/site-packages/PyPDF4/pdf.py?line=2060'>2061</a>\u001b[0m     \u001b[39mraise\u001b[39;00m \u001b[39mNotImplementedError\u001b[39;00m(\u001b[39m\"\u001b[39m\u001b[39monly algorithm code 1 and 2 are supported. This PDF uses code \u001b[39m\u001b[39m%s\u001b[39;00m\u001b[39m\"\u001b[39m \u001b[39m%\u001b[39m encrypt[\u001b[39m'\u001b[39m\u001b[39m/V\u001b[39m\u001b[39m'\u001b[39m])\n\u001b[1;32m   <a href='file:///home/elubrini/GitHub/psylloidea_ontology/venv/lib/python3.10/site-packages/PyPDF4/pdf.py?line=2061'>2062</a>\u001b[0m user_password, key \u001b[39m=\u001b[39m \u001b[39mself\u001b[39m\u001b[39m.\u001b[39m_authenticateUserPassword(password)\n",
            "\u001b[0;31mNotImplementedError\u001b[0m: only algorithm code 1 and 2 are supported. This PDF uses code 4",
            "\nDuring handling of the above exception, another exception occurred:\n",
            "\u001b[0;31mPdfReadError\u001b[0m                              Traceback (most recent call last)",
            "\u001b[1;32m/home/elubrini/GitHub/psylloidea_ontology/pdf2txt/evaluation_pipeline.ipynb Cell 13'\u001b[0m in \u001b[0;36m<cell line: 5>\u001b[0;34m()\u001b[0m\n\u001b[1;32m      <a href='vscode-notebook-cell:/home/elubrini/GitHub/psylloidea_ontology/pdf2txt/evaluation_pipeline.ipynb#ch0000012?line=4'>5</a>\u001b[0m \u001b[39mfor\u001b[39;00m dir_path \u001b[39min\u001b[39;00m tqdm(dir_paths, desc\u001b[39m=\u001b[39m\u001b[39m'\u001b[39m\u001b[39mdir_paths: \u001b[39m\u001b[39m'\u001b[39m):\n\u001b[1;32m      <a href='vscode-notebook-cell:/home/elubrini/GitHub/psylloidea_ontology/pdf2txt/evaluation_pipeline.ipynb#ch0000012?line=5'>6</a>\u001b[0m     dbg(dir_path)\n\u001b[0;32m----> <a href='vscode-notebook-cell:/home/elubrini/GitHub/psylloidea_ontology/pdf2txt/evaluation_pipeline.ipynb#ch0000012?line=6'>7</a>\u001b[0m     ocr_txt \u001b[39m=\u001b[39m get_txt(dir_path,\n\u001b[1;32m      <a href='vscode-notebook-cell:/home/elubrini/GitHub/psylloidea_ontology/pdf2txt/evaluation_pipeline.ipynb#ch0000012?line=7'>8</a>\u001b[0m                     tool_names\u001b[39m=\u001b[39;49mselected_conv_tools,\n\u001b[1;32m      <a href='vscode-notebook-cell:/home/elubrini/GitHub/psylloidea_ontology/pdf2txt/evaluation_pipeline.ipynb#ch0000012?line=8'>9</a>\u001b[0m                     tools\u001b[39m=\u001b[39;49mctools,\n\u001b[1;32m     <a href='vscode-notebook-cell:/home/elubrini/GitHub/psylloidea_ontology/pdf2txt/evaluation_pipeline.ipynb#ch0000012?line=9'>10</a>\u001b[0m                     storage_opts\u001b[39m=\u001b[39;49m{\u001b[39m'\u001b[39;49m\u001b[39mocr_txt\u001b[39;49m\u001b[39m'\u001b[39;49m:\u001b[39mTrue\u001b[39;49;00m, \u001b[39m'\u001b[39;49m\u001b[39mocr_txt_trans\u001b[39;49m\u001b[39m'\u001b[39;49m:\u001b[39mFalse\u001b[39;49;00m},\n\u001b[1;32m     <a href='vscode-notebook-cell:/home/elubrini/GitHub/psylloidea_ontology/pdf2txt/evaluation_pipeline.ipynb#ch0000012?line=10'>11</a>\u001b[0m                     overwrite_opts\u001b[39m=\u001b[39;49m{\u001b[39m'\u001b[39;49m\u001b[39mocr_txt\u001b[39;49m\u001b[39m'\u001b[39;49m:\u001b[39mFalse\u001b[39;49;00m, \u001b[39m'\u001b[39;49m\u001b[39mocr_txt_trans\u001b[39;49m\u001b[39m'\u001b[39;49m:\u001b[39mFalse\u001b[39;49;00m},\n\u001b[1;32m     <a href='vscode-notebook-cell:/home/elubrini/GitHub/psylloidea_ontology/pdf2txt/evaluation_pipeline.ipynb#ch0000012?line=11'>12</a>\u001b[0m                     )\n\u001b[1;32m     <a href='vscode-notebook-cell:/home/elubrini/GitHub/psylloidea_ontology/pdf2txt/evaluation_pipeline.ipynb#ch0000012?line=13'>14</a>\u001b[0m     store_data(storage\u001b[39m=\u001b[39m\u001b[39m'\u001b[39m\u001b[39mdir\u001b[39m\u001b[39m'\u001b[39m,\n\u001b[1;32m     <a href='vscode-notebook-cell:/home/elubrini/GitHub/psylloidea_ontology/pdf2txt/evaluation_pipeline.ipynb#ch0000012?line=14'>15</a>\u001b[0m                 data\u001b[39m=\u001b[39mocr_txt,\n\u001b[1;32m     <a href='vscode-notebook-cell:/home/elubrini/GitHub/psylloidea_ontology/pdf2txt/evaluation_pipeline.ipynb#ch0000012?line=15'>16</a>\u001b[0m                 dir_path\u001b[39m=\u001b[39mdir_path,\n\u001b[1;32m     <a href='vscode-notebook-cell:/home/elubrini/GitHub/psylloidea_ontology/pdf2txt/evaluation_pipeline.ipynb#ch0000012?line=16'>17</a>\u001b[0m                 name\u001b[39m=\u001b[39m\u001b[39m'\u001b[39m\u001b[39mocr_extraction\u001b[39m\u001b[39m'\u001b[39m)\n",
            "File \u001b[0;32m~/GitHub/psylloidea_ontology/pdf2txt/tools/conv_tools.py:159\u001b[0m, in \u001b[0;36mget_txt\u001b[0;34m(dir_path, tool_names, tools, storage_opts, overwrite_opts)\u001b[0m\n\u001b[1;32m    <a href='file:///home/elubrini/GitHub/psylloidea_ontology/pdf2txt/tools/conv_tools.py?line=156'>157</a>\u001b[0m         tool \u001b[39m=\u001b[39m tools[tool_name] \n\u001b[1;32m    <a href='file:///home/elubrini/GitHub/psylloidea_ontology/pdf2txt/tools/conv_tools.py?line=157'>158</a>\u001b[0m         pdf_filepath \u001b[39m=\u001b[39m get_child_ext_path(dir_path, \u001b[39m'\u001b[39m\u001b[39mpdf\u001b[39m\u001b[39m'\u001b[39m)      \u001b[39m# get path from doc # TODO: trat multiple pdfs per document\u001b[39;00m\n\u001b[0;32m--> <a href='file:///home/elubrini/GitHub/psylloidea_ontology/pdf2txt/tools/conv_tools.py?line=158'>159</a>\u001b[0m         extracted_txts[tool_name]\u001b[39m=\u001b[39m \u001b[39mstr\u001b[39m(tool(pdf_filepath))  \u001b[39m# pass it to tool\u001b[39;00m\n\u001b[1;32m    <a href='file:///home/elubrini/GitHub/psylloidea_ontology/pdf2txt/tools/conv_tools.py?line=160'>161</a>\u001b[0m \u001b[39mreturn\u001b[39;00m extracted_txts\n",
            "File \u001b[0;32m~/GitHub/psylloidea_ontology/pdf2txt/tools/conv_tools.py:95\u001b[0m, in \u001b[0;36mPyPDF4_ocr\u001b[0;34m(pdf_filepath)\u001b[0m\n\u001b[1;32m     <a href='file:///home/elubrini/GitHub/psylloidea_ontology/pdf2txt/tools/conv_tools.py?line=90'>91</a>\u001b[0m doc_object \u001b[39m=\u001b[39m \u001b[39mopen\u001b[39m(pdf_filepath, \u001b[39m'\u001b[39m\u001b[39mrb\u001b[39m\u001b[39m'\u001b[39m)\n\u001b[1;32m     <a href='file:///home/elubrini/GitHub/psylloidea_ontology/pdf2txt/tools/conv_tools.py?line=92'>93</a>\u001b[0m pdfReader \u001b[39m=\u001b[39m PyPDF4\u001b[39m.\u001b[39mPdfFileReader(doc_object) \u001b[39m# creating a pdf reader object\u001b[39;00m\n\u001b[0;32m---> <a href='file:///home/elubrini/GitHub/psylloidea_ontology/pdf2txt/tools/conv_tools.py?line=94'>95</a>\u001b[0m n_pages \u001b[39m=\u001b[39m pdfReader\u001b[39m.\u001b[39;49mnumPages \u001b[39m# #printing number of pages in pdf file\u001b[39;00m\n\u001b[1;32m     <a href='file:///home/elubrini/GitHub/psylloidea_ontology/pdf2txt/tools/conv_tools.py?line=95'>96</a>\u001b[0m text \u001b[39m=\u001b[39m \u001b[39m'\u001b[39m\u001b[39m'\u001b[39m\n\u001b[1;32m     <a href='file:///home/elubrini/GitHub/psylloidea_ontology/pdf2txt/tools/conv_tools.py?line=97'>98</a>\u001b[0m \u001b[39mfor\u001b[39;00m n \u001b[39min\u001b[39;00m \u001b[39mrange\u001b[39m(n_pages):\n",
            "File \u001b[0;32m~/GitHub/psylloidea_ontology/venv/lib/python3.10/site-packages/PyPDF4/pdf.py:1222\u001b[0m, in \u001b[0;36mPdfFileReader.<lambda>\u001b[0;34m(self)\u001b[0m\n\u001b[1;32m   <a href='file:///home/elubrini/GitHub/psylloidea_ontology/venv/lib/python3.10/site-packages/PyPDF4/pdf.py?line=1218'>1219</a>\u001b[0m             \u001b[39mself\u001b[39m\u001b[39m.\u001b[39m_flatten()\n\u001b[1;32m   <a href='file:///home/elubrini/GitHub/psylloidea_ontology/venv/lib/python3.10/site-packages/PyPDF4/pdf.py?line=1219'>1220</a>\u001b[0m         \u001b[39mreturn\u001b[39;00m \u001b[39mlen\u001b[39m(\u001b[39mself\u001b[39m\u001b[39m.\u001b[39mflattenedPages)\n\u001b[0;32m-> <a href='file:///home/elubrini/GitHub/psylloidea_ontology/venv/lib/python3.10/site-packages/PyPDF4/pdf.py?line=1221'>1222</a>\u001b[0m numPages \u001b[39m=\u001b[39m \u001b[39mproperty\u001b[39m(\u001b[39mlambda\u001b[39;00m \u001b[39mself\u001b[39m: \u001b[39mself\u001b[39;49m\u001b[39m.\u001b[39;49mgetNumPages(), \u001b[39mNone\u001b[39;00m, \u001b[39mNone\u001b[39;00m)\n\u001b[1;32m   <a href='file:///home/elubrini/GitHub/psylloidea_ontology/venv/lib/python3.10/site-packages/PyPDF4/pdf.py?line=1222'>1223</a>\u001b[0m \u001b[39m\"\"\"\u001b[39;00m\n\u001b[1;32m   <a href='file:///home/elubrini/GitHub/psylloidea_ontology/venv/lib/python3.10/site-packages/PyPDF4/pdf.py?line=1223'>1224</a>\u001b[0m \u001b[39mRead-only property that accesses the\u001b[39;00m\n\u001b[1;32m   <a href='file:///home/elubrini/GitHub/psylloidea_ontology/venv/lib/python3.10/site-packages/PyPDF4/pdf.py?line=1224'>1225</a>\u001b[0m \u001b[39m:meth:`getNumPages()<PdfFileReader.getNumPages>` function.\u001b[39;00m\n\u001b[1;32m   <a href='file:///home/elubrini/GitHub/psylloidea_ontology/venv/lib/python3.10/site-packages/PyPDF4/pdf.py?line=1225'>1226</a>\u001b[0m \u001b[39m\"\"\"\u001b[39;00m\n\u001b[1;32m   <a href='file:///home/elubrini/GitHub/psylloidea_ontology/venv/lib/python3.10/site-packages/PyPDF4/pdf.py?line=1227'>1228</a>\u001b[0m \u001b[39mdef\u001b[39;00m \u001b[39mgetPage\u001b[39m(\u001b[39mself\u001b[39m, pageNumber):\n",
            "File \u001b[0;32m~/GitHub/psylloidea_ontology/venv/lib/python3.10/site-packages/PyPDF4/pdf.py:1214\u001b[0m, in \u001b[0;36mPdfFileReader.getNumPages\u001b[0;34m(self)\u001b[0m\n\u001b[1;32m   <a href='file:///home/elubrini/GitHub/psylloidea_ontology/venv/lib/python3.10/site-packages/PyPDF4/pdf.py?line=1211'>1212</a>\u001b[0m     \u001b[39mreturn\u001b[39;00m \u001b[39mself\u001b[39m\u001b[39m.\u001b[39mtrailer[\u001b[39m\"\u001b[39m\u001b[39m/Root\u001b[39m\u001b[39m\"\u001b[39m][\u001b[39m\"\u001b[39m\u001b[39m/Pages\u001b[39m\u001b[39m\"\u001b[39m][\u001b[39m\"\u001b[39m\u001b[39m/Count\u001b[39m\u001b[39m\"\u001b[39m]\n\u001b[1;32m   <a href='file:///home/elubrini/GitHub/psylloidea_ontology/venv/lib/python3.10/site-packages/PyPDF4/pdf.py?line=1212'>1213</a>\u001b[0m \u001b[39mexcept\u001b[39;00m:\n\u001b[0;32m-> <a href='file:///home/elubrini/GitHub/psylloidea_ontology/venv/lib/python3.10/site-packages/PyPDF4/pdf.py?line=1213'>1214</a>\u001b[0m     \u001b[39mraise\u001b[39;00m utils\u001b[39m.\u001b[39mPdfReadError(\u001b[39m\"\u001b[39m\u001b[39mFile has not been decrypted\u001b[39m\u001b[39m\"\u001b[39m)\n\u001b[1;32m   <a href='file:///home/elubrini/GitHub/psylloidea_ontology/venv/lib/python3.10/site-packages/PyPDF4/pdf.py?line=1214'>1215</a>\u001b[0m \u001b[39mfinally\u001b[39;00m:\n\u001b[1;32m   <a href='file:///home/elubrini/GitHub/psylloidea_ontology/venv/lib/python3.10/site-packages/PyPDF4/pdf.py?line=1215'>1216</a>\u001b[0m     \u001b[39mself\u001b[39m\u001b[39m.\u001b[39m_override_encryption \u001b[39m=\u001b[39m \u001b[39mFalse\u001b[39;00m\n",
            "\u001b[0;31mPdfReadError\u001b[0m: File has not been decrypted"
          ]
        }
      ],
      "source": [
        "if not sys.warnoptions:\n",
        "    import warnings\n",
        "    warnings.simplefilter(\"ignore\")\n",
        "\n",
        "for dir_path in tqdm(dir_paths, desc='dir_paths: '):\n",
        "    dbg(dir_path)\n",
        "    ocr_txt = get_txt(dir_path,\n",
        "                    tool_names=selected_conv_tools,\n",
        "                    tools=ctools,\n",
        "                    storage_opts={'ocr_txt':True, 'ocr_txt_trans':False},\n",
        "                    overwrite_opts={'ocr_txt':False, 'ocr_txt_trans':False},\n",
        "                    )\n",
        "\n",
        "    store_data(storage='dir',\n",
        "                data=ocr_txt,\n",
        "                dir_path=dir_path,\n",
        "                name='ocr_extraction')"
      ]
    },
    {
      "cell_type": "markdown",
      "metadata": {
        "id": "Y8hRDYFoW2Iu"
      },
      "source": [
        "# Evaluation"
      ]
    },
    {
      "cell_type": "code",
      "execution_count": null,
      "metadata": {},
      "outputs": [],
      "source": [
        "from tools.eval_tools import eval_tools_scores"
      ]
    },
    {
      "cell_type": "code",
      "execution_count": null,
      "metadata": {},
      "outputs": [
        {
          "name": "stderr",
          "output_type": "stream",
          "text": [
            "  0%|          | 0/27 [00:00<?, ?it/s]Exception ignored in: <function Dict.__del__ at 0x7f2c7a8a8e50>\n",
            "Traceback (most recent call last):\n",
            "  File \"/home/elubrini/GitHub/psylloidea_ontology/venv/lib/python3.10/site-packages/enchant/__init__.py\", line 556, in __del__\n",
            "    self._free()\n",
            "  File \"/home/elubrini/GitHub/psylloidea_ontology/venv/lib/python3.10/site-packages/enchant/__init__.py\", line 614, in _free\n",
            "    self._broker._free_dict(self)\n",
            "  File \"/home/elubrini/GitHub/psylloidea_ontology/venv/lib/python3.10/site-packages/enchant/__init__.py\", line 322, in _free_dict\n",
            "    self._free_dict_data(dict._this)\n",
            "  File \"/home/elubrini/GitHub/psylloidea_ontology/venv/lib/python3.10/site-packages/enchant/__init__.py\", line 329, in _free_dict_data\n",
            "    _e.broker_free_dict(self._this, dict)\n",
            "KeyboardInterrupt: \n",
            "  0%|          | 0/27 [00:52<?, ?it/s]"
          ]
        },
        {
          "name": "stdout",
          "output_type": "stream",
          "text": [
            "Warning: dictionary for en not installed. install it via aspell/hunspell/myspell.\n",
            "e.g. sudo apt install aspell-en\n"
          ]
        },
        {
          "name": "stderr",
          "output_type": "stream",
          "text": [
            "\n"
          ]
        },
        {
          "ename": "UnboundLocalError",
          "evalue": "local variable 'c' referenced before assignment",
          "output_type": "error",
          "traceback": [
            "\u001b[0;31m---------------------------------------------------------------------------\u001b[0m",
            "\u001b[0;31mUnboundLocalError\u001b[0m                         Traceback (most recent call last)",
            "\u001b[1;32m/home/elubrini/GitHub/psylloidea_ontology/pdf2txt/evaluation_pipeline.ipynb Cell 16'\u001b[0m in \u001b[0;36m<cell line: 1>\u001b[0;34m()\u001b[0m\n\u001b[0;32m----> <a href='vscode-notebook-cell:/home/elubrini/GitHub/psylloidea_ontology/pdf2txt/evaluation_pipeline.ipynb#ch0000015?line=0'>1</a>\u001b[0m scores_results \u001b[39m=\u001b[39m eval_tools_scores(db_dir_path\u001b[39m=\u001b[39;49minput_dir_path,\n\u001b[1;32m      <a href='vscode-notebook-cell:/home/elubrini/GitHub/psylloidea_ontology/pdf2txt/evaluation_pipeline.ipynb#ch0000015?line=1'>2</a>\u001b[0m                         conv_tool_names\u001b[39m=\u001b[39;49mselected_conv_tools, \u001b[39m# tools to be evaluated\u001b[39;49;00m\n\u001b[1;32m      <a href='vscode-notebook-cell:/home/elubrini/GitHub/psylloidea_ontology/pdf2txt/evaluation_pipeline.ipynb#ch0000015?line=2'>3</a>\u001b[0m                         score_names\u001b[39m=\u001b[39;49mselected_scores,\n\u001b[1;32m      <a href='vscode-notebook-cell:/home/elubrini/GitHub/psylloidea_ontology/pdf2txt/evaluation_pipeline.ipynb#ch0000015?line=3'>4</a>\u001b[0m                         scoring_funs\u001b[39m=\u001b[39;49metools,\n\u001b[1;32m      <a href='vscode-notebook-cell:/home/elubrini/GitHub/psylloidea_ontology/pdf2txt/evaluation_pipeline.ipynb#ch0000015?line=4'>5</a>\u001b[0m                         )\n\u001b[1;32m      <a href='vscode-notebook-cell:/home/elubrini/GitHub/psylloidea_ontology/pdf2txt/evaluation_pipeline.ipynb#ch0000015?line=5'>6</a>\u001b[0m scores_results\n",
            "File \u001b[0;32m~/GitHub/psylloidea_ontology/pdf2txt/tools/eval_tools.py:59\u001b[0m, in \u001b[0;36meval_tools_scores\u001b[0;34m(db_dir_path, conv_tool_names, score_names, scoring_funs)\u001b[0m\n\u001b[1;32m     <a href='file:///home/elubrini/GitHub/psylloidea_ontology/pdf2txt/tools/eval_tools.py?line=55'>56</a>\u001b[0m     scores_by_tool[score_name] \u001b[39m=\u001b[39m \u001b[39mdict\u001b[39m()\n\u001b[1;32m     <a href='file:///home/elubrini/GitHub/psylloidea_ontology/pdf2txt/tools/eval_tools.py?line=57'>58</a>\u001b[0m scoring_fun \u001b[39m=\u001b[39m scoring_funs[score_name]\n\u001b[0;32m---> <a href='file:///home/elubrini/GitHub/psylloidea_ontology/pdf2txt/tools/eval_tools.py?line=58'>59</a>\u001b[0m score \u001b[39m=\u001b[39m scoring_fun(conv_txt_path, meta_path)\n\u001b[1;32m     <a href='file:///home/elubrini/GitHub/psylloidea_ontology/pdf2txt/tools/eval_tools.py?line=59'>60</a>\u001b[0m \u001b[39mtry\u001b[39;00m:\n\u001b[1;32m     <a href='file:///home/elubrini/GitHub/psylloidea_ontology/pdf2txt/tools/eval_tools.py?line=60'>61</a>\u001b[0m     scores_by_tool[score_name][tool_name] \u001b[39m+\u001b[39m\u001b[39m=\u001b[39m score\n",
            "File \u001b[0;32m~/GitHub/psylloidea_ontology/pdf2txt/tools/eval_tools.py:36\u001b[0m, in \u001b[0;36mspellcheck_score\u001b[0;34m(conv_txt_path, meta_path)\u001b[0m\n\u001b[1;32m     <a href='file:///home/elubrini/GitHub/psylloidea_ontology/pdf2txt/tools/eval_tools.py?line=33'>34</a>\u001b[0m         \u001b[39mprint\u001b[39m(\u001b[39m'\u001b[39m\u001b[39mWarning: dictionary for \u001b[39m\u001b[39m{0}\u001b[39;00m\u001b[39m not installed. install it via aspell/hunspell/myspell.\u001b[39m\u001b[39m'\u001b[39m\u001b[39m.\u001b[39mformat(lang_code))\n\u001b[1;32m     <a href='file:///home/elubrini/GitHub/psylloidea_ontology/pdf2txt/tools/eval_tools.py?line=34'>35</a>\u001b[0m         \u001b[39mprint\u001b[39m(\u001b[39m'\u001b[39m\u001b[39me.g. sudo apt install aspell-\u001b[39m\u001b[39m{0}\u001b[39;00m\u001b[39m'\u001b[39m\u001b[39m.\u001b[39mformat(lang_code))\n\u001b[0;32m---> <a href='file:///home/elubrini/GitHub/psylloidea_ontology/pdf2txt/tools/eval_tools.py?line=35'>36</a>\u001b[0m \u001b[39mreturn\u001b[39;00m c\n",
            "\u001b[0;31mUnboundLocalError\u001b[0m: local variable 'c' referenced before assignment"
          ]
        }
      ],
      "source": [
        "scores_results = eval_tools_scores(db_dir_path=input_dir_path,\n",
        "                        conv_tool_names=selected_conv_tools, # tools to be evaluated\n",
        "                        score_names=selected_scores,\n",
        "                        scoring_funs=etools,\n",
        "                        )\n",
        "scores_results"
      ]
    },
    {
      "cell_type": "code",
      "execution_count": null,
      "metadata": {},
      "outputs": [
        {
          "name": "stdout",
          "output_type": "stream",
          "text": [
            "evaluation_results directory already exists.\n"
          ]
        }
      ],
      "source": [
        "try:\n",
        "    os.mkdir(score_data_dirpath)\n",
        "except FileExistsError:\n",
        "    print('{0} directory already exists.'.format(score_data_dirpath))\n",
        "with open(score_data_filepath+'.json', 'w+') as f:\n",
        "    json.dump(scores_results, f)"
      ]
    },
    {
      "cell_type": "markdown",
      "metadata": {},
      "source": [
        "# Visualisation"
      ]
    },
    {
      "cell_type": "code",
      "execution_count": null,
      "metadata": {},
      "outputs": [],
      "source": [
        "import seaborn as sns\n",
        "import matplotlib.pyplot as plt\n",
        "import numpy as np"
      ]
    },
    {
      "cell_type": "code",
      "execution_count": null,
      "metadata": {},
      "outputs": [],
      "source": [
        "with open(score_data_filepath+'.json', 'r') as f:\n",
        "    score_results = json.load(f)"
      ]
    },
    {
      "cell_type": "code",
      "execution_count": null,
      "metadata": {},
      "outputs": [],
      "source": [
        "score_name = selected_scores[0]\n",
        "data = score_results[score_name]"
      ]
    },
    {
      "cell_type": "code",
      "execution_count": null,
      "metadata": {},
      "outputs": [
        {
          "data": {
            "text/plain": [
              "Text(0, 0.5, 'spellcheck_score')"
            ]
          },
          "execution_count": 17,
          "metadata": {},
          "output_type": "execute_result"
        },
        {
          "data": {
            "image/png": "[encoded data removed]",
            "text/plain": [
              "<Figure size 432x288 with 1 Axes>"
            ]
          },
          "metadata": {
            "needs_background": "light"
          },
          "output_type": "display_data"
        }
      ],
      "source": [
        "sns.set(rc={'figure.figsize':(11.7,8.27)})\n",
        "plt.xticks(rotation=45)\n",
        "p = sns.barplot(x=list(data.keys()), y=list(data.values()))\n",
        "p.set_xlabel('tools', fontsize = 20)\n",
        "p.set_ylabel(score_name, fontsize = 20)"
      ]
    },
    {
      "cell_type": "code",
      "execution_count": null,
      "metadata": {},
      "outputs": [],
      "source": [
        "p.figure.savefig(score_data_filepath+'.png')"
      ]
    }
  ],
  "metadata": {
    "colab": {
      "collapsed_sections": [],
      "name": "PDF2TXT.ipynb",
      "provenance": []
    },
    "interpreter": {
      "hash": "be35ce57df230de5a5498af3df671fb801b63d962d9a729c159dc44e5f6a9b0e"
    },
    "kernelspec": {
      "display_name": "Python 3.10.4 ('venv': venv)",
      "language": "python",
      "name": "python3"
    },
    "language_info": {
      "codemirror_mode": {
        "name": "ipython",
        "version": 3
      },
      "file_extension": ".py",
      "mimetype": "text/x-python",
      "name": "python",
      "nbconvert_exporter": "python",
      "pygments_lexer": "ipython3",
      "version": "3.10.4"
    }
  },
  "nbformat": 4,
  "nbformat_minor": 0
}
