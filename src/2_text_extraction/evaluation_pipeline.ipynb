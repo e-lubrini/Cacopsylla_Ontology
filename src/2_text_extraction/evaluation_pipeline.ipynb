{
  "cells": [
    {
      "cell_type": "markdown",
      "metadata": {
        "id": "Q6_qrxn6Wr97"
      },
      "source": [
        "# Config"
      ]
    },
    {
      "cell_type": "code",
      "execution_count": 1,
      "metadata": {},
      "outputs": [],
      "source": [
        "import os\n",
        "from tools.utils import *\n",
        "from tools.eval_tools import *\n",
        "from tools.pdf_tools import *"
      ]
    },
    {
      "cell_type": "code",
      "execution_count": 2,
      "metadata": {
        "id": "utrLifOwX781"
      },
      "outputs": [],
      "source": [
        "# import conversion tools\n",
        "from tools.conv_tools import *\n",
        "from tools import conv_tools\n",
        "ctools = get_funs_from_module(conv_tools)\n",
        "#ctools.keys()"
      ]
    },
    {
      "cell_type": "code",
      "execution_count": 3,
      "metadata": {},
      "outputs": [],
      "source": [
        "from tools import eval_tools\n",
        "etools = get_funs_from_module(eval_tools)\n",
        "#etools.keys()"
      ]
    },
    {
      "cell_type": "markdown",
      "metadata": {
        "id": "XfK6MTi_WoHr"
      },
      "source": [
        "# Load and Rearrange Files"
      ]
    },
    {
      "cell_type": "code",
      "execution_count": 4,
      "metadata": {},
      "outputs": [],
      "source": [
        "from tools.utils import *\n",
        "from tqdm.notebook import tqdm"
      ]
    },
    {
      "cell_type": "code",
      "execution_count": 5,
      "metadata": {},
      "outputs": [],
      "source": [
        "data_path = os.path.join('data')\n",
        "\n",
        "input_dir_path = os.path.join(data_path, 'docs_for_eval')\n",
        "\n",
        "selected_conv_tools = ['PyPDF4_ocr',    # names of the tools for conversion\n",
        "                    'extract_text',\n",
        "                    'pdfminer_ocr',\n",
        "                    'pytesseract_ocr',\n",
        "                    'tika_ocr',  \n",
        "                    ]\n",
        "selected_scores = ['spellcheck_score',  # names of the scores for tool evaluation\n",
        "                    ]\n",
        "score_data_dirpath = 'evaluation_results'\n",
        "ocr_score_data_filepath = os.path.join(score_data_dirpath,'ocr_scores.json')\n",
        "trans_score_data_filepath = os.path.join(score_data_dirpath,'trans_scores.json')\n",
        "\n",
        "doc_paths = [os.path.join(input_dir_path, filepath) for filepath in os.listdir(input_dir_path) if os.path.isfile(os.path.join(input_dir_path, filepath))]\n"
      ]
    },
    {
      "cell_type": "code",
      "execution_count": 6,
      "metadata": {},
      "outputs": [],
      "source": [
        "%%capture\n",
        "# if there are any imgs, convert them to pdf\n",
        "not_pdf_filepaths = list_ext(input_dir_path,    # files to be converted to pdf\n",
        "                            exts=['pdf'],\n",
        "                            invert=True)\n",
        "\n",
        "for not_pdf_filepath in not_pdf_filepaths:\n",
        "    ctools['img2pdf']([not_pdf_filepath])\n",
        "\n",
        "pdf_filepaths = list_ext(input_dir_path,        # all pdf files\n",
        "                        exts=['pdf'],\n",
        "                        invert=False)"
      ]
    },
    {
      "cell_type": "code",
      "execution_count": 7,
      "metadata": {},
      "outputs": [],
      "source": [
        "# rearrange folder structure\n",
        "for pdf_filepath in pdf_filepaths:\n",
        "    mv_to_custom_dir(pdf_filepath)\n",
        "for not_pdf_filepath in not_pdf_filepaths:\n",
        "    os.remove(not_pdf_filepath)"
      ]
    },
    {
      "cell_type": "code",
      "execution_count": 8,
      "metadata": {},
      "outputs": [
        {
          "data": {
            "application/vnd.jupyter.widget-view+json": {
              "model_id": "68ebd7c6722b456a953aad96f9c6016d",
              "version_major": 2,
              "version_minor": 0
            },
            "text/plain": [
              "dir_paths:   0%|          | 0/25 [00:00<?, ?it/s]"
            ]
          },
          "metadata": {},
          "output_type": "display_data"
        }
      ],
      "source": [
        "dir_paths = get_child_dir_paths(input_dir_path)\n",
        "\n",
        "# compile metadata for each file\n",
        "for dir_path in tqdm(dir_paths, desc='dir_paths', leave=True):\n",
        "    metadata = get_metadata(dir_path,\n",
        "                            storage_opts={'lang_codes':True, 'emb_txt':False},\n",
        "                            overwrite_opts={'lang_codes':False, 'emb_txt':False},\n",
        "                            threshold=0.75,\n",
        "                            )\n",
        "\n",
        "    store_data(storage='meta',\n",
        "                data=metadata,\n",
        "                dir_path=dir_path,\n",
        "                name='metadata',\n",
        "                )"
      ]
    },
    {
      "cell_type": "markdown",
      "metadata": {},
      "source": [
        "# Conversion"
      ]
    },
    {
      "cell_type": "code",
      "execution_count": 9,
      "metadata": {},
      "outputs": [],
      "source": [
        "from tools.conv_tools import *\n",
        "import sys\n",
        "from tqdm.notebook import tqdm"
      ]
    },
    {
      "cell_type": "code",
      "execution_count": 10,
      "metadata": {},
      "outputs": [
        {
          "data": {
            "application/vnd.jupyter.widget-view+json": {
              "model_id": "9e0c299a93b7410c8a491f28bf66a6f2",
              "version_major": 2,
              "version_minor": 0
            },
            "text/plain": [
              "dir_paths:   0%|          | 0/25 [00:00<?, ?it/s]"
            ]
          },
          "metadata": {},
          "output_type": "display_data"
        },
        {
          "name": "stderr",
          "output_type": "stream",
          "text": []
        }
      ],
      "source": [
        "if not sys.warnoptions:\n",
        "    import warnings\n",
        "    warnings.simplefilter(\"ignore\")\n",
        "position=0\n",
        "for dir_path in tqdm(dir_paths, desc='dir_paths: '):\n",
        "    ocr_txt = get_txt(dir_path,\n",
        "                    tool_names=selected_conv_tools,\n",
        "                    tools=ctools,\n",
        "                    storage_opts={'ocr_txt':True, 'ocr_txt_trans':True, 'emb_txt_trans':False},\n",
        "                    overwrite_opts={'ocr_txt':False, 'ocr_txt_trans':True, 'emb_txt_trans':False},\n",
        "                    )\n",
        "\n",
        "    store_data(storage='dir',\n",
        "                data=ocr_txt,\n",
        "                dir_path=dir_path,\n",
        "                name='ocr_extraction')\n",
        "    \n",
        "    txt_trans = dict()\n",
        "    for tool, ocr_txt in ocr_txt.items():\n",
        "        txt_trans[tool] = get_translation(tool_dir_path=os.path.join(dir_path,tool),\n",
        "                                        source_text=ocr_txt,\n",
        "                                        source_lang_code=metadata['lang_codes'][0],\n",
        "                                        targ_lang_code='en',\n",
        "                                        storage_opts={'ocr_txt':True, 'ocr_txt_trans':True, 'emb_txt_trans':False},\n",
        "                                        overwrite_opts={'ocr_txt':False, 'ocr_txt_trans':True, 'emb_txt_trans':False},\n",
        "                                        )\n",
        "    trans_name = 'translation'\n",
        "    store_data(storage='dir',\n",
        "                data=txt_trans,\n",
        "                dir_path=dir_path,\n",
        "                name=trans_name,\n",
        "                )"
      ]
    },
    {
      "cell_type": "markdown",
      "metadata": {
        "id": "Y8hRDYFoW2Iu"
      },
      "source": [
        "# Evaluation"
      ]
    },
    {
      "cell_type": "code",
      "execution_count": 11,
      "metadata": {},
      "outputs": [],
      "source": [
        "from tools.eval_tools import eval_tools_scores\n",
        "from tqdm.notebook import tqdm\n",
        "\n",
        "import seaborn as sns\n",
        "import matplotlib.pyplot as plt\n",
        "import numpy as np"
      ]
    },
    {
      "cell_type": "markdown",
      "metadata": {},
      "source": [
        "#### Original"
      ]
    },
    {
      "cell_type": "code",
      "execution_count": 12,
      "metadata": {},
      "outputs": [
        {
          "data": {
            "application/vnd.jupyter.widget-view+json": {
              "model_id": "3f2d65b1f422454eacffd9c86a5d9fca",
              "version_major": 2,
              "version_minor": 0
            },
            "text/plain": [
              "  0%|          | 0/25 [00:00<?, ?it/s]"
            ]
          },
          "metadata": {},
          "output_type": "display_data"
        },
        {
          "data": {
            "text/plain": [
              "{'spellcheck_score': {'PyPDF4_ocr': 0.6831683168316832,\n",
              "  'extract_text': 0.6237623762376238,\n",
              "  'pdfminer_ocr': 0.6039603960396039,\n",
              "  'pytesseract_ocr': 0.6336633663366337,\n",
              "  'tika_ocr': 0.6633663366336634}}"
            ]
          },
          "execution_count": 12,
          "metadata": {},
          "output_type": "execute_result"
        }
      ],
      "source": [
        "scores_results = eval_tools_scores(dir_paths=get_child_dir_paths(input_dir_path),\n",
        "                                conv_tool_names=selected_conv_tools, # tools to be evaluated\n",
        "                                score_names=selected_scores,\n",
        "                                scoring_funs=etools,\n",
        "                                store_path=ocr_score_data_filepath,\n",
        "                                filename='ocr_extraction.txt',\n",
        "                                max_words_per_doc=100,\n",
        "                                )\n",
        "scores_results"
      ]
    },
    {
      "cell_type": "code",
      "execution_count": 13,
      "metadata": {},
      "outputs": [],
      "source": [
        "with open(ocr_score_data_filepath, 'r') as f:\n",
        "    score_results = json.load(f)"
      ]
    },
    {
      "cell_type": "code",
      "execution_count": 14,
      "metadata": {},
      "outputs": [],
      "source": [
        "score_name = selected_scores[0]\n",
        "data = score_results[score_name]"
      ]
    },
    {
      "cell_type": "code",
      "execution_count": 15,
      "metadata": {},
      "outputs": [
        {
          "data": {
            "text/plain": [
              "Text(0, 0.5, 'spellcheck_score')"
            ]
          },
          "execution_count": 15,
          "metadata": {},
          "output_type": "execute_result"
        },
        {
          "data": {
            "image/png": "[encoded data removed]",
            "text/plain": [
              "<Figure size 432x288 with 1 Axes>"
            ]
          },
          "metadata": {
            "needs_background": "light"
          },
          "output_type": "display_data"
        }
      ],
      "source": [
        "sns.set(rc={'figure.figsize':(11.7,8.27)})\n",
        "plt.xticks(rotation=45)\n",
        "p = sns.barplot(x=list(data.keys()), y=list(data.values()))\n",
        "p.set_xlabel('tools', fontsize = 20)\n",
        "p.set_ylabel(score_name, fontsize = 20)"
      ]
    },
    {
      "cell_type": "code",
      "execution_count": 16,
      "metadata": {},
      "outputs": [],
      "source": [
        "p.figure.savefig(ocr_score_data_filepath+'.png')"
      ]
    },
    {
      "cell_type": "markdown",
      "metadata": {},
      "source": [
        "#### Translation"
      ]
    },
    {
      "cell_type": "code",
      "execution_count": 17,
      "metadata": {},
      "outputs": [
        {
          "data": {
            "application/vnd.jupyter.widget-view+json": {
              "model_id": "64e1117236f940bcbaa92d302ec7b406",
              "version_major": 2,
              "version_minor": 0
            },
            "text/plain": [
              "  0%|          | 0/25 [00:00<?, ?it/s]"
            ]
          },
          "metadata": {},
          "output_type": "display_data"
        },
        {
          "name": "stderr",
          "output_type": "stream",
          "text": []
        },
        {
          "data": {
            "text/plain": [
              "{'spellcheck_score': {'PyPDF4_ocr': 0.7029702970297029,\n",
              "  'extract_text': 0.7227722772277227,\n",
              "  'pdfminer_ocr': 0.7227722772277227,\n",
              "  'pytesseract_ocr': 0.6534653465346535,\n",
              "  'tika_ocr': 0.7425742574257426}}"
            ]
          },
          "execution_count": 17,
          "metadata": {},
          "output_type": "execute_result"
        }
      ],
      "source": [
        "scores_results = eval_tools_scores(dir_paths=get_child_dir_paths(input_dir_path),\n",
        "                                conv_tool_names=selected_conv_tools, # tools to be evaluated\n",
        "                                score_names=selected_scores,\n",
        "                                scoring_funs=etools,\n",
        "                                lang_codes=['en'],\n",
        "                                store_path=trans_score_data_filepath,\n",
        "                                max_words_per_doc=100,\n",
        "                                filename='translation.txt',\n",
        "                                )\n",
        "scores_results"
      ]
    },
    {
      "cell_type": "code",
      "execution_count": 18,
      "metadata": {},
      "outputs": [],
      "source": [
        "with open(trans_score_data_filepath, 'r') as f:\n",
        "    score_results = json.load(f)"
      ]
    },
    {
      "cell_type": "code",
      "execution_count": 19,
      "metadata": {},
      "outputs": [],
      "source": [
        "score_name = selected_scores[0]\n",
        "data = score_results[score_name]"
      ]
    },
    {
      "cell_type": "code",
      "execution_count": 20,
      "metadata": {},
      "outputs": [
        {
          "data": {
            "text/plain": [
              "Text(0, 0.5, 'spellcheck_score')"
            ]
          },
          "execution_count": 20,
          "metadata": {},
          "output_type": "execute_result"
        },
        {
          "data": {
            "image/png": "[encoded data removed]",
            "text/plain": [
              "<Figure size 842.4x595.44 with 1 Axes>"
            ]
          },
          "metadata": {},
          "output_type": "display_data"
        }
      ],
      "source": [
        "sns.set(rc={'figure.figsize':(11.7,8.27)})\n",
        "plt.xticks(rotation=45)\n",
        "p = sns.barplot(x=list(data.keys()), y=list(data.values()))\n",
        "p.set_xlabel('tools', fontsize = 20)\n",
        "p.set_ylabel(score_name, fontsize = 20)"
      ]
    }
  ],
  "metadata": {
    "colab": {
      "collapsed_sections": [],
      "name": "PDF2TXT.ipynb",
      "provenance": []
    },
    "interpreter": {
      "hash": "0791b7be171ebad212c24ef65290d1f031fc8c5ca9521baf1e29a38a9507073b"
    },
    "kernelspec": {
      "display_name": "Python 3.10.4 ('venv': venv)",
      "language": "python",
      "name": "python3"
    },
    "language_info": {
      "codemirror_mode": {
        "name": "ipython",
        "version": 3
      },
      "file_extension": ".py",
      "mimetype": "text/x-python",
      "name": "python",
      "nbconvert_exporter": "python",
      "pygments_lexer": "ipython3",
      "version": "3.10.4"
    }
  },
  "nbformat": 4,
  "nbformat_minor": 0
}
