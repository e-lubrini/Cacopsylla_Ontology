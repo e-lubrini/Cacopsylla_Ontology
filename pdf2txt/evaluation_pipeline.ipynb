{
  "cells": [
    {
      "cell_type": "markdown",
      "metadata": {
        "id": "Q6_qrxn6Wr97"
      },
      "source": [
        "# Config"
      ]
    },
    {
      "cell_type": "code",
      "execution_count": 1,
      "metadata": {},
      "outputs": [],
      "source": [
        "import os\n",
        "from tools.utils import *"
      ]
    },
    {
      "cell_type": "code",
      "execution_count": 2,
      "metadata": {
        "id": "utrLifOwX781"
      },
      "outputs": [
        {
          "data": {
            "text/plain": [
              "dict_keys(['PyPDF4_ocr', 'dbg', 'emb_text_is_usable', 'extract_text', 'get_child_dir_paths', 'get_child_ext_path', 'get_emb_txt', 'get_funs_from_module', 'get_langs', 'get_metadata', 'get_parent_dir', 'get_var_name', 'getmembers', 'grobid_extr', 'img2pdf', 'in_lang_sc', 'in_lang_wl', 'isfunction', 'join_parentpath_childnames', 'list_ext', 'mv_to_custom_dir', 'pdf2img', 'pdf2txt', 'pdf2xml', 'pdfminer_ocr', 'pdfreader_ocr', 'prep_and_tokenise', 'pytesseract_ocr', 'read_doc_metadata', 'tika_ocr', 'translate_wl', 'true_counter', 'words_in_lang_ratio', 'words_in_langs_ratio', 'write_pdf_metadata'])"
            ]
          },
          "execution_count": 2,
          "metadata": {},
          "output_type": "execute_result"
        }
      ],
      "source": [
        "# import conversion tools\n",
        "from tools.conv_tools import *\n",
        "from tools import conv_tools\n",
        "ctools = get_funs_from_module(conv_tools)\n",
        "ctools.keys()"
      ]
    },
    {
      "cell_type": "code",
      "execution_count": 3,
      "metadata": {},
      "outputs": [
        {
          "data": {
            "text/plain": [
              "dict_keys(['dbg', 'emb_text_is_usable', 'eval_tools_scores', 'get_child_dir_paths', 'get_child_ext_path', 'get_emb_txt', 'get_funs_from_module', 'get_langs', 'get_metadata', 'get_parent_dir', 'get_var_name', 'getmembers', 'in_lang_sc', 'in_lang_wl', 'isfunction', 'join_parentpath_childnames', 'list_ext', 'mv_to_custom_dir', 'prep_and_tokenise', 'read_doc_metadata', 'spellcheck_score', 'translate_wl', 'true_counter', 'word_is_correct_Q', 'words_in_lang_ratio', 'words_in_langs_ratio', 'write_pdf_metadata'])"
            ]
          },
          "execution_count": 3,
          "metadata": {},
          "output_type": "execute_result"
        }
      ],
      "source": [
        "from tools import eval_tools\n",
        "etools = get_funs_from_module(eval_tools)\n",
        "etools.keys()"
      ]
    },
    {
      "cell_type": "markdown",
      "metadata": {
        "id": "XfK6MTi_WoHr"
      },
      "source": [
        "# Load and Rearrange Files"
      ]
    },
    {
      "cell_type": "code",
      "execution_count": 4,
      "metadata": {},
      "outputs": [],
      "source": [
        "from tools.utils import *"
      ]
    },
    {
      "cell_type": "code",
      "execution_count": 5,
      "metadata": {},
      "outputs": [],
      "source": [
        "data_path = os.path.join('data')\n",
        "\n",
        "input_dir_path = os.path.join(data_path, 'docs_for_eval')\n",
        "\n",
        "selected_conv_tools = ['PyPDF4_ocr',    # names of the tools for conversion\n",
        "                    'extract_text',\n",
        "                    'pdfminer_ocr',\n",
        "                    'pdfreader_ocr',\n",
        "                    'pytesseract_ocr',\n",
        "                    'tika_ocr',  \n",
        "                    ]\n",
        "selected_scores = ['spellcheck_score',  # names of the scores for tool evaluation\n",
        "                    ]\n",
        "score_data_dirpath = 'evaluation_results'\n",
        "score_data_filepath = os.path.join(score_data_dirpath,'scores')\n",
        "\n",
        "doc_paths = [os.path.join(input_dir_path, filepath) for filepath in os.listdir(input_dir_path) if os.path.isfile(os.path.join(input_dir_path, filepath))]\n"
      ]
    },
    {
      "cell_type": "code",
      "execution_count": 6,
      "metadata": {},
      "outputs": [],
      "source": [
        "%%capture\n",
        "# if there are any imgs, convert them to pdf\n",
        "not_pdf_filepaths = list_ext(input_dir_path,    # files to be converted to pdf\n",
        "                            exts=['pdf'],\n",
        "                            invert=True)\n",
        "\n",
        "for not_pdf_filepath in not_pdf_filepaths:\n",
        "    ctools['img2pdf']([not_pdf_filepath])\n",
        "\n",
        "pdf_filepaths = list_ext(input_dir_path,        # all pdf files\n",
        "                        exts=['pdf'],\n",
        "                        invert=False)"
      ]
    },
    {
      "cell_type": "code",
      "execution_count": 7,
      "metadata": {},
      "outputs": [],
      "source": [
        "# rearrange folder structure\n",
        "for pdf_filepath in pdf_filepaths:\n",
        "    mv_to_custom_dir(pdf_filepath)\n",
        "for not_pdf_filepath in not_pdf_filepaths:\n",
        "    os.remove(not_pdf_filepath)"
      ]
    },
    {
      "cell_type": "code",
      "execution_count": 8,
      "metadata": {},
      "outputs": [],
      "source": [
        "%%capture\n",
        "# compile metadata for each file\n",
        "for dir_path in get_child_dir_paths(input_dir_path):\n",
        "    metadata = write_pdf_metadata(path=dir_path)"
      ]
    },
    {
      "cell_type": "markdown",
      "metadata": {},
      "source": [
        "# Conversion"
      ]
    },
    {
      "cell_type": "code",
      "execution_count": 9,
      "metadata": {},
      "outputs": [],
      "source": [
        "from tools.conv_tools import *"
      ]
    },
    {
      "cell_type": "code",
      "execution_count": 10,
      "metadata": {},
      "outputs": [
        {
          "name": "stdout",
          "output_type": "stream",
          "text": [
            "\u001b[35m\u001b[32mdir_path: \u001b[0mdata/docs_for_eval/2018_Warabieda_Cacopsylla_pruni_Pologne_copie--page0\n",
            "\u001b[35m\u001b[32mtool: \u001b[0m<function PyPDF4_ocr at 0x7f9e6ae553f0>\n",
            "\u001b[35m\u001b[32mmess: \u001b[0m0.pdf\n",
            "\u001b[35m\u001b[32mtool: \u001b[0m<function extract_text at 0x7f9e6bddff40>\n",
            "\u001b[35m\u001b[32mmess: \u001b[0m0.pdf\n",
            "\u001b[35m\u001b[32mtool: \u001b[0m<function pdfminer_ocr at 0x7f9e6ae55480>\n",
            "\u001b[35m\u001b[32mmess: \u001b[0m0.pdf\n",
            "\u001b[35m\u001b[32mtool: \u001b[0m<function pdfreader_ocr at 0x7f9e6ae555a0>\n",
            "\u001b[35m\u001b[32mmess: \u001b[0m0.pdf\n",
            "\u001b[35m\u001b[32mtool: \u001b[0m<function pytesseract_ocr at 0x7f9e6ae54700>\n",
            "\u001b[35m\u001b[32mmess: \u001b[0m0.pdf\n"
          ]
        },
        {
          "name": "stderr",
          "output_type": "stream",
          "text": [
            "2022-05-17 08:54:20,978 [MainThread  ] [INFO ]  Retrieving http://search.maven.org/remotecontent?filepath=org/apache/tika/tika-server/1.24/tika-server-1.24.jar to /tmp/tika-server.jar.\n",
            "INFO:tika.tika:Retrieving http://search.maven.org/remotecontent?filepath=org/apache/tika/tika-server/1.24/tika-server-1.24.jar to /tmp/tika-server.jar.\n"
          ]
        },
        {
          "name": "stdout",
          "output_type": "stream",
          "text": [
            "\u001b[35m\u001b[32mtool: \u001b[0m<function tika_ocr at 0x7f9e6ae55510>\n",
            "\u001b[35m\u001b[32mmess: \u001b[0m0.pdf\n"
          ]
        }
      ],
      "source": [
        "dir_paths = get_child_dir_paths(input_dir_path)\n",
        "for dir_path in dir_paths:  \n",
        "    dbg(dir_path)\n",
        "    pdf2txt(doc_dir_path=dir_path,\n",
        "            tool_names=selected_conv_tools,\n",
        "            tools=ctools,\n",
        "            overwrite=True,\n",
        "            )"
      ]
    },
    {
      "cell_type": "markdown",
      "metadata": {
        "id": "Y8hRDYFoW2Iu"
      },
      "source": [
        "# Evaluation"
      ]
    },
    {
      "cell_type": "code",
      "execution_count": null,
      "metadata": {},
      "outputs": [],
      "source": [
        "from tools.eval_tools import eval_tools_scores"
      ]
    },
    {
      "cell_type": "code",
      "execution_count": null,
      "metadata": {},
      "outputs": [
        {
          "name": "stderr",
          "output_type": "stream",
          "text": [
            "0it [00:00, ?it/s]\n"
          ]
        },
        {
          "data": {
            "text/plain": [
              "{}"
            ]
          },
          "execution_count": 52,
          "metadata": {},
          "output_type": "execute_result"
        }
      ],
      "source": [
        "scores_results = eval_tools_scores(db_dir_path=input_dir_path,\n",
        "                        conv_tool_names=selected_conv_tools, # tools to be evaluated\n",
        "                        score_names=selected_scores,\n",
        "                        scoring_funs=etools,\n",
        "                        )\n",
        "scores_results"
      ]
    },
    {
      "cell_type": "code",
      "execution_count": null,
      "metadata": {},
      "outputs": [
        {
          "name": "stdout",
          "output_type": "stream",
          "text": [
            "evaluation_results directory already exists.\n"
          ]
        }
      ],
      "source": [
        "try:\n",
        "    os.mkdir(score_data_dirpath)\n",
        "except FileExistsError:\n",
        "    print('{0} directory already exists.'.format(score_data_dirpath))\n",
        "with open(score_data_filepath+'.json', 'w+') as f:\n",
        "    json.dump(scores_results, f)"
      ]
    },
    {
      "cell_type": "markdown",
      "metadata": {},
      "source": [
        "# Visualisation"
      ]
    },
    {
      "cell_type": "code",
      "execution_count": null,
      "metadata": {},
      "outputs": [],
      "source": [
        "import seaborn as sns\n",
        "import matplotlib.pyplot as plt\n",
        "import numpy as np"
      ]
    },
    {
      "cell_type": "code",
      "execution_count": null,
      "metadata": {},
      "outputs": [],
      "source": [
        "with open(score_data_filepath+'.json', 'r') as f:\n",
        "    score_results = json.load(f)"
      ]
    },
    {
      "cell_type": "code",
      "execution_count": null,
      "metadata": {},
      "outputs": [
        {
          "ename": "KeyError",
          "evalue": "'spellcheck_score'",
          "output_type": "error",
          "traceback": [
            "\u001b[0;31m---------------------------------------------------------------------------\u001b[0m",
            "\u001b[0;31mKeyError\u001b[0m                                  Traceback (most recent call last)",
            "\u001b[1;32m/home/elubrini/GitHub/psylloidea_ontology/pdf2txt/evaluation_pipeline.ipynb Cell 21'\u001b[0m in \u001b[0;36m<cell line: 2>\u001b[0;34m()\u001b[0m\n\u001b[1;32m      <a href='vscode-notebook-cell:/home/elubrini/GitHub/psylloidea_ontology/pdf2txt/evaluation_pipeline.ipynb#ch0000020?line=0'>1</a>\u001b[0m score_name \u001b[39m=\u001b[39m selected_scores[\u001b[39m0\u001b[39m]\n\u001b[0;32m----> <a href='vscode-notebook-cell:/home/elubrini/GitHub/psylloidea_ontology/pdf2txt/evaluation_pipeline.ipynb#ch0000020?line=1'>2</a>\u001b[0m data \u001b[39m=\u001b[39m score_results[score_name]\n",
            "\u001b[0;31mKeyError\u001b[0m: 'spellcheck_score'"
          ]
        }
      ],
      "source": [
        "score_name = selected_scores[0]\n",
        "data = score_results[score_name]"
      ]
    },
    {
      "cell_type": "code",
      "execution_count": null,
      "metadata": {},
      "outputs": [
        {
          "data": {
            "text/plain": [
              "Text(0, 0.5, 'spellcheck_score')"
            ]
          },
          "execution_count": 22,
          "metadata": {},
          "output_type": "execute_result"
        },
        {
          "data": {
            "image/png": "[encoded data removed]",
            "text/plain": [
              "<Figure size 842.4x595.44 with 1 Axes>"
            ]
          },
          "metadata": {},
          "output_type": "display_data"
        }
      ],
      "source": [
        "sns.set(rc={'figure.figsize':(11.7,8.27)})\n",
        "plt.xticks(rotation=45)\n",
        "p = sns.barplot(x=list(data.keys()), y=list(data.values()))\n",
        "p.set_xlabel('tools', fontsize = 20)\n",
        "p.set_ylabel(score_name, fontsize = 20)"
      ]
    },
    {
      "cell_type": "code",
      "execution_count": null,
      "metadata": {},
      "outputs": [],
      "source": [
        "p.figure.savefig(score_data_filepath+'.png')"
      ]
    }
  ],
  "metadata": {
    "colab": {
      "collapsed_sections": [],
      "name": "PDF2TXT.ipynb",
      "provenance": []
    },
    "interpreter": {
      "hash": "ca359da88923a148e956a1a9ddb9fa72da23a8d58fa1573ee9bde288a9b2540a"
    },
    "kernelspec": {
      "display_name": "Python 3.10.4 ('venv': venv)",
      "language": "python",
      "name": "python3"
    },
    "language_info": {
      "codemirror_mode": {
        "name": "ipython",
        "version": 3
      },
      "file_extension": ".py",
      "mimetype": "text/x-python",
      "name": "python",
      "nbconvert_exporter": "python",
      "pygments_lexer": "ipython3",
      "version": "3.10.4"
    }
  },
  "nbformat": 4,
  "nbformat_minor": 0
}
