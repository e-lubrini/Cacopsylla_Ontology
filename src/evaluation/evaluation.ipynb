{
 "cells": [
  {
   "cell_type": "markdown",
   "metadata": {},
   "source": [
    "# Evaluation"
   ]
  },
  {
   "cell_type": "code",
   "execution_count": 1,
   "metadata": {},
   "outputs": [
    {
     "name": "stdout",
     "output_type": "stream",
     "text": [
      "COMPARISON STARTED\n",
      "data/ref/cpruni_occurrences_binary.json"
     ]
    },
    {
     "data": {
      "text/plain": [
       "39"
      ]
     },
     "execution_count": 1,
     "metadata": {},
     "output_type": "execute_result"
    }
   ],
   "source": [
    "#!/bin/env python\n",
    "\n",
    "import os\n",
    "\n",
    "import pandas as pd\n",
    "\n",
    "import matplotlib.pyplot as plt\n",
    "import seaborn as sns\n",
    "\n",
    "import os\n",
    "import csv\n",
    "import sys\n",
    "import json\n",
    "import math\n",
    "from nltk.tokenize import word_tokenize\n",
    "\n",
    "from tools.visual import *\n",
    "\n",
    "pred_dir_path = 'data/pred'\n",
    "save_dir = 'data/evaluation_results/'\n",
    "\n",
    "# ./compare-psylle.py Cpruni_occurrences_binary.json extracted_entities.txt extracted_relations.txt >eval.json\n",
    "\n",
    "sys.stdout.write('COMPARISON STARTED\\n')\n",
    "ref_filepath = 'data/ref/cpruni_occurrences_binary.json'\n",
    "sys.stdout.write(ref_filepath) # label filepath"
   ]
  },
  {
   "cell_type": "markdown",
   "metadata": {},
   "source": [
    "## Load Subdirectories"
   ]
  },
  {
   "cell_type": "code",
   "execution_count": 2,
   "metadata": {},
   "outputs": [],
   "source": [
    "#########################\n",
    "## Load Subdirectories ##\n",
    "#########################\n",
    "\n",
    "# each subdirectory is an output of a variation of the same pipeline\n",
    "# with different strategies implemented (for comparison)"
   ]
  },
  {
   "cell_type": "code",
   "execution_count": 3,
   "metadata": {},
   "outputs": [],
   "source": [
    "def get_child_dir_paths(dir_path):\n",
    "    child_names = os.listdir(dir_path)\n",
    "    child_paths = [os.path.join(dir_path,child_name) for child_name in child_names]\n",
    "    dir_paths = [child_path for child_path in child_paths if os.path.isdir(child_path)]\n",
    "    return dir_paths\n"
   ]
  },
  {
   "cell_type": "markdown",
   "metadata": {},
   "source": [
    "### Load predictions and reference data"
   ]
  },
  {
   "cell_type": "code",
   "execution_count": 4,
   "metadata": {},
   "outputs": [],
   "source": [
    "## list filepaths of predictions\n",
    "## both entities and relations\n",
    "\n",
    "pred_filepaths = dict()\n",
    "\n",
    "c = 0 # subdirectories are named sequentially starting from 0\n",
    "for dirpath in get_child_dir_paths(pred_dir_path):\n",
    "    pred_ent_filepaths = []\n",
    "    pred_rel_filepaths = []\n",
    "    for filepath in os.listdir(dirpath):\n",
    "        filepath = os.path.join(pred_dir_path,str(c),filepath)\n",
    "        \n",
    "        if 'ent' in filepath:\n",
    "            pred_ent_filepaths.append(filepath)\n",
    "        elif 'rel' in filepath:\n",
    "            pred_rel_filepaths.append(filepath)\n",
    "\n",
    "        pred_filepaths_in_dir = list(zip(pred_ent_filepaths, pred_rel_filepaths))\n",
    "        pred_filepaths[c] = pred_filepaths_in_dir\n",
    "    c += 1\n",
    "\n",
    "    # e.g. of pred_filepaths:\n",
    "    # {0: [('data/pred/0/extracted_entities.txt', # pipeline version 0, entities\n",
    "    #    'data/pred/0/extracted_relations.txt')], # pipeline version 0, relations\n",
    "    #  1: [('data/pred/1/extracted_entities.txt', # pipeline version 1, entities\n",
    "    #    'data/pred/1/extracted_relations.txt')]} # pipeline version 1, relations\n",
    "\n",
    "\n",
    "## load content of reference data\n",
    "\n",
    "#reference_nomeclature_db_filepath = '../../../text-mining-workflow/ancillaries/psylve/psyllist_tokens.txt'\n",
    "#with open(reference_nomeclature_db_filepath, 'r') as f:\n",
    "#    reference_nomeclature_db = f.read()\n",
    "\n"
   ]
  },
  {
   "cell_type": "markdown",
   "metadata": {},
   "source": [
    "## Evaluation"
   ]
  },
  {
   "cell_type": "markdown",
   "metadata": {},
   "source": [
    "### Def Functions"
   ]
  },
  {
   "cell_type": "markdown",
   "metadata": {},
   "source": [
    "#### Scores"
   ]
  },
  {
   "cell_type": "code",
   "execution_count": 5,
   "metadata": {},
   "outputs": [],
   "source": [
    "\n",
    "##########################\n",
    "## Evaluation Functions ##\n",
    "##########################\n",
    "\n",
    "# Either reference and prediction document names are the same\n",
    "def same_doc(ref, pred):\n",
    "    return pred == ref or pred == ref + '_translation'\n",
    "\n",
    "# Similarity between vectors\n",
    "def sim_vector(ref, pred):\n",
    "    #for token1 in word_tokenize(ref['acceptedNameUsage'].lower()):\n",
    "        #for token2 in word_tokenize(pred['CANONICAL'].lower()):\n",
    "            #if token1==token2:\n",
    "            # FOR ALL HEMIPTERA: if token2 in reference_nomeclature_db.lower():\n",
    "    if 'psyll' in pred['CANONICAL'].lower():\n",
    "        return 1.0\n",
    "    return 0.0\n",
    "\n",
    "# Similarity between locations\n",
    "def sim_location(ref, pred):\n",
    "    for token1 in word_tokenize(ref['country'].lower()):\n",
    "        for token2 in word_tokenize(pred['FORM'].lower()):\n",
    "            if token1==token2:\n",
    "                return 1.0\n",
    "    return 0.0\n",
    "\n",
    "\n",
    "# Similarity between hosts\n",
    "def sim_host(ref, pred):\n",
    "    for token1 in word_tokenize(ref['hostPlantLatinName'].lower()):\n",
    "        for token2 in word_tokenize(pred['CANONICAL'].lower()):\n",
    "            if token1==token2:\n",
    "                return 1.0\n",
    "    return 0.0\n",
    "\n",
    "# Similarity between dates\n",
    "def sim_date(ref, pred):\n",
    "    if ref['eventDate'][-4:] == pred['FORM']:\n",
    "        return 1.0\n",
    "    return 0.0\n",
    "\n",
    "\n",
    "TYPES = ('vector', 'location', 'host', 'date')\n",
    "\n",
    "class hashabledict(dict):\n",
    "    def __hash__(self):\n",
    "        return hash(tuple(sorted(self.items())))"
   ]
  },
  {
   "cell_type": "markdown",
   "metadata": {},
   "source": [
    "#### Pair entities"
   ]
  },
  {
   "cell_type": "code",
   "execution_count": 6,
   "metadata": {},
   "outputs": [],
   "source": [
    "################\n",
    "## Pairing up ##\n",
    "################\n",
    "\n",
    "sim_fun = {\n",
    "    'vector': sim_vector,\n",
    "    'location': sim_location,\n",
    "    'host': sim_host,\n",
    "    'date': sim_date\n",
    "}\n",
    "\n",
    "\n",
    "def sim(ref, pred):\n",
    "    if ref['type'] != pred['TYPE']:\n",
    "        return 0.0\n",
    "    if not same_doc(ref['filename'], pred['DOC']):\n",
    "        return 0.0\n",
    "    return sim_fun[ref['type']](ref, pred)\n",
    "\n",
    "\n",
    "def find_best_ent(paired_pred, ref_ent, pred_entities):\n",
    "    max_sim = 0.0\n",
    "    best_pred = None\n",
    "    for pred_ent in pred_entities:\n",
    "        if pred_ent in paired_pred:\n",
    "            continue\n",
    "        s = sim(ref_ent, pred_ent)\n",
    "        if s == 0.0:\n",
    "            continue\n",
    "        if s > max_sim:\n",
    "            max_sim = s\n",
    "            best_pred = pred_ent\n",
    "    return best_pred, max_sim\n",
    "\n",
    "\n",
    "# return True if inputted parameters are the same\n",
    "def pair_filter(pair, doc=None, type_=None, cat=None):\n",
    "    r = pair['ref']\n",
    "    p = pair['pred']\n",
    "    if doc is not None:\n",
    "        if r is not None and r['filename'] != doc:\n",
    "            return False\n",
    "        if p is not None and not same_doc(doc, p['DOC']):\n",
    "            return False\n",
    "    if type_ is not None:\n",
    "        if r is not None and r['type'] != type_:\n",
    "            return False\n",
    "        if p is not None and p['TYPE'] != type_:\n",
    "            return False\n",
    "    if cat is not None:\n",
    "        return cat == pair['cat']\n",
    "    return True"
   ]
  },
  {
   "cell_type": "code",
   "execution_count": 7,
   "metadata": {},
   "outputs": [],
   "source": [
    "\n",
    "def evaluate(ref_filepath, pred_ent_filepath, pred_rel_filepath, out='doc'):       \n",
    "    with open(ref_filepath) as f:\n",
    "        reference = json.load(f)\n",
    "    ref_documents = set(ref['common']['filename'] for ref in reference)\n",
    "    ref_entities = set()\n",
    "    for ref in reference:\n",
    "        fn = ref['common']['filename']\n",
    "        ref_entities.add(hashabledict(ref['left']))\n",
    "        ref_entities.add(hashabledict(ref['right']))\n",
    "\n",
    "    with open(pred_ent_filepath, newline='') as f:\n",
    "        entcsv = csv.DictReader(f, delimiter='\\t')\n",
    "        pred_entities = set(hashabledict(row) for row in entcsv)\n",
    "\n",
    "    with open(pred_rel_filepath, newline='') as f:\n",
    "        relcsv = csv.DictReader(f, delimiter='\\t')\n",
    "        pred_relations = set(hashabledict(row) for row in relcsv)\n",
    "\n",
    "    TRUE_POSITIVE = 'True Positive'\n",
    "    FALSE_POSITIVE = 'False Positive'\n",
    "    FALSE_NEGATIVE = 'False Negative'\n",
    "\n",
    "    ent_pairs = []\n",
    "    paired_pred = set()\n",
    "\n",
    "    for ref_ent in ref_entities:\n",
    "        pred_ent, s = find_best_ent(paired_pred, ref_ent, pred_entities)\n",
    "        if pred_ent is not None:\n",
    "            paired_pred.add(pred_ent)\n",
    "            #print('PAIRED P', paired_pred)\n",
    "            cat = TRUE_POSITIVE\n",
    "        else:\n",
    "            cat = FALSE_NEGATIVE\n",
    "        ent_pairs.append({'ref': ref_ent, 'pred': pred_ent, 'sim': s, 'cat': cat})\n",
    "        #print('ENT PAIR', ent_pairs)\n",
    "    for pred_ent in pred_entities:\n",
    "        if pred_ent not in paired_pred:\n",
    "            ent_pairs.append({'ref': None, 'pred': pred_ent, 'sim': 0.0, 'cat': FALSE_POSITIVE})\n",
    "\n",
    "\n",
    "    def evaluate_pairs(pairs):\n",
    "        tp = list(p for p in pairs if pair_filter(p, cat=TRUE_POSITIVE))\n",
    "        fp = list(p for p in pairs if pair_filter(p, cat=FALSE_POSITIVE))\n",
    "        fn = list(p for p in pairs if pair_filter(p, cat=FALSE_NEGATIVE))\n",
    "        if len(tp) + len(fn) == 0:\n",
    "            recall = math.nan\n",
    "        else:\n",
    "            recall = float(len(tp)) / (len(tp) + len(fn))\n",
    "        if len(tp) + len(fp) == 0:\n",
    "            precision = math.nan\n",
    "        else:\n",
    "            precision = float(len(tp)) / (len(tp) + len(fp))\n",
    "        if recall + precision == 0:\n",
    "            f1 = math.nan\n",
    "        else:\n",
    "            f1 = 2 * recall * precision / (recall + precision)\n",
    "        return recall, precision, f1\n",
    "\n",
    "    # per doc evaluation\n",
    "    ent_eval = {}\n",
    "    for doc in ref_documents:\n",
    "        if str(doc) not in str(pred_entities):\n",
    "            continue\n",
    "        ent_doc_eval = {}\n",
    "        for type_ in TYPES:\n",
    "            pairs = list(p for p in ent_pairs if pair_filter(p, doc=doc, type_=type_))\n",
    "\n",
    "            recall, precision, f1 = evaluate_pairs(pairs)\n",
    "            ent_doc_eval[type_] = {\n",
    "                'pairs': pairs,\n",
    "                'recall': recall,\n",
    "                'precision': precision,\n",
    "                'f1': f1\n",
    "            }\n",
    "        ent_eval[doc] = ent_doc_eval\n",
    "\n",
    "    ## per type evaluation\n",
    "    ent_type_eval = {}     \n",
    "    for type_ in TYPES:\n",
    "        pairs = list(p for p in ent_pairs if pair_filter(p, type_=type_))\n",
    "        recall, precision, f1= evaluate_pairs(pairs)\n",
    "        try:\n",
    "            ent_doc_eval[type_] = {\n",
    "                #'pairs': ent_type_eval[type_]['pairs']+pairs,\n",
    "                'recall': ent_type_eval[type_]['recall']+recall,\n",
    "                'precision': ent_type_eval[type_]['precision']+precision,\n",
    "                'f1': ent_type_eval[type_]['f1']+f1\n",
    "            }\n",
    "        except KeyError:\n",
    "            ent_type_eval[type_] = {\n",
    "            #'pairs': pairs,\n",
    "            'recall': recall,\n",
    "            'precision': precision,\n",
    "            'f1': f1\n",
    "        }\n",
    "           \n",
    "\n",
    "    if out=='doc':\n",
    "        return ent_eval\n",
    "\n",
    "    else:\n",
    "        return ent_type_eval\n",
    "\n"
   ]
  },
  {
   "cell_type": "markdown",
   "metadata": {},
   "source": [
    "### Calculate Scores"
   ]
  },
  {
   "cell_type": "markdown",
   "metadata": {},
   "source": [
    "Calculate scores for each pipeline version"
   ]
  },
  {
   "cell_type": "code",
   "execution_count": 8,
   "metadata": {},
   "outputs": [
    {
     "name": "stdout",
     "output_type": "stream",
     "text": [
      "COMPUTING SCORES\n"
     ]
    },
    {
     "data": {
      "text/plain": [
       "17"
      ]
     },
     "execution_count": 8,
     "metadata": {},
     "output_type": "execute_result"
    }
   ],
   "source": [
    "####################\n",
    "## compute Scores ##\n",
    "####################\n",
    "\n",
    "sys.stdout.write('COMPUTING SCORES\\n')"
   ]
  },
  {
   "cell_type": "code",
   "execution_count": 9,
   "metadata": {},
   "outputs": [],
   "source": [
    "ent_evals = {}\n",
    "ent_type_evals = {}\n",
    "c = 0\n",
    "for dir,files in pred_filepaths.items():\n",
    "    pred_ent_filepath = [path for path in files[0] if 'ent' in path][0]\n",
    "    pred_rel_filepath = [path for path in files[0] if 'rel' in path][0]\n",
    "    comparison_filepath = os.path.join(pred_dir_path,str(dir),'comparison.json')\n",
    "    \n",
    "    ent_eval = evaluate(ref_filepath, pred_ent_filepath, pred_rel_filepath)\n",
    "    ent_type_eval = evaluate(ref_filepath, pred_ent_filepath, pred_rel_filepath, out='type')\n",
    "    with open(comparison_filepath, 'w+') as f:\n",
    "        json.dump(ent_eval, f, indent=4)\n",
    "    ent_evals[c] = ent_eval\n",
    "    ent_type_evals[c] = ent_type_eval\n",
    "    c+=1\n"
   ]
  },
  {
   "cell_type": "code",
   "execution_count": 10,
   "metadata": {},
   "outputs": [],
   "source": [
    "## store scores\n",
    "with open('data/comparison.json', 'w+') as f:\n",
    "    json.dump(ent_evals, f, indent=4)\n",
    "\n",
    "with open('data/scores_per_type.json', 'w+') as f:\n",
    "    json.dump(ent_type_evals, f, indent=4)\n",
    "\n",
    "#json.dump(ent_eval, sys.stdout, indent=4)"
   ]
  },
  {
   "cell_type": "markdown",
   "metadata": {},
   "source": [
    "## Visualisations"
   ]
  },
  {
   "cell_type": "code",
   "execution_count": 11,
   "metadata": {},
   "outputs": [],
   "source": [
    "f1_df = {k:{kn:ent_type_evals[k][kn]['f1'] for (kn,vn) in ent_type_evals[k].items()} for (k,v) in ent_type_evals.items()}\n",
    "precision_df = {k:{kn:ent_type_evals[k][kn]['precision'] for (kn,vn) in ent_type_evals[k].items()} for (k,v) in ent_type_evals.items()}\n",
    "recall_df = {k:{kn:ent_type_evals[k][kn]['recall'] for (kn,vn) in ent_type_evals[k].items()} for (k,v) in ent_type_evals.items()}\n"
   ]
  },
  {
   "cell_type": "code",
   "execution_count": 12,
   "metadata": {},
   "outputs": [],
   "source": [
    "assert len(ent_type_evals[0].keys()) == 4 # checking all 4 types are included\n",
    "assert len(f1_df.keys()) == len(pred_filepaths) # checking all pipeline versions are included"
   ]
  },
  {
   "cell_type": "code",
   "execution_count": 13,
   "metadata": {},
   "outputs": [
    {
     "data": {
      "text/plain": [
       "<AxesSubplot:>"
      ]
     },
     "execution_count": 13,
     "metadata": {},
     "output_type": "execute_result"
    },
    {
     "data": {
      "image/png": "[encoded data removed]",
      "text/plain": [
       "<Figure size 432x288 with 1 Axes>"
      ]
     },
     "metadata": {
      "needs_background": "light"
     },
     "output_type": "display_data"
    }
   ],
   "source": [
    "precision_df = pd.DataFrame.from_dict(precision_df)\n",
    "precision_df.T.plot()"
   ]
  },
  {
   "cell_type": "code",
   "execution_count": 14,
   "metadata": {},
   "outputs": [
    {
     "data": {
      "text/plain": [
       "<AxesSubplot:>"
      ]
     },
     "execution_count": 14,
     "metadata": {},
     "output_type": "execute_result"
    },
    {
     "data": {
      "image/png": "[encoded data removed]",
      "text/plain": [
       "<Figure size 432x288 with 1 Axes>"
      ]
     },
     "metadata": {
      "needs_background": "light"
     },
     "output_type": "display_data"
    }
   ],
   "source": [
    "recall_df = pd.DataFrame.from_dict(recall_df)\n",
    "recall_df.T.plot()"
   ]
  },
  {
   "cell_type": "code",
   "execution_count": 15,
   "metadata": {},
   "outputs": [
    {
     "data": {
      "text/plain": [
       "<AxesSubplot:>"
      ]
     },
     "execution_count": 15,
     "metadata": {},
     "output_type": "execute_result"
    },
    {
     "data": {
      "image/png": "[encoded data removed]",
      "text/plain": [
       "<Figure size 432x288 with 1 Axes>"
      ]
     },
     "metadata": {
      "needs_background": "light"
     },
     "output_type": "display_data"
    }
   ],
   "source": [
    "f1_df = pd.DataFrame.from_dict(f1_df)\n",
    "f1_df.T.plot()"
   ]
  }
 ],
 "metadata": {
  "kernelspec": {
   "display_name": "Python 3.10.4 ('venv': venv)",
   "language": "python",
   "name": "python3"
  },
  "language_info": {
   "codemirror_mode": {
    "name": "ipython",
    "version": 3
   },
   "file_extension": ".py",
   "mimetype": "text/x-python",
   "name": "python",
   "nbconvert_exporter": "python",
   "pygments_lexer": "ipython3",
   "version": "3.10.6"
  },
  "orig_nbformat": 4,
  "vscode": {
   "interpreter": {
    "hash": "0791b7be171ebad212c24ef65290d1f031fc8c5ca9521baf1e29a38a9507073b"
   }
  }
 },
 "nbformat": 4,
 "nbformat_minor": 2
}
